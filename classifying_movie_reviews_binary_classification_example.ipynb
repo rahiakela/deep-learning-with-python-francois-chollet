{
  "nbformat": 4,
  "nbformat_minor": 0,
  "metadata": {
    "colab": {
      "name": "classifying-movie-reviews--binary-classification-example.ipynb",
      "provenance": [],
      "toc_visible": true,
      "include_colab_link": true
    },
    "kernelspec": {
      "name": "python3",
      "display_name": "Python 3"
    }
  },
  "cells": [
    {
      "cell_type": "markdown",
      "metadata": {
        "id": "view-in-github",
        "colab_type": "text"
      },
      "source": [
        "<a href=\"https://colab.research.google.com/github/rahiakela/deep-learning-with-python-francois-chollet/blob/3-getting-started-with-neural-networks/classifying_movie_reviews_binary_classification_example.ipynb\" target=\"_parent\"><img src=\"https://colab.research.google.com/assets/colab-badge.svg\" alt=\"Open In Colab\"/></a>"
      ]
    },
    {
      "cell_type": "markdown",
      "metadata": {
        "id": "loeHBxcq5QiV",
        "colab_type": "text"
      },
      "source": [
        "# Classifying movie reviews: a binary classification example"
      ]
    },
    {
      "cell_type": "markdown",
      "metadata": {
        "id": "0hKPLvAj5Vek",
        "colab_type": "text"
      },
      "source": [
        "Two-class classification, or binary classification, may be the most widely applied kind of machine-learning problem. \n",
        "\n",
        "In this example, you’ll learn to classify movie reviews as positive or negative, based on the text content of the reviews."
      ]
    },
    {
      "cell_type": "markdown",
      "metadata": {
        "id": "-UzZ10TR5lbK",
        "colab_type": "text"
      },
      "source": [
        "## The IMDB dataset"
      ]
    },
    {
      "cell_type": "markdown",
      "metadata": {
        "id": "H3E9BYoL5mV0",
        "colab_type": "text"
      },
      "source": [
        "You’ll work with the IMDB dataset: a set of 50,000 highly polarized reviews from the\n",
        "Internet Movie Database. They’re split into 25,000 reviews for training and 25,000\n",
        "reviews for testing, each set consisting of 50% negative and 50% positive reviews.\n",
        "\n",
        "Just like the MNIST dataset, the IMDB dataset comes packaged with Keras. It has\n",
        "already been preprocessed: the reviews (sequences of words) have been turned into sequences of integers, where each integer stands for a specific word in a dictionary."
      ]
    },
    {
      "cell_type": "markdown",
      "metadata": {
        "id": "xBoKbgKQ6fAB",
        "colab_type": "text"
      },
      "source": [
        "## Setup"
      ]
    },
    {
      "cell_type": "code",
      "metadata": {
        "id": "X5J7UTK_6gvU",
        "colab_type": "code",
        "colab": {}
      },
      "source": [
        "from __future__ import absolute_import, division, print_function, unicode_literals\n",
        "\n",
        "try:\n",
        "  # %tensorflow_version only exists in Colab.\n",
        "  %tensorflow_version 2.x\n",
        "except Exception:\n",
        "  pass\n",
        "import tensorflow as tf\n",
        "from tensorflow import keras\n",
        "import numpy as np\n",
        "import pandas as pd\n",
        "\n",
        "import matplotlib.pyplot as plt"
      ],
      "execution_count": 0,
      "outputs": []
    },
    {
      "cell_type": "markdown",
      "metadata": {
        "id": "RPPpRZa-6rWN",
        "colab_type": "text"
      },
      "source": [
        "## Loading the IMDB dataset"
      ]
    },
    {
      "cell_type": "code",
      "metadata": {
        "id": "_28x_14m6sYA",
        "colab_type": "code",
        "colab": {}
      },
      "source": [
        "from keras.datasets import imdb\n",
        "(train_data, train_labels), (test_data, test_labels) = imdb.load_data(num_words=10000)"
      ],
      "execution_count": 0,
      "outputs": []
    },
    {
      "cell_type": "markdown",
      "metadata": {
        "id": "rI9PF5jp7Nsc",
        "colab_type": "text"
      },
      "source": [
        "The argument num_words=10000 means you’ll only keep the top 10,000 most frequently occurring words in the training data. Rare words will be discarded. This allows you to work with vector data of manageable size.\n",
        "\n",
        "The variables train_data and test_data are lists of reviews; each review is a list of word indices (encoding a sequence of words). train_labels and test_labels are lists of 0s and 1s, where 0 stands for negative and 1 stands for positive:"
      ]
    },
    {
      "cell_type": "code",
      "metadata": {
        "id": "Kvp_ewJ56qiM",
        "colab_type": "code",
        "outputId": "5d4c8adf-718e-43e9-fa95-e8a4d7ac4c32",
        "colab": {
          "base_uri": "https://localhost:8080/",
          "height": 0
        }
      },
      "source": [
        "train_data[:1]"
      ],
      "execution_count": 20,
      "outputs": [
        {
          "output_type": "execute_result",
          "data": {
            "text/plain": [
              "array([list([1, 14, 22, 16, 43, 530, 973, 1622, 1385, 65, 458, 4468, 66, 3941, 4, 173, 36, 256, 5, 25, 100, 43, 838, 112, 50, 670, 2, 9, 35, 480, 284, 5, 150, 4, 172, 112, 167, 2, 336, 385, 39, 4, 172, 4536, 1111, 17, 546, 38, 13, 447, 4, 192, 50, 16, 6, 147, 2025, 19, 14, 22, 4, 1920, 4613, 469, 4, 22, 71, 87, 12, 16, 43, 530, 38, 76, 15, 13, 1247, 4, 22, 17, 515, 17, 12, 16, 626, 18, 2, 5, 62, 386, 12, 8, 316, 8, 106, 5, 4, 2223, 5244, 16, 480, 66, 3785, 33, 4, 130, 12, 16, 38, 619, 5, 25, 124, 51, 36, 135, 48, 25, 1415, 33, 6, 22, 12, 215, 28, 77, 52, 5, 14, 407, 16, 82, 2, 8, 4, 107, 117, 5952, 15, 256, 4, 2, 7, 3766, 5, 723, 36, 71, 43, 530, 476, 26, 400, 317, 46, 7, 4, 2, 1029, 13, 104, 88, 4, 381, 15, 297, 98, 32, 2071, 56, 26, 141, 6, 194, 7486, 18, 4, 226, 22, 21, 134, 476, 26, 480, 5, 144, 30, 5535, 18, 51, 36, 28, 224, 92, 25, 104, 4, 226, 65, 16, 38, 1334, 88, 12, 16, 283, 5, 16, 4472, 113, 103, 32, 15, 16, 5345, 19, 178, 32])],\n",
              "      dtype=object)"
            ]
          },
          "metadata": {
            "tags": []
          },
          "execution_count": 20
        }
      ]
    },
    {
      "cell_type": "code",
      "metadata": {
        "id": "4TE_YODD7oDK",
        "colab_type": "code",
        "outputId": "c26e2225-86cf-48a5-d28f-1c3b2f0315c6",
        "colab": {
          "base_uri": "https://localhost:8080/",
          "height": 0
        }
      },
      "source": [
        "train_data.shape"
      ],
      "execution_count": 21,
      "outputs": [
        {
          "output_type": "execute_result",
          "data": {
            "text/plain": [
              "(25000,)"
            ]
          },
          "metadata": {
            "tags": []
          },
          "execution_count": 21
        }
      ]
    },
    {
      "cell_type": "code",
      "metadata": {
        "id": "hRbeXpRY7y8e",
        "colab_type": "code",
        "outputId": "a955adbb-da80-4460-9b21-b761e283cb55",
        "colab": {
          "base_uri": "https://localhost:8080/",
          "height": 0
        }
      },
      "source": [
        "train_labels[:5]"
      ],
      "execution_count": 22,
      "outputs": [
        {
          "output_type": "execute_result",
          "data": {
            "text/plain": [
              "array([1, 0, 0, 1, 0])"
            ]
          },
          "metadata": {
            "tags": []
          },
          "execution_count": 22
        }
      ]
    },
    {
      "cell_type": "code",
      "metadata": {
        "id": "CVTgnyDp74g7",
        "colab_type": "code",
        "outputId": "1d2ab08a-47e7-41ed-e0b6-dc103d3a5a69",
        "colab": {
          "base_uri": "https://localhost:8080/",
          "height": 0
        }
      },
      "source": [
        "# check total unique value\n",
        "pd.Series(train_labels).unique()"
      ],
      "execution_count": 23,
      "outputs": [
        {
          "output_type": "execute_result",
          "data": {
            "text/plain": [
              "array([1, 0])"
            ]
          },
          "metadata": {
            "tags": []
          },
          "execution_count": 23
        }
      ]
    },
    {
      "cell_type": "code",
      "metadata": {
        "id": "ix4oMjD18DSR",
        "colab_type": "code",
        "outputId": "520181a8-149d-4d74-a69e-cbad4002fccd",
        "colab": {
          "base_uri": "https://localhost:8080/",
          "height": 0
        }
      },
      "source": [
        "pd.Series(train_labels).value_counts()"
      ],
      "execution_count": 24,
      "outputs": [
        {
          "output_type": "execute_result",
          "data": {
            "text/plain": [
              "1    12500\n",
              "0    12500\n",
              "dtype: int64"
            ]
          },
          "metadata": {
            "tags": []
          },
          "execution_count": 24
        }
      ]
    },
    {
      "cell_type": "code",
      "metadata": {
        "id": "bnC7qjz98HX1",
        "colab_type": "code",
        "outputId": "d4c758ea-0db1-4d9d-afc8-8ad6b1da6d41",
        "colab": {
          "base_uri": "https://localhost:8080/",
          "height": 0
        }
      },
      "source": [
        "train_labels.shape"
      ],
      "execution_count": 25,
      "outputs": [
        {
          "output_type": "execute_result",
          "data": {
            "text/plain": [
              "(25000,)"
            ]
          },
          "metadata": {
            "tags": []
          },
          "execution_count": 25
        }
      ]
    },
    {
      "cell_type": "markdown",
      "metadata": {
        "id": "UjHPgHkb-wFT",
        "colab_type": "text"
      },
      "source": [
        "Because you’re restricting yourself to the top 10,000 most frequent words, no word index will exceed 10,000:"
      ]
    },
    {
      "cell_type": "code",
      "metadata": {
        "id": "Nsrz61gn-drh",
        "colab_type": "code",
        "outputId": "a69a191d-1f45-4be3-c702-7af5a4235d33",
        "colab": {
          "base_uri": "https://localhost:8080/",
          "height": 0
        }
      },
      "source": [
        "max([max(sequence) for sequence in train_data])"
      ],
      "execution_count": 26,
      "outputs": [
        {
          "output_type": "execute_result",
          "data": {
            "text/plain": [
              "9999"
            ]
          },
          "metadata": {
            "tags": []
          },
          "execution_count": 26
        }
      ]
    },
    {
      "cell_type": "markdown",
      "metadata": {
        "id": "A7Sj2MrrAfdf",
        "colab_type": "text"
      },
      "source": [
        "For kicks, here’s how you can quickly decode one of these reviews back to English words:"
      ]
    },
    {
      "cell_type": "code",
      "metadata": {
        "id": "eNTGobL9_GF3",
        "colab_type": "code",
        "outputId": "ecd69c1b-2126-4a54-a31f-c24960d25c80",
        "colab": {
          "base_uri": "https://localhost:8080/",
          "height": 0
        }
      },
      "source": [
        "# word_index is a dictionary mapping words to an integer index\n",
        "word_index = imdb.get_word_index()\n",
        "\n",
        "# We reverse it, mapping integer indices to words\n",
        "reverse_word_index = dict([(value, key) for (key, value) in word_index.items()])\n",
        "\n",
        "# We decode the review; note that our indices were offset by 3\n",
        "# because 0, 1 and 2 are reserved indices for \"padding\", \"start of sequence\", and \"unknown\".\n",
        "decoded_review = ' '.join([reverse_word_index.get(i - 3, '?') for i in train_data[0]])\n",
        "decoded_review"
      ],
      "execution_count": 27,
      "outputs": [
        {
          "output_type": "execute_result",
          "data": {
            "text/plain": [
              "\"? this film was just brilliant casting location scenery story direction everyone's really suited the part they played and you could just imagine being there robert ? is an amazing actor and now the same being director ? father came from the same scottish island as myself so i loved the fact there was a real connection with this film the witty remarks throughout the film were great it was just brilliant so much that i bought the film as soon as it was released for ? and would recommend it to everyone to watch and the fly fishing was amazing really cried at the end it was so sad and you know what they say if you cry at a film it must have been good and this definitely was also ? to the two little boy's that played the ? of norman and paul they were just brilliant children are often left out of the ? list i think because the stars that play them all grown up are such a big profile for the whole film but these children are amazing and should be praised for what they have done don't you think the whole story was so lovely because it was true and was someone's life after all that was shared with us all\""
            ]
          },
          "metadata": {
            "tags": []
          },
          "execution_count": 27
        }
      ]
    },
    {
      "cell_type": "markdown",
      "metadata": {
        "id": "-ykl8TMKC0d2",
        "colab_type": "text"
      },
      "source": [
        "## Preparing the data"
      ]
    },
    {
      "cell_type": "markdown",
      "metadata": {
        "id": "Ec5DugWxC1W1",
        "colab_type": "text"
      },
      "source": [
        "You can’t feed lists of integers into a neural network. You have to turn your lists into tensors. There are two ways to do that:\n",
        "* Pad your lists so that they all have the same length, turn them into an integer tensor of shape (samples, word_indices), and then use as the first layer in your network a layer capable of handling such integer tensors (the Embedding layer)\n",
        "* One-hot encode your lists to turn them into vectors of 0s and 1s. This would\n",
        "mean, for instance, turning the sequence [3, 5] into a 10,000-dimensional vector\n",
        "that would be all 0s except for indices 3 and 5, which would be 1s. Then you\n",
        "could use as the first layer in your network a Dense layer, capable of handling\n",
        "floating-point vector data.\n",
        "\n",
        "Let’s go with the latter solution to vectorize the data, which you’ll do manually for maximum clarity."
      ]
    },
    {
      "cell_type": "code",
      "metadata": {
        "id": "2ieGysl9BxUe",
        "colab_type": "code",
        "colab": {}
      },
      "source": [
        "def vectorize_sequences(sequences, dimension=10000):\n",
        "  # Create an all-zero matrix of shape (len(sequences), dimension)\n",
        "  results = np.zeros((len(sequences), dimension))\n",
        "\n",
        "  for i, sequence in enumerate(sequences):\n",
        "    results[i, sequence] = 1   # set specific indices of results[i] to 1s\n",
        "\n",
        "  return  results \n",
        "# vectorized training data\n",
        "x_train = vectorize_sequences(train_data)\n",
        "# vectorized test data\n",
        "x_test = vectorize_sequences(test_data)"
      ],
      "execution_count": 0,
      "outputs": []
    },
    {
      "cell_type": "markdown",
      "metadata": {
        "id": "gwdWcwzdE6qr",
        "colab_type": "text"
      },
      "source": [
        "Here's what our samples look like now:"
      ]
    },
    {
      "cell_type": "code",
      "metadata": {
        "id": "k3hw9elhEiM3",
        "colab_type": "code",
        "outputId": "01a8960f-8def-4ffc-9e3f-9e723da66f31",
        "colab": {
          "base_uri": "https://localhost:8080/",
          "height": 0
        }
      },
      "source": [
        "x_train[:5]"
      ],
      "execution_count": 29,
      "outputs": [
        {
          "output_type": "execute_result",
          "data": {
            "text/plain": [
              "array([[0., 1., 1., ..., 0., 0., 0.],\n",
              "       [0., 1., 1., ..., 0., 0., 0.],\n",
              "       [0., 1., 1., ..., 0., 0., 0.],\n",
              "       [0., 1., 1., ..., 0., 0., 0.],\n",
              "       [0., 1., 1., ..., 0., 0., 0.]])"
            ]
          },
          "metadata": {
            "tags": []
          },
          "execution_count": 29
        }
      ]
    },
    {
      "cell_type": "code",
      "metadata": {
        "id": "q8M681MlFAy2",
        "colab_type": "code",
        "outputId": "90604de9-1de0-4977-a80a-e7df7423d190",
        "colab": {
          "base_uri": "https://localhost:8080/",
          "height": 0
        }
      },
      "source": [
        "x_test[:5]"
      ],
      "execution_count": 30,
      "outputs": [
        {
          "output_type": "execute_result",
          "data": {
            "text/plain": [
              "array([[0., 1., 1., ..., 0., 0., 0.],\n",
              "       [0., 1., 1., ..., 0., 0., 0.],\n",
              "       [0., 1., 1., ..., 0., 0., 0.],\n",
              "       [0., 1., 1., ..., 0., 0., 0.],\n",
              "       [0., 1., 1., ..., 0., 0., 0.]])"
            ]
          },
          "metadata": {
            "tags": []
          },
          "execution_count": 30
        }
      ]
    },
    {
      "cell_type": "markdown",
      "metadata": {
        "id": "B3trPRSMFKWx",
        "colab_type": "text"
      },
      "source": [
        "We should also vectorize our labels, which is straightforward:"
      ]
    },
    {
      "cell_type": "code",
      "metadata": {
        "id": "JeK1KEBXFK7Y",
        "colab_type": "code",
        "colab": {}
      },
      "source": [
        "# vectorized labels\n",
        "y_train = np.asarray(train_labels).astype('float32')\n",
        "y_test = np.asarray(test_labels).astype('float32')"
      ],
      "execution_count": 0,
      "outputs": []
    },
    {
      "cell_type": "code",
      "metadata": {
        "id": "M1FAnotoFHUi",
        "colab_type": "code",
        "outputId": "c71c98d7-16b0-4081-8e5e-edc2bb1c6b04",
        "colab": {
          "base_uri": "https://localhost:8080/",
          "height": 0
        }
      },
      "source": [
        "y_train[:5]"
      ],
      "execution_count": 32,
      "outputs": [
        {
          "output_type": "execute_result",
          "data": {
            "text/plain": [
              "array([1., 0., 0., 1., 0.], dtype=float32)"
            ]
          },
          "metadata": {
            "tags": []
          },
          "execution_count": 32
        }
      ]
    },
    {
      "cell_type": "markdown",
      "metadata": {
        "id": "ZcARCmBGGDqH",
        "colab_type": "text"
      },
      "source": [
        "## Building your network"
      ]
    },
    {
      "cell_type": "markdown",
      "metadata": {
        "id": "z7NTVI_HGEqI",
        "colab_type": "text"
      },
      "source": [
        "The input data is vectors, and the labels are scalars (1s and 0s): this is the easiest setup\n",
        "you’ll ever encounter. A type of network that performs well on such a problem is\n",
        "a simple stack of fully connected (Dense) layers with relu activations: Dense(16,\n",
        "activation='relu').\n",
        "\n",
        "The argument being passed to each Dense layer (16) is the number of hidden\n",
        "units of the layer. A hidden unit is a dimension in the representation space of the layer.\n",
        "\n",
        "Having more hidden units (a higher-dimensional representation space)\n",
        "allows your network to learn more-complex representations, but it makes the network\n",
        "more computationally expensive and may lead to learning unwanted patterns (patterns\n",
        "that will improve performance on the training data but not on the test data).\n",
        "\n",
        "There are two key architecture decisions to be made about such a stack of Dense layers:\n",
        "* How many layers to use\n",
        "* How many hidden units to choose for each layer\n",
        "\n",
        "The intermediate layers will use relu as their activation function, and the final layer\n",
        "will use a sigmoid activation so as to output a probability (a score between 0 and 1,indicating how likely the sample is to have the target “1”: how likely the review is to be\n",
        "positive). A relu (rectified linear unit) is a function meant to zero out negative values, \n",
        "\n",
        "<img src='https://github.com/rahiakela/img-repo/blob/master/deep-learning-with-python/relu-pic.JPG?raw=1' width='800'/>\n",
        "\n",
        "whereas a sigmoid “squashes” arbitrary values into the [0, 1] interval, outputting something that can be interpreted as a probability.\n",
        "\n",
        "<img src='https://github.com/rahiakela/img-repo/blob/master/deep-learning-with-python/sigmoid.JPG?raw=1' width='800'/>\n",
        "\n",
        "what the network looks like. And here’s the Keras implementation,\n",
        "similar to the MNIST example you saw previously.\n",
        "\n",
        "<img src='https://github.com/rahiakela/img-repo/blob/master/deep-learning-with-python/three-layer-network.JPG?raw=1' width='400'/>\n"
      ]
    },
    {
      "cell_type": "code",
      "metadata": {
        "id": "4sRKWQpIATkq",
        "colab_type": "code",
        "colab": {}
      },
      "source": [
        "from tensorflow.keras.models import Sequential\n",
        "from tensorflow.keras.layers import Dense "
      ],
      "execution_count": 0,
      "outputs": []
    },
    {
      "cell_type": "code",
      "metadata": {
        "id": "6S4KFgAfFk1x",
        "colab_type": "code",
        "colab": {}
      },
      "source": [
        "model = Sequential()\n",
        "model.add(Dense(16, activation='relu', input_shape=(10000, )))\n",
        "model.add(Dense(16, activation='relu'))\n",
        "model.add(Dense(1, activation='sigmoid'))"
      ],
      "execution_count": 0,
      "outputs": []
    },
    {
      "cell_type": "markdown",
      "metadata": {
        "id": "WPG95ykcP3CE",
        "colab_type": "text"
      },
      "source": [
        "Finally, you need to choose a loss function and an optimizer. Because you’re facing a\n",
        "binary classification problem and the output of your network is a probability (you end\n",
        "your network with a single-unit layer with a sigmoid activation), it’s best to use the binary_crossentropy loss. It isn’t the only viable choice: you could use, for instance,\n",
        "mean_squared_error.\n",
        "\n",
        "But crossentropy is usually the best choice when you’re dealing\n",
        "with models that output probabilities. Crossentropy is a quantity from the field of Information\n",
        "Theory that measures the distance between probability distributions or, in this\n",
        "case, between the ground-truth distribution and your predictions.\n",
        "\n",
        "Here’s the step where you configure the model with the rmsprop optimizer and\n",
        "the binary_crossentropy loss function. Note that you’ll also monitor accuracy\n",
        "during training."
      ]
    },
    {
      "cell_type": "code",
      "metadata": {
        "id": "EACYwXL-Fv74",
        "colab_type": "code",
        "colab": {}
      },
      "source": [
        "model.compile(optimizer='rmsprop', loss='binary_crossentropy', metrics=['accuracy'])"
      ],
      "execution_count": 0,
      "outputs": []
    },
    {
      "cell_type": "markdown",
      "metadata": {
        "id": "vDSxsRMrQsZ7",
        "colab_type": "text"
      },
      "source": [
        "Sometimes you may want to configure the parameters of your optimizer or pass a custom\n",
        "loss function or metric function. The former can be done by passing an optimizer\n",
        "class instance as the optimizer argument,the latter can be\n",
        "done by passing function objects as the loss and/or metrics arguments."
      ]
    },
    {
      "cell_type": "code",
      "metadata": {
        "id": "2gYYlgBAFyBU",
        "colab_type": "code",
        "colab": {}
      },
      "source": [
        "model.compile(optimizer=tf.keras.optimizers.RMSprop(learning_rate=0.001), \n",
        "              loss=tf.keras.losses.binary_crossentropy, \n",
        "              metrics=[tf.keras.metrics.binary_accuracy])"
      ],
      "execution_count": 0,
      "outputs": []
    },
    {
      "cell_type": "markdown",
      "metadata": {
        "id": "1Y4heB7IRSq9",
        "colab_type": "text"
      },
      "source": [
        "### Validating your approach"
      ]
    },
    {
      "cell_type": "markdown",
      "metadata": {
        "id": "e823LHoIRfFB",
        "colab_type": "text"
      },
      "source": [
        "In order to monitor during training the accuracy of the model on data it has never\n",
        "seen before, you’ll create a validation set by setting apart 10,000 samples from the\n",
        "original training data."
      ]
    },
    {
      "cell_type": "code",
      "metadata": {
        "id": "g6Myp5h9RPjV",
        "colab_type": "code",
        "colab": {}
      },
      "source": [
        "x_val = x_train[:10000]\n",
        "partial_x_train = x_train[10000:]\n",
        "\n",
        "y_val = y_train[:10000]\n",
        "partial_y_train = y_train[10000:]"
      ],
      "execution_count": 0,
      "outputs": []
    },
    {
      "cell_type": "markdown",
      "metadata": {
        "id": "HcX2uThMR-kl",
        "colab_type": "text"
      },
      "source": [
        "You’ll now train the model for 20 epochs (20 iterations over all samples in the\n",
        "x_train and y_train tensors), in mini-batches of 512 samples. At the same time,\n",
        "you’ll monitor loss and accuracy on the 10,000 samples that you set apart. You do so by\n",
        "passing the validation data as the validation_data argument."
      ]
    },
    {
      "cell_type": "markdown",
      "metadata": {
        "id": "brUkb8pySnyf",
        "colab_type": "text"
      },
      "source": [
        "#### Training your model"
      ]
    },
    {
      "cell_type": "code",
      "metadata": {
        "id": "mlGvRPanR9_h",
        "colab_type": "code",
        "colab": {
          "base_uri": "https://localhost:8080/",
          "height": 0
        },
        "outputId": "9b759b3c-c41f-461f-cdca-118d5ad84cdc"
      },
      "source": [
        "history = model.fit(partial_x_train, partial_y_train, epochs=20, batch_size=512, validation_data=(x_val, y_val))"
      ],
      "execution_count": 44,
      "outputs": [
        {
          "output_type": "stream",
          "text": [
            "Train on 15000 samples, validate on 10000 samples\n",
            "Epoch 1/20\n",
            "15000/15000 [==============================] - 3s 187us/sample - loss: 0.5350 - binary_accuracy: 0.7736 - val_loss: 0.4228 - val_binary_accuracy: 0.8499\n",
            "Epoch 2/20\n",
            "15000/15000 [==============================] - 2s 111us/sample - loss: 0.3258 - binary_accuracy: 0.9009 - val_loss: 0.3225 - val_binary_accuracy: 0.8808\n",
            "Epoch 3/20\n",
            "15000/15000 [==============================] - 2s 108us/sample - loss: 0.2408 - binary_accuracy: 0.9227 - val_loss: 0.2830 - val_binary_accuracy: 0.8925\n",
            "Epoch 4/20\n",
            "15000/15000 [==============================] - 2s 109us/sample - loss: 0.1895 - binary_accuracy: 0.9387 - val_loss: 0.2888 - val_binary_accuracy: 0.8851\n",
            "Epoch 5/20\n",
            "15000/15000 [==============================] - 2s 110us/sample - loss: 0.1554 - binary_accuracy: 0.9503 - val_loss: 0.2754 - val_binary_accuracy: 0.8901\n",
            "Epoch 6/20\n",
            "15000/15000 [==============================] - 2s 108us/sample - loss: 0.1304 - binary_accuracy: 0.9589 - val_loss: 0.2921 - val_binary_accuracy: 0.8853\n",
            "Epoch 7/20\n",
            "15000/15000 [==============================] - 2s 108us/sample - loss: 0.1083 - binary_accuracy: 0.9669 - val_loss: 0.3001 - val_binary_accuracy: 0.8864\n",
            "Epoch 8/20\n",
            "15000/15000 [==============================] - 2s 109us/sample - loss: 0.0913 - binary_accuracy: 0.9737 - val_loss: 0.3229 - val_binary_accuracy: 0.8794\n",
            "Epoch 9/20\n",
            "15000/15000 [==============================] - 2s 107us/sample - loss: 0.0757 - binary_accuracy: 0.9797 - val_loss: 0.3344 - val_binary_accuracy: 0.8829\n",
            "Epoch 10/20\n",
            "15000/15000 [==============================] - 2s 108us/sample - loss: 0.0644 - binary_accuracy: 0.9835 - val_loss: 0.3571 - val_binary_accuracy: 0.8822\n",
            "Epoch 11/20\n",
            "15000/15000 [==============================] - 2s 107us/sample - loss: 0.0536 - binary_accuracy: 0.9871 - val_loss: 0.3812 - val_binary_accuracy: 0.8806\n",
            "Epoch 12/20\n",
            "15000/15000 [==============================] - 2s 108us/sample - loss: 0.0435 - binary_accuracy: 0.9907 - val_loss: 0.4329 - val_binary_accuracy: 0.8657\n",
            "Epoch 13/20\n",
            "15000/15000 [==============================] - 2s 107us/sample - loss: 0.0349 - binary_accuracy: 0.9936 - val_loss: 0.4420 - val_binary_accuracy: 0.8764\n",
            "Epoch 14/20\n",
            "15000/15000 [==============================] - 2s 108us/sample - loss: 0.0283 - binary_accuracy: 0.9942 - val_loss: 0.4887 - val_binary_accuracy: 0.8724\n",
            "Epoch 15/20\n",
            "15000/15000 [==============================] - 2s 106us/sample - loss: 0.0234 - binary_accuracy: 0.9961 - val_loss: 0.5053 - val_binary_accuracy: 0.8737\n",
            "Epoch 16/20\n",
            "15000/15000 [==============================] - 2s 106us/sample - loss: 0.0191 - binary_accuracy: 0.9965 - val_loss: 0.5420 - val_binary_accuracy: 0.8724\n",
            "Epoch 17/20\n",
            "15000/15000 [==============================] - 2s 107us/sample - loss: 0.0138 - binary_accuracy: 0.9983 - val_loss: 0.5692 - val_binary_accuracy: 0.8669\n",
            "Epoch 18/20\n",
            "15000/15000 [==============================] - 2s 108us/sample - loss: 0.0132 - binary_accuracy: 0.9981 - val_loss: 0.6037 - val_binary_accuracy: 0.8667\n",
            "Epoch 19/20\n",
            "15000/15000 [==============================] - 2s 108us/sample - loss: 0.0076 - binary_accuracy: 0.9995 - val_loss: 0.6501 - val_binary_accuracy: 0.8612\n",
            "Epoch 20/20\n",
            "15000/15000 [==============================] - 2s 109us/sample - loss: 0.0075 - binary_accuracy: 0.9993 - val_loss: 0.6718 - val_binary_accuracy: 0.8649\n"
          ],
          "name": "stdout"
        }
      ]
    },
    {
      "cell_type": "markdown",
      "metadata": {
        "id": "4GqHtlN4SVyM",
        "colab_type": "text"
      },
      "source": [
        "Note that the call to model.fit() returns a History object. This object has a member\n",
        "history, which is a dictionary containing data about everything that happened\n",
        "during training. Let’s look at it:"
      ]
    },
    {
      "cell_type": "code",
      "metadata": {
        "id": "XqCgH1iYSUyR",
        "colab_type": "code",
        "colab": {
          "base_uri": "https://localhost:8080/",
          "height": 0
        },
        "outputId": "fc0c25ac-7bff-42fa-a210-f97a0bfb73f0"
      },
      "source": [
        "history_dict = history.history\n",
        "history_dict.keys()"
      ],
      "execution_count": 45,
      "outputs": [
        {
          "output_type": "execute_result",
          "data": {
            "text/plain": [
              "dict_keys(['loss', 'binary_accuracy', 'val_loss', 'val_binary_accuracy'])"
            ]
          },
          "metadata": {
            "tags": []
          },
          "execution_count": 45
        }
      ]
    },
    {
      "cell_type": "markdown",
      "metadata": {
        "id": "eHLwJkvXSxSV",
        "colab_type": "text"
      },
      "source": [
        "#### Plotting the training and validation loss"
      ]
    },
    {
      "cell_type": "code",
      "metadata": {
        "id": "sKiV5xm6Ss9R",
        "colab_type": "code",
        "colab": {
          "base_uri": "https://localhost:8080/",
          "height": 0
        },
        "outputId": "48780f8d-9a6d-4ef2-b78c-faccc97b28f3"
      },
      "source": [
        "acc = history.history['binary_accuracy']\n",
        "val_acc = history.history['val_binary_accuracy']\n",
        "loss_values = history_dict['loss']\n",
        "val_loss_values = history_dict['val_loss']\n",
        "\n",
        "epochs = range(1, len(acc) + 1)\n",
        "\n",
        "plt.plot(epochs, loss_values, 'bo', label='Training loss')\n",
        "plt.plot(epochs, val_loss_values, 'b', label='Validation loss')\n",
        "plt.title('Training and validation loss')\n",
        "plt.xlabel('Epochs')\n",
        "plt.ylabel('Loss')\n",
        "plt.legend()\n",
        "plt.show()"
      ],
      "execution_count": 48,
      "outputs": [
        {
          "output_type": "display_data",
          "data": {
            "image/png": "[encoded data removed]",
            "text/plain": [
              "<Figure size 432x288 with 1 Axes>"
            ]
          },
          "metadata": {
            "tags": []
          }
        }
      ]
    },
    {
      "cell_type": "code",
      "metadata": {
        "id": "ybdbuDMETcqx",
        "colab_type": "code",
        "colab": {
          "base_uri": "https://localhost:8080/",
          "height": 0
        },
        "outputId": "75f3295f-635f-4d18-8084-1124e7904d55"
      },
      "source": [
        "# clear figure\n",
        "plt.clf()\n",
        "\n",
        "acc_values = history.history['binary_accuracy']\n",
        "val_acc_values = history.history['val_binary_accuracy']\n",
        "\n",
        "plt.plot(epochs, acc, 'bo', label='Training acc')\n",
        "plt.plot(epochs, val_acc, 'b', label='Validation acc')\n",
        "plt.title('Training and validation accuracy')\n",
        "plt.xlabel('Epochs')\n",
        "plt.ylabel('Loss')\n",
        "plt.legend()\n",
        "\n",
        "plt.show()"
      ],
      "execution_count": 49,
      "outputs": [
        {
          "output_type": "display_data",
          "data": {
            "image/png": "[encoded data removed]",
            "text/plain": [
              "<Figure size 432x288 with 1 Axes>"
            ]
          },
          "metadata": {
            "tags": []
          }
        }
      ]
    },
    {
      "cell_type": "markdown",
      "metadata": {
        "id": "imZtpFWUUpaz",
        "colab_type": "text"
      },
      "source": [
        "As you can see, the training loss decreases with every epoch, and the training accuracy\n",
        "increases with every epoch. That’s what you would expect when running gradientdescent\n",
        "optimization—the quantity you’re trying to minimize should be less with\n",
        "every iteration. But that isn’t the case for the validation loss and accuracy: they seem to\n",
        "peak at the fourth epoch.\n",
        "\n",
        "This is an example of what we warned against earlier: \n",
        "\n",
        "a model that performs better on the training data isn’t necessarily a model that will do\n",
        "better on data it has never seen before. In precise terms, what you’re seeing is overfitting:\n",
        "after the second epoch, you’re overoptimizing on the training data, and you end\n",
        "up learning representations that are specific to the training data and don’t generalize\n",
        "to data outside of the training set."
      ]
    },
    {
      "cell_type": "markdown",
      "metadata": {
        "id": "6kQjOQS2VX-L",
        "colab_type": "text"
      },
      "source": [
        "#### Retraining a model from scratch"
      ]
    },
    {
      "cell_type": "code",
      "metadata": {
        "id": "NPI4-MbiUXtT",
        "colab_type": "code",
        "colab": {
          "base_uri": "https://localhost:8080/",
          "height": 0
        },
        "outputId": "19941a44-37d7-4700-fa3d-5c24988552f0"
      },
      "source": [
        "model = Sequential()\n",
        "model.add(Dense(16, activation='relu', input_shape=(10000, )))\n",
        "model.add(Dense(16, activation='relu'))\n",
        "model.add(Dense(1, activation='sigmoid'))\n",
        "\n",
        "model.compile(optimizer='rmsprop', loss='binary_crossentropy', metrics=['accuracy'])\n",
        "\n",
        "model.fit(partial_x_train, partial_y_train, epochs=20, batch_size=512, validation_data=(x_val, y_val))"
      ],
      "execution_count": 50,
      "outputs": [
        {
          "output_type": "stream",
          "text": [
            "Train on 15000 samples, validate on 10000 samples\n",
            "Epoch 1/20\n",
            "15000/15000 [==============================] - 3s 181us/sample - loss: 0.5130 - accuracy: 0.7863 - val_loss: 0.4139 - val_accuracy: 0.8360\n",
            "Epoch 2/20\n",
            "15000/15000 [==============================] - 2s 110us/sample - loss: 0.3020 - accuracy: 0.9015 - val_loss: 0.3052 - val_accuracy: 0.8848\n",
            "Epoch 3/20\n",
            "15000/15000 [==============================] - 2s 107us/sample - loss: 0.2223 - accuracy: 0.9255 - val_loss: 0.2813 - val_accuracy: 0.8890\n",
            "Epoch 4/20\n",
            "15000/15000 [==============================] - 2s 107us/sample - loss: 0.1717 - accuracy: 0.9431 - val_loss: 0.2909 - val_accuracy: 0.8842\n",
            "Epoch 5/20\n",
            "15000/15000 [==============================] - 2s 108us/sample - loss: 0.1405 - accuracy: 0.9539 - val_loss: 0.2828 - val_accuracy: 0.8874\n",
            "Epoch 6/20\n",
            "15000/15000 [==============================] - 2s 106us/sample - loss: 0.1144 - accuracy: 0.9643 - val_loss: 0.3100 - val_accuracy: 0.8817\n",
            "Epoch 7/20\n",
            "15000/15000 [==============================] - 2s 106us/sample - loss: 0.0949 - accuracy: 0.9710 - val_loss: 0.3158 - val_accuracy: 0.8861\n",
            "Epoch 8/20\n",
            "15000/15000 [==============================] - 2s 108us/sample - loss: 0.0790 - accuracy: 0.9776 - val_loss: 0.3589 - val_accuracy: 0.8770\n",
            "Epoch 9/20\n",
            "15000/15000 [==============================] - 2s 107us/sample - loss: 0.0624 - accuracy: 0.9823 - val_loss: 0.4088 - val_accuracy: 0.8679\n",
            "Epoch 10/20\n",
            "15000/15000 [==============================] - 2s 109us/sample - loss: 0.0511 - accuracy: 0.9871 - val_loss: 0.4127 - val_accuracy: 0.8696\n",
            "Epoch 11/20\n",
            "15000/15000 [==============================] - 2s 108us/sample - loss: 0.0461 - accuracy: 0.9875 - val_loss: 0.4266 - val_accuracy: 0.8756\n",
            "Epoch 12/20\n",
            "15000/15000 [==============================] - 2s 107us/sample - loss: 0.0297 - accuracy: 0.9944 - val_loss: 0.5156 - val_accuracy: 0.8601\n",
            "Epoch 13/20\n",
            "15000/15000 [==============================] - 2s 106us/sample - loss: 0.0306 - accuracy: 0.9927 - val_loss: 0.4886 - val_accuracy: 0.8705\n",
            "Epoch 14/20\n",
            "15000/15000 [==============================] - 2s 106us/sample - loss: 0.0208 - accuracy: 0.9961 - val_loss: 0.5331 - val_accuracy: 0.8691\n",
            "Epoch 15/20\n",
            "15000/15000 [==============================] - 2s 108us/sample - loss: 0.0192 - accuracy: 0.9961 - val_loss: 0.5670 - val_accuracy: 0.8674\n",
            "Epoch 16/20\n",
            "15000/15000 [==============================] - 2s 106us/sample - loss: 0.0181 - accuracy: 0.9959 - val_loss: 0.5876 - val_accuracy: 0.8690\n",
            "Epoch 17/20\n",
            "15000/15000 [==============================] - 2s 108us/sample - loss: 0.0078 - accuracy: 0.9997 - val_loss: 0.6176 - val_accuracy: 0.8685\n",
            "Epoch 18/20\n",
            "15000/15000 [==============================] - 2s 106us/sample - loss: 0.0110 - accuracy: 0.9979 - val_loss: 0.6498 - val_accuracy: 0.8674\n",
            "Epoch 19/20\n",
            "15000/15000 [==============================] - 2s 108us/sample - loss: 0.0136 - accuracy: 0.9969 - val_loss: 0.6865 - val_accuracy: 0.8655\n",
            "Epoch 20/20\n",
            "15000/15000 [==============================] - 2s 108us/sample - loss: 0.0038 - accuracy: 0.9999 - val_loss: 0.7155 - val_accuracy: 0.8644\n"
          ],
          "name": "stdout"
        },
        {
          "output_type": "execute_result",
          "data": {
            "text/plain": [
              "<tensorflow.python.keras.callbacks.History at 0x7f70447a3e10>"
            ]
          },
          "metadata": {
            "tags": []
          },
          "execution_count": 50
        }
      ]
    },
    {
      "cell_type": "code",
      "metadata": {
        "id": "-jL9RGMmV84y",
        "colab_type": "code",
        "colab": {
          "base_uri": "https://localhost:8080/",
          "height": 0
        },
        "outputId": "ad80193b-6ad0-45e7-c3f3-a5a275403854"
      },
      "source": [
        "results = model.evaluate(x_test, y_test, verbose=0)\n",
        "results"
      ],
      "execution_count": 52,
      "outputs": [
        {
          "output_type": "execute_result",
          "data": {
            "text/plain": [
              "[0.7750125876784325, 0.8508]"
            ]
          },
          "metadata": {
            "tags": []
          },
          "execution_count": 52
        }
      ]
    },
    {
      "cell_type": "markdown",
      "metadata": {
        "id": "6przB-Z5WCot",
        "colab_type": "text"
      },
      "source": [
        "This fairly naive approach achieves an accuracy of 88%. With state-of-the-art\n",
        "approaches, you should be able to get close to 95%."
      ]
    },
    {
      "cell_type": "markdown",
      "metadata": {
        "id": "cuEs3Sw7WGys",
        "colab_type": "text"
      },
      "source": [
        "### Using a trained network to generate predictions on new data"
      ]
    },
    {
      "cell_type": "markdown",
      "metadata": {
        "id": "Y1OOLCXuWOOU",
        "colab_type": "text"
      },
      "source": [
        "After having trained a network, you’ll want to use it in a practical setting. You can generate\n",
        "the likelihood of reviews being positive by using the predict method:"
      ]
    },
    {
      "cell_type": "code",
      "metadata": {
        "id": "cNLb-hPRWCFB",
        "colab_type": "code",
        "colab": {
          "base_uri": "https://localhost:8080/",
          "height": 0
        },
        "outputId": "498e155d-1a5a-4292-80aa-d0253255fb00"
      },
      "source": [
        "model.predict(x_test)"
      ],
      "execution_count": 53,
      "outputs": [
        {
          "output_type": "execute_result",
          "data": {
            "text/plain": [
              "array([[0.00426176],\n",
              "       [0.9999999 ],\n",
              "       [0.99908733],\n",
              "       ...,\n",
              "       [0.0022164 ],\n",
              "       [0.07409734],\n",
              "       [0.9583351 ]], dtype=float32)"
            ]
          },
          "metadata": {
            "tags": []
          },
          "execution_count": 53
        }
      ]
    },
    {
      "cell_type": "markdown",
      "metadata": {
        "id": "UQqIPzs3WfGu",
        "colab_type": "text"
      },
      "source": [
        "As you can see, the network is confident for some samples (0.99 or more, or 0.01 or\n",
        "less) but less confident for others (0.6, 0.4)."
      ]
    },
    {
      "cell_type": "markdown",
      "metadata": {
        "id": "tZ5Deks6WvWS",
        "colab_type": "text"
      },
      "source": [
        "## Further experiments"
      ]
    },
    {
      "cell_type": "markdown",
      "metadata": {
        "id": "Y-a0r4vrWwjk",
        "colab_type": "text"
      },
      "source": [
        "The following experiments will help convince you that the architecture choices you’ve\n",
        "made are all fairly reasonable, although there’s still room for improvement:"
      ]
    },
    {
      "cell_type": "markdown",
      "metadata": {
        "id": "u10fPLiSmRKS",
        "colab_type": "text"
      },
      "source": [
        "### You used two hidden layers. Try using one or three hidden layers, and see how doing so affects validation and test accuracy."
      ]
    },
    {
      "cell_type": "code",
      "metadata": {
        "id": "1L5KA1AIWabh",
        "colab_type": "code",
        "colab": {
          "base_uri": "https://localhost:8080/",
          "height": 0
        },
        "outputId": "9bdc373b-93e9-4f0a-b38c-724ba6b9d543"
      },
      "source": [
        "model_1 = Sequential()\n",
        "model_1.add(Dense(16, activation='relu', input_shape=(10000, )))\n",
        "model_1.add(Dense(16, activation='relu'))\n",
        "model_1.add(Dense(16, activation='relu'))\n",
        "model_1.add(Dense(1, activation='sigmoid'))\n",
        "\n",
        "model_1.compile(optimizer='rmsprop', loss='binary_crossentropy', metrics=['accuracy'])\n",
        "\n",
        "history_1 = model_1.fit(partial_x_train, partial_y_train, epochs=20, batch_size=512, validation_data=(x_val, y_val))"
      ],
      "execution_count": 63,
      "outputs": [
        {
          "output_type": "stream",
          "text": [
            "Train on 15000 samples, validate on 10000 samples\n",
            "Epoch 1/20\n",
            "15000/15000 [==============================] - 3s 168us/sample - loss: 0.5210 - accuracy: 0.7794 - val_loss: 0.3786 - val_accuracy: 0.8712\n",
            "Epoch 2/20\n",
            "15000/15000 [==============================] - 2s 125us/sample - loss: 0.3002 - accuracy: 0.9017 - val_loss: 0.3074 - val_accuracy: 0.8805\n",
            "Epoch 3/20\n",
            "15000/15000 [==============================] - 2s 124us/sample - loss: 0.2056 - accuracy: 0.9333 - val_loss: 0.2803 - val_accuracy: 0.8871\n",
            "Epoch 4/20\n",
            "15000/15000 [==============================] - 2s 124us/sample - loss: 0.1633 - accuracy: 0.9465 - val_loss: 0.2870 - val_accuracy: 0.8865\n",
            "Epoch 5/20\n",
            "15000/15000 [==============================] - 2s 123us/sample - loss: 0.1247 - accuracy: 0.9599 - val_loss: 0.4401 - val_accuracy: 0.8418\n",
            "Epoch 6/20\n",
            "15000/15000 [==============================] - 2s 123us/sample - loss: 0.1023 - accuracy: 0.9671 - val_loss: 0.3305 - val_accuracy: 0.8831\n",
            "Epoch 7/20\n",
            "15000/15000 [==============================] - 2s 124us/sample - loss: 0.0793 - accuracy: 0.9757 - val_loss: 0.3650 - val_accuracy: 0.8758\n",
            "Epoch 8/20\n",
            "15000/15000 [==============================] - 2s 122us/sample - loss: 0.0623 - accuracy: 0.9829 - val_loss: 0.4152 - val_accuracy: 0.8691\n",
            "Epoch 9/20\n",
            "15000/15000 [==============================] - 2s 122us/sample - loss: 0.0529 - accuracy: 0.9844 - val_loss: 0.4302 - val_accuracy: 0.8708\n",
            "Epoch 10/20\n",
            "15000/15000 [==============================] - 2s 124us/sample - loss: 0.0348 - accuracy: 0.9921 - val_loss: 0.4589 - val_accuracy: 0.8725\n",
            "Epoch 11/20\n",
            "15000/15000 [==============================] - 2s 122us/sample - loss: 0.0293 - accuracy: 0.9933 - val_loss: 0.5026 - val_accuracy: 0.8726\n",
            "Epoch 12/20\n",
            "15000/15000 [==============================] - 2s 124us/sample - loss: 0.0324 - accuracy: 0.9908 - val_loss: 0.5304 - val_accuracy: 0.8727\n",
            "Epoch 13/20\n",
            "15000/15000 [==============================] - 2s 124us/sample - loss: 0.0101 - accuracy: 0.9992 - val_loss: 0.6242 - val_accuracy: 0.8581\n",
            "Epoch 14/20\n",
            "15000/15000 [==============================] - 2s 122us/sample - loss: 0.0233 - accuracy: 0.9934 - val_loss: 0.5967 - val_accuracy: 0.8681\n",
            "Epoch 15/20\n",
            "15000/15000 [==============================] - 2s 121us/sample - loss: 0.0051 - accuracy: 0.9997 - val_loss: 0.6542 - val_accuracy: 0.8628\n",
            "Epoch 16/20\n",
            "15000/15000 [==============================] - 2s 122us/sample - loss: 0.0134 - accuracy: 0.9963 - val_loss: 0.6706 - val_accuracy: 0.8683\n",
            "Epoch 17/20\n",
            "15000/15000 [==============================] - 2s 122us/sample - loss: 0.0026 - accuracy: 0.9999 - val_loss: 0.7015 - val_accuracy: 0.8693\n",
            "Epoch 18/20\n",
            "15000/15000 [==============================] - 2s 121us/sample - loss: 0.0148 - accuracy: 0.9956 - val_loss: 0.7581 - val_accuracy: 0.8658\n",
            "Epoch 19/20\n",
            "15000/15000 [==============================] - 2s 123us/sample - loss: 0.0014 - accuracy: 0.9999 - val_loss: 0.7766 - val_accuracy: 0.8671\n",
            "Epoch 20/20\n",
            "15000/15000 [==============================] - 2s 123us/sample - loss: 0.0011 - accuracy: 0.9999 - val_loss: 0.8316 - val_accuracy: 0.8634\n"
          ],
          "name": "stdout"
        }
      ]
    },
    {
      "cell_type": "code",
      "metadata": {
        "id": "kBGYgNrii9x0",
        "colab_type": "code",
        "colab": {
          "base_uri": "https://localhost:8080/",
          "height": 0
        },
        "outputId": "ac324e09-6909-41fa-9d11-ce957ab02166"
      },
      "source": [
        "results = model_1.evaluate(x_test, y_test, verbose=0)\n",
        "results"
      ],
      "execution_count": 64,
      "outputs": [
        {
          "output_type": "execute_result",
          "data": {
            "text/plain": [
              "[0.9302626439237595, 0.84692]"
            ]
          },
          "metadata": {
            "tags": []
          },
          "execution_count": 64
        }
      ]
    },
    {
      "cell_type": "code",
      "metadata": {
        "id": "rUb8-l_Eks2u",
        "colab_type": "code",
        "colab": {
          "base_uri": "https://localhost:8080/",
          "height": 0
        },
        "outputId": "add46045-fada-4c03-faef-726c1b15441a"
      },
      "source": [
        "history_1.history.keys()"
      ],
      "execution_count": 68,
      "outputs": [
        {
          "output_type": "execute_result",
          "data": {
            "text/plain": [
              "dict_keys(['loss', 'accuracy', 'val_loss', 'val_accuracy'])"
            ]
          },
          "metadata": {
            "tags": []
          },
          "execution_count": 68
        }
      ]
    },
    {
      "cell_type": "code",
      "metadata": {
        "id": "tCqfVb1IjvJe",
        "colab_type": "code",
        "colab": {
          "base_uri": "https://localhost:8080/",
          "height": 0
        },
        "outputId": "fd019468-5b9b-4f39-b77d-ecad6e269f78"
      },
      "source": [
        "acc = history_1.history['accuracy']\n",
        "val_acc = history_1.history['val_accuracy']\n",
        "loss_values = history_1.history['loss']\n",
        "val_loss_values = history_1.history['val_loss']\n",
        "\n",
        "epochs = range(1, len(acc) + 1)\n",
        "\n",
        "plt.plot(epochs, loss_values, 'bo', label='Training loss')\n",
        "plt.plot(epochs, val_loss_values, 'b', label='Validation loss')\n",
        "plt.title('Training and validation loss')\n",
        "plt.xlabel('Epochs')\n",
        "plt.ylabel('Loss')\n",
        "plt.legend()\n",
        "plt.show()"
      ],
      "execution_count": 70,
      "outputs": [
        {
          "output_type": "display_data",
          "data": {
            "image/png": "[encoded data removed]",
            "text/plain": [
              "<Figure size 432x288 with 1 Axes>"
            ]
          },
          "metadata": {
            "tags": []
          }
        }
      ]
    },
    {
      "cell_type": "code",
      "metadata": {
        "id": "nV0Q-arWj9At",
        "colab_type": "code",
        "colab": {
          "base_uri": "https://localhost:8080/",
          "height": 0
        },
        "outputId": "9efa4c4c-e6eb-4314-98c2-bb30f475b845"
      },
      "source": [
        "# clear figure\n",
        "plt.clf()\n",
        "\n",
        "acc_values = history_1.history['accuracy']\n",
        "val_acc_values = history_1.history['val_accuracy']\n",
        "\n",
        "plt.plot(epochs, acc, 'bo', label='Training acc')\n",
        "plt.plot(epochs, val_acc, 'b', label='Validation acc')\n",
        "plt.title('Training and validation accuracy')\n",
        "plt.xlabel('Epochs')\n",
        "plt.ylabel('Loss')\n",
        "plt.legend()\n",
        "\n",
        "plt.show()"
      ],
      "execution_count": 71,
      "outputs": [
        {
          "output_type": "display_data",
          "data": {
            "image/png": "[encoded data removed]",
            "text/plain": [
              "<Figure size 432x288 with 1 Axes>"
            ]
          },
          "metadata": {
            "tags": []
          }
        }
      ]
    },
    {
      "cell_type": "markdown",
      "metadata": {
        "id": "QSiOIaT3jEV7",
        "colab_type": "text"
      },
      "source": [
        "### Try using layers with more hidden units or fewer hidden units: 32 units, 64 units, and so on."
      ]
    },
    {
      "cell_type": "code",
      "metadata": {
        "id": "9-EsQ9vzjG59",
        "colab_type": "code",
        "colab": {
          "base_uri": "https://localhost:8080/",
          "height": 746
        },
        "outputId": "bb6f6c5e-58cc-4cc3-dd26-9a6ccc9af85e"
      },
      "source": [
        "model_2 = Sequential()\n",
        "model_2.add(Dense(16, activation='relu', input_shape=(10000, )))\n",
        "model_2.add(Dense(32, activation='relu'))\n",
        "model_2.add(Dense(32, activation='relu'))\n",
        "model_2.add(Dense(1, activation='sigmoid'))\n",
        "\n",
        "model_2.compile(optimizer='rmsprop', loss='binary_crossentropy', metrics=['accuracy'])\n",
        "\n",
        "history_2 = model_2.fit(partial_x_train, partial_y_train, epochs=20, batch_size=512, validation_data=(x_val, y_val))"
      ],
      "execution_count": 72,
      "outputs": [
        {
          "output_type": "stream",
          "text": [
            "Train on 15000 samples, validate on 10000 samples\n",
            "Epoch 1/20\n",
            "15000/15000 [==============================] - 3s 219us/sample - loss: 0.5362 - accuracy: 0.7608 - val_loss: 0.3920 - val_accuracy: 0.8560\n",
            "Epoch 2/20\n",
            "15000/15000 [==============================] - 2s 123us/sample - loss: 0.2942 - accuracy: 0.9015 - val_loss: 0.3062 - val_accuracy: 0.8810\n",
            "Epoch 3/20\n",
            "15000/15000 [==============================] - 2s 127us/sample - loss: 0.2081 - accuracy: 0.9277 - val_loss: 0.2771 - val_accuracy: 0.8937\n",
            "Epoch 4/20\n",
            "15000/15000 [==============================] - 2s 128us/sample - loss: 0.1571 - accuracy: 0.9474 - val_loss: 0.3385 - val_accuracy: 0.8714\n",
            "Epoch 5/20\n",
            "15000/15000 [==============================] - 2s 132us/sample - loss: 0.1281 - accuracy: 0.9567 - val_loss: 0.3350 - val_accuracy: 0.8748\n",
            "Epoch 6/20\n",
            "15000/15000 [==============================] - 2s 128us/sample - loss: 0.0946 - accuracy: 0.9709 - val_loss: 0.3430 - val_accuracy: 0.8808\n",
            "Epoch 7/20\n",
            "15000/15000 [==============================] - 2s 126us/sample - loss: 0.0785 - accuracy: 0.9751 - val_loss: 0.4437 - val_accuracy: 0.8590\n",
            "Epoch 8/20\n",
            "15000/15000 [==============================] - 2s 126us/sample - loss: 0.0613 - accuracy: 0.9817 - val_loss: 0.4765 - val_accuracy: 0.8616\n",
            "Epoch 9/20\n",
            "15000/15000 [==============================] - 2s 127us/sample - loss: 0.0473 - accuracy: 0.9865 - val_loss: 0.5005 - val_accuracy: 0.8650\n",
            "Epoch 10/20\n",
            "15000/15000 [==============================] - 2s 125us/sample - loss: 0.0379 - accuracy: 0.9900 - val_loss: 0.5994 - val_accuracy: 0.8521\n",
            "Epoch 11/20\n",
            "15000/15000 [==============================] - 2s 128us/sample - loss: 0.0180 - accuracy: 0.9964 - val_loss: 0.5266 - val_accuracy: 0.8739\n",
            "Epoch 12/20\n",
            "15000/15000 [==============================] - 2s 125us/sample - loss: 0.0327 - accuracy: 0.9902 - val_loss: 0.5612 - val_accuracy: 0.8699\n",
            "Epoch 13/20\n",
            "15000/15000 [==============================] - 2s 127us/sample - loss: 0.0082 - accuracy: 0.9993 - val_loss: 0.6016 - val_accuracy: 0.8692\n",
            "Epoch 14/20\n",
            "15000/15000 [==============================] - 2s 127us/sample - loss: 0.0219 - accuracy: 0.9931 - val_loss: 0.6481 - val_accuracy: 0.8696\n",
            "Epoch 15/20\n",
            "15000/15000 [==============================] - 2s 127us/sample - loss: 0.0037 - accuracy: 0.9997 - val_loss: 0.6924 - val_accuracy: 0.8682\n",
            "Epoch 16/20\n",
            "15000/15000 [==============================] - 2s 128us/sample - loss: 0.0239 - accuracy: 0.9932 - val_loss: 0.7423 - val_accuracy: 0.8699\n",
            "Epoch 17/20\n",
            "15000/15000 [==============================] - 2s 127us/sample - loss: 0.0017 - accuracy: 0.9999 - val_loss: 0.7692 - val_accuracy: 0.8682\n",
            "Epoch 18/20\n",
            "15000/15000 [==============================] - 2s 126us/sample - loss: 0.0012 - accuracy: 0.9999 - val_loss: 0.8120 - val_accuracy: 0.8686\n",
            "Epoch 19/20\n",
            "15000/15000 [==============================] - 2s 126us/sample - loss: 0.0217 - accuracy: 0.9939 - val_loss: 0.8831 - val_accuracy: 0.8641\n",
            "Epoch 20/20\n",
            "15000/15000 [==============================] - 2s 125us/sample - loss: 5.9482e-04 - accuracy: 1.0000 - val_loss: 0.8872 - val_accuracy: 0.8658\n"
          ],
          "name": "stdout"
        }
      ]
    },
    {
      "cell_type": "code",
      "metadata": {
        "id": "6Boe-DwpjRgw",
        "colab_type": "code",
        "colab": {
          "base_uri": "https://localhost:8080/",
          "height": 35
        },
        "outputId": "e49d0fbb-6a2f-4172-a8e7-cb138ec73d82"
      },
      "source": [
        "results = model_2.evaluate(x_test, y_test, verbose=0)\n",
        "results"
      ],
      "execution_count": 73,
      "outputs": [
        {
          "output_type": "execute_result",
          "data": {
            "text/plain": [
              "[0.9742084425234795, 0.85048]"
            ]
          },
          "metadata": {
            "tags": []
          },
          "execution_count": 73
        }
      ]
    },
    {
      "cell_type": "code",
      "metadata": {
        "id": "v7x81cL9l7UE",
        "colab_type": "code",
        "colab": {
          "base_uri": "https://localhost:8080/",
          "height": 35
        },
        "outputId": "f027a578-f0f7-459c-df2f-e630e4369545"
      },
      "source": [
        "history_2.history.keys()"
      ],
      "execution_count": 74,
      "outputs": [
        {
          "output_type": "execute_result",
          "data": {
            "text/plain": [
              "dict_keys(['loss', 'accuracy', 'val_loss', 'val_accuracy'])"
            ]
          },
          "metadata": {
            "tags": []
          },
          "execution_count": 74
        }
      ]
    },
    {
      "cell_type": "code",
      "metadata": {
        "id": "xrRRO3LbmAey",
        "colab_type": "code",
        "colab": {
          "base_uri": "https://localhost:8080/",
          "height": 295
        },
        "outputId": "913184b8-0d55-4079-cbfb-085932225d91"
      },
      "source": [
        "# clear figure\n",
        "plt.clf()\n",
        "\n",
        "acc = history_2.history['accuracy']\n",
        "val_acc = history_2.history['val_accuracy']\n",
        "loss_values = history_2.history['loss']\n",
        "val_loss_values = history_2.history['val_loss']\n",
        "\n",
        "epochs = range(1, len(acc) + 1)\n",
        "\n",
        "plt.plot(epochs, loss_values, 'bo', label='Training loss')\n",
        "plt.plot(epochs, val_loss_values, 'b', label='Validation loss')\n",
        "plt.title('Training and validation loss')\n",
        "plt.xlabel('Epochs')\n",
        "plt.ylabel('Loss')\n",
        "plt.legend()\n",
        "plt.show()"
      ],
      "execution_count": 75,
      "outputs": [
        {
          "output_type": "display_data",
          "data": {
            "image/png": "[encoded data removed]",
            "text/plain": [
              "<Figure size 432x288 with 1 Axes>"
            ]
          },
          "metadata": {
            "tags": []
          }
        }
      ]
    },
    {
      "cell_type": "code",
      "metadata": {
        "id": "tZ0VUgE1mEpM",
        "colab_type": "code",
        "colab": {
          "base_uri": "https://localhost:8080/",
          "height": 295
        },
        "outputId": "586fd5fa-17a2-452b-f202-f674e468ee24"
      },
      "source": [
        "# clear figure\n",
        "plt.clf()\n",
        "\n",
        "acc_values = history_2.history['accuracy']\n",
        "val_acc_values = history_2.history['val_accuracy']\n",
        "\n",
        "plt.plot(epochs, acc, 'bo', label='Training acc')\n",
        "plt.plot(epochs, val_acc, 'b', label='Validation acc')\n",
        "plt.title('Training and validation accuracy')\n",
        "plt.xlabel('Epochs')\n",
        "plt.ylabel('Loss')\n",
        "plt.legend()\n",
        "\n",
        "plt.show()"
      ],
      "execution_count": 76,
      "outputs": [
        {
          "output_type": "display_data",
          "data": {
            "image/png": "[encoded data removed]",
            "text/plain": [
              "<Figure size 432x288 with 1 Axes>"
            ]
          },
          "metadata": {
            "tags": []
          }
        }
      ]
    },
    {
      "cell_type": "code",
      "metadata": {
        "id": "IOYAxV2emiXN",
        "colab_type": "code",
        "colab": {
          "base_uri": "https://localhost:8080/",
          "height": 746
        },
        "outputId": "a9be5202-9f2b-4ffa-c71b-e3b33956837d"
      },
      "source": [
        "model_3 = Sequential()\n",
        "model_3.add(Dense(16, activation='relu', input_shape=(10000, )))\n",
        "model_3.add(Dense(64, activation='relu'))\n",
        "model_3.add(Dense(64, activation='relu'))\n",
        "model_3.add(Dense(1, activation='sigmoid'))\n",
        "\n",
        "model_3.compile(optimizer='rmsprop', loss='binary_crossentropy', metrics=['accuracy'])\n",
        "\n",
        "history_3 = model_3.fit(partial_x_train, partial_y_train, epochs=20, batch_size=512, validation_data=(x_val, y_val))"
      ],
      "execution_count": 77,
      "outputs": [
        {
          "output_type": "stream",
          "text": [
            "Train on 15000 samples, validate on 10000 samples\n",
            "Epoch 1/20\n",
            "15000/15000 [==============================] - 3s 195us/sample - loss: 0.5142 - accuracy: 0.7668 - val_loss: 0.3495 - val_accuracy: 0.8695\n",
            "Epoch 2/20\n",
            "15000/15000 [==============================] - 2s 135us/sample - loss: 0.2803 - accuracy: 0.8945 - val_loss: 0.2970 - val_accuracy: 0.8801\n",
            "Epoch 3/20\n",
            "15000/15000 [==============================] - 2s 131us/sample - loss: 0.2017 - accuracy: 0.9257 - val_loss: 0.2800 - val_accuracy: 0.8900\n",
            "Epoch 4/20\n",
            "15000/15000 [==============================] - 2s 129us/sample - loss: 0.1526 - accuracy: 0.9451 - val_loss: 0.2974 - val_accuracy: 0.8852\n",
            "Epoch 5/20\n",
            "15000/15000 [==============================] - 2s 130us/sample - loss: 0.1254 - accuracy: 0.9551 - val_loss: 0.3108 - val_accuracy: 0.8856\n",
            "Epoch 6/20\n",
            "15000/15000 [==============================] - 2s 133us/sample - loss: 0.0816 - accuracy: 0.9749 - val_loss: 0.3553 - val_accuracy: 0.8778\n",
            "Epoch 7/20\n",
            "15000/15000 [==============================] - 2s 133us/sample - loss: 0.0784 - accuracy: 0.9727 - val_loss: 0.3754 - val_accuracy: 0.8795\n",
            "Epoch 8/20\n",
            "15000/15000 [==============================] - 2s 129us/sample - loss: 0.0531 - accuracy: 0.9844 - val_loss: 0.5186 - val_accuracy: 0.8557\n",
            "Epoch 9/20\n",
            "15000/15000 [==============================] - 2s 131us/sample - loss: 0.0330 - accuracy: 0.9908 - val_loss: 0.4530 - val_accuracy: 0.8753\n",
            "Epoch 10/20\n",
            "15000/15000 [==============================] - 2s 129us/sample - loss: 0.0431 - accuracy: 0.9859 - val_loss: 0.4960 - val_accuracy: 0.8719\n",
            "Epoch 11/20\n",
            "15000/15000 [==============================] - 2s 133us/sample - loss: 0.0097 - accuracy: 0.9985 - val_loss: 0.5487 - val_accuracy: 0.8738\n",
            "Epoch 12/20\n",
            "15000/15000 [==============================] - 2s 135us/sample - loss: 0.0359 - accuracy: 0.9891 - val_loss: 0.5847 - val_accuracy: 0.8689\n",
            "Epoch 13/20\n",
            "15000/15000 [==============================] - 2s 134us/sample - loss: 0.0035 - accuracy: 0.9997 - val_loss: 0.6314 - val_accuracy: 0.8701\n",
            "Epoch 14/20\n",
            "15000/15000 [==============================] - 2s 132us/sample - loss: 0.0020 - accuracy: 0.9999 - val_loss: 0.8748 - val_accuracy: 0.8486\n",
            "Epoch 15/20\n",
            "15000/15000 [==============================] - 2s 134us/sample - loss: 0.0414 - accuracy: 0.9901 - val_loss: 0.7183 - val_accuracy: 0.8686\n",
            "Epoch 16/20\n",
            "15000/15000 [==============================] - 2s 133us/sample - loss: 9.3898e-04 - accuracy: 0.9999 - val_loss: 0.7671 - val_accuracy: 0.8670\n",
            "Epoch 17/20\n",
            "15000/15000 [==============================] - 2s 134us/sample - loss: 5.8740e-04 - accuracy: 1.0000 - val_loss: 0.8416 - val_accuracy: 0.8666\n",
            "Epoch 18/20\n",
            "15000/15000 [==============================] - 2s 133us/sample - loss: 0.0390 - accuracy: 0.9910 - val_loss: 0.9286 - val_accuracy: 0.8648\n",
            "Epoch 19/20\n",
            "15000/15000 [==============================] - 2s 131us/sample - loss: 2.5914e-04 - accuracy: 1.0000 - val_loss: 0.9231 - val_accuracy: 0.8665\n",
            "Epoch 20/20\n",
            "15000/15000 [==============================] - 2s 133us/sample - loss: 1.5702e-04 - accuracy: 1.0000 - val_loss: 0.9500 - val_accuracy: 0.8664\n"
          ],
          "name": "stdout"
        }
      ]
    },
    {
      "cell_type": "code",
      "metadata": {
        "id": "AJe_WiqVmwaB",
        "colab_type": "code",
        "colab": {
          "base_uri": "https://localhost:8080/",
          "height": 35
        },
        "outputId": "41e0a8fd-a3d1-47b9-bdfe-ea8a70736220"
      },
      "source": [
        "results = model_3.evaluate(x_test, y_test, verbose=0)\n",
        "results"
      ],
      "execution_count": 78,
      "outputs": [
        {
          "output_type": "execute_result",
          "data": {
            "text/plain": [
              "[1.0490596951705218, 0.85372]"
            ]
          },
          "metadata": {
            "tags": []
          },
          "execution_count": 78
        }
      ]
    },
    {
      "cell_type": "code",
      "metadata": {
        "id": "VKDclGASnAv5",
        "colab_type": "code",
        "colab": {
          "base_uri": "https://localhost:8080/",
          "height": 295
        },
        "outputId": "ed249887-1f22-4139-be5f-d7df80fd9299"
      },
      "source": [
        "# clear figure\n",
        "plt.clf()\n",
        "\n",
        "acc = history_3.history['accuracy']\n",
        "val_acc = history_3.history['val_accuracy']\n",
        "loss_values = history_3.history['loss']\n",
        "val_loss_values = history_3.history['val_loss']\n",
        "\n",
        "epochs = range(1, len(acc) + 1)\n",
        "\n",
        "plt.plot(epochs, loss_values, 'bo', label='Training loss')\n",
        "plt.plot(epochs, val_loss_values, 'b', label='Validation loss')\n",
        "plt.title('Training and validation loss')\n",
        "plt.xlabel('Epochs')\n",
        "plt.ylabel('Loss')\n",
        "plt.legend()\n",
        "plt.show()"
      ],
      "execution_count": 79,
      "outputs": [
        {
          "output_type": "display_data",
          "data": {
            "image/png": "[encoded data removed]",
            "text/plain": [
              "<Figure size 432x288 with 1 Axes>"
            ]
          },
          "metadata": {
            "tags": []
          }
        }
      ]
    },
    {
      "cell_type": "code",
      "metadata": {
        "id": "XeKom7ddnESx",
        "colab_type": "code",
        "colab": {
          "base_uri": "https://localhost:8080/",
          "height": 295
        },
        "outputId": "17ab1e4c-4511-4353-fd61-e90d271264ca"
      },
      "source": [
        "# clear figure\n",
        "plt.clf()\n",
        "\n",
        "acc_values = history_3.history['accuracy']\n",
        "val_acc_values = history_3.history['val_accuracy']\n",
        "\n",
        "plt.plot(epochs, acc, 'bo', label='Training acc')\n",
        "plt.plot(epochs, val_acc, 'b', label='Validation acc')\n",
        "plt.title('Training and validation accuracy')\n",
        "plt.xlabel('Epochs')\n",
        "plt.ylabel('Loss')\n",
        "plt.legend()\n",
        "\n",
        "plt.show()"
      ],
      "execution_count": 80,
      "outputs": [
        {
          "output_type": "display_data",
          "data": {
            "image/png": "[encoded data removed]",
            "text/plain": [
              "<Figure size 432x288 with 1 Axes>"
            ]
          },
          "metadata": {
            "tags": []
          }
        }
      ]
    },
    {
      "cell_type": "markdown",
      "metadata": {
        "id": "AFq20L1IncJ3",
        "colab_type": "text"
      },
      "source": [
        "### Try using the mse loss function instead of binary_crossentropy."
      ]
    },
    {
      "cell_type": "code",
      "metadata": {
        "id": "I6k52ZcknKV6",
        "colab_type": "code",
        "colab": {
          "base_uri": "https://localhost:8080/",
          "height": 746
        },
        "outputId": "cb3e64f9-22be-41c1-8382-fbc40afb75b5"
      },
      "source": [
        "model_4 = Sequential()\n",
        "model_4.add(Dense(16, activation='relu', input_shape=(10000, )))\n",
        "model_4.add(Dense(16, activation='relu'))\n",
        "model_4.add(Dense(16, activation='relu'))\n",
        "model_4.add(Dense(1, activation='sigmoid'))\n",
        "\n",
        "model_4.compile(optimizer='rmsprop', loss='mse', metrics=['accuracy'])\n",
        "\n",
        "history_4 = model_4.fit(partial_x_train, partial_y_train, epochs=20, batch_size=512, validation_data=(x_val, y_val))"
      ],
      "execution_count": 85,
      "outputs": [
        {
          "output_type": "stream",
          "text": [
            "Train on 15000 samples, validate on 10000 samples\n",
            "Epoch 1/20\n",
            "15000/15000 [==============================] - 3s 179us/sample - loss: 0.1823 - accuracy: 0.7599 - val_loss: 0.1232 - val_accuracy: 0.8691\n",
            "Epoch 2/20\n",
            "15000/15000 [==============================] - 2s 133us/sample - loss: 0.0918 - accuracy: 0.9017 - val_loss: 0.0945 - val_accuracy: 0.8807\n",
            "Epoch 3/20\n",
            "15000/15000 [==============================] - 2s 135us/sample - loss: 0.0619 - accuracy: 0.9315 - val_loss: 0.0856 - val_accuracy: 0.8870\n",
            "Epoch 4/20\n",
            "15000/15000 [==============================] - 2s 132us/sample - loss: 0.0479 - accuracy: 0.9470 - val_loss: 0.0865 - val_accuracy: 0.8806\n",
            "Epoch 5/20\n",
            "15000/15000 [==============================] - 2s 133us/sample - loss: 0.0398 - accuracy: 0.9564 - val_loss: 0.0831 - val_accuracy: 0.8882\n",
            "Epoch 6/20\n",
            "15000/15000 [==============================] - 2s 132us/sample - loss: 0.0301 - accuracy: 0.9694 - val_loss: 0.0902 - val_accuracy: 0.8794\n",
            "Epoch 7/20\n",
            "15000/15000 [==============================] - 2s 131us/sample - loss: 0.0240 - accuracy: 0.9764 - val_loss: 0.0888 - val_accuracy: 0.8816\n",
            "Epoch 8/20\n",
            "15000/15000 [==============================] - 2s 128us/sample - loss: 0.0209 - accuracy: 0.9803 - val_loss: 0.0896 - val_accuracy: 0.8815\n",
            "Epoch 9/20\n",
            "15000/15000 [==============================] - 2s 131us/sample - loss: 0.0163 - accuracy: 0.9849 - val_loss: 0.0939 - val_accuracy: 0.8763\n",
            "Epoch 10/20\n",
            "15000/15000 [==============================] - 2s 137us/sample - loss: 0.0140 - accuracy: 0.9869 - val_loss: 0.0968 - val_accuracy: 0.8763\n",
            "Epoch 11/20\n",
            "15000/15000 [==============================] - 2s 137us/sample - loss: 0.0111 - accuracy: 0.9903 - val_loss: 0.1091 - val_accuracy: 0.8620\n",
            "Epoch 12/20\n",
            "15000/15000 [==============================] - 2s 135us/sample - loss: 0.0104 - accuracy: 0.9899 - val_loss: 0.0998 - val_accuracy: 0.8753\n",
            "Epoch 13/20\n",
            "15000/15000 [==============================] - 2s 132us/sample - loss: 0.0079 - accuracy: 0.9926 - val_loss: 0.1021 - val_accuracy: 0.8730\n",
            "Epoch 14/20\n",
            "15000/15000 [==============================] - 2s 134us/sample - loss: 0.0050 - accuracy: 0.9959 - val_loss: 0.1043 - val_accuracy: 0.8708\n",
            "Epoch 15/20\n",
            "15000/15000 [==============================] - 2s 136us/sample - loss: 0.0074 - accuracy: 0.9921 - val_loss: 0.1058 - val_accuracy: 0.8689\n",
            "Epoch 16/20\n",
            "15000/15000 [==============================] - 2s 129us/sample - loss: 0.0038 - accuracy: 0.9965 - val_loss: 0.1078 - val_accuracy: 0.8682\n",
            "Epoch 17/20\n",
            "15000/15000 [==============================] - 2s 133us/sample - loss: 0.0067 - accuracy: 0.9929 - val_loss: 0.1093 - val_accuracy: 0.8670\n",
            "Epoch 18/20\n",
            "15000/15000 [==============================] - 2s 131us/sample - loss: 0.0031 - accuracy: 0.9971 - val_loss: 0.1104 - val_accuracy: 0.8670\n",
            "Epoch 19/20\n",
            "15000/15000 [==============================] - 2s 131us/sample - loss: 0.0061 - accuracy: 0.9929 - val_loss: 0.1121 - val_accuracy: 0.8676\n",
            "Epoch 20/20\n",
            "15000/15000 [==============================] - 2s 129us/sample - loss: 0.0027 - accuracy: 0.9974 - val_loss: 0.1127 - val_accuracy: 0.8668\n"
          ],
          "name": "stdout"
        }
      ]
    },
    {
      "cell_type": "code",
      "metadata": {
        "id": "gTYDFnhenuLb",
        "colab_type": "code",
        "colab": {
          "base_uri": "https://localhost:8080/",
          "height": 35
        },
        "outputId": "b7baf338-3237-4fca-c2be-280c5d800ffe"
      },
      "source": [
        "results = model_4.evaluate(x_test, y_test, verbose=0)\n",
        "results"
      ],
      "execution_count": 86,
      "outputs": [
        {
          "output_type": "execute_result",
          "data": {
            "text/plain": [
              "[0.12333156722068786, 0.85376]"
            ]
          },
          "metadata": {
            "tags": []
          },
          "execution_count": 86
        }
      ]
    },
    {
      "cell_type": "code",
      "metadata": {
        "id": "VaLwLL3unpIt",
        "colab_type": "code",
        "colab": {
          "base_uri": "https://localhost:8080/",
          "height": 295
        },
        "outputId": "e827c8f1-dde5-446c-e4cf-3db8390fe32c"
      },
      "source": [
        "# clear figure\n",
        "plt.clf()\n",
        "\n",
        "acc = history_4.history['accuracy']\n",
        "val_acc = history_4.history['val_accuracy']\n",
        "loss_values = history_4.history['loss']\n",
        "val_loss_values = history_4.history['val_loss']\n",
        "\n",
        "epochs = range(1, len(acc) + 1)\n",
        "\n",
        "plt.plot(epochs, loss_values, 'bo', label='Training loss')\n",
        "plt.plot(epochs, val_loss_values, 'b', label='Validation loss')\n",
        "plt.title('Training and validation loss')\n",
        "plt.xlabel('Epochs')\n",
        "plt.ylabel('Loss')\n",
        "plt.legend()\n",
        "plt.show()"
      ],
      "execution_count": 87,
      "outputs": [
        {
          "output_type": "display_data",
          "data": {
            "image/png": "[encoded data removed]",
            "text/plain": [
              "<Figure size 432x288 with 1 Axes>"
            ]
          },
          "metadata": {
            "tags": []
          }
        }
      ]
    },
    {
      "cell_type": "code",
      "metadata": {
        "id": "IdWesuZDnyYU",
        "colab_type": "code",
        "colab": {
          "base_uri": "https://localhost:8080/",
          "height": 295
        },
        "outputId": "588acad1-c876-4ec7-d66f-e8a1d10ea18a"
      },
      "source": [
        "# clear figure\n",
        "plt.clf()\n",
        "\n",
        "acc_values = history_4.history['accuracy']\n",
        "val_acc_values = history_4.history['val_accuracy']\n",
        "\n",
        "plt.plot(epochs, acc, 'bo', label='Training acc')\n",
        "plt.plot(epochs, val_acc, 'b', label='Validation acc')\n",
        "plt.title('Training and validation accuracy')\n",
        "plt.xlabel('Epochs')\n",
        "plt.ylabel('Loss')\n",
        "plt.legend()\n",
        "\n",
        "plt.show()"
      ],
      "execution_count": 88,
      "outputs": [
        {
          "output_type": "display_data",
          "data": {
            "image/png": "[encoded data removed]",
            "text/plain": [
              "<Figure size 432x288 with 1 Axes>"
            ]
          },
          "metadata": {
            "tags": []
          }
        }
      ]
    },
    {
      "cell_type": "markdown",
      "metadata": {
        "id": "5FwICNhgoJrr",
        "colab_type": "text"
      },
      "source": [
        "### Try using the tanh activation (an activation that was popular in the early days of neural networks) instead of relu."
      ]
    },
    {
      "cell_type": "code",
      "metadata": {
        "id": "J0-H2qY9n9qA",
        "colab_type": "code",
        "colab": {
          "base_uri": "https://localhost:8080/",
          "height": 746
        },
        "outputId": "22d28632-6859-425c-d235-b57cfb9a203a"
      },
      "source": [
        "model_5 = Sequential()\n",
        "model_5.add(Dense(16, activation='tanh', input_shape=(10000, )))\n",
        "model_5.add(Dense(16, activation='tanh'))\n",
        "model_5.add(Dense(16, activation='tanh'))\n",
        "model_5.add(Dense(1, activation='sigmoid'))\n",
        "\n",
        "model_5.compile(optimizer='rmsprop', loss='mse', metrics=['accuracy'])\n",
        "\n",
        "history_5 = model_5.fit(partial_x_train, partial_y_train, epochs=20, batch_size=512, validation_data=(x_val, y_val))"
      ],
      "execution_count": 89,
      "outputs": [
        {
          "output_type": "stream",
          "text": [
            "Train on 15000 samples, validate on 10000 samples\n",
            "Epoch 1/20\n",
            "15000/15000 [==============================] - 3s 172us/sample - loss: 0.1583 - accuracy: 0.7915 - val_loss: 0.1021 - val_accuracy: 0.8801\n",
            "Epoch 2/20\n",
            "15000/15000 [==============================] - 2s 129us/sample - loss: 0.0739 - accuracy: 0.9129 - val_loss: 0.0830 - val_accuracy: 0.8901\n",
            "Epoch 3/20\n",
            "15000/15000 [==============================] - 2s 130us/sample - loss: 0.0516 - accuracy: 0.9359 - val_loss: 0.0838 - val_accuracy: 0.8864\n",
            "Epoch 4/20\n",
            "15000/15000 [==============================] - 2s 126us/sample - loss: 0.0370 - accuracy: 0.9551 - val_loss: 0.1140 - val_accuracy: 0.8515\n",
            "Epoch 5/20\n",
            "15000/15000 [==============================] - 2s 128us/sample - loss: 0.0281 - accuracy: 0.9666 - val_loss: 0.0977 - val_accuracy: 0.8757\n",
            "Epoch 6/20\n",
            "15000/15000 [==============================] - 2s 130us/sample - loss: 0.0230 - accuracy: 0.9735 - val_loss: 0.1004 - val_accuracy: 0.8762\n",
            "Epoch 7/20\n",
            "15000/15000 [==============================] - 2s 128us/sample - loss: 0.0195 - accuracy: 0.9779 - val_loss: 0.1117 - val_accuracy: 0.8680\n",
            "Epoch 8/20\n",
            "15000/15000 [==============================] - 2s 127us/sample - loss: 0.0169 - accuracy: 0.9811 - val_loss: 0.1057 - val_accuracy: 0.8750\n",
            "Epoch 9/20\n",
            "15000/15000 [==============================] - 2s 125us/sample - loss: 0.0152 - accuracy: 0.9831 - val_loss: 0.1082 - val_accuracy: 0.8746\n",
            "Epoch 10/20\n",
            "15000/15000 [==============================] - 2s 127us/sample - loss: 0.0140 - accuracy: 0.9846 - val_loss: 0.1102 - val_accuracy: 0.8731\n",
            "Epoch 11/20\n",
            "15000/15000 [==============================] - 2s 130us/sample - loss: 0.0081 - accuracy: 0.9920 - val_loss: 0.1121 - val_accuracy: 0.8728\n",
            "Epoch 12/20\n",
            "15000/15000 [==============================] - 2s 130us/sample - loss: 0.0120 - accuracy: 0.9868 - val_loss: 0.1207 - val_accuracy: 0.8645\n",
            "Epoch 13/20\n",
            "15000/15000 [==============================] - 2s 127us/sample - loss: 0.0069 - accuracy: 0.9933 - val_loss: 0.1177 - val_accuracy: 0.8684\n",
            "Epoch 14/20\n",
            "15000/15000 [==============================] - 2s 126us/sample - loss: 0.0122 - accuracy: 0.9865 - val_loss: 0.1190 - val_accuracy: 0.8668\n",
            "Epoch 15/20\n",
            "15000/15000 [==============================] - 2s 125us/sample - loss: 0.0064 - accuracy: 0.9935 - val_loss: 0.1183 - val_accuracy: 0.8683\n",
            "Epoch 16/20\n",
            "15000/15000 [==============================] - 2s 126us/sample - loss: 0.0116 - accuracy: 0.9867 - val_loss: 0.1192 - val_accuracy: 0.8683\n",
            "Epoch 17/20\n",
            "15000/15000 [==============================] - 2s 127us/sample - loss: 0.0058 - accuracy: 0.9943 - val_loss: 0.1203 - val_accuracy: 0.8669\n",
            "Epoch 18/20\n",
            "15000/15000 [==============================] - 2s 124us/sample - loss: 0.0113 - accuracy: 0.9870 - val_loss: 0.1208 - val_accuracy: 0.8657\n",
            "Epoch 19/20\n",
            "15000/15000 [==============================] - 2s 130us/sample - loss: 0.0097 - accuracy: 0.9896 - val_loss: 0.1201 - val_accuracy: 0.8658\n",
            "Epoch 20/20\n",
            "15000/15000 [==============================] - 2s 132us/sample - loss: 0.0052 - accuracy: 0.9947 - val_loss: 0.1204 - val_accuracy: 0.8670\n"
          ],
          "name": "stdout"
        }
      ]
    },
    {
      "cell_type": "code",
      "metadata": {
        "id": "A4xobjPAovZT",
        "colab_type": "code",
        "colab": {
          "base_uri": "https://localhost:8080/",
          "height": 35
        },
        "outputId": "f5545ca9-d762-43ba-ff48-b7c191765934"
      },
      "source": [
        "results = model_5.evaluate(x_test, y_test, verbose=0)\n",
        "results"
      ],
      "execution_count": 90,
      "outputs": [
        {
          "output_type": "execute_result",
          "data": {
            "text/plain": [
              "[0.13203691117152572, 0.85392]"
            ]
          },
          "metadata": {
            "tags": []
          },
          "execution_count": 90
        }
      ]
    },
    {
      "cell_type": "code",
      "metadata": {
        "id": "8KjBl4EVo1Uz",
        "colab_type": "code",
        "colab": {
          "base_uri": "https://localhost:8080/",
          "height": 295
        },
        "outputId": "df809880-803c-4e58-f27e-790fc5d718d7"
      },
      "source": [
        "# clear figure\n",
        "plt.clf()\n",
        "\n",
        "acc = history_5.history['accuracy']\n",
        "val_acc = history_5.history['val_accuracy']\n",
        "loss_values = history_5.history['loss']\n",
        "val_loss_values = history_5.history['val_loss']\n",
        "\n",
        "epochs = range(1, len(acc) + 1)\n",
        "\n",
        "plt.plot(epochs, loss_values, 'bo', label='Training loss')\n",
        "plt.plot(epochs, val_loss_values, 'b', label='Validation loss')\n",
        "plt.title('Training and validation loss')\n",
        "plt.xlabel('Epochs')\n",
        "plt.ylabel('Loss')\n",
        "plt.legend()\n",
        "plt.show()"
      ],
      "execution_count": 91,
      "outputs": [
        {
          "output_type": "display_data",
          "data": {
            "image/png": "[encoded data removed]",
            "text/plain": [
              "<Figure size 432x288 with 1 Axes>"
            ]
          },
          "metadata": {
            "tags": []
          }
        }
      ]
    },
    {
      "cell_type": "code",
      "metadata": {
        "id": "ihZvFlpAo4Ek",
        "colab_type": "code",
        "colab": {
          "base_uri": "https://localhost:8080/",
          "height": 295
        },
        "outputId": "2487b965-9404-4f64-a88b-96e4aecabd4f"
      },
      "source": [
        "# clear figure\n",
        "plt.clf()\n",
        "\n",
        "acc_values = history_5.history['accuracy']\n",
        "val_acc_values = history_5.history['val_accuracy']\n",
        "\n",
        "plt.plot(epochs, acc, 'bo', label='Training acc')\n",
        "plt.plot(epochs, val_acc, 'b', label='Validation acc')\n",
        "plt.title('Training and validation accuracy')\n",
        "plt.xlabel('Epochs')\n",
        "plt.ylabel('Loss')\n",
        "plt.legend()\n",
        "\n",
        "plt.show()"
      ],
      "execution_count": 92,
      "outputs": [
        {
          "output_type": "display_data",
          "data": {
            "image/png": "[encoded data removed]",
            "text/plain": [
              "<Figure size 432x288 with 1 Axes>"
            ]
          },
          "metadata": {
            "tags": []
          }
        }
      ]
    },
    {
      "cell_type": "markdown",
      "metadata": {
        "id": "YeZICP9YpYWi",
        "colab_type": "text"
      },
      "source": [
        "## Wrapping up"
      ]
    },
    {
      "cell_type": "markdown",
      "metadata": {
        "id": "5o5spcnJpaAC",
        "colab_type": "text"
      },
      "source": [
        "Here’s what you should take away from this example:\n",
        "* You usually need to do quite a bit of preprocessing on your raw data in order to\n",
        "be able to feed it—as tensors—into a neural network. Sequences of words can\n",
        "be encoded as binary vectors, but there are other encoding options, too.\n",
        "* Stacks of Dense layers with relu activations can solve a wide range of problems\n",
        "(including sentiment classification), and you’ll likely use them frequently.\n",
        "* In a binary classification problem (two output classes), your network should\n",
        "end with a Dense layer with one unit and a sigmoid activation: the output of\n",
        "your network should be a scalar between 0 and 1, encoding a probability.\n",
        "* With such a scalar sigmoid output on a binary classification problem, the loss\n",
        "function you should use is binary_crossentropy.\n",
        "* The rmsprop optimizer is generally a good enough choice, whatever your problem.\n",
        "That’s one less thing for you to worry about.\n",
        "* As they get better on their training data, neural networks eventually start overfitting\n",
        "and end up obtaining increasingly worse results on data they’ve never\n",
        "seen before. Be sure to always monitor performance on data that is outside of\n",
        "the training set.\n",
        "Licensed"
      ]
    }
  ]
}