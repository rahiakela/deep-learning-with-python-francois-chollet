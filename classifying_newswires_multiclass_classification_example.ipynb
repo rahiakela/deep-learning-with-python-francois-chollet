{
  "nbformat": 4,
  "nbformat_minor": 0,
  "metadata": {
    "colab": {
      "name": "classifying-newswires--multiclass-classification-example.ipynb",
      "provenance": [],
      "toc_visible": true,
      "include_colab_link": true
    },
    "kernelspec": {
      "name": "python3",
      "display_name": "Python 3"
    }
  },
  "cells": [
    {
      "cell_type": "markdown",
      "metadata": {
        "id": "view-in-github",
        "colab_type": "text"
      },
      "source": [
        "<a href=\"https://colab.research.google.com/github/rahiakela/deep-learning-with-python-francois-chollet/blob/3-getting-started-with-neural-networks/classifying_newswires_multiclass_classification_example.ipynb\" target=\"_parent\"><img src=\"https://colab.research.google.com/assets/colab-badge.svg\" alt=\"Open In Colab\"/></a>"
      ]
    },
    {
      "cell_type": "markdown",
      "metadata": {
        "id": "YKwGCsNQ3btw",
        "colab_type": "text"
      },
      "source": [
        "# Classifying newswires: a multiclass classification example"
      ]
    },
    {
      "cell_type": "markdown",
      "metadata": {
        "id": "rALocsIe3d5O",
        "colab_type": "text"
      },
      "source": [
        "In this guide, you’ll build a network to classify Reuters newswires into 46 mutually\n",
        "exclusive topics. Because you have many classes, this problem is an instance of multiclass\n",
        "classification; and because each data point should be classified into only one category,\n",
        "the problem is more specifically an instance of single-label, multiclass classification.\n",
        "If each data point could belong to multiple categories (in this case, topics), you’d be\n",
        "facing a multilabel, multiclass classification problem."
      ]
    },
    {
      "cell_type": "markdown",
      "metadata": {
        "id": "dOcX0zSg37kH",
        "colab_type": "text"
      },
      "source": [
        "## Setup"
      ]
    },
    {
      "cell_type": "code",
      "metadata": {
        "id": "aVg2aKsC39NC",
        "colab_type": "code",
        "outputId": "e4b80784-a71d-4356-ae32-514fe5613a25",
        "colab": {
          "base_uri": "https://localhost:8080/",
          "height": 0
        }
      },
      "source": [
        "from __future__ import absolute_import, division, print_function, unicode_literals\n",
        "\n",
        "try:\n",
        "  # %tensorflow_version only exists in Colab.\n",
        "  %tensorflow_version 2.x\n",
        "except Exception:\n",
        "  pass\n",
        "import tensorflow as tf\n",
        "from tensorflow import keras\n",
        "import numpy as np\n",
        "import pandas as pd\n",
        "\n",
        "import matplotlib.pyplot as plt"
      ],
      "execution_count": 1,
      "outputs": [
        {
          "output_type": "stream",
          "text": [
            "TensorFlow 2.x selected.\n"
          ],
          "name": "stdout"
        }
      ]
    },
    {
      "cell_type": "markdown",
      "metadata": {
        "id": "iKjuR2ME3kpZ",
        "colab_type": "text"
      },
      "source": [
        "## The Reuters dataset"
      ]
    },
    {
      "cell_type": "markdown",
      "metadata": {
        "id": "RMusJQCo3lrs",
        "colab_type": "text"
      },
      "source": [
        "You’ll work with the Reuters dataset, a set of short newswires and their topics, published\n",
        "by Reuters in 1986. It’s a simple, widely used toy dataset for text classification. There\n",
        "are 46 different topics; some topics are more represented than others, but each topic\n",
        "has at least 10 examples in the training set."
      ]
    },
    {
      "cell_type": "code",
      "metadata": {
        "id": "jz8AARfO4V6H",
        "colab_type": "code",
        "outputId": "56e6d887-dacb-4bda-b3d9-4254628fe54c",
        "colab": {
          "base_uri": "https://localhost:8080/",
          "height": 0
        }
      },
      "source": [
        "from keras.datasets import reuters\n",
        "\n",
        "(train_data, train_labels), (test_data, test_labels) = reuters.load_data(num_words=10000)"
      ],
      "execution_count": 2,
      "outputs": [
        {
          "output_type": "stream",
          "text": [
            "Using TensorFlow backend.\n"
          ],
          "name": "stderr"
        },
        {
          "output_type": "stream",
          "text": [
            "Downloading data from https://s3.amazonaws.com/text-datasets/reuters.npz\n",
            "2113536/2110848 [==============================] - 0s 0us/step\n"
          ],
          "name": "stdout"
        }
      ]
    },
    {
      "cell_type": "markdown",
      "metadata": {
        "id": "u4ZFD3nD45Fu",
        "colab_type": "text"
      },
      "source": [
        "As with the IMDB dataset, the argument num_words=10000 restricts the data to the\n",
        "10,000 most frequently occurring words found in the data.\n",
        "\n",
        "You have 8,982 training examples and 2,246 test examples:"
      ]
    },
    {
      "cell_type": "code",
      "metadata": {
        "id": "BCCPVNFQ4zBX",
        "colab_type": "code",
        "outputId": "65917804-fd97-400b-8dfe-2cbe1f4e67a7",
        "colab": {
          "base_uri": "https://localhost:8080/",
          "height": 0
        }
      },
      "source": [
        "len(train_data)"
      ],
      "execution_count": 3,
      "outputs": [
        {
          "output_type": "execute_result",
          "data": {
            "text/plain": [
              "8982"
            ]
          },
          "metadata": {
            "tags": []
          },
          "execution_count": 3
        }
      ]
    },
    {
      "cell_type": "code",
      "metadata": {
        "id": "vLZSO6th4-uV",
        "colab_type": "code",
        "outputId": "7ebbac3b-2cd9-4547-ebe3-a2d691cb3021",
        "colab": {
          "base_uri": "https://localhost:8080/",
          "height": 0
        }
      },
      "source": [
        "len(test_data)"
      ],
      "execution_count": 4,
      "outputs": [
        {
          "output_type": "execute_result",
          "data": {
            "text/plain": [
              "2246"
            ]
          },
          "metadata": {
            "tags": []
          },
          "execution_count": 4
        }
      ]
    },
    {
      "cell_type": "markdown",
      "metadata": {
        "id": "1W1qUFyw5G8M",
        "colab_type": "text"
      },
      "source": [
        "As with the IMDB reviews, each example is a list of integers (word indices):"
      ]
    },
    {
      "cell_type": "code",
      "metadata": {
        "id": "_4ligJzZ5CPW",
        "colab_type": "code",
        "outputId": "475fb8e8-0468-4bb6-8e24-900dc91040a6",
        "colab": {
          "base_uri": "https://localhost:8080/",
          "height": 0
        }
      },
      "source": [
        "print(train_data[10])"
      ],
      "execution_count": 5,
      "outputs": [
        {
          "output_type": "stream",
          "text": [
            "[1, 245, 273, 207, 156, 53, 74, 160, 26, 14, 46, 296, 26, 39, 74, 2979, 3554, 14, 46, 4689, 4329, 86, 61, 3499, 4795, 14, 61, 451, 4329, 17, 12]\n"
          ],
          "name": "stdout"
        }
      ]
    },
    {
      "cell_type": "markdown",
      "metadata": {
        "id": "thDcrWwb5b7E",
        "colab_type": "text"
      },
      "source": [
        "Here’s how you can decode it back to words, in case you’re curious."
      ]
    },
    {
      "cell_type": "code",
      "metadata": {
        "id": "EGQf5An95KB8",
        "colab_type": "code",
        "outputId": "38d023b8-ea82-440b-a4b7-4ddebc094e4f",
        "colab": {
          "base_uri": "https://localhost:8080/",
          "height": 0
        }
      },
      "source": [
        "word_index = reuters.get_word_index()\n",
        "reverse_word_index = dict([(value, key) for (key, value) in word_index.items()])\n",
        "# Note that our indices were offset by 3\n",
        "# because 0, 1 and 2 are reserved indices for \"padding\", \"start of sequence\", and \"unknown\".\n",
        "decoded_newswire = ' '.join([reverse_word_index.get(i - 3, '?') for i in train_data[0]])\n",
        "decoded_newswire"
      ],
      "execution_count": 6,
      "outputs": [
        {
          "output_type": "stream",
          "text": [
            "Downloading data from https://s3.amazonaws.com/text-datasets/reuters_word_index.json\n",
            "557056/550378 [==============================] - 0s 0us/step\n"
          ],
          "name": "stdout"
        },
        {
          "output_type": "execute_result",
          "data": {
            "text/plain": [
              "'? ? ? said as a result of its december acquisition of space co it expects earnings per share in 1987 of 1 15 to 1 30 dlrs per share up from 70 cts in 1986 the company said pretax net should rise to nine to 10 mln dlrs from six mln dlrs in 1986 and rental operation revenues to 19 to 22 mln dlrs from 12 5 mln dlrs it said cash flow per share this year should be 2 50 to three dlrs reuter 3'"
            ]
          },
          "metadata": {
            "tags": []
          },
          "execution_count": 6
        }
      ]
    },
    {
      "cell_type": "markdown",
      "metadata": {
        "id": "-fc1KAwE6NpL",
        "colab_type": "text"
      },
      "source": [
        "The label associated with an example is an integer between 0 and 45: a topic index."
      ]
    },
    {
      "cell_type": "code",
      "metadata": {
        "id": "dfPFhpMq6ELh",
        "colab_type": "code",
        "outputId": "9f1821eb-cbe2-443b-b03d-4602c0ee199b",
        "colab": {
          "base_uri": "https://localhost:8080/",
          "height": 0
        }
      },
      "source": [
        "train_labels[10]"
      ],
      "execution_count": 7,
      "outputs": [
        {
          "output_type": "execute_result",
          "data": {
            "text/plain": [
              "3"
            ]
          },
          "metadata": {
            "tags": []
          },
          "execution_count": 7
        }
      ]
    },
    {
      "cell_type": "markdown",
      "metadata": {
        "id": "UQFBU7Jw6dDn",
        "colab_type": "text"
      },
      "source": [
        "## Preparing the data"
      ]
    },
    {
      "cell_type": "markdown",
      "metadata": {
        "id": "4dBbFr7p6eBK",
        "colab_type": "text"
      },
      "source": [
        "You can vectorize the data with the exact same code as in the previous example."
      ]
    },
    {
      "cell_type": "code",
      "metadata": {
        "id": "7zsHNZJ-6TVM",
        "colab_type": "code",
        "colab": {}
      },
      "source": [
        "import numpy as np\n",
        "\n",
        "def vectorize_sequences(sequences, dimension=10000):\n",
        "  results = np.zeros((len(sequences), dimension))\n",
        "  for i, sequence in enumerate(sequences):\n",
        "    results[i, sequence] = 1.\n",
        "  return results\n",
        "\n",
        "# Our vectorized training data\n",
        "x_train = vectorize_sequences(train_data)   \n",
        "# Our vectorized test data\n",
        "x_test = vectorize_sequences(test_data)"
      ],
      "execution_count": 0,
      "outputs": []
    },
    {
      "cell_type": "markdown",
      "metadata": {
        "id": "TVwrrrS08MkQ",
        "colab_type": "text"
      },
      "source": [
        "To vectorize the labels, there are two possibilities: you can cast the label list as an integer\n",
        "tensor, or you can use one-hot encoding. One-hot encoding is a widely used format\n",
        "for categorical data, also called categorical encoding."
      ]
    },
    {
      "cell_type": "code",
      "metadata": {
        "id": "-Z2gFGsc8Ffz",
        "colab_type": "code",
        "colab": {}
      },
      "source": [
        "def to_one_hot(labels, dimension=46):\n",
        "  results = np.zeros((len(labels), dimension))\n",
        "  for i, label in enumerate(labels):\n",
        "    results[i, label] = 1.\n",
        "\n",
        "# Our vectorized training labels\n",
        "one_hot_train_labels = to_one_hot(train_labels)\n",
        "# Our vectorized test labels\n",
        "one_hot_test_labels = to_one_hot(test_labels)"
      ],
      "execution_count": 0,
      "outputs": []
    },
    {
      "cell_type": "markdown",
      "metadata": {
        "id": "Oz7x6DuV9F8Z",
        "colab_type": "text"
      },
      "source": [
        "Note that there is a built-in way to do this in Keras, which you have already seen in action in our MNIST example:"
      ]
    },
    {
      "cell_type": "code",
      "metadata": {
        "id": "hiCUGFo_9FU1",
        "colab_type": "code",
        "colab": {}
      },
      "source": [
        "from keras.utils.np_utils import to_categorical\n",
        "\n",
        "one_hot_train_labels = to_categorical(train_labels)\n",
        "one_hot_test_labels = to_categorical(test_labels)"
      ],
      "execution_count": 0,
      "outputs": []
    },
    {
      "cell_type": "markdown",
      "metadata": {
        "id": "L_P8g_ct9egl",
        "colab_type": "text"
      },
      "source": [
        "## Building your network"
      ]
    },
    {
      "cell_type": "markdown",
      "metadata": {
        "id": "95cw31Tr9kKj",
        "colab_type": "text"
      },
      "source": [
        "This topic-classification problem looks similar to the previous movie-review classification\n",
        "problem: in both cases, you’re trying to classify short snippets of text. But there is\n",
        "a new constraint here: the number of output classes has gone from 2 to 46. The\n",
        "dimensionality of the output space is much larger.\n",
        "\n",
        "In a stack of Dense layers like that you’ve been using, each layer can only access information\n",
        "present in the output of the previous layer. \n",
        "\n",
        "If one layer drops some information relevant to the classification problem, this information can never be recovered by later\n",
        "layers: each layer can potentially become an information bottleneck.\n",
        "\n",
        "In the previous\n",
        "example, you used 16-dimensional intermediate layers, but a 16-dimensional space may\n",
        "be too limited to learn to separate 46 different classes: such small layers may act as information\n",
        "bottlenecks, permanently dropping relevant information.\n",
        "\n",
        "For this reason you’ll use larger layers. Let’s go with 64 units."
      ]
    },
    {
      "cell_type": "code",
      "metadata": {
        "id": "9RonWsFh-Rai",
        "colab_type": "code",
        "colab": {}
      },
      "source": [
        "from tensorflow.keras.models import Sequential\n",
        "from tensorflow.keras.layers import Dense \n",
        "\n",
        "model = Sequential()\n",
        "model.add(Dense(64, activation='relu', input_shape=(10000, )))\n",
        "model.add(Dense(64, activation='relu'))\n",
        "model.add(Dense(46, activation='softmax'))"
      ],
      "execution_count": 0,
      "outputs": []
    },
    {
      "cell_type": "markdown",
      "metadata": {
        "id": "QgQ1bmKk_TxA",
        "colab_type": "text"
      },
      "source": [
        "There are two other things you should note about this architecture:\n",
        "\n",
        "* We are ending the network with a Dense layer of size 46. This means that for each input sample, our network will output a 46-dimensional vector. Each entry in this vector (each dimension) will encode a different output class.\n",
        "* The last layer uses a softmax activation. You have already seen this pattern in the MNIST example. It means that the network will output a probability distribution over the 46 different output classes, i.e. for every input sample, the network will produce a 46-dimensional output vector where output[i] is the probability that the sample belongs to class i. The 46 scores will sum to 1.\n",
        "\n",
        "The best loss function to use in this case is categorical_crossentropy. It measures\n",
        "the distance between two probability distributions: here, between the probability distribution\n",
        "output by the network and the true distribution of the labels. By minimizing\n",
        "the distance between these two distributions, you train the network to output something\n",
        "as close as possible to the true labels."
      ]
    },
    {
      "cell_type": "code",
      "metadata": {
        "id": "89CFwybQ-rV8",
        "colab_type": "code",
        "colab": {}
      },
      "source": [
        "# Compiling the model\n",
        "model.compile(optimizer='RMSprop', loss='categorical_crossentropy', metrics=['accuracy'])"
      ],
      "execution_count": 0,
      "outputs": []
    },
    {
      "cell_type": "markdown",
      "metadata": {
        "id": "8OqKSHKSAD-C",
        "colab_type": "text"
      },
      "source": [
        "## Validating our approach"
      ]
    },
    {
      "cell_type": "markdown",
      "metadata": {
        "id": "eerd_pwoAFPs",
        "colab_type": "text"
      },
      "source": [
        "Let’s set apart 1,000 samples in the training data to use as a validation set."
      ]
    },
    {
      "cell_type": "code",
      "metadata": {
        "id": "Fai2ARAb_4gC",
        "colab_type": "code",
        "colab": {}
      },
      "source": [
        "x_val = x_train[:1000]\n",
        "partial_x_train = x_train[1000:]\n",
        "\n",
        "y_val = one_hot_train_labels[:1000]\n",
        "partial_y_train = one_hot_train_labels[1000:]"
      ],
      "execution_count": 0,
      "outputs": []
    },
    {
      "cell_type": "markdown",
      "metadata": {
        "id": "vmQn2mmC_Vjv",
        "colab_type": "text"
      },
      "source": [
        "Now let's train our network for 20 epochs:"
      ]
    },
    {
      "cell_type": "code",
      "metadata": {
        "id": "4SAMxUf2_WF-",
        "colab_type": "code",
        "colab": {
          "base_uri": "https://localhost:8080/",
          "height": 0
        },
        "outputId": "3eddb6cc-303f-49dc-d723-07ae91ce582e"
      },
      "source": [
        "history = model.fit(partial_x_train, partial_y_train, epochs=20, batch_size=512, validation_data=(x_val, y_val))"
      ],
      "execution_count": 14,
      "outputs": [
        {
          "output_type": "stream",
          "text": [
            "Train on 7982 samples, validate on 1000 samples\n",
            "Epoch 1/20\n",
            "7982/7982 [==============================] - 2s 284us/sample - loss: 2.6986 - accuracy: 0.4888 - val_loss: 1.7581 - val_accuracy: 0.6220\n",
            "Epoch 2/20\n",
            "7982/7982 [==============================] - 1s 131us/sample - loss: 1.4392 - accuracy: 0.7077 - val_loss: 1.2837 - val_accuracy: 0.7190\n",
            "Epoch 3/20\n",
            "7982/7982 [==============================] - 1s 130us/sample - loss: 1.0439 - accuracy: 0.7785 - val_loss: 1.1148 - val_accuracy: 0.7610\n",
            "Epoch 4/20\n",
            "7982/7982 [==============================] - 1s 132us/sample - loss: 0.8078 - accuracy: 0.8343 - val_loss: 0.9974 - val_accuracy: 0.7880\n",
            "Epoch 5/20\n",
            "7982/7982 [==============================] - 1s 125us/sample - loss: 0.6453 - accuracy: 0.8662 - val_loss: 0.9355 - val_accuracy: 0.8020\n",
            "Epoch 6/20\n",
            "7982/7982 [==============================] - 1s 129us/sample - loss: 0.5116 - accuracy: 0.8924 - val_loss: 0.9017 - val_accuracy: 0.8090\n",
            "Epoch 7/20\n",
            "7982/7982 [==============================] - 1s 130us/sample - loss: 0.4100 - accuracy: 0.9164 - val_loss: 0.9026 - val_accuracy: 0.8060\n",
            "Epoch 8/20\n",
            "7982/7982 [==============================] - 1s 128us/sample - loss: 0.3361 - accuracy: 0.9287 - val_loss: 0.8842 - val_accuracy: 0.8100\n",
            "Epoch 9/20\n",
            "7982/7982 [==============================] - 1s 129us/sample - loss: 0.2800 - accuracy: 0.9399 - val_loss: 0.8879 - val_accuracy: 0.8220\n",
            "Epoch 10/20\n",
            "7982/7982 [==============================] - 1s 130us/sample - loss: 0.2372 - accuracy: 0.9441 - val_loss: 0.9052 - val_accuracy: 0.8130\n",
            "Epoch 11/20\n",
            "7982/7982 [==============================] - 1s 127us/sample - loss: 0.2056 - accuracy: 0.9473 - val_loss: 0.9192 - val_accuracy: 0.8160\n",
            "Epoch 12/20\n",
            "7982/7982 [==============================] - 1s 129us/sample - loss: 0.1799 - accuracy: 0.9524 - val_loss: 0.9393 - val_accuracy: 0.8160\n",
            "Epoch 13/20\n",
            "7982/7982 [==============================] - 1s 128us/sample - loss: 0.1619 - accuracy: 0.9541 - val_loss: 0.9359 - val_accuracy: 0.8210\n",
            "Epoch 14/20\n",
            "7982/7982 [==============================] - 1s 130us/sample - loss: 0.1502 - accuracy: 0.9563 - val_loss: 1.0011 - val_accuracy: 0.8010\n",
            "Epoch 15/20\n",
            "7982/7982 [==============================] - 1s 128us/sample - loss: 0.1385 - accuracy: 0.9570 - val_loss: 0.9570 - val_accuracy: 0.8150\n",
            "Epoch 16/20\n",
            "7982/7982 [==============================] - 1s 128us/sample - loss: 0.1305 - accuracy: 0.9564 - val_loss: 0.9850 - val_accuracy: 0.8210\n",
            "Epoch 17/20\n",
            "7982/7982 [==============================] - 1s 131us/sample - loss: 0.1276 - accuracy: 0.9548 - val_loss: 1.0138 - val_accuracy: 0.8070\n",
            "Epoch 18/20\n",
            "7982/7982 [==============================] - 1s 128us/sample - loss: 0.1206 - accuracy: 0.9560 - val_loss: 1.1185 - val_accuracy: 0.7930\n",
            "Epoch 19/20\n",
            "7982/7982 [==============================] - 1s 128us/sample - loss: 0.1161 - accuracy: 0.9575 - val_loss: 1.1164 - val_accuracy: 0.7930\n",
            "Epoch 20/20\n",
            "7982/7982 [==============================] - 1s 130us/sample - loss: 0.1089 - accuracy: 0.9612 - val_loss: 1.0887 - val_accuracy: 0.7990\n"
          ],
          "name": "stdout"
        }
      ]
    },
    {
      "cell_type": "markdown",
      "metadata": {
        "id": "ld7qKq4e_1BZ",
        "colab_type": "text"
      },
      "source": [
        "And finally, let’s display its loss and accuracy curves"
      ]
    },
    {
      "cell_type": "code",
      "metadata": {
        "id": "MavfJJj5_1ma",
        "colab_type": "code",
        "colab": {
          "base_uri": "https://localhost:8080/",
          "height": 0
        },
        "outputId": "50956c77-85b6-4f19-8060-22a6ba1490c1"
      },
      "source": [
        "# Plotting the training and validation loss\n",
        "\n",
        "import matplotlib.pyplot as plt\n",
        "\n",
        "loss = history.history['loss']\n",
        "val_loss = history.history['val_loss']\n",
        "\n",
        "epochs = range(1, len(loss) + 1)\n",
        "\n",
        "plt.plot(epochs, loss, 'bo', label='Training loss')\n",
        "plt.plot(epochs, val_loss, 'b', label='Validation loss')\n",
        "plt.title('Training and validation loss')\n",
        "plt.xlabel('Epochs')\n",
        "plt.ylabel('Loss')\n",
        "plt.legend()\n",
        "\n",
        "plt.show()"
      ],
      "execution_count": 16,
      "outputs": [
        {
          "output_type": "display_data",
          "data": {
            "image/png": "[encoded data removed]",
            "text/plain": [
              "<Figure size 432x288 with 1 Axes>"
            ]
          },
          "metadata": {
            "tags": []
          }
        }
      ]
    },
    {
      "cell_type": "code",
      "metadata": {
        "id": "oqXayHRt_qKn",
        "colab_type": "code",
        "colab": {
          "base_uri": "https://localhost:8080/",
          "height": 0
        },
        "outputId": "c7511893-eef2-4628-830f-9596e9c7446a"
      },
      "source": [
        "# Plotting the training and validation accuracy\n",
        "plt.clf()  # Clears the figure\n",
        "\n",
        "acc = history.history['accuracy']\n",
        "val_acc = history.history['val_accuracy']\n",
        "\n",
        "plt.plot(epochs, acc, 'bo', label='Training acc')\n",
        "plt.plot(epochs, val_acc, 'b', label='Validation acc')\n",
        "plt.title('Training and validation accuracy')\n",
        "plt.xlabel('Epochs')\n",
        "plt.ylabel('Loss')\n",
        "plt.legend()\n",
        "\n",
        "plt.show()"
      ],
      "execution_count": 18,
      "outputs": [
        {
          "output_type": "display_data",
          "data": {
            "image/png": "[encoded data removed]",
            "text/plain": [
              "<Figure size 432x288 with 1 Axes>"
            ]
          },
          "metadata": {
            "tags": []
          }
        }
      ]
    },
    {
      "cell_type": "markdown",
      "metadata": {
        "id": "_5rdMLUmCKHs",
        "colab_type": "text"
      },
      "source": [
        "It seems that the network starts overfitting after 8 epochs. Let's train a new network from scratch for 8 epochs, then let's evaluate it on the test set:"
      ]
    },
    {
      "cell_type": "code",
      "metadata": {
        "id": "0DpW4kjOB1JD",
        "colab_type": "code",
        "colab": {
          "base_uri": "https://localhost:8080/",
          "height": 0
        },
        "outputId": "db92c915-458a-4e2b-99ec-f66cdc68d3f4"
      },
      "source": [
        "# Retraining a model from scratch\n",
        "model_1 = Sequential()\n",
        "model_1.add(Dense(64, activation='relu', input_shape=(10000,)))\n",
        "model_1.add(Dense(64, activation='relu'))\n",
        "model_1.add(Dense(46, activation='softmax'))\n",
        "\n",
        "# compile the model\n",
        "model_1.compile(optimizer='RMSprop', loss='categorical_crossentropy', metrics=['accuracy'])\n",
        "\n",
        "# train the model\n",
        "model_1.fit(partial_x_train, partial_y_train, epochs=9, batch_size=512, validation_data=(x_val, y_val))\n",
        "\n",
        "# evaluate the model\n",
        "results = model_1.evaluate(x_test, one_hot_test_labels, verbose=0)"
      ],
      "execution_count": 21,
      "outputs": [
        {
          "output_type": "stream",
          "text": [
            "Train on 7982 samples, validate on 1000 samples\n",
            "Epoch 1/9\n",
            "7982/7982 [==============================] - 2s 197us/sample - loss: 2.5913 - accuracy: 0.5144 - val_loss: 1.7553 - val_accuracy: 0.6570\n",
            "Epoch 2/9\n",
            "7982/7982 [==============================] - 1s 132us/sample - loss: 1.4200 - accuracy: 0.7093 - val_loss: 1.3143 - val_accuracy: 0.7220\n",
            "Epoch 3/9\n",
            "7982/7982 [==============================] - 1s 129us/sample - loss: 1.0481 - accuracy: 0.7770 - val_loss: 1.1177 - val_accuracy: 0.7530\n",
            "Epoch 4/9\n",
            "7982/7982 [==============================] - 1s 133us/sample - loss: 0.8160 - accuracy: 0.8286 - val_loss: 1.0176 - val_accuracy: 0.7890\n",
            "Epoch 5/9\n",
            "7982/7982 [==============================] - 1s 131us/sample - loss: 0.6483 - accuracy: 0.8648 - val_loss: 0.9736 - val_accuracy: 0.7990\n",
            "Epoch 6/9\n",
            "7982/7982 [==============================] - 1s 133us/sample - loss: 0.5150 - accuracy: 0.8925 - val_loss: 0.9216 - val_accuracy: 0.8100\n",
            "Epoch 7/9\n",
            "7982/7982 [==============================] - 1s 134us/sample - loss: 0.4151 - accuracy: 0.9158 - val_loss: 0.8778 - val_accuracy: 0.8140\n",
            "Epoch 8/9\n",
            "7982/7982 [==============================] - 1s 132us/sample - loss: 0.3360 - accuracy: 0.9286 - val_loss: 0.8877 - val_accuracy: 0.8130\n",
            "Epoch 9/9\n",
            "7982/7982 [==============================] - 1s 131us/sample - loss: 0.2754 - accuracy: 0.9402 - val_loss: 0.8933 - val_accuracy: 0.8130\n"
          ],
          "name": "stdout"
        }
      ]
    },
    {
      "cell_type": "code",
      "metadata": {
        "id": "j41L9id2CoSf",
        "colab_type": "code",
        "colab": {
          "base_uri": "https://localhost:8080/",
          "height": 0
        },
        "outputId": "053cd925-7d29-418e-eb72-658036bd47fe"
      },
      "source": [
        "# Here are the final results:\n",
        "results"
      ],
      "execution_count": 22,
      "outputs": [
        {
          "output_type": "execute_result",
          "data": {
            "text/plain": [
              "[0.9913695648325838, 0.7885129]"
            ]
          },
          "metadata": {
            "tags": []
          },
          "execution_count": 22
        }
      ]
    },
    {
      "cell_type": "markdown",
      "metadata": {
        "id": "APbx0EcMELDL",
        "colab_type": "text"
      },
      "source": [
        "Our approach reaches an accuracy of ~79%. With a balanced binary classification problem, the accuracy reached by a purely random classifier would be 50%, but in our case it is closer to 19%, so our results seem pretty good, at least when compared to a random baseline:"
      ]
    },
    {
      "cell_type": "code",
      "metadata": {
        "id": "JdWgjIQID5MP",
        "colab_type": "code",
        "colab": {
          "base_uri": "https://localhost:8080/",
          "height": 0
        },
        "outputId": "236b6313-6367-45f3-e571-76b46bbdde20"
      },
      "source": [
        "import copy\n",
        "\n",
        "test_labels_copy = copy.copy(test_labels)\n",
        "np.random.shuffle(test_labels_copy)\n",
        "float(np.sum(np.array(test_labels) == np.array(test_labels_copy))) / len(test_labels)"
      ],
      "execution_count": 23,
      "outputs": [
        {
          "output_type": "execute_result",
          "data": {
            "text/plain": [
              "0.18833481745325023"
            ]
          },
          "metadata": {
            "tags": []
          },
          "execution_count": 23
        }
      ]
    },
    {
      "cell_type": "markdown",
      "metadata": {
        "id": "2V2dtcsvFAJW",
        "colab_type": "text"
      },
      "source": [
        "## Generating predictions on new data"
      ]
    },
    {
      "cell_type": "markdown",
      "metadata": {
        "id": "uQdxsMX-FA0P",
        "colab_type": "text"
      },
      "source": [
        "You can verify that the predict method of the model instance returns a probability\n",
        "distribution over all 46 topics. \n",
        "\n",
        "Let’s generate topic predictions for all of the test data."
      ]
    },
    {
      "cell_type": "code",
      "metadata": {
        "id": "rXkHY9tiErz0",
        "colab_type": "code",
        "colab": {}
      },
      "source": [
        "predictions = model_1.predict(x_test)"
      ],
      "execution_count": 0,
      "outputs": []
    },
    {
      "cell_type": "markdown",
      "metadata": {
        "id": "-eYZCDiKFSOo",
        "colab_type": "text"
      },
      "source": [
        "Each entry in predictions is a vector of length 46:"
      ]
    },
    {
      "cell_type": "code",
      "metadata": {
        "id": "5qAAWENKFRki",
        "colab_type": "code",
        "colab": {
          "base_uri": "https://localhost:8080/",
          "height": 0
        },
        "outputId": "96eaa0bc-83c3-44f1-c24c-edd1eeadc9ce"
      },
      "source": [
        "predictions"
      ],
      "execution_count": 25,
      "outputs": [
        {
          "output_type": "execute_result",
          "data": {
            "text/plain": [
              "array([[1.1156764e-05, 9.5084615e-05, 1.5400976e-05, ..., 1.1598611e-05,\n",
              "        4.3780274e-06, 1.6140214e-06],\n",
              "       [1.3424801e-04, 2.2391187e-02, 1.6259550e-03, ..., 6.8566718e-05,\n",
              "        6.3503899e-07, 3.7239829e-06],\n",
              "       [6.7562973e-03, 5.5681020e-01, 6.7945924e-03, ..., 8.5651409e-04,\n",
              "        4.6754585e-04, 1.5339967e-02],\n",
              "       ...,\n",
              "       [7.6752658e-05, 5.4826273e-04, 9.4287534e-05, ..., 6.9928632e-05,\n",
              "        4.9822218e-05, 9.8325972e-06],\n",
              "       [6.6498556e-04, 1.8002285e-02, 9.9272253e-03, ..., 6.9013203e-04,\n",
              "        4.5092046e-04, 3.9416080e-04],\n",
              "       [9.1718584e-03, 4.9222201e-01, 2.4617186e-02, ..., 7.1959675e-04,\n",
              "        1.5530243e-04, 2.9840968e-03]], dtype=float32)"
            ]
          },
          "metadata": {
            "tags": []
          },
          "execution_count": 25
        }
      ]
    },
    {
      "cell_type": "code",
      "metadata": {
        "id": "DKNoXEO1FbK1",
        "colab_type": "code",
        "colab": {
          "base_uri": "https://localhost:8080/",
          "height": 0
        },
        "outputId": "748036c3-5768-42cf-852e-554de7560bb6"
      },
      "source": [
        "predictions[0].shape"
      ],
      "execution_count": 26,
      "outputs": [
        {
          "output_type": "execute_result",
          "data": {
            "text/plain": [
              "(46,)"
            ]
          },
          "metadata": {
            "tags": []
          },
          "execution_count": 26
        }
      ]
    },
    {
      "cell_type": "markdown",
      "metadata": {
        "id": "X8zFPVdlFjs1",
        "colab_type": "text"
      },
      "source": [
        "The coefficients in this vector sum to 1:"
      ]
    },
    {
      "cell_type": "code",
      "metadata": {
        "id": "2gnVVutuFePM",
        "colab_type": "code",
        "colab": {
          "base_uri": "https://localhost:8080/",
          "height": 0
        },
        "outputId": "580a5f66-f363-4e00-8502-73db2478ea4e"
      },
      "source": [
        "np.sum(predictions[0])"
      ],
      "execution_count": 27,
      "outputs": [
        {
          "output_type": "execute_result",
          "data": {
            "text/plain": [
              "1.0000001"
            ]
          },
          "metadata": {
            "tags": []
          },
          "execution_count": 27
        }
      ]
    },
    {
      "cell_type": "markdown",
      "metadata": {
        "id": "PnYZrM5nFsnX",
        "colab_type": "text"
      },
      "source": [
        "The largest entry is the predicted class—the class with the highest probability:"
      ]
    },
    {
      "cell_type": "code",
      "metadata": {
        "id": "-DcPo8dpFn5h",
        "colab_type": "code",
        "colab": {
          "base_uri": "https://localhost:8080/",
          "height": 0
        },
        "outputId": "44b43ae2-8391-4fa3-bdb9-8de92fefd41e"
      },
      "source": [
        "np.argmax(predictions[0])"
      ],
      "execution_count": 28,
      "outputs": [
        {
          "output_type": "execute_result",
          "data": {
            "text/plain": [
              "3"
            ]
          },
          "metadata": {
            "tags": []
          },
          "execution_count": 28
        }
      ]
    },
    {
      "cell_type": "markdown",
      "metadata": {
        "id": "pmIAzf-zGCZe",
        "colab_type": "text"
      },
      "source": [
        "The lowest entry is the predicted class—the class with the lowest probability:"
      ]
    },
    {
      "cell_type": "code",
      "metadata": {
        "id": "2wOJI83nFwec",
        "colab_type": "code",
        "colab": {
          "base_uri": "https://localhost:8080/",
          "height": 0
        },
        "outputId": "6d24681b-4234-4bcd-f294-d66394658a76"
      },
      "source": [
        "np.argmin(predictions[0])"
      ],
      "execution_count": 29,
      "outputs": [
        {
          "output_type": "execute_result",
          "data": {
            "text/plain": [
              "22"
            ]
          },
          "metadata": {
            "tags": []
          },
          "execution_count": 29
        }
      ]
    },
    {
      "cell_type": "markdown",
      "metadata": {
        "id": "ggI00IHlGzWv",
        "colab_type": "text"
      },
      "source": [
        "## A different way to handle the labels and the loss"
      ]
    },
    {
      "cell_type": "markdown",
      "metadata": {
        "id": "JqX9svq4G0Pv",
        "colab_type": "text"
      },
      "source": [
        "Another way to encode the labels would be to cast them as\n",
        "an integer tensor, like this:"
      ]
    },
    {
      "cell_type": "code",
      "metadata": {
        "id": "hh729RyWF80I",
        "colab_type": "code",
        "colab": {}
      },
      "source": [
        "y_train = np.array(train_labels)\n",
        "y_test = np.array(test_labels)"
      ],
      "execution_count": 0,
      "outputs": []
    },
    {
      "cell_type": "markdown",
      "metadata": {
        "id": "d-gZRk-OHZn5",
        "colab_type": "text"
      },
      "source": [
        "The only thing it would change is the choice of the loss function. Our previous loss, **categorical_crossentropy**, expects the labels to follow a categorical encoding. With integer labels, we should use **sparse_categorical_crossentropy**:"
      ]
    },
    {
      "cell_type": "code",
      "metadata": {
        "id": "lqv7soP0HkkR",
        "colab_type": "code",
        "colab": {}
      },
      "source": [
        "model_1.compile(optimizer='RMSprop', loss='sparse_categorical_crossentropy', metrics=['accuracy'])"
      ],
      "execution_count": 0,
      "outputs": []
    },
    {
      "cell_type": "markdown",
      "metadata": {
        "id": "E9259zvfH7oi",
        "colab_type": "text"
      },
      "source": [
        "This new loss function is still mathematically the same as categorical_crossentropy;\n",
        "it just has a different interface."
      ]
    },
    {
      "cell_type": "markdown",
      "metadata": {
        "id": "BtJ4Y13xIFjP",
        "colab_type": "text"
      },
      "source": [
        "## The importance of having sufficiently large intermediate layers"
      ]
    },
    {
      "cell_type": "markdown",
      "metadata": {
        "id": "H4r8KGpeIZbC",
        "colab_type": "text"
      },
      "source": [
        "Because the final outputs are 46-dimensional, you should\n",
        "avoid intermediate layers with many fewer than 46 hidden units. \n",
        "\n",
        "Now let’s see what happens when you introduce an information bottleneck by having intermediate layers that are significantly less than 46-dimensional: for example, 4-dimensional."
      ]
    },
    {
      "cell_type": "code",
      "metadata": {
        "id": "wMfZNlOHJK9s",
        "colab_type": "code",
        "colab": {
          "base_uri": "https://localhost:8080/",
          "height": 746
        },
        "outputId": "8e7acb28-10bf-4f4d-92df-0451543f9593"
      },
      "source": [
        "model_2 = Sequential()\n",
        "model_2.add(Dense(64, activation='relu', input_shape=(10000, )))\n",
        "model_2.add(Dense(4, activation='relu'))\n",
        "model_2.add(Dense(46, activation='softmax'))\n",
        "\n",
        "# compile the model\n",
        "model_2.compile(optimizer='RMSprop', loss='categorical_crossentropy', metrics=['accuracy'])\n",
        "\n",
        "# train the model\n",
        "history_2 = model_2.fit(partial_x_train, partial_y_train, epochs=20, batch_size=128, validation_data=(x_val, y_val))\n",
        "\n",
        "# evaluate the model\n",
        "results_2 = model_2.evaluate(x_test, one_hot_test_labels, verbose=0)"
      ],
      "execution_count": 34,
      "outputs": [
        {
          "output_type": "stream",
          "text": [
            "Train on 7982 samples, validate on 1000 samples\n",
            "Epoch 1/20\n",
            "7982/7982 [==============================] - 2s 286us/sample - loss: 2.9635 - accuracy: 0.2803 - val_loss: 2.1880 - val_accuracy: 0.6040\n",
            "Epoch 2/20\n",
            "7982/7982 [==============================] - 2s 188us/sample - loss: 1.7422 - accuracy: 0.6185 - val_loss: 1.5530 - val_accuracy: 0.6150\n",
            "Epoch 3/20\n",
            "7982/7982 [==============================] - 1s 184us/sample - loss: 1.3815 - accuracy: 0.6352 - val_loss: 1.4319 - val_accuracy: 0.6200\n",
            "Epoch 4/20\n",
            "7982/7982 [==============================] - 1s 187us/sample - loss: 1.2394 - accuracy: 0.6710 - val_loss: 1.4125 - val_accuracy: 0.6540\n",
            "Epoch 5/20\n",
            "7982/7982 [==============================] - 1s 186us/sample - loss: 1.1448 - accuracy: 0.7028 - val_loss: 1.3659 - val_accuracy: 0.6620\n",
            "Epoch 6/20\n",
            "7982/7982 [==============================] - 1s 185us/sample - loss: 1.0698 - accuracy: 0.7146 - val_loss: 1.3911 - val_accuracy: 0.6660\n",
            "Epoch 7/20\n",
            "7982/7982 [==============================] - 2s 191us/sample - loss: 1.0111 - accuracy: 0.7251 - val_loss: 1.4014 - val_accuracy: 0.6620\n",
            "Epoch 8/20\n",
            "7982/7982 [==============================] - 1s 186us/sample - loss: 0.9557 - accuracy: 0.7404 - val_loss: 1.4251 - val_accuracy: 0.6690\n",
            "Epoch 9/20\n",
            "7982/7982 [==============================] - 1s 183us/sample - loss: 0.9091 - accuracy: 0.7533 - val_loss: 1.4395 - val_accuracy: 0.6800\n",
            "Epoch 10/20\n",
            "7982/7982 [==============================] - 1s 188us/sample - loss: 0.8653 - accuracy: 0.7616 - val_loss: 1.5026 - val_accuracy: 0.6800\n",
            "Epoch 11/20\n",
            "7982/7982 [==============================] - 1s 187us/sample - loss: 0.8247 - accuracy: 0.7765 - val_loss: 1.4993 - val_accuracy: 0.6820\n",
            "Epoch 12/20\n",
            "7982/7982 [==============================] - 2s 190us/sample - loss: 0.7913 - accuracy: 0.7850 - val_loss: 1.5531 - val_accuracy: 0.6820\n",
            "Epoch 13/20\n",
            "7982/7982 [==============================] - 1s 187us/sample - loss: 0.7607 - accuracy: 0.7892 - val_loss: 1.5718 - val_accuracy: 0.6810\n",
            "Epoch 14/20\n",
            "7982/7982 [==============================] - 2s 191us/sample - loss: 0.7333 - accuracy: 0.7917 - val_loss: 1.6625 - val_accuracy: 0.6780\n",
            "Epoch 15/20\n",
            "7982/7982 [==============================] - 2s 190us/sample - loss: 0.7056 - accuracy: 0.7954 - val_loss: 1.7055 - val_accuracy: 0.6800\n",
            "Epoch 16/20\n",
            "7982/7982 [==============================] - 1s 187us/sample - loss: 0.6835 - accuracy: 0.7959 - val_loss: 1.7571 - val_accuracy: 0.6840\n",
            "Epoch 17/20\n",
            "7982/7982 [==============================] - 1s 183us/sample - loss: 0.6638 - accuracy: 0.8017 - val_loss: 1.7700 - val_accuracy: 0.6770\n",
            "Epoch 18/20\n",
            "7982/7982 [==============================] - 1s 188us/sample - loss: 0.6449 - accuracy: 0.8059 - val_loss: 1.8086 - val_accuracy: 0.6770\n",
            "Epoch 19/20\n",
            "7982/7982 [==============================] - 2s 189us/sample - loss: 0.6281 - accuracy: 0.8088 - val_loss: 1.9114 - val_accuracy: 0.6770\n",
            "Epoch 20/20\n",
            "7982/7982 [==============================] - 1s 185us/sample - loss: 0.6116 - accuracy: 0.8098 - val_loss: 1.9273 - val_accuracy: 0.6740\n"
          ],
          "name": "stdout"
        }
      ]
    },
    {
      "cell_type": "code",
      "metadata": {
        "id": "zT4B2ed_KBMd",
        "colab_type": "code",
        "colab": {
          "base_uri": "https://localhost:8080/",
          "height": 35
        },
        "outputId": "968ed8ed-a9be-417a-f26c-0db2af3c4df3"
      },
      "source": [
        "results_2"
      ],
      "execution_count": 37,
      "outputs": [
        {
          "output_type": "execute_result",
          "data": {
            "text/plain": [
              "[2.3715223660982834, 0.6500445]"
            ]
          },
          "metadata": {
            "tags": []
          },
          "execution_count": 37
        }
      ]
    },
    {
      "cell_type": "code",
      "metadata": {
        "id": "f-OsUBRYKR1N",
        "colab_type": "code",
        "colab": {
          "base_uri": "https://localhost:8080/",
          "height": 295
        },
        "outputId": "ba49f3ab-34d6-4538-ba5b-cd147975fc0c"
      },
      "source": [
        "# Plotting the training and validation loss\n",
        "loss = history_2.history['loss']\n",
        "val_loss = history_2.history['val_loss']\n",
        "\n",
        "epochs = range(1, len(loss) + 1)\n",
        "\n",
        "plt.plot(epochs, loss, 'bo', label='Training loss')\n",
        "plt.plot(epochs, val_loss, 'b', label='Validation loss')\n",
        "plt.title('Training and validation loss')\n",
        "plt.xlabel('Epochs')\n",
        "plt.ylabel('Loss')\n",
        "plt.legend()\n",
        "\n",
        "plt.show()"
      ],
      "execution_count": 35,
      "outputs": [
        {
          "output_type": "display_data",
          "data": {
            "image/png": "[encoded data removed]",
            "text/plain": [
              "<Figure size 432x288 with 1 Axes>"
            ]
          },
          "metadata": {
            "tags": []
          }
        }
      ]
    },
    {
      "cell_type": "code",
      "metadata": {
        "id": "vu6mQj_xKu_W",
        "colab_type": "code",
        "colab": {
          "base_uri": "https://localhost:8080/",
          "height": 295
        },
        "outputId": "9828706d-d03e-4fa2-f3f7-8cae12e0ef49"
      },
      "source": [
        "# Plotting the training and validation accuracy\n",
        "plt.clf()  # Clears the figure\n",
        "\n",
        "acc = history_2.history['accuracy']\n",
        "val_acc = history_2.history['val_accuracy']\n",
        "\n",
        "plt.plot(epochs, acc, 'bo', label='Training acc')\n",
        "plt.plot(epochs, val_acc, 'b', label='Validation acc')\n",
        "plt.title('Training and validation accuracy')\n",
        "plt.xlabel('Epochs')\n",
        "plt.ylabel('Loss')\n",
        "plt.legend()\n",
        "\n",
        "plt.show()"
      ],
      "execution_count": 36,
      "outputs": [
        {
          "output_type": "display_data",
          "data": {
            "image/png": "[encoded data removed]",
            "text/plain": [
              "<Figure size 432x288 with 1 Axes>"
            ]
          },
          "metadata": {
            "tags": []
          }
        }
      ]
    },
    {
      "cell_type": "markdown",
      "metadata": {
        "id": "LztZCG_vLQ1Z",
        "colab_type": "text"
      },
      "source": [
        "The network now peaks at ~71% validation accuracy, an 8% absolute drop. This drop\n",
        "is mostly due to the fact that you’re trying to compress a lot of information (enough\n",
        "information to recover the separation hyperplanes of 46 classes) into an intermediate\n",
        "space that is too low-dimensional. The network is able to cram most of the necessary\n",
        "information into these eight-dimensional representations, but not all of it."
      ]
    },
    {
      "cell_type": "markdown",
      "metadata": {
        "id": "h2Ilc-3QLp96",
        "colab_type": "text"
      },
      "source": [
        "## Further experiments"
      ]
    },
    {
      "cell_type": "markdown",
      "metadata": {
        "id": "rTEvdUptLrLZ",
        "colab_type": "text"
      },
      "source": [
        "* Step-1: Try using larger or smaller layers: 32 units, 128 units, and so on.\n",
        "* Step-2: You used two hidden layers. Now try using a single hidden layer, or three hidden layers."
      ]
    },
    {
      "cell_type": "markdown",
      "metadata": {
        "id": "M5bKaXw6L_Xf",
        "colab_type": "text"
      },
      "source": [
        "### Step-1: Try using larger or smaller layers: 32 units"
      ]
    },
    {
      "cell_type": "code",
      "metadata": {
        "id": "dIfMyXknK8lx",
        "colab_type": "code",
        "colab": {
          "base_uri": "https://localhost:8080/",
          "height": 0
        },
        "outputId": "5daaa164-6b1e-4877-8db4-e1a01e6636de"
      },
      "source": [
        "model_3 = Sequential()\n",
        "model_3.add(Dense(32, activation='relu', input_shape=(10000, )))\n",
        "model_3.add(Dense(32, activation='relu'))\n",
        "model_3.add(Dense(46, activation='softmax'))\n",
        "\n",
        "# compile the model\n",
        "model_3.compile(optimizer='RMSprop', loss='categorical_crossentropy', metrics=['accuracy'])\n",
        "\n",
        "# train the model\n",
        "history_3 = model_3.fit(partial_x_train, partial_y_train, epochs=20, batch_size=128, validation_data=(x_val, y_val))\n",
        "\n",
        "# evaluate the model\n",
        "results_3 = model_3.evaluate(x_test, one_hot_test_labels, verbose=0)"
      ],
      "execution_count": 38,
      "outputs": [
        {
          "output_type": "stream",
          "text": [
            "Train on 7982 samples, validate on 1000 samples\n",
            "Epoch 1/20\n",
            "7982/7982 [==============================] - 2s 211us/sample - loss: 2.2507 - accuracy: 0.5417 - val_loss: 1.4784 - val_accuracy: 0.6600\n",
            "Epoch 2/20\n",
            "7982/7982 [==============================] - 1s 129us/sample - loss: 1.2174 - accuracy: 0.7321 - val_loss: 1.1621 - val_accuracy: 0.7590\n",
            "Epoch 3/20\n",
            "7982/7982 [==============================] - 1s 126us/sample - loss: 0.9036 - accuracy: 0.8051 - val_loss: 1.0289 - val_accuracy: 0.7770\n",
            "Epoch 4/20\n",
            "7982/7982 [==============================] - 1s 130us/sample - loss: 0.6960 - accuracy: 0.8449 - val_loss: 0.9599 - val_accuracy: 0.8070\n",
            "Epoch 5/20\n",
            "7982/7982 [==============================] - 1s 127us/sample - loss: 0.5398 - accuracy: 0.8805 - val_loss: 0.9056 - val_accuracy: 0.8100\n",
            "Epoch 6/20\n",
            "7982/7982 [==============================] - 1s 126us/sample - loss: 0.4221 - accuracy: 0.9107 - val_loss: 0.9222 - val_accuracy: 0.8060\n",
            "Epoch 7/20\n",
            "7982/7982 [==============================] - 1s 127us/sample - loss: 0.3377 - accuracy: 0.9301 - val_loss: 0.8929 - val_accuracy: 0.8260\n",
            "Epoch 8/20\n",
            "7982/7982 [==============================] - 1s 126us/sample - loss: 0.2766 - accuracy: 0.9385 - val_loss: 0.9616 - val_accuracy: 0.8140\n",
            "Epoch 9/20\n",
            "7982/7982 [==============================] - 1s 127us/sample - loss: 0.2293 - accuracy: 0.9459 - val_loss: 0.9555 - val_accuracy: 0.8200\n",
            "Epoch 10/20\n",
            "7982/7982 [==============================] - 1s 125us/sample - loss: 0.1999 - accuracy: 0.9496 - val_loss: 0.9778 - val_accuracy: 0.8210\n",
            "Epoch 11/20\n",
            "7982/7982 [==============================] - 1s 128us/sample - loss: 0.1782 - accuracy: 0.9526 - val_loss: 1.0604 - val_accuracy: 0.7990\n",
            "Epoch 12/20\n",
            "7982/7982 [==============================] - 1s 126us/sample - loss: 0.1597 - accuracy: 0.9534 - val_loss: 1.0252 - val_accuracy: 0.8100\n",
            "Epoch 13/20\n",
            "7982/7982 [==============================] - 1s 127us/sample - loss: 0.1518 - accuracy: 0.9553 - val_loss: 1.1250 - val_accuracy: 0.8060\n",
            "Epoch 14/20\n",
            "7982/7982 [==============================] - 1s 129us/sample - loss: 0.1423 - accuracy: 0.9550 - val_loss: 1.0976 - val_accuracy: 0.8090\n",
            "Epoch 15/20\n",
            "7982/7982 [==============================] - 1s 125us/sample - loss: 0.1380 - accuracy: 0.9554 - val_loss: 1.1616 - val_accuracy: 0.7980\n",
            "Epoch 16/20\n",
            "7982/7982 [==============================] - 1s 126us/sample - loss: 0.1265 - accuracy: 0.9569 - val_loss: 1.1257 - val_accuracy: 0.8040\n",
            "Epoch 17/20\n",
            "7982/7982 [==============================] - 1s 127us/sample - loss: 0.1239 - accuracy: 0.9558 - val_loss: 1.1516 - val_accuracy: 0.8120\n",
            "Epoch 18/20\n",
            "7982/7982 [==============================] - 1s 126us/sample - loss: 0.1204 - accuracy: 0.9573 - val_loss: 1.2274 - val_accuracy: 0.8000\n",
            "Epoch 19/20\n",
            "7982/7982 [==============================] - 1s 127us/sample - loss: 0.1146 - accuracy: 0.9568 - val_loss: 1.3238 - val_accuracy: 0.7790\n",
            "Epoch 20/20\n",
            "7982/7982 [==============================] - 1s 126us/sample - loss: 0.1130 - accuracy: 0.9572 - val_loss: 1.2669 - val_accuracy: 0.7910\n"
          ],
          "name": "stdout"
        }
      ]
    },
    {
      "cell_type": "code",
      "metadata": {
        "id": "lBx6yuLAMSNF",
        "colab_type": "code",
        "colab": {
          "base_uri": "https://localhost:8080/",
          "height": 0
        },
        "outputId": "12c45e4c-6fe0-4013-ad85-b2ebeab978a6"
      },
      "source": [
        "results_3"
      ],
      "execution_count": 39,
      "outputs": [
        {
          "output_type": "execute_result",
          "data": {
            "text/plain": [
              "[1.445103563374955, 0.77025825]"
            ]
          },
          "metadata": {
            "tags": []
          },
          "execution_count": 39
        }
      ]
    },
    {
      "cell_type": "code",
      "metadata": {
        "id": "ATfyQ-xpMShP",
        "colab_type": "code",
        "colab": {
          "base_uri": "https://localhost:8080/",
          "height": 0
        },
        "outputId": "105ca91a-450a-433f-b77b-801dfcf82720"
      },
      "source": [
        "# Plotting the training and validation loss\n",
        "loss = history_3.history['loss']\n",
        "val_loss = history_3.history['val_loss']\n",
        "\n",
        "epochs = range(1, len(loss) + 1)\n",
        "\n",
        "plt.plot(epochs, loss, 'bo', label='Training loss')\n",
        "plt.plot(epochs, val_loss, 'b', label='Validation loss')\n",
        "plt.title('Training and validation loss')\n",
        "plt.xlabel('Epochs')\n",
        "plt.ylabel('Loss')\n",
        "plt.legend()\n",
        "\n",
        "plt.show()"
      ],
      "execution_count": 40,
      "outputs": [
        {
          "output_type": "display_data",
          "data": {
            "image/png": "[encoded data removed]",
            "text/plain": [
              "<Figure size 432x288 with 1 Axes>"
            ]
          },
          "metadata": {
            "tags": []
          }
        }
      ]
    },
    {
      "cell_type": "code",
      "metadata": {
        "id": "RsHiMzYHMZ2u",
        "colab_type": "code",
        "colab": {
          "base_uri": "https://localhost:8080/",
          "height": 0
        },
        "outputId": "9f9cd767-1597-4f44-ab0f-021c40d532fa"
      },
      "source": [
        "# Plotting the training and validation accuracy\n",
        "plt.clf()  # Clears the figure\n",
        "\n",
        "acc = history_3.history['accuracy']\n",
        "val_acc = history_3.history['val_accuracy']\n",
        "\n",
        "plt.plot(epochs, acc, 'bo', label='Training acc')\n",
        "plt.plot(epochs, val_acc, 'b', label='Validation acc')\n",
        "plt.title('Training and validation accuracy')\n",
        "plt.xlabel('Epochs')\n",
        "plt.ylabel('Loss')\n",
        "plt.legend()\n",
        "\n",
        "plt.show()"
      ],
      "execution_count": 41,
      "outputs": [
        {
          "output_type": "display_data",
          "data": {
            "image/png": "[encoded data removed]",
            "text/plain": [
              "<Figure size 432x288 with 1 Axes>"
            ]
          },
          "metadata": {
            "tags": []
          }
        }
      ]
    },
    {
      "cell_type": "markdown",
      "metadata": {
        "id": "AFETGCRDMkiP",
        "colab_type": "text"
      },
      "source": [
        "### Step-1: Try using larger or smaller layers: 128 units"
      ]
    },
    {
      "cell_type": "code",
      "metadata": {
        "id": "QJ9d8WthMf25",
        "colab_type": "code",
        "colab": {
          "base_uri": "https://localhost:8080/",
          "height": 0
        },
        "outputId": "3e07eedb-fbd0-4467-c898-bd9b4d50dbb1"
      },
      "source": [
        "model_4 = Sequential()\n",
        "model_4.add(Dense(128, activation='relu', input_shape=(10000, )))\n",
        "model_4.add(Dense(128, activation='relu'))\n",
        "model_4.add(Dense(46, activation='softmax'))\n",
        "\n",
        "# compile the model\n",
        "model_4.compile(optimizer='RMSprop', loss='categorical_crossentropy', metrics=['accuracy'])\n",
        "\n",
        "# train the model\n",
        "history_4 = model_4.fit(partial_x_train, partial_y_train, epochs=20, batch_size=128, validation_data=(x_val, y_val))\n",
        "\n",
        "# evaluate the model\n",
        "results_4 = model_4.evaluate(x_test, one_hot_test_labels, verbose=0)"
      ],
      "execution_count": 42,
      "outputs": [
        {
          "output_type": "stream",
          "text": [
            "Train on 7982 samples, validate on 1000 samples\n",
            "Epoch 1/20\n",
            "7982/7982 [==============================] - 3s 327us/sample - loss: 1.5603 - accuracy: 0.6678 - val_loss: 1.0779 - val_accuracy: 0.7610\n",
            "Epoch 2/20\n",
            "7982/7982 [==============================] - 2s 244us/sample - loss: 0.7699 - accuracy: 0.8267 - val_loss: 0.9164 - val_accuracy: 0.8180\n",
            "Epoch 3/20\n",
            "7982/7982 [==============================] - 2s 245us/sample - loss: 0.4564 - accuracy: 0.9017 - val_loss: 0.9114 - val_accuracy: 0.7970\n",
            "Epoch 4/20\n",
            "7982/7982 [==============================] - 2s 244us/sample - loss: 0.2983 - accuracy: 0.9337 - val_loss: 0.9142 - val_accuracy: 0.8070\n",
            "Epoch 5/20\n",
            "7982/7982 [==============================] - 2s 242us/sample - loss: 0.2268 - accuracy: 0.9450 - val_loss: 0.9226 - val_accuracy: 0.8210\n",
            "Epoch 6/20\n",
            "7982/7982 [==============================] - 2s 242us/sample - loss: 0.1917 - accuracy: 0.9501 - val_loss: 0.9528 - val_accuracy: 0.8110\n",
            "Epoch 7/20\n",
            "7982/7982 [==============================] - 2s 243us/sample - loss: 0.1689 - accuracy: 0.9523 - val_loss: 1.0001 - val_accuracy: 0.8070\n",
            "Epoch 8/20\n",
            "7982/7982 [==============================] - 3s 341us/sample - loss: 0.1506 - accuracy: 0.9526 - val_loss: 1.0097 - val_accuracy: 0.8110\n",
            "Epoch 9/20\n",
            "7982/7982 [==============================] - 2s 251us/sample - loss: 0.1384 - accuracy: 0.9551 - val_loss: 1.0605 - val_accuracy: 0.8010\n",
            "Epoch 10/20\n",
            "7982/7982 [==============================] - 2s 243us/sample - loss: 0.1296 - accuracy: 0.9574 - val_loss: 1.1228 - val_accuracy: 0.8000\n",
            "Epoch 11/20\n",
            "7982/7982 [==============================] - 2s 240us/sample - loss: 0.1214 - accuracy: 0.9573 - val_loss: 1.1456 - val_accuracy: 0.8120\n",
            "Epoch 12/20\n",
            "7982/7982 [==============================] - 2s 240us/sample - loss: 0.1127 - accuracy: 0.9560 - val_loss: 1.1899 - val_accuracy: 0.8030\n",
            "Epoch 13/20\n",
            "7982/7982 [==============================] - 2s 244us/sample - loss: 0.1082 - accuracy: 0.9550 - val_loss: 1.1839 - val_accuracy: 0.7940\n",
            "Epoch 14/20\n",
            "7982/7982 [==============================] - 2s 243us/sample - loss: 0.1037 - accuracy: 0.9550 - val_loss: 1.2496 - val_accuracy: 0.8060\n",
            "Epoch 15/20\n",
            "7982/7982 [==============================] - 2s 239us/sample - loss: 0.0972 - accuracy: 0.9567 - val_loss: 1.3362 - val_accuracy: 0.7940\n",
            "Epoch 16/20\n",
            "7982/7982 [==============================] - 2s 243us/sample - loss: 0.0956 - accuracy: 0.9544 - val_loss: 1.3993 - val_accuracy: 0.8020\n",
            "Epoch 17/20\n",
            "7982/7982 [==============================] - 2s 241us/sample - loss: 0.0895 - accuracy: 0.9599 - val_loss: 1.5224 - val_accuracy: 0.7970\n",
            "Epoch 18/20\n",
            "7982/7982 [==============================] - 2s 240us/sample - loss: 0.0874 - accuracy: 0.9568 - val_loss: 1.5388 - val_accuracy: 0.7970\n",
            "Epoch 19/20\n",
            "7982/7982 [==============================] - 2s 244us/sample - loss: 0.0850 - accuracy: 0.9582 - val_loss: 1.7048 - val_accuracy: 0.7920\n",
            "Epoch 20/20\n",
            "7982/7982 [==============================] - 2s 242us/sample - loss: 0.0811 - accuracy: 0.9599 - val_loss: 1.7443 - val_accuracy: 0.7960\n"
          ],
          "name": "stdout"
        }
      ]
    },
    {
      "cell_type": "code",
      "metadata": {
        "id": "E_HtQy8DMt49",
        "colab_type": "code",
        "colab": {
          "base_uri": "https://localhost:8080/",
          "height": 0
        },
        "outputId": "247b36bd-c2b0-4c70-c50f-0f92252e1bd2"
      },
      "source": [
        "results_4"
      ],
      "execution_count": 43,
      "outputs": [
        {
          "output_type": "execute_result",
          "data": {
            "text/plain": [
              "[2.1550351934356553, 0.77515584]"
            ]
          },
          "metadata": {
            "tags": []
          },
          "execution_count": 43
        }
      ]
    },
    {
      "cell_type": "code",
      "metadata": {
        "id": "1A64z0grMvMT",
        "colab_type": "code",
        "colab": {
          "base_uri": "https://localhost:8080/",
          "height": 0
        },
        "outputId": "c01516a4-9496-4101-b027-ab38ba5a18e8"
      },
      "source": [
        "# Plotting the training and validation loss\n",
        "loss = history_4.history['loss']\n",
        "val_loss = history_4.history['val_loss']\n",
        "\n",
        "epochs = range(1, len(loss) + 1)\n",
        "\n",
        "plt.plot(epochs, loss, 'bo', label='Training loss')\n",
        "plt.plot(epochs, val_loss, 'b', label='Validation loss')\n",
        "plt.title('Training and validation loss')\n",
        "plt.xlabel('Epochs')\n",
        "plt.ylabel('Loss')\n",
        "plt.legend()\n",
        "\n",
        "plt.show()"
      ],
      "execution_count": 44,
      "outputs": [
        {
          "output_type": "display_data",
          "data": {
            "image/png": "[encoded data removed]",
            "text/plain": [
              "<Figure size 432x288 with 1 Axes>"
            ]
          },
          "metadata": {
            "tags": []
          }
        }
      ]
    },
    {
      "cell_type": "code",
      "metadata": {
        "id": "Dap25TCfMzX2",
        "colab_type": "code",
        "colab": {
          "base_uri": "https://localhost:8080/",
          "height": 0
        },
        "outputId": "76a295dd-ad0e-41cc-8a6c-e2f1ff5bed4f"
      },
      "source": [
        "# Plotting the training and validation accuracy\n",
        "plt.clf()  # Clears the figure\n",
        "\n",
        "acc = history_4.history['accuracy']\n",
        "val_acc = history_4.history['val_accuracy']\n",
        "\n",
        "plt.plot(epochs, acc, 'bo', label='Training acc')\n",
        "plt.plot(epochs, val_acc, 'b', label='Validation acc')\n",
        "plt.title('Training and validation accuracy')\n",
        "plt.xlabel('Epochs')\n",
        "plt.ylabel('Loss')\n",
        "plt.legend()\n",
        "\n",
        "plt.show()"
      ],
      "execution_count": 45,
      "outputs": [
        {
          "output_type": "display_data",
          "data": {
            "image/png": "[encoded data removed]",
            "text/plain": [
              "<Figure size 432x288 with 1 Axes>"
            ]
          },
          "metadata": {
            "tags": []
          }
        }
      ]
    },
    {
      "cell_type": "markdown",
      "metadata": {
        "id": "dlXSnnSANTHO",
        "colab_type": "text"
      },
      "source": [
        "### Step-2: Try using a single hidden layer."
      ]
    },
    {
      "cell_type": "code",
      "metadata": {
        "id": "HEEQopumNOlQ",
        "colab_type": "code",
        "colab": {
          "base_uri": "https://localhost:8080/",
          "height": 746
        },
        "outputId": "c0c6b523-b876-43af-ca95-323057bc70fb"
      },
      "source": [
        "model_5 = Sequential()\n",
        "model_5.add(Dense(64, activation='relu', input_shape=(10000, )))\n",
        "model_5.add(Dense(46, activation='softmax'))\n",
        "\n",
        "# compile the model\n",
        "model_5.compile(optimizer='RMSprop', loss='categorical_crossentropy', metrics=['accuracy'])\n",
        "\n",
        "# train the model\n",
        "history_5 = model_5.fit(partial_x_train, partial_y_train, epochs=20, batch_size=128, validation_data=(x_val, y_val))\n",
        "\n",
        "# evaluate the model\n",
        "results_5 = model_5.evaluate(x_test, one_hot_test_labels, verbose=0)"
      ],
      "execution_count": 46,
      "outputs": [
        {
          "output_type": "stream",
          "text": [
            "Train on 7982 samples, validate on 1000 samples\n",
            "Epoch 1/20\n",
            "7982/7982 [==============================] - 2s 218us/sample - loss: 1.9499 - accuracy: 0.6319 - val_loss: 1.2561 - val_accuracy: 0.7270\n",
            "Epoch 2/20\n",
            "7982/7982 [==============================] - 1s 157us/sample - loss: 0.9598 - accuracy: 0.8028 - val_loss: 1.0003 - val_accuracy: 0.7980\n",
            "Epoch 3/20\n",
            "7982/7982 [==============================] - 1s 161us/sample - loss: 0.6548 - accuracy: 0.8649 - val_loss: 0.8891 - val_accuracy: 0.8300\n",
            "Epoch 4/20\n",
            "7982/7982 [==============================] - 1s 160us/sample - loss: 0.4694 - accuracy: 0.9027 - val_loss: 0.8334 - val_accuracy: 0.8240\n",
            "Epoch 5/20\n",
            "7982/7982 [==============================] - 1s 158us/sample - loss: 0.3482 - accuracy: 0.9283 - val_loss: 0.8186 - val_accuracy: 0.8280\n",
            "Epoch 6/20\n",
            "7982/7982 [==============================] - 1s 165us/sample - loss: 0.2702 - accuracy: 0.9380 - val_loss: 0.8200 - val_accuracy: 0.8320\n",
            "Epoch 7/20\n",
            "7982/7982 [==============================] - 1s 162us/sample - loss: 0.2228 - accuracy: 0.9458 - val_loss: 0.8308 - val_accuracy: 0.8300\n",
            "Epoch 8/20\n",
            "7982/7982 [==============================] - 1s 162us/sample - loss: 0.1881 - accuracy: 0.9498 - val_loss: 0.8719 - val_accuracy: 0.8180\n",
            "Epoch 9/20\n",
            "7982/7982 [==============================] - 1s 159us/sample - loss: 0.1649 - accuracy: 0.9534 - val_loss: 0.8961 - val_accuracy: 0.8250\n",
            "Epoch 10/20\n",
            "7982/7982 [==============================] - 1s 159us/sample - loss: 0.1487 - accuracy: 0.9558 - val_loss: 0.8872 - val_accuracy: 0.8340\n",
            "Epoch 11/20\n",
            "7982/7982 [==============================] - 1s 159us/sample - loss: 0.1377 - accuracy: 0.9558 - val_loss: 0.9279 - val_accuracy: 0.8150\n",
            "Epoch 12/20\n",
            "7982/7982 [==============================] - 1s 160us/sample - loss: 0.1294 - accuracy: 0.9564 - val_loss: 0.9532 - val_accuracy: 0.8190\n",
            "Epoch 13/20\n",
            "7982/7982 [==============================] - 1s 160us/sample - loss: 0.1204 - accuracy: 0.9574 - val_loss: 0.9829 - val_accuracy: 0.8090\n",
            "Epoch 14/20\n",
            "7982/7982 [==============================] - 1s 163us/sample - loss: 0.1190 - accuracy: 0.9573 - val_loss: 1.0527 - val_accuracy: 0.8020\n",
            "Epoch 15/20\n",
            "7982/7982 [==============================] - 1s 160us/sample - loss: 0.1140 - accuracy: 0.9570 - val_loss: 1.0606 - val_accuracy: 0.8020\n",
            "Epoch 16/20\n",
            "7982/7982 [==============================] - 1s 160us/sample - loss: 0.1128 - accuracy: 0.9565 - val_loss: 1.0404 - val_accuracy: 0.8160\n",
            "Epoch 17/20\n",
            "7982/7982 [==============================] - 1s 157us/sample - loss: 0.1084 - accuracy: 0.9562 - val_loss: 1.1311 - val_accuracy: 0.7990\n",
            "Epoch 18/20\n",
            "7982/7982 [==============================] - 1s 155us/sample - loss: 0.1071 - accuracy: 0.9565 - val_loss: 1.1603 - val_accuracy: 0.7950\n",
            "Epoch 19/20\n",
            "7982/7982 [==============================] - 1s 156us/sample - loss: 0.1058 - accuracy: 0.9565 - val_loss: 1.1362 - val_accuracy: 0.8070\n",
            "Epoch 20/20\n",
            "7982/7982 [==============================] - 1s 159us/sample - loss: 0.1031 - accuracy: 0.9584 - val_loss: 1.1677 - val_accuracy: 0.8060\n"
          ],
          "name": "stdout"
        }
      ]
    },
    {
      "cell_type": "code",
      "metadata": {
        "id": "eMYg8L0QNjW-",
        "colab_type": "code",
        "colab": {
          "base_uri": "https://localhost:8080/",
          "height": 35
        },
        "outputId": "bb85cff7-4986-4bb0-f7c6-e369c79391ce"
      },
      "source": [
        "results_5"
      ],
      "execution_count": 47,
      "outputs": [
        {
          "output_type": "execute_result",
          "data": {
            "text/plain": [
              "[1.3989958015808757, 0.7760463]"
            ]
          },
          "metadata": {
            "tags": []
          },
          "execution_count": 47
        }
      ]
    },
    {
      "cell_type": "code",
      "metadata": {
        "id": "_Yepyi8fNrM-",
        "colab_type": "code",
        "colab": {
          "base_uri": "https://localhost:8080/",
          "height": 295
        },
        "outputId": "38d81ecd-b39a-4bb6-bfc2-b5900c4e18ea"
      },
      "source": [
        "# Plotting the training and validation loss\n",
        "loss = history_5.history['loss']\n",
        "val_loss = history_5.history['val_loss']\n",
        "\n",
        "epochs = range(1, len(loss) + 1)\n",
        "\n",
        "plt.plot(epochs, loss, 'bo', label='Training loss')\n",
        "plt.plot(epochs, val_loss, 'b', label='Validation loss')\n",
        "plt.title('Training and validation loss')\n",
        "plt.xlabel('Epochs')\n",
        "plt.ylabel('Loss')\n",
        "plt.legend()\n",
        "\n",
        "plt.show()"
      ],
      "execution_count": 48,
      "outputs": [
        {
          "output_type": "display_data",
          "data": {
            "image/png": "[encoded data removed]",
            "text/plain": [
              "<Figure size 432x288 with 1 Axes>"
            ]
          },
          "metadata": {
            "tags": []
          }
        }
      ]
    },
    {
      "cell_type": "code",
      "metadata": {
        "id": "M6eIVHMyNtcf",
        "colab_type": "code",
        "colab": {
          "base_uri": "https://localhost:8080/",
          "height": 295
        },
        "outputId": "4967db88-1dbe-41e7-fbad-f86a8376192b"
      },
      "source": [
        "# Plotting the training and validation accuracy\n",
        "plt.clf()  # Clears the figure\n",
        "\n",
        "acc = history_5.history['accuracy']\n",
        "val_acc = history_5.history['val_accuracy']\n",
        "\n",
        "plt.plot(epochs, acc, 'bo', label='Training acc')\n",
        "plt.plot(epochs, val_acc, 'b', label='Validation acc')\n",
        "plt.title('Training and validation accuracy')\n",
        "plt.xlabel('Epochs')\n",
        "plt.ylabel('Loss')\n",
        "plt.legend()\n",
        "\n",
        "plt.show()"
      ],
      "execution_count": 49,
      "outputs": [
        {
          "output_type": "display_data",
          "data": {
            "image/png": "[encoded data removed]",
            "text/plain": [
              "<Figure size 432x288 with 1 Axes>"
            ]
          },
          "metadata": {
            "tags": []
          }
        }
      ]
    },
    {
      "cell_type": "markdown",
      "metadata": {
        "id": "IkyGkBqDN5qS",
        "colab_type": "text"
      },
      "source": [
        "### Step-2: Try using three hidden layers."
      ]
    },
    {
      "cell_type": "code",
      "metadata": {
        "id": "jhoD3A0pN0KB",
        "colab_type": "code",
        "colab": {
          "base_uri": "https://localhost:8080/",
          "height": 746
        },
        "outputId": "900f9371-c0be-4f5e-9779-98e02d699ad1"
      },
      "source": [
        "model_6 = Sequential()\n",
        "model_6.add(Dense(64, activation='relu', input_shape=(10000, )))\n",
        "model_6.add(Dense(64, activation='relu'))\n",
        "model_6.add(Dense(64, activation='relu'))\n",
        "model_6.add(Dense(46, activation='softmax'))\n",
        "\n",
        "# compile the model\n",
        "model_6.compile(optimizer='RMSprop', loss='categorical_crossentropy', metrics=['accuracy'])\n",
        "\n",
        "# train the model\n",
        "history_6 = model_6.fit(partial_x_train, partial_y_train, epochs=20, batch_size=128, validation_data=(x_val, y_val))\n",
        "\n",
        "# evaluate the model\n",
        "results_6 = model_6.evaluate(x_test, one_hot_test_labels, verbose=0)"
      ],
      "execution_count": 50,
      "outputs": [
        {
          "output_type": "stream",
          "text": [
            "Train on 7982 samples, validate on 1000 samples\n",
            "Epoch 1/20\n",
            "7982/7982 [==============================] - 2s 304us/sample - loss: 1.8739 - accuracy: 0.6004 - val_loss: 1.2749 - val_accuracy: 0.7060\n",
            "Epoch 2/20\n",
            "7982/7982 [==============================] - 1s 186us/sample - loss: 1.0139 - accuracy: 0.7695 - val_loss: 1.0793 - val_accuracy: 0.7690\n",
            "Epoch 3/20\n",
            "7982/7982 [==============================] - 2s 192us/sample - loss: 0.6886 - accuracy: 0.8482 - val_loss: 0.9748 - val_accuracy: 0.7850\n",
            "Epoch 4/20\n",
            "7982/7982 [==============================] - 1s 179us/sample - loss: 0.4787 - accuracy: 0.8955 - val_loss: 0.9816 - val_accuracy: 0.7930\n",
            "Epoch 5/20\n",
            "7982/7982 [==============================] - 1s 162us/sample - loss: 0.3438 - accuracy: 0.9265 - val_loss: 0.9850 - val_accuracy: 0.8140\n",
            "Epoch 6/20\n",
            "7982/7982 [==============================] - 1s 162us/sample - loss: 0.2694 - accuracy: 0.9401 - val_loss: 1.0418 - val_accuracy: 0.7970\n",
            "Epoch 7/20\n",
            "7982/7982 [==============================] - 1s 160us/sample - loss: 0.2228 - accuracy: 0.9480 - val_loss: 1.0231 - val_accuracy: 0.8150\n",
            "Epoch 8/20\n",
            "7982/7982 [==============================] - 1s 161us/sample - loss: 0.1867 - accuracy: 0.9535 - val_loss: 1.1134 - val_accuracy: 0.7990\n",
            "Epoch 9/20\n",
            "7982/7982 [==============================] - 1s 163us/sample - loss: 0.1734 - accuracy: 0.9539 - val_loss: 1.2001 - val_accuracy: 0.7820\n",
            "Epoch 10/20\n",
            "7982/7982 [==============================] - 1s 166us/sample - loss: 0.1566 - accuracy: 0.9545 - val_loss: 1.2382 - val_accuracy: 0.7870\n",
            "Epoch 11/20\n",
            "7982/7982 [==============================] - 1s 163us/sample - loss: 0.1475 - accuracy: 0.9553 - val_loss: 1.2219 - val_accuracy: 0.7900\n",
            "Epoch 12/20\n",
            "7982/7982 [==============================] - 1s 164us/sample - loss: 0.1352 - accuracy: 0.9564 - val_loss: 1.1999 - val_accuracy: 0.7980\n",
            "Epoch 13/20\n",
            "7982/7982 [==============================] - 1s 163us/sample - loss: 0.1344 - accuracy: 0.9562 - val_loss: 1.2404 - val_accuracy: 0.8040\n",
            "Epoch 14/20\n",
            "7982/7982 [==============================] - 1s 162us/sample - loss: 0.1272 - accuracy: 0.9554 - val_loss: 1.1773 - val_accuracy: 0.7990\n",
            "Epoch 15/20\n",
            "7982/7982 [==============================] - 1s 164us/sample - loss: 0.1222 - accuracy: 0.9553 - val_loss: 1.3297 - val_accuracy: 0.7990\n",
            "Epoch 16/20\n",
            "7982/7982 [==============================] - 1s 164us/sample - loss: 0.1167 - accuracy: 0.9565 - val_loss: 1.2112 - val_accuracy: 0.8020\n",
            "Epoch 17/20\n",
            "7982/7982 [==============================] - 1s 162us/sample - loss: 0.1104 - accuracy: 0.9583 - val_loss: 1.3295 - val_accuracy: 0.7990\n",
            "Epoch 18/20\n",
            "7982/7982 [==============================] - 1s 165us/sample - loss: 0.1071 - accuracy: 0.9568 - val_loss: 1.3819 - val_accuracy: 0.7910\n",
            "Epoch 19/20\n",
            "7982/7982 [==============================] - 1s 164us/sample - loss: 0.1070 - accuracy: 0.9565 - val_loss: 1.4304 - val_accuracy: 0.7980\n",
            "Epoch 20/20\n",
            "7982/7982 [==============================] - 1s 163us/sample - loss: 0.1009 - accuracy: 0.9584 - val_loss: 1.4690 - val_accuracy: 0.7910\n"
          ],
          "name": "stdout"
        }
      ]
    },
    {
      "cell_type": "code",
      "metadata": {
        "id": "KXw3aqahOLTM",
        "colab_type": "code",
        "colab": {
          "base_uri": "https://localhost:8080/",
          "height": 35
        },
        "outputId": "6743ee59-7d27-4f88-bf6d-f55539e89ad1"
      },
      "source": [
        "results_6"
      ],
      "execution_count": 52,
      "outputs": [
        {
          "output_type": "execute_result",
          "data": {
            "text/plain": [
              "[1.7494782497069714, 0.769813]"
            ]
          },
          "metadata": {
            "tags": []
          },
          "execution_count": 52
        }
      ]
    },
    {
      "cell_type": "code",
      "metadata": {
        "id": "n89E6itqON_5",
        "colab_type": "code",
        "colab": {
          "base_uri": "https://localhost:8080/",
          "height": 295
        },
        "outputId": "da6e3893-af07-4e5d-99d7-ee5bcc010f9a"
      },
      "source": [
        "# Plotting the training and validation loss\n",
        "loss = history_6.history['loss']\n",
        "val_loss = history_6.history['val_loss']\n",
        "\n",
        "epochs = range(1, len(loss) + 1)\n",
        "\n",
        "plt.plot(epochs, loss, 'bo', label='Training loss')\n",
        "plt.plot(epochs, val_loss, 'b', label='Validation loss')\n",
        "plt.title('Training and validation loss')\n",
        "plt.xlabel('Epochs')\n",
        "plt.ylabel('Loss')\n",
        "plt.legend()\n",
        "\n",
        "plt.show()"
      ],
      "execution_count": 53,
      "outputs": [
        {
          "output_type": "display_data",
          "data": {
            "image/png": "[encoded data removed]",
            "text/plain": [
              "<Figure size 432x288 with 1 Axes>"
            ]
          },
          "metadata": {
            "tags": []
          }
        }
      ]
    },
    {
      "cell_type": "code",
      "metadata": {
        "id": "YnbNa71YOZdZ",
        "colab_type": "code",
        "colab": {
          "base_uri": "https://localhost:8080/",
          "height": 295
        },
        "outputId": "b2796d96-c94a-483c-ac5a-a5786d0961cf"
      },
      "source": [
        "# Plotting the training and validation accuracy\n",
        "plt.clf()  # Clears the figure\n",
        "\n",
        "acc = history_6.history['accuracy']\n",
        "val_acc = history_6.history['val_accuracy']\n",
        "\n",
        "plt.plot(epochs, acc, 'bo', label='Training acc')\n",
        "plt.plot(epochs, val_acc, 'b', label='Validation acc')\n",
        "plt.title('Training and validation accuracy')\n",
        "plt.xlabel('Epochs')\n",
        "plt.ylabel('Loss')\n",
        "plt.legend()\n",
        "\n",
        "plt.show()"
      ],
      "execution_count": 54,
      "outputs": [
        {
          "output_type": "display_data",
          "data": {
            "image/png": "[encoded data removed]",
            "text/plain": [
              "<Figure size 432x288 with 1 Axes>"
            ]
          },
          "metadata": {
            "tags": []
          }
        }
      ]
    },
    {
      "cell_type": "markdown",
      "metadata": {
        "id": "c289vAGgOqBZ",
        "colab_type": "text"
      },
      "source": [
        "## Wrapping up"
      ]
    },
    {
      "cell_type": "markdown",
      "metadata": {
        "id": "h9gbkDRhOrKo",
        "colab_type": "text"
      },
      "source": [
        "Here’s what you should take away from this example:\n",
        "* If you’re trying to classify data points among N classes, your network should end with a Dense layer of size N.\n",
        "* In a single-label, multiclass classification problem, your network should end\n",
        "with a softmax activation so that it will output a probability distribution over the N output classes.\n",
        "* Categorical crossentropy is almost always the loss function you should use for\n",
        "such problems. It minimizes the distance between the probability distributions\n",
        "output by the network and the true distribution of the targets.\n",
        "* There are two ways to handle labels in multiclass classification:\n",
        "  * Encoding the labels via categorical encoding (also known as one-hot encoding) and using categorical_crossentropy as a loss function\n",
        "  * Encoding the labels as integers and using the sparse_categorical_crossentropy loss function\n",
        "* If you need to classify data into a large number of categories, you should avoid creating information bottlenecks in your network due to intermediate layers that are too small."
      ]
    }
  ]
}