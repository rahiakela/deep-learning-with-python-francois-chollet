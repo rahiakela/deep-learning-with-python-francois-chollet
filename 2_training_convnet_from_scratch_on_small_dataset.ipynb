{
  "nbformat": 4,
  "nbformat_minor": 0,
  "metadata": {
    "colab": {
      "name": "2-training-convnet-from-scratch-on-small-dataset.ipynb",
      "provenance": [],
      "toc_visible": true,
      "authorship_tag": "ABX9TyM68xB10n8EAJUw7ne7l1vv",
      "include_colab_link": true
    },
    "kernelspec": {
      "name": "python3",
      "display_name": "Python 3"
    }
  },
  "cells": [
    {
      "cell_type": "markdown",
      "metadata": {
        "id": "view-in-github",
        "colab_type": "text"
      },
      "source": [
        "<a href=\"https://colab.research.google.com/github/rahiakela/deep-learning-with-python-francois-chollet/blob/5-deep-learning-for-computer-vision/2_training_convnet_from_scratch_on_small_dataset.ipynb\" target=\"_parent\"><img src=\"https://colab.research.google.com/assets/colab-badge.svg\" alt=\"Open In Colab\"/></a>"
      ]
    },
    {
      "cell_type": "markdown",
      "metadata": {
        "id": "ichjB7bqxOAY",
        "colab_type": "text"
      },
      "source": [
        "# Training convnet from scratch on a small dataset"
      ]
    },
    {
      "cell_type": "markdown",
      "metadata": {
        "id": "cuAC7iFf3eDN",
        "colab_type": "text"
      },
      "source": [
        "Having to train an image-classification model using very little data is a common situation, which you’ll likely encounter in practice if you ever do computer vision in a professional context. \n",
        "\n",
        "A “few” samples can mean anywhere from a few hundred to a\n",
        "few tens of thousands of images. As a practical example, we’ll focus on classifying images as dogs or cats, in a dataset containing 4,000 pictures of cats and dogs (2,000 cats, 2,000 dogs). We’ll use 2,000 pictures for training—1,000 for validation, and 1,000 for testing.\n",
        "\n",
        "We’ll review one basic strategy to tackle this problem: **training a new model from scratch using what little data you have**. You’ll start by naively training a small convnet on the 2,000 training samples, without any regularization, to set a baseline for what can be achieved. \n",
        "\n",
        "This will get you to a classification accuracy of 71%. At\n",
        "that point, the main issue will be overfitting. Then we’ll introduce data augmentation, a powerful technique for mitigating overfitting in computer vision. By using data augmentation you’ll improve the network to reach an accuracy of 82%.\n",
        "\n",
        "We’ll review two more essential techniques for applying deep\n",
        "learning to small datasets: \n",
        "* **feature extraction with a pretrained network** (which will get you to an accuracy of 90% to 96%) \n",
        "* and **fine-tuning a pretrained network** (this will get you to a final accuracy of 97%). \n",
        "\n",
        "Together, these three strategies—training a small model from scratch, doing feature extraction using a pretrained model, and fine-tuning a pretrained model—will constitute your future toolbox for tackling the problem of performing image classification with small datasets."
      ]
    },
    {
      "cell_type": "markdown",
      "metadata": {
        "id": "-zGItxc6zWrr",
        "colab_type": "text"
      },
      "source": [
        "## Setup"
      ]
    },
    {
      "cell_type": "code",
      "metadata": {
        "id": "Wh8l50IVzYEb",
        "colab_type": "code",
        "outputId": "7911c360-d55e-414d-a38f-dcb80f13430e",
        "colab": {
          "base_uri": "https://localhost:8080/",
          "height": 35
        }
      },
      "source": [
        "from __future__ import absolute_import, division, print_function, unicode_literals\n",
        "\n",
        "try:\n",
        "  # %tensorflow_version only exists in Colab.\n",
        "  %tensorflow_version 2.x\n",
        "except Exception:\n",
        "  pass\n",
        "import tensorflow as tf\n",
        "from tensorflow import keras\n",
        "import numpy as np\n",
        "import pandas as pd\n",
        "\n",
        "import matplotlib.pyplot as plt"
      ],
      "execution_count": 2,
      "outputs": [
        {
          "output_type": "stream",
          "text": [
            "TensorFlow 2.x selected.\n"
          ],
          "name": "stdout"
        }
      ]
    },
    {
      "cell_type": "markdown",
      "metadata": {
        "id": "uOkYmhcV5vcZ",
        "colab_type": "text"
      },
      "source": [
        "## The relevance of deep learning for small-data problems"
      ]
    },
    {
      "cell_type": "markdown",
      "metadata": {
        "id": "CT-1Dy5L5xIJ",
        "colab_type": "text"
      },
      "source": [
        "You’ll sometimes hear that deep learning only works when lots of data is available. This is valid in part: one fundamental characteristic of deep learning is that it can find interesting features in the training data on its own, without any need for manual feature engineering, and this can only be achieved when lots of training examples are available. This is especially true for problems where the input samples are very highdimensional, like images.\n",
        "\n"
      ]
    },
    {
      "cell_type": "markdown",
      "metadata": {
        "id": "rCvFQyXx6WSS",
        "colab_type": "text"
      },
      "source": [
        "## Downloading the data"
      ]
    },
    {
      "cell_type": "markdown",
      "metadata": {
        "id": "gOTpVn9D6XSA",
        "colab_type": "text"
      },
      "source": [
        "The Dogs vs. Cats dataset that you’ll use isn’t packaged with Keras. It was made available by Kaggle as part of a computer-vision competition in late 2013, back when convnets weren’t mainstream. You can download the original dataset from [www.kaggle.com/c/dogs-vs-cats/data](https://www.kaggle.com/c/dogs-vs-cats/data).\n",
        "\n",
        "<img src='https://s3.amazonaws.com/book.keras.io/img/ch5/cats_vs_dogs_samples.jpg?raw=1' width='800'/>\n",
        "\n",
        "Unsurprisingly, the dogs-versus-cats Kaggle competition in 2013 was won by entrants who used convnets. The best entries achieved up to 95% accuracy. In this example, you’ll get fairly close to this accuracy (in the next section), even though you’ll train\n",
        "your models on less than 10% of the data that was available to the competitors.\n",
        "\n",
        "This dataset contains 25,000 images of dogs and cats (12,500 from each class) and is 543 MB (compressed). After downloading and uncompressing it, you’ll create a new dataset containing three subsets: a training set with 1,000 samples of each class, a validation set with 500 samples of each class, and a test set with 500 samples of each class.\n",
        "\n",
        "Let's donload datasets from Kaggle."
      ]
    },
    {
      "cell_type": "code",
      "metadata": {
        "id": "cxrWXQlHzYw7",
        "colab_type": "code",
        "colab": {}
      },
      "source": [
        "# reference: https://medium.com/@saedhussain/google-colaboratory-and-kaggle-datasets-b57a83eb6ef8\n",
        "# Install Kaggle library\n",
        "! pip install -q kaggle"
      ],
      "execution_count": 0,
      "outputs": []
    },
    {
      "cell_type": "code",
      "metadata": {
        "id": "XQrm3kCLB3xL",
        "colab_type": "code",
        "outputId": "7b66e15d-b047-4b4d-aeb0-60a9a8dcf207",
        "colab": {
          "base_uri": "https://localhost:8080/",
          "height": 126
        }
      },
      "source": [
        "# Try to downlaod data for the dogs-vs-cats challenge, it will fail.\n",
        "!kaggle competitions download -c dogs-vs-cats"
      ],
      "execution_count": 4,
      "outputs": [
        {
          "output_type": "stream",
          "text": [
            "Warning: Your Kaggle API key is readable by other users on this system! To fix this, you can run 'chmod 600 /root/.kaggle/kaggle.json'\n",
            "Warning: Looks like you're using an outdated API Version, please consider updating (server 1.5.6 / client 1.5.4)\n",
            "test1.zip: Skipping, found more recently modified local copy (use --force to force download)\n",
            "sampleSubmission.csv: Skipping, found more recently modified local copy (use --force to force download)\n",
            "train.zip: Skipping, found more recently modified local copy (use --force to force download)\n"
          ],
          "name": "stdout"
        }
      ]
    },
    {
      "cell_type": "code",
      "metadata": {
        "id": "3xHrkYW113ml",
        "colab_type": "code",
        "colab": {}
      },
      "source": [
        "# copy kaggle.json file to .kaggle directory\n",
        "! cp kaggle.json ~/.kaggle/"
      ],
      "execution_count": 0,
      "outputs": []
    },
    {
      "cell_type": "code",
      "metadata": {
        "id": "OxaTNBDozx06",
        "colab_type": "code",
        "outputId": "4fab0ff2-4518-431c-b679-cd3909eae355",
        "colab": {
          "base_uri": "https://localhost:8080/",
          "height": 126
        }
      },
      "source": [
        "# Now try to downlaod data for the dogs-vs-cats challenge, it will succeed\n",
        "!kaggle competitions download -c dogs-vs-cats"
      ],
      "execution_count": 6,
      "outputs": [
        {
          "output_type": "stream",
          "text": [
            "Warning: Your Kaggle API key is readable by other users on this system! To fix this, you can run 'chmod 600 /root/.kaggle/kaggle.json'\n",
            "Warning: Looks like you're using an outdated API Version, please consider updating (server 1.5.6 / client 1.5.4)\n",
            "sampleSubmission.csv: Skipping, found more recently modified local copy (use --force to force download)\n",
            "train.zip: Skipping, found more recently modified local copy (use --force to force download)\n",
            "test1.zip: Skipping, found more recently modified local copy (use --force to force download)\n"
          ],
          "name": "stdout"
        }
      ]
    },
    {
      "cell_type": "markdown",
      "metadata": {
        "id": "X_RL5NfW8Oek",
        "colab_type": "text"
      },
      "source": [
        "### Copying images to training, validation, and test directories"
      ]
    },
    {
      "cell_type": "code",
      "metadata": {
        "id": "Yun4Uiru0nb1",
        "colab_type": "code",
        "colab": {}
      },
      "source": [
        "import os, shutil\n",
        "import zipfile"
      ],
      "execution_count": 0,
      "outputs": []
    },
    {
      "cell_type": "code",
      "metadata": {
        "id": "1ITh9ZMqCZKI",
        "colab_type": "code",
        "colab": {}
      },
      "source": [
        "# path to the directory where the original dataset was uncompressed\n",
        "original_dataset_dir = 'kaggle_original_data'\n",
        "# directory where we will store our smaller dataset\n",
        "base_dir = 'cats_and_dogs_small'\n",
        "\n",
        "# remove directories if it already exists\n",
        "shutil.rmtree(original_dataset_dir, ignore_errors=True)\n",
        "shutil.rmtree(base_dir, ignore_errors=True)\n",
        "\n",
        "# create directories\n",
        "os.mkdir(original_dataset_dir)\n",
        "os.mkdir(base_dir)"
      ],
      "execution_count": 0,
      "outputs": []
    },
    {
      "cell_type": "code",
      "metadata": {
        "id": "YAF9VlrFDB8f",
        "colab_type": "code",
        "colab": {}
      },
      "source": [
        "# unzip train dataset\n",
        "with zipfile.ZipFile(\"train.zip\",\"r\") as zip_ref:\n",
        "    zip_ref.extractall(original_dataset_dir)\n",
        "\n",
        "# unzip test dataset\n",
        "with zipfile.ZipFile(\"test1.zip\",\"r\") as zip_ref:\n",
        "    zip_ref.extractall(original_dataset_dir)"
      ],
      "execution_count": 0,
      "outputs": []
    },
    {
      "cell_type": "code",
      "metadata": {
        "id": "vdSkCRD5Duua",
        "colab_type": "code",
        "colab": {}
      },
      "source": [
        "# create directories for our training, validation and test splits\n",
        "train_dir = os.path.join(base_dir, 'train')\n",
        "os.mkdir(train_dir)\n",
        "validation_dir = os.path.join(base_dir, 'validation')\n",
        "os.mkdir(validation_dir)\n",
        "test_dir = os.path.join(base_dir, 'test')\n",
        "os.mkdir(test_dir)\n",
        "\n",
        "# create directory with our training cat/dog pictures\n",
        "train_cats_dir = os.path.join(train_dir, 'cats')\n",
        "os.mkdir(train_cats_dir)\n",
        "train_dogs_dir = os.path.join(train_dir, 'dogs')\n",
        "os.mkdir(train_dogs_dir)\n",
        "\n",
        "# create directory with our validation cat/dog pictures\n",
        "validation_cats_dir = os.path.join(validation_dir, 'cats')\n",
        "os.mkdir(validation_cats_dir)\n",
        "validation_dogs_dir = os.path.join(validation_dir, 'dogs')\n",
        "os.mkdir(validation_dogs_dir)\n",
        "\n",
        "# create directory with our test cat/dog pictures\n",
        "test_cats_dir = os.path.join(test_dir, 'cats')\n",
        "os.mkdir(test_cats_dir)\n",
        "test_dogs_dir = os.path.join(test_dir, 'dogs')\n",
        "os.mkdir(test_dogs_dir)\n",
        "\n",
        "# Copy first 1000 cat images to train_cats_dir\n",
        "fnames = ['cat.{}.jpg'.format(i) for i in range(1000)]\n",
        "for fname in fnames:\n",
        "    src = os.path.join(original_dataset_dir + '/train/', fname)\n",
        "    dst = os.path.join(train_cats_dir, fname)\n",
        "    shutil.copyfile(src, dst)\n",
        "# Copy next 500 cat images to validation_cats_dir\n",
        "fnames = ['cat.{}.jpg'.format(i) for i in range(1000, 1500)]\n",
        "for fname in fnames:\n",
        "    src = os.path.join(original_dataset_dir + '/train/', fname)\n",
        "    dst = os.path.join(validation_cats_dir, fname)\n",
        "    shutil.copyfile(src, dst)\n",
        "# Copy next 500 cat images to test_cats_dir\n",
        "fnames = ['cat.{}.jpg'.format(i) for i in range(1500, 2000)]\n",
        "for fname in fnames:\n",
        "    src = os.path.join(original_dataset_dir + '/train/', fname)\n",
        "    dst = os.path.join(test_cats_dir, fname)\n",
        "    shutil.copyfile(src, dst)\n",
        "    \n",
        "# Copy first 1000 dog images to train_dogs_dir\n",
        "fnames = ['dog.{}.jpg'.format(i) for i in range(1000)]\n",
        "for fname in fnames:\n",
        "    src = os.path.join(original_dataset_dir + '/train/', fname)\n",
        "    dst = os.path.join(train_dogs_dir, fname)\n",
        "    shutil.copyfile(src, dst)\n",
        "# Copy next 500 dog images to validation_dogs_dir\n",
        "fnames = ['dog.{}.jpg'.format(i) for i in range(1000, 1500)]\n",
        "for fname in fnames:\n",
        "    src = os.path.join(original_dataset_dir + '/train/', fname)\n",
        "    dst = os.path.join(validation_dogs_dir, fname)\n",
        "    shutil.copyfile(src, dst)\n",
        "# Copy next 500 dog images to test_dogs_dir\n",
        "fnames = ['dog.{}.jpg'.format(i) for i in range(1500, 2000)]\n",
        "for fname in fnames:\n",
        "    src = os.path.join(original_dataset_dir + '/train/', fname)\n",
        "    dst = os.path.join(test_dogs_dir, fname)\n",
        "    shutil.copyfile(src, dst)"
      ],
      "execution_count": 0,
      "outputs": []
    },
    {
      "cell_type": "markdown",
      "metadata": {
        "id": "Jnzszi6OFI4h",
        "colab_type": "text"
      },
      "source": [
        "As a sanity check, let's count how many pictures we have in each training split (train/validation/test):"
      ]
    },
    {
      "cell_type": "code",
      "metadata": {
        "id": "IKmHOTBQFJoL",
        "colab_type": "code",
        "outputId": "eed850de-adf2-4c2e-d28a-7b87cbb49226",
        "colab": {
          "base_uri": "https://localhost:8080/",
          "height": 124
        }
      },
      "source": [
        "print(f'total training cat images: {len(os.listdir(train_cats_dir))}')\n",
        "print(f'total training dog  images: {len(os.listdir(train_dogs_dir))}')\n",
        "print(f'total validation  cat images: {len(os.listdir(validation_cats_dir))}')\n",
        "print(f'total validation  dog images: {len(os.listdir(validation_dogs_dir))}')\n",
        "print(f'total test cat images: {len(os.listdir(test_cats_dir))}')\n",
        "print(f'total test dog images: {len(os.listdir(test_dogs_dir))}')"
      ],
      "execution_count": 11,
      "outputs": [
        {
          "output_type": "stream",
          "text": [
            "total training cat images: 1000\n",
            "total training dog  images: 1000\n",
            "total validation  cat images: 500\n",
            "total validation  dog images: 500\n",
            "total test cat images: 500\n",
            "total test dog images: 500\n"
          ],
          "name": "stdout"
        }
      ]
    },
    {
      "cell_type": "markdown",
      "metadata": {
        "id": "OgtkqUEKO9nh",
        "colab_type": "text"
      },
      "source": [
        "So we have indeed 2000 training images, and then 1000 validation images and 1000 test images. In each split, there is the same number of samples from each class: this is a balanced binary classification problem, which means that classification accuracy will be an appropriate measure of success."
      ]
    },
    {
      "cell_type": "markdown",
      "metadata": {
        "id": "rFnjnUgNPBk2",
        "colab_type": "text"
      },
      "source": [
        "## Building our network"
      ]
    },
    {
      "cell_type": "markdown",
      "metadata": {
        "id": "PXnUEJ9kPEaq",
        "colab_type": "text"
      },
      "source": [
        "We've already built a small convnet for MNIST in the previous example, so you should be familiar with them. We will reuse the same general structure: our convnet will be a stack of alternated Conv2D (with relu activation) and MaxPooling2D layers.\n",
        "\n",
        "However, since we are dealing with bigger images and a more complex problem, we will make our network accordingly larger: it will have one more Conv2D + MaxPooling2D stage. This serves both to augment the capacity of the network, and to further reduce the size of the feature maps, so that they aren't overly large when we reach the Flatten layer. Here, since we start from inputs of size 150x150 (a somewhat arbitrary choice), we end up with feature maps of size 7x7 right before the Flatten layer.\n",
        "\n",
        "Note that the depth of the feature maps is progressively increasing in the network (from 32 to 128), while the size of the feature maps is decreasing (from 148x148 to 7x7). This is a pattern that you will see in almost all convnets.\n",
        "\n",
        "Since we are attacking a binary classification problem, we are ending the network with a single unit (a Dense layer of size 1) and a sigmoid activation. This unit will encode the probability that the network is looking at one class or the other."
      ]
    },
    {
      "cell_type": "code",
      "metadata": {
        "id": "770LmLG6O3tC",
        "colab_type": "code",
        "colab": {}
      },
      "source": [
        "model = keras.models.Sequential()\n",
        "\n",
        "# Conv2D + MaxPooling2D layer\n",
        "model.add(keras.layers.Conv2D(32, (3, 3), activation='relu', input_shape=(150, 150, 3)))\n",
        "model.add(keras.layers.MaxPooling2D((2, 2)))\n",
        "\n",
        "model.add(keras.layers.Conv2D(64, (3, 3), activation='relu'))\n",
        "model.add(keras.layers.MaxPooling2D((2, 2)))\n",
        "\n",
        "model.add(keras.layers.Conv2D(128, (3, 3), activation='relu'))\n",
        "model.add(keras.layers.MaxPooling2D((2, 2)))\n",
        "\n",
        "model.add(keras.layers.Conv2D(128, (3, 3), activation='relu'))\n",
        "model.add(keras.layers.MaxPooling2D((2, 2)))\n",
        "\n",
        "# Flatten layer\n",
        "model.add(keras.layers.Flatten())\n",
        "\n",
        "# Dense layer\n",
        "model.add(keras.layers.Dense(512, activation='relu'))\n",
        "model.add(keras.layers.Dense(1, activation='sigmoid'))"
      ],
      "execution_count": 0,
      "outputs": []
    },
    {
      "cell_type": "markdown",
      "metadata": {
        "id": "4BJSGMCmEC6Q",
        "colab_type": "text"
      },
      "source": [
        "Let's take a look at how the dimensions of the feature maps change with every successive layer:"
      ]
    },
    {
      "cell_type": "code",
      "metadata": {
        "id": "9brlYbRCCs_r",
        "colab_type": "code",
        "outputId": "723655a0-2e0d-4e43-8959-d41f16e1d4fb",
        "colab": {
          "base_uri": "https://localhost:8080/",
          "height": 550
        }
      },
      "source": [
        "model.summary()"
      ],
      "execution_count": 13,
      "outputs": [
        {
          "output_type": "stream",
          "text": [
            "Model: \"sequential\"\n",
            "_________________________________________________________________\n",
            "Layer (type)                 Output Shape              Param #   \n",
            "=================================================================\n",
            "conv2d (Conv2D)              (None, 148, 148, 32)      896       \n",
            "_________________________________________________________________\n",
            "max_pooling2d (MaxPooling2D) (None, 74, 74, 32)        0         \n",
            "_________________________________________________________________\n",
            "conv2d_1 (Conv2D)            (None, 72, 72, 64)        18496     \n",
            "_________________________________________________________________\n",
            "max_pooling2d_1 (MaxPooling2 (None, 36, 36, 64)        0         \n",
            "_________________________________________________________________\n",
            "conv2d_2 (Conv2D)            (None, 34, 34, 128)       73856     \n",
            "_________________________________________________________________\n",
            "max_pooling2d_2 (MaxPooling2 (None, 17, 17, 128)       0         \n",
            "_________________________________________________________________\n",
            "conv2d_3 (Conv2D)            (None, 15, 15, 128)       147584    \n",
            "_________________________________________________________________\n",
            "max_pooling2d_3 (MaxPooling2 (None, 7, 7, 128)         0         \n",
            "_________________________________________________________________\n",
            "flatten (Flatten)            (None, 6272)              0         \n",
            "_________________________________________________________________\n",
            "dense (Dense)                (None, 512)               3211776   \n",
            "_________________________________________________________________\n",
            "dense_1 (Dense)              (None, 1)                 513       \n",
            "=================================================================\n",
            "Total params: 3,453,121\n",
            "Trainable params: 3,453,121\n",
            "Non-trainable params: 0\n",
            "_________________________________________________________________\n"
          ],
          "name": "stdout"
        }
      ]
    },
    {
      "cell_type": "markdown",
      "metadata": {
        "id": "EvK9vV23EOd8",
        "colab_type": "text"
      },
      "source": [
        "For our compilation step, we'll go with the RMSprop optimizer as usual. Since we ended our network with a single sigmoid unit, we will use binary crossentropy as our loss."
      ]
    },
    {
      "cell_type": "code",
      "metadata": {
        "id": "ZozpU8NJEFex",
        "colab_type": "code",
        "colab": {}
      },
      "source": [
        "model.compile(loss='binary_crossentropy', optimizer=keras.optimizers.RMSprop(learning_rate=1e-4), metrics=['accuracy'])"
      ],
      "execution_count": 0,
      "outputs": []
    },
    {
      "cell_type": "markdown",
      "metadata": {
        "id": "snGpSj64ErlG",
        "colab_type": "text"
      },
      "source": [
        "## Data preprocessing"
      ]
    },
    {
      "cell_type": "markdown",
      "metadata": {
        "id": "MybzzDYnEsgp",
        "colab_type": "text"
      },
      "source": [
        "As you already know by now, data should be formatted into appropriately pre-processed floating point tensors before being fed into our network. Currently, our data sits on a drive as JPEG files, so the steps for getting it into our network are roughly:\n",
        "\n",
        "* Read the picture files.\n",
        "* Decode the JPEG content to RBG grids of pixels.\n",
        "* Convert these into floating point tensors.\n",
        "* Rescale the pixel values (between 0 and 255) to the [0, 1] interval (as you know, neural networks prefer to deal with small input values).\n",
        "\n",
        "It may seem a bit daunting, but thankfully Keras has utilities to take care of these steps automatically. Keras has a module with image processing helper tools, located at keras.preprocessing.image. \n",
        "\n",
        "In particular, it contains the class ImageDataGenerator which allows to quickly set up Python generators that can automatically turn image files on disk into batches of pre-processed tensors. This is what we will use here."
      ]
    },
    {
      "cell_type": "markdown",
      "metadata": {
        "id": "llWqmhHoSVa6",
        "colab_type": "text"
      },
      "source": [
        "### Using ImageDataGenerator to read images from directories"
      ]
    },
    {
      "cell_type": "code",
      "metadata": {
        "id": "N6Z2eXcWSWn3",
        "colab_type": "code",
        "colab": {}
      },
      "source": [
        "from tensorflow.keras.preprocessing.image import ImageDataGenerator"
      ],
      "execution_count": 0,
      "outputs": []
    },
    {
      "cell_type": "code",
      "metadata": {
        "id": "hY478uNQEmk0",
        "colab_type": "code",
        "colab": {
          "base_uri": "https://localhost:8080/",
          "height": 52
        },
        "outputId": "cf109e42-5e81-475c-dc8d-f6d5537a3c33"
      },
      "source": [
        "# All images will be rescaled by 1./255\n",
        "train_datagen = ImageDataGenerator(rescale=1. / 255)\n",
        "test_datagen = ImageDataGenerator(rescale=1. / 255)\n",
        "\n",
        "train_generator = train_datagen.flow_from_directory(train_dir, # target directory\n",
        "                                                    target_size=(150, 150), # resized to 150x150\n",
        "                                                    batch_size=20,\n",
        "                                                    # Since we use binary_crossentropy loss, we need binary labels\n",
        "                                                    class_mode='binary')\n",
        "validation_generator = test_datagen.flow_from_directory(validation_dir,\n",
        "                                                        target_size=(150, 150),\n",
        "                                                        batch_size=20,\n",
        "                                                        class_mode='binary')"
      ],
      "execution_count": 16,
      "outputs": [
        {
          "output_type": "stream",
          "text": [
            "Found 2000 images belonging to 2 classes.\n",
            "Found 1000 images belonging to 2 classes.\n"
          ],
          "name": "stdout"
        }
      ]
    },
    {
      "cell_type": "markdown",
      "metadata": {
        "id": "dBebZTTgUzB5",
        "colab_type": "text"
      },
      "source": [
        "Let's take a look at the output of one of these generators: it yields batches of 150x150 RGB images (shape (20, 150, 150, 3)) and binary labels (shape (20,)). 20 is the number of samples in each batch (the batch size). \n",
        "\n",
        "Note that the generator yields these batches indefinitely: it just loops endlessly over the images present in the target folder. For this reason, we need to break the iteration loop at some point."
      ]
    },
    {
      "cell_type": "code",
      "metadata": {
        "id": "pKZIjEoOTSsO",
        "colab_type": "code",
        "colab": {
          "base_uri": "https://localhost:8080/",
          "height": 52
        },
        "outputId": "82bfdad3-31a8-4c26-c0d0-f363f21e3028"
      },
      "source": [
        "for data_batch, labels_batch in train_generator:\n",
        "  print(f'data batch shape: {data_batch.shape}')\n",
        "  print(f'labels batch shape: {labels_batch.shape}')\n",
        "  break"
      ],
      "execution_count": 17,
      "outputs": [
        {
          "output_type": "stream",
          "text": [
            "data batch shape: (20, 150, 150, 3)\n",
            "labels batch shape: (20,)\n"
          ],
          "name": "stdout"
        }
      ]
    },
    {
      "cell_type": "markdown",
      "metadata": {
        "id": "mZ2AxynxV8Fp",
        "colab_type": "text"
      },
      "source": [
        "### Fitting the model using a batch generator"
      ]
    },
    {
      "cell_type": "markdown",
      "metadata": {
        "id": "wF3AMnA_V9H3",
        "colab_type": "text"
      },
      "source": [
        "Let's fit our model to the data using the generator. We do it using the fit_generator method, the equivalent of fit for data generators like ours. It expects as first argument a Python generator that will yield batches of inputs and targets indefinitely, like ours does. Because the data is being generated endlessly, the generator needs to know example how many samples to draw from the generator before declaring an epoch over. \n",
        "\n",
        "This is the role of the steps_per_epoch argument: after having drawn steps_per_epoch batches from the generator, i.e. after having run for steps_per_epoch gradient descent steps, the fitting process will go to the next epoch. In our case, batches are 20-sample large, so it will take 100 batches until we see our target of 2000 samples.\n",
        "\n",
        "When using fit_generator, one may pass a validation_data argument, much like with the fit method. Importantly, this argument is allowed to be a data generator itself, but it could be a tuple of Numpy arrays as well. \n",
        "\n",
        "If you pass a generator as validation_data, then this generator is expected to yield batches of validation data endlessly, and thus you should also specify the validation_steps argument, which tells the process how many batches to draw from the validation generator for evaluation."
      ]
    },
    {
      "cell_type": "code",
      "metadata": {
        "id": "eOkouB6MVZfn",
        "colab_type": "code",
        "colab": {
          "base_uri": "https://localhost:8080/",
          "height": 1000
        },
        "outputId": "2b942915-5f4f-44a3-ac2d-d0fb79ce6709"
      },
      "source": [
        "history = model.fit_generator(train_generator,\n",
        "                              steps_per_epoch=100,\n",
        "                              epochs=30,\n",
        "                              validation_data=validation_generator,\n",
        "                              validation_steps=50)"
      ],
      "execution_count": 18,
      "outputs": [
        {
          "output_type": "stream",
          "text": [
            "WARNING:tensorflow:From <ipython-input-18-cc3b85ccc5e8>:5: Model.fit_generator (from tensorflow.python.keras.engine.training) is deprecated and will be removed in a future version.\n",
            "Instructions for updating:\n",
            "Please use Model.fit, which supports generators.\n",
            "WARNING:tensorflow:sample_weight modes were coerced from\n",
            "  ...\n",
            "    to  \n",
            "  ['...']\n",
            "WARNING:tensorflow:sample_weight modes were coerced from\n",
            "  ...\n",
            "    to  \n",
            "  ['...']\n",
            "Train for 100 steps, validate for 50 steps\n",
            "Epoch 1/30\n",
            "100/100 [==============================] - 116s 1s/step - loss: 0.6871 - accuracy: 0.5350 - val_loss: 0.6644 - val_accuracy: 0.6180\n",
            "Epoch 2/30\n",
            "100/100 [==============================] - 115s 1s/step - loss: 0.6491 - accuracy: 0.6195 - val_loss: 0.6328 - val_accuracy: 0.6410\n",
            "Epoch 3/30\n",
            "100/100 [==============================] - 115s 1s/step - loss: 0.5922 - accuracy: 0.6785 - val_loss: 0.5996 - val_accuracy: 0.6780\n",
            "Epoch 4/30\n",
            "100/100 [==============================] - 115s 1s/step - loss: 0.5579 - accuracy: 0.7100 - val_loss: 0.5934 - val_accuracy: 0.6890\n",
            "Epoch 5/30\n",
            "100/100 [==============================] - 115s 1s/step - loss: 0.5329 - accuracy: 0.7295 - val_loss: 0.5859 - val_accuracy: 0.6810\n",
            "Epoch 6/30\n",
            "100/100 [==============================] - 115s 1s/step - loss: 0.5030 - accuracy: 0.7550 - val_loss: 0.6016 - val_accuracy: 0.6860\n",
            "Epoch 7/30\n",
            "100/100 [==============================] - 116s 1s/step - loss: 0.4952 - accuracy: 0.7555 - val_loss: 0.5703 - val_accuracy: 0.6910\n",
            "Epoch 8/30\n",
            "100/100 [==============================] - 115s 1s/step - loss: 0.4674 - accuracy: 0.7880 - val_loss: 0.5763 - val_accuracy: 0.6910\n",
            "Epoch 9/30\n",
            "100/100 [==============================] - 115s 1s/step - loss: 0.4434 - accuracy: 0.7975 - val_loss: 0.5601 - val_accuracy: 0.7070\n",
            "Epoch 10/30\n",
            "100/100 [==============================] - 116s 1s/step - loss: 0.4198 - accuracy: 0.8060 - val_loss: 0.5514 - val_accuracy: 0.7290\n",
            "Epoch 11/30\n",
            "100/100 [==============================] - 115s 1s/step - loss: 0.3928 - accuracy: 0.8285 - val_loss: 0.5927 - val_accuracy: 0.7000\n",
            "Epoch 12/30\n",
            "100/100 [==============================] - 115s 1s/step - loss: 0.3707 - accuracy: 0.8405 - val_loss: 0.5716 - val_accuracy: 0.7170\n",
            "Epoch 13/30\n",
            "100/100 [==============================] - 116s 1s/step - loss: 0.3475 - accuracy: 0.8550 - val_loss: 0.5945 - val_accuracy: 0.7040\n",
            "Epoch 14/30\n",
            "100/100 [==============================] - 115s 1s/step - loss: 0.3272 - accuracy: 0.8645 - val_loss: 0.5660 - val_accuracy: 0.7340\n",
            "Epoch 15/30\n",
            "100/100 [==============================] - 115s 1s/step - loss: 0.3016 - accuracy: 0.8650 - val_loss: 0.5641 - val_accuracy: 0.7250\n",
            "Epoch 16/30\n",
            "100/100 [==============================] - 116s 1s/step - loss: 0.2886 - accuracy: 0.8855 - val_loss: 0.6150 - val_accuracy: 0.7270\n",
            "Epoch 17/30\n",
            "100/100 [==============================] - 115s 1s/step - loss: 0.2675 - accuracy: 0.8895 - val_loss: 0.5702 - val_accuracy: 0.7360\n",
            "Epoch 18/30\n",
            "100/100 [==============================] - 115s 1s/step - loss: 0.2445 - accuracy: 0.9015 - val_loss: 0.5738 - val_accuracy: 0.7410\n",
            "Epoch 19/30\n",
            "100/100 [==============================] - 116s 1s/step - loss: 0.2313 - accuracy: 0.9125 - val_loss: 0.5930 - val_accuracy: 0.7380\n",
            "Epoch 20/30\n",
            "100/100 [==============================] - 115s 1s/step - loss: 0.2044 - accuracy: 0.9205 - val_loss: 0.6474 - val_accuracy: 0.7260\n",
            "Epoch 21/30\n",
            "100/100 [==============================] - 115s 1s/step - loss: 0.1808 - accuracy: 0.9315 - val_loss: 0.6300 - val_accuracy: 0.7330\n",
            "Epoch 22/30\n",
            "100/100 [==============================] - 115s 1s/step - loss: 0.1701 - accuracy: 0.9360 - val_loss: 0.6839 - val_accuracy: 0.7370\n",
            "Epoch 23/30\n",
            "100/100 [==============================] - 115s 1s/step - loss: 0.1496 - accuracy: 0.9490 - val_loss: 0.6966 - val_accuracy: 0.7390\n",
            "Epoch 24/30\n",
            "100/100 [==============================] - 115s 1s/step - loss: 0.1330 - accuracy: 0.9520 - val_loss: 0.7397 - val_accuracy: 0.7220\n",
            "Epoch 25/30\n",
            "100/100 [==============================] - 115s 1s/step - loss: 0.1226 - accuracy: 0.9585 - val_loss: 0.7663 - val_accuracy: 0.7220\n",
            "Epoch 26/30\n",
            "100/100 [==============================] - 115s 1s/step - loss: 0.1117 - accuracy: 0.9640 - val_loss: 0.7495 - val_accuracy: 0.7290\n",
            "Epoch 27/30\n",
            "100/100 [==============================] - 115s 1s/step - loss: 0.0953 - accuracy: 0.9725 - val_loss: 0.8568 - val_accuracy: 0.7260\n",
            "Epoch 28/30\n",
            "100/100 [==============================] - 115s 1s/step - loss: 0.0900 - accuracy: 0.9690 - val_loss: 0.8066 - val_accuracy: 0.7360\n",
            "Epoch 29/30\n",
            "100/100 [==============================] - 115s 1s/step - loss: 0.0776 - accuracy: 0.9755 - val_loss: 0.8974 - val_accuracy: 0.7140\n",
            "Epoch 30/30\n",
            "100/100 [==============================] - 115s 1s/step - loss: 0.0571 - accuracy: 0.9860 - val_loss: 0.9087 - val_accuracy: 0.7270\n"
          ],
          "name": "stdout"
        }
      ]
    },
    {
      "cell_type": "markdown",
      "metadata": {
        "id": "iPT2KNEQXRqZ",
        "colab_type": "text"
      },
      "source": [
        "It’s good practice to always save your models after training."
      ]
    },
    {
      "cell_type": "code",
      "metadata": {
        "id": "BK0vtikUXSUW",
        "colab_type": "code",
        "colab": {}
      },
      "source": [
        "model.save('cats_and_dogs_small_1.h5')"
      ],
      "execution_count": 0,
      "outputs": []
    },
    {
      "cell_type": "markdown",
      "metadata": {
        "id": "9bBw-w7LXW8x",
        "colab_type": "text"
      },
      "source": [
        "Let's plot the loss and accuracy of the model over the training and validation data during training:"
      ]
    },
    {
      "cell_type": "code",
      "metadata": {
        "id": "UlNSRaAnW8zA",
        "colab_type": "code",
        "colab": {
          "base_uri": "https://localhost:8080/",
          "height": 545
        },
        "outputId": "6a3c6620-f41e-45b9-c1e0-55f846c0f73c"
      },
      "source": [
        "acc = history.history['accuracy']\n",
        "val_acc = history.history['val_accuracy']\n",
        "loss = history.history['loss']\n",
        "val_loss = history.history['val_loss']\n",
        "\n",
        "epochs = range(len(acc))\n",
        "\n",
        "plt.plot(epochs, acc, 'go', label='Training acc')\n",
        "plt.plot(epochs, val_acc, 'g', label='Validation acc')\n",
        "plt.title('Training and validation accuracy')\n",
        "plt.legend()\n",
        "\n",
        "plt.figure()\n",
        "\n",
        "plt.plot(epochs, loss, 'ro', label='Training loss')\n",
        "plt.plot(epochs, val_loss, 'r', label='Validation loss')\n",
        "plt.title('Training and validation loss')\n",
        "plt.legend()\n",
        "\n",
        "plt.show()"
      ],
      "execution_count": 23,
      "outputs": [
        {
          "output_type": "display_data",
          "data": {
            "image/png": "[encoded data removed]",
            "text/plain": [
              "<Figure size 432x288 with 1 Axes>"
            ]
          },
          "metadata": {
            "tags": []
          }
        },
        {
          "output_type": "display_data",
          "data": {
            "image/png": "[encoded data removed]",
            "text/plain": [
              "<Figure size 432x288 with 1 Axes>"
            ]
          },
          "metadata": {
            "tags": []
          }
        }
      ]
    },
    {
      "cell_type": "markdown",
      "metadata": {
        "id": "oDRGwKmGnPz7",
        "colab_type": "text"
      },
      "source": [
        "These plots are characteristic of overfitting. Our training accuracy increases linearly over time, until it reaches nearly 100%, while our validation accuracy stalls at 70-72%. Our validation loss reaches its minimum after only five epochs then stalls, while the training loss keeps decreasing linearly until it reaches nearly 0.\n",
        "\n",
        "Because we only have relatively few training samples (2000), overfitting is going to be our number one concern. You already know about a number of techniques that can help mitigate overfitting, such as dropout and weight decay (L2 regularization). We are now going to introduce a new one, specific to computer vision, and used almost universally when processing images with deep learning models: data augmentation."
      ]
    },
    {
      "cell_type": "markdown",
      "metadata": {
        "id": "-IdAd1YfnQs8",
        "colab_type": "text"
      },
      "source": [
        "## Using data augmentation"
      ]
    },
    {
      "cell_type": "markdown",
      "metadata": {
        "id": "dyHb19G9nUFm",
        "colab_type": "text"
      },
      "source": [
        ""
      ]
    },
    {
      "cell_type": "code",
      "metadata": {
        "id": "43kDkRl9nBBm",
        "colab_type": "code",
        "colab": {}
      },
      "source": [
        ""
      ],
      "execution_count": 0,
      "outputs": []
    }
  ]
}