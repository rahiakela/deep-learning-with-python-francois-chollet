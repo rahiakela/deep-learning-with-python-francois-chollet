{
  "nbformat": 4,
  "nbformat_minor": 0,
  "metadata": {
    "colab": {
      "name": "2-training-convnet-from-scratch-on-small-dataset.ipynb",
      "provenance": [],
      "toc_visible": true,
      "authorship_tag": "ABX9TyMiQkgz9Kw6qsBGN7LDGXAz",
      "include_colab_link": true
    },
    "kernelspec": {
      "name": "python3",
      "display_name": "Python 3"
    }
  },
  "cells": [
    {
      "cell_type": "markdown",
      "metadata": {
        "id": "view-in-github",
        "colab_type": "text"
      },
      "source": [
        "<a href=\"https://colab.research.google.com/github/rahiakela/deep-learning-with-python-francois-chollet/blob/5-deep-learning-for-computer-vision/2_training_convnet_from_scratch_on_small_dataset.ipynb\" target=\"_parent\"><img src=\"https://colab.research.google.com/assets/colab-badge.svg\" alt=\"Open In Colab\"/></a>"
      ]
    },
    {
      "cell_type": "markdown",
      "metadata": {
        "id": "ichjB7bqxOAY",
        "colab_type": "text"
      },
      "source": [
        "# Training convnet from scratch on a small dataset"
      ]
    },
    {
      "cell_type": "markdown",
      "metadata": {
        "id": "cuAC7iFf3eDN",
        "colab_type": "text"
      },
      "source": [
        "Having to train an image-classification model using very little data is a common situation, which you’ll likely encounter in practice if you ever do computer vision in a professional context. \n",
        "\n",
        "A “few” samples can mean anywhere from a few hundred to a\n",
        "few tens of thousands of images. As a practical example, we’ll focus on classifying images as dogs or cats, in a dataset containing 4,000 pictures of cats and dogs (2,000 cats, 2,000 dogs). We’ll use 2,000 pictures for training—1,000 for validation, and 1,000 for testing.\n",
        "\n",
        "We’ll review one basic strategy to tackle this problem: **training a new model from scratch using what little data you have**. You’ll start by naively training a small convnet on the 2,000 training samples, without any regularization, to set a baseline for what can be achieved. \n",
        "\n",
        "This will get you to a classification accuracy of 71%. At\n",
        "that point, the main issue will be overfitting. Then we’ll introduce data augmentation, a powerful technique for mitigating overfitting in computer vision. By using data augmentation you’ll improve the network to reach an accuracy of 82%.\n",
        "\n",
        "We’ll review two more essential techniques for applying deep\n",
        "learning to small datasets: \n",
        "* **feature extraction with a pretrained network** (which will get you to an accuracy of 90% to 96%) \n",
        "* and **fine-tuning a pretrained network** (this will get you to a final accuracy of 97%). \n",
        "\n",
        "Together, these three strategies—training a small model from scratch, doing feature extraction using a pretrained model, and fine-tuning a pretrained model—will constitute your future toolbox for tackling the problem of performing image classification with small datasets."
      ]
    },
    {
      "cell_type": "markdown",
      "metadata": {
        "id": "-zGItxc6zWrr",
        "colab_type": "text"
      },
      "source": [
        "## Setup"
      ]
    },
    {
      "cell_type": "code",
      "metadata": {
        "id": "Wh8l50IVzYEb",
        "colab_type": "code",
        "outputId": "77c711d3-b918-432d-ae9b-93a539afd0c8",
        "colab": {
          "base_uri": "https://localhost:8080/",
          "height": 0
        }
      },
      "source": [
        "from __future__ import absolute_import, division, print_function, unicode_literals\n",
        "\n",
        "try:\n",
        "  # %tensorflow_version only exists in Colab.\n",
        "  %tensorflow_version 2.x\n",
        "except Exception:\n",
        "  pass\n",
        "import tensorflow as tf\n",
        "from tensorflow import keras\n",
        "import numpy as np\n",
        "import pandas as pd\n",
        "\n",
        "import matplotlib.pyplot as plt"
      ],
      "execution_count": 1,
      "outputs": [
        {
          "output_type": "stream",
          "text": [
            "TensorFlow 2.x selected.\n"
          ],
          "name": "stdout"
        }
      ]
    },
    {
      "cell_type": "markdown",
      "metadata": {
        "id": "uOkYmhcV5vcZ",
        "colab_type": "text"
      },
      "source": [
        "## The relevance of deep learning for small-data problems"
      ]
    },
    {
      "cell_type": "markdown",
      "metadata": {
        "id": "CT-1Dy5L5xIJ",
        "colab_type": "text"
      },
      "source": [
        "You’ll sometimes hear that deep learning only works when lots of data is available. This is valid in part: one fundamental characteristic of deep learning is that it can find interesting features in the training data on its own, without any need for manual feature engineering, and this can only be achieved when lots of training examples are available. This is especially true for problems where the input samples are very highdimensional, like images.\n",
        "\n"
      ]
    },
    {
      "cell_type": "markdown",
      "metadata": {
        "id": "rCvFQyXx6WSS",
        "colab_type": "text"
      },
      "source": [
        "## Downloading the data"
      ]
    },
    {
      "cell_type": "markdown",
      "metadata": {
        "id": "gOTpVn9D6XSA",
        "colab_type": "text"
      },
      "source": [
        "The Dogs vs. Cats dataset that you’ll use isn’t packaged with Keras. It was made available by Kaggle as part of a computer-vision competition in late 2013, back when convnets weren’t mainstream. You can download the original dataset from [www.kaggle.com/c/dogs-vs-cats/data](https://www.kaggle.com/c/dogs-vs-cats/data).\n",
        "\n",
        "<img src='https://s3.amazonaws.com/book.keras.io/img/ch5/cats_vs_dogs_samples.jpg?raw=1' width='800'/>\n",
        "\n",
        "Unsurprisingly, the dogs-versus-cats Kaggle competition in 2013 was won by entrants who used convnets. The best entries achieved up to 95% accuracy. In this example, you’ll get fairly close to this accuracy (in the next section), even though you’ll train\n",
        "your models on less than 10% of the data that was available to the competitors.\n",
        "\n",
        "This dataset contains 25,000 images of dogs and cats (12,500 from each class) and is 543 MB (compressed). After downloading and uncompressing it, you’ll create a new dataset containing three subsets: a training set with 1,000 samples of each class, a validation set with 500 samples of each class, and a test set with 500 samples of each class.\n",
        "\n",
        "Let's donload datasets from Kaggle."
      ]
    },
    {
      "cell_type": "code",
      "metadata": {
        "id": "cxrWXQlHzYw7",
        "colab_type": "code",
        "outputId": "e679152b-2273-4d53-bd9f-f8be9dfe936f",
        "colab": {
          "base_uri": "https://localhost:8080/",
          "height": 144
        }
      },
      "source": [
        "# reference: https://medium.com/@saedhussain/google-colaboratory-and-kaggle-datasets-b57a83eb6ef8\n",
        "# Install Kaggle library\n",
        "! pip install -q kaggle"
      ],
      "execution_count": 2,
      "outputs": [
        {
          "output_type": "stream",
          "text": [
            "\u001b[?25l\r\u001b[K     |██▊                             | 10kB 24.1MB/s eta 0:00:01\r\u001b[K     |█████▌                          | 20kB 1.8MB/s eta 0:00:01\r\u001b[K     |████████▎                       | 30kB 2.4MB/s eta 0:00:01\r\u001b[K     |███████████                     | 40kB 1.7MB/s eta 0:00:01\r\u001b[K     |█████████████▉                  | 51kB 2.1MB/s eta 0:00:01\r\u001b[K     |████████████████▌               | 61kB 2.5MB/s eta 0:00:01\r\u001b[K     |███████████████████▎            | 71kB 2.6MB/s eta 0:00:01\r\u001b[K     |██████████████████████          | 81kB 2.7MB/s eta 0:00:01\r\u001b[K     |████████████████████████▉       | 92kB 3.1MB/s eta 0:00:01\r\u001b[K     |███████████████████████████▋    | 102kB 2.8MB/s eta 0:00:01\r\u001b[K     |██████████████████████████████▍ | 112kB 2.8MB/s eta 0:00:01\r\u001b[K     |████████████████████████████████| 122kB 2.8MB/s \n",
            "\u001b[31mERROR: tensor2tensor 1.14.1 has requirement tensorflow-probability==0.7.0, but you'll have tensorflow-probability 0.9.0 which is incompatible.\u001b[0m\n",
            "\u001b[31mERROR: google-colab 1.0.0 has requirement google-auth~=1.7.2, but you'll have google-auth 1.11.0 which is incompatible.\u001b[0m\n",
            "\u001b[31mERROR: google-colab 1.0.0 has requirement requests~=2.21.0, but you'll have requests 2.22.0 which is incompatible.\u001b[0m\n",
            "\u001b[31mERROR: google-colab 1.0.0 has requirement six~=1.12.0, but you'll have six 1.14.0 which is incompatible.\u001b[0m\n",
            "\u001b[31mERROR: datascience 0.10.6 has requirement folium==0.2.1, but you'll have folium 0.8.3 which is incompatible.\u001b[0m\n",
            "\u001b[?25h"
          ],
          "name": "stdout"
        }
      ]
    },
    {
      "cell_type": "code",
      "metadata": {
        "id": "XQrm3kCLB3xL",
        "colab_type": "code",
        "outputId": "6fcdc08e-6ae3-4322-a2f0-df8e003fe3e9",
        "colab": {
          "base_uri": "https://localhost:8080/",
          "height": 159
        }
      },
      "source": [
        "# Try to downlaod data for the dogs-vs-cats challenge, it will fail.\n",
        "!kaggle competitions download -c dogs-vs-cats"
      ],
      "execution_count": 3,
      "outputs": [
        {
          "output_type": "stream",
          "text": [
            "Traceback (most recent call last):\n",
            "  File \"/usr/local/bin/kaggle\", line 5, in <module>\n",
            "    from kaggle.cli import main\n",
            "  File \"/usr/local/lib/python2.7/dist-packages/kaggle/__init__.py\", line 23, in <module>\n",
            "    api.authenticate()\n",
            "  File \"/usr/local/lib/python2.7/dist-packages/kaggle/api/kaggle_api_extended.py\", line 146, in authenticate\n",
            "    self.config_file, self.config_dir))\n",
            "IOError: Could not find kaggle.json. Make sure it's located in /root/.kaggle. Or use the environment method.\n"
          ],
          "name": "stdout"
        }
      ]
    },
    {
      "cell_type": "code",
      "metadata": {
        "id": "3xHrkYW113ml",
        "colab_type": "code",
        "colab": {}
      },
      "source": [
        "# copy kaggle.json file to .kaggle directory\n",
        "! cp kaggle.json ~/.kaggle/"
      ],
      "execution_count": 0,
      "outputs": []
    },
    {
      "cell_type": "code",
      "metadata": {
        "id": "OxaTNBDozx06",
        "colab_type": "code",
        "outputId": "ee7e43ec-7b90-4d2d-ef52-7185472b4336",
        "colab": {
          "base_uri": "https://localhost:8080/",
          "height": 232
        }
      },
      "source": [
        "# Now try to downlaod data for the dogs-vs-cats challenge, it will succeed\n",
        "!kaggle competitions download -c dogs-vs-cats"
      ],
      "execution_count": 5,
      "outputs": [
        {
          "output_type": "stream",
          "text": [
            "Warning: Your Kaggle API key is readable by other users on this system! To fix this, you can run 'chmod 600 /root/.kaggle/kaggle.json'\n",
            "Warning: Looks like you're using an outdated API Version, please consider updating (server 1.5.6 / client 1.5.4)\n",
            "Downloading train.zip to /content\n",
            " 98% 533M/543M [00:08<00:00, 57.8MB/s]\n",
            "100% 543M/543M [00:08<00:00, 67.1MB/s]\n",
            "Downloading test1.zip to /content\n",
            " 97% 264M/271M [00:05<00:00, 70.6MB/s]\n",
            "100% 271M/271M [00:05<00:00, 47.8MB/s]\n",
            "Downloading sampleSubmission.csv to /content\n",
            "  0% 0.00/86.8k [00:00<?, ?B/s]\n",
            "100% 86.8k/86.8k [00:00<00:00, 31.4MB/s]\n"
          ],
          "name": "stdout"
        }
      ]
    },
    {
      "cell_type": "markdown",
      "metadata": {
        "id": "X_RL5NfW8Oek",
        "colab_type": "text"
      },
      "source": [
        "### Copying images to training, validation, and test directories"
      ]
    },
    {
      "cell_type": "code",
      "metadata": {
        "id": "Yun4Uiru0nb1",
        "colab_type": "code",
        "colab": {}
      },
      "source": [
        "import os, shutil\n",
        "import zipfile"
      ],
      "execution_count": 0,
      "outputs": []
    },
    {
      "cell_type": "code",
      "metadata": {
        "id": "1ITh9ZMqCZKI",
        "colab_type": "code",
        "colab": {}
      },
      "source": [
        "# path to the directory where the original dataset was uncompressed\n",
        "original_dataset_dir = 'kaggle_original_data'\n",
        "# directory where we will store our smaller dataset\n",
        "base_dir = 'cats_and_dogs_small'\n",
        "\n",
        "# remove directories if it already exists\n",
        "shutil.rmtree(original_dataset_dir, ignore_errors=True)\n",
        "shutil.rmtree(base_dir, ignore_errors=True)\n",
        "\n",
        "# create directories\n",
        "os.mkdir(original_dataset_dir)\n",
        "os.mkdir(base_dir)"
      ],
      "execution_count": 0,
      "outputs": []
    },
    {
      "cell_type": "code",
      "metadata": {
        "id": "YAF9VlrFDB8f",
        "colab_type": "code",
        "colab": {}
      },
      "source": [
        "# unzip train dataset\n",
        "with zipfile.ZipFile(\"train.zip\",\"r\") as zip_ref:\n",
        "    zip_ref.extractall(original_dataset_dir)\n",
        "\n",
        "# unzip test dataset\n",
        "with zipfile.ZipFile(\"test1.zip\",\"r\") as zip_ref:\n",
        "    zip_ref.extractall(original_dataset_dir)"
      ],
      "execution_count": 0,
      "outputs": []
    },
    {
      "cell_type": "code",
      "metadata": {
        "id": "vdSkCRD5Duua",
        "colab_type": "code",
        "colab": {}
      },
      "source": [
        "# create directories for our training, validation and test splits\n",
        "train_dir = os.path.join(base_dir, 'train')\n",
        "os.mkdir(train_dir)\n",
        "validation_dir = os.path.join(base_dir, 'validation')\n",
        "os.mkdir(validation_dir)\n",
        "test_dir = os.path.join(base_dir, 'test')\n",
        "os.mkdir(test_dir)\n",
        "\n",
        "# create directory with our training cat/dog pictures\n",
        "train_cats_dir = os.path.join(train_dir, 'cats')\n",
        "os.mkdir(train_cats_dir)\n",
        "train_dogs_dir = os.path.join(train_dir, 'dogs')\n",
        "os.mkdir(train_dogs_dir)\n",
        "\n",
        "# create directory with our validation cat/dog pictures\n",
        "validation_cats_dir = os.path.join(validation_dir, 'cats')\n",
        "os.mkdir(validation_cats_dir)\n",
        "validation_dogs_dir = os.path.join(validation_dir, 'dogs')\n",
        "os.mkdir(validation_dogs_dir)\n",
        "\n",
        "# create directory with our test cat/dog pictures\n",
        "test_cats_dir = os.path.join(test_dir, 'cats')\n",
        "os.mkdir(test_cats_dir)\n",
        "test_dogs_dir = os.path.join(test_dir, 'dogs')\n",
        "os.mkdir(test_dogs_dir)\n",
        "\n",
        "# Copy first 1000 cat images to train_cats_dir\n",
        "fnames = ['cat.{}.jpg'.format(i) for i in range(1000)]\n",
        "for fname in fnames:\n",
        "    src = os.path.join(original_dataset_dir + '/train/', fname)\n",
        "    dst = os.path.join(train_cats_dir, fname)\n",
        "    shutil.copyfile(src, dst)\n",
        "# Copy next 500 cat images to validation_cats_dir\n",
        "fnames = ['cat.{}.jpg'.format(i) for i in range(1000, 1500)]\n",
        "for fname in fnames:\n",
        "    src = os.path.join(original_dataset_dir + '/train/', fname)\n",
        "    dst = os.path.join(validation_cats_dir, fname)\n",
        "    shutil.copyfile(src, dst)\n",
        "# Copy next 500 cat images to test_cats_dir\n",
        "fnames = ['cat.{}.jpg'.format(i) for i in range(1500, 2000)]\n",
        "for fname in fnames:\n",
        "    src = os.path.join(original_dataset_dir + '/train/', fname)\n",
        "    dst = os.path.join(test_cats_dir, fname)\n",
        "    shutil.copyfile(src, dst)\n",
        "    \n",
        "# Copy first 1000 dog images to train_dogs_dir\n",
        "fnames = ['dog.{}.jpg'.format(i) for i in range(1000)]\n",
        "for fname in fnames:\n",
        "    src = os.path.join(original_dataset_dir + '/train/', fname)\n",
        "    dst = os.path.join(train_dogs_dir, fname)\n",
        "    shutil.copyfile(src, dst)\n",
        "# Copy next 500 dog images to validation_dogs_dir\n",
        "fnames = ['dog.{}.jpg'.format(i) for i in range(1000, 1500)]\n",
        "for fname in fnames:\n",
        "    src = os.path.join(original_dataset_dir + '/train/', fname)\n",
        "    dst = os.path.join(validation_dogs_dir, fname)\n",
        "    shutil.copyfile(src, dst)\n",
        "# Copy next 500 dog images to test_dogs_dir\n",
        "fnames = ['dog.{}.jpg'.format(i) for i in range(1500, 2000)]\n",
        "for fname in fnames:\n",
        "    src = os.path.join(original_dataset_dir + '/train/', fname)\n",
        "    dst = os.path.join(test_dogs_dir, fname)\n",
        "    shutil.copyfile(src, dst)"
      ],
      "execution_count": 0,
      "outputs": []
    },
    {
      "cell_type": "markdown",
      "metadata": {
        "id": "Jnzszi6OFI4h",
        "colab_type": "text"
      },
      "source": [
        "As a sanity check, let's count how many pictures we have in each training split (train/validation/test):"
      ]
    },
    {
      "cell_type": "code",
      "metadata": {
        "id": "IKmHOTBQFJoL",
        "colab_type": "code",
        "outputId": "63aa6805-a4ad-4b79-b0fe-ad83343898b7",
        "colab": {
          "base_uri": "https://localhost:8080/",
          "height": 124
        }
      },
      "source": [
        "print(f'total training cat images: {len(os.listdir(train_cats_dir))}')\n",
        "print(f'total training dog  images: {len(os.listdir(train_dogs_dir))}')\n",
        "print(f'total validation  cat images: {len(os.listdir(validation_cats_dir))}')\n",
        "print(f'total validation  dog images: {len(os.listdir(validation_dogs_dir))}')\n",
        "print(f'total test cat images: {len(os.listdir(test_cats_dir))}')\n",
        "print(f'total test dog images: {len(os.listdir(test_dogs_dir))}')"
      ],
      "execution_count": 10,
      "outputs": [
        {
          "output_type": "stream",
          "text": [
            "total training cat images: 1000\n",
            "total training dog  images: 1000\n",
            "total validation  cat images: 500\n",
            "total validation  dog images: 500\n",
            "total test cat images: 500\n",
            "total test dog images: 500\n"
          ],
          "name": "stdout"
        }
      ]
    },
    {
      "cell_type": "markdown",
      "metadata": {
        "id": "OgtkqUEKO9nh",
        "colab_type": "text"
      },
      "source": [
        "So we have indeed 2000 training images, and then 1000 validation images and 1000 test images. In each split, there is the same number of samples from each class: this is a balanced binary classification problem, which means that classification accuracy will be an appropriate measure of success."
      ]
    },
    {
      "cell_type": "markdown",
      "metadata": {
        "id": "rFnjnUgNPBk2",
        "colab_type": "text"
      },
      "source": [
        "## Building our network"
      ]
    },
    {
      "cell_type": "markdown",
      "metadata": {
        "id": "PXnUEJ9kPEaq",
        "colab_type": "text"
      },
      "source": [
        "We've already built a small convnet for MNIST in the previous example, so you should be familiar with them. We will reuse the same general structure: our convnet will be a stack of alternated Conv2D (with relu activation) and MaxPooling2D layers.\n",
        "\n",
        "However, since we are dealing with bigger images and a more complex problem, we will make our network accordingly larger: it will have one more Conv2D + MaxPooling2D stage. This serves both to augment the capacity of the network, and to further reduce the size of the feature maps, so that they aren't overly large when we reach the Flatten layer. Here, since we start from inputs of size 150x150 (a somewhat arbitrary choice), we end up with feature maps of size 7x7 right before the Flatten layer.\n",
        "\n",
        "Note that the depth of the feature maps is progressively increasing in the network (from 32 to 128), while the size of the feature maps is decreasing (from 148x148 to 7x7). This is a pattern that you will see in almost all convnets.\n",
        "\n",
        "Since we are attacking a binary classification problem, we are ending the network with a single unit (a Dense layer of size 1) and a sigmoid activation. This unit will encode the probability that the network is looking at one class or the other."
      ]
    },
    {
      "cell_type": "code",
      "metadata": {
        "id": "770LmLG6O3tC",
        "colab_type": "code",
        "colab": {}
      },
      "source": [
        "model = keras.models.Sequential()\n",
        "\n",
        "# Conv2D + MaxPooling2D layer\n",
        "model.add(keras.layers.Conv2D(32, (3, 3), activation='relu', input_shape=(150, 150, 3)))\n",
        "model.add(keras.layers.MaxPooling2D((2, 2)))\n",
        "\n",
        "model.add(keras.layers.Conv2D(64, (3, 3), activation='relu'))\n",
        "model.add(keras.layers.MaxPooling2D((2, 2)))\n",
        "\n",
        "model.add(keras.layers.Conv2D(128, (3, 3), activation='relu'))\n",
        "model.add(keras.layers.MaxPooling2D((2, 2)))\n",
        "\n",
        "model.add(keras.layers.Conv2D(128, (3, 3), activation='relu'))\n",
        "model.add(keras.layers.MaxPooling2D((2, 2)))\n",
        "\n",
        "# Flatten layer\n",
        "model.add(keras.layers.Flatten())\n",
        "\n",
        "# Dense layer\n",
        "model.add(keras.layers.Dense(512, activation='relu'))\n",
        "model.add(keras.layers.Dense(1, activation='sigmoid'))"
      ],
      "execution_count": 0,
      "outputs": []
    },
    {
      "cell_type": "markdown",
      "metadata": {
        "id": "4BJSGMCmEC6Q",
        "colab_type": "text"
      },
      "source": [
        "Let's take a look at how the dimensions of the feature maps change with every successive layer:"
      ]
    },
    {
      "cell_type": "code",
      "metadata": {
        "id": "9brlYbRCCs_r",
        "colab_type": "code",
        "outputId": "183da732-fa3c-4a11-c144-ea9a623af3a6",
        "colab": {
          "base_uri": "https://localhost:8080/",
          "height": 550
        }
      },
      "source": [
        "model.summary()"
      ],
      "execution_count": 0,
      "outputs": [
        {
          "output_type": "stream",
          "text": [
            "Model: \"sequential\"\n",
            "_________________________________________________________________\n",
            "Layer (type)                 Output Shape              Param #   \n",
            "=================================================================\n",
            "conv2d (Conv2D)              (None, 148, 148, 32)      896       \n",
            "_________________________________________________________________\n",
            "max_pooling2d (MaxPooling2D) (None, 74, 74, 32)        0         \n",
            "_________________________________________________________________\n",
            "conv2d_1 (Conv2D)            (None, 72, 72, 64)        18496     \n",
            "_________________________________________________________________\n",
            "max_pooling2d_1 (MaxPooling2 (None, 36, 36, 64)        0         \n",
            "_________________________________________________________________\n",
            "conv2d_2 (Conv2D)            (None, 34, 34, 128)       73856     \n",
            "_________________________________________________________________\n",
            "max_pooling2d_2 (MaxPooling2 (None, 17, 17, 128)       0         \n",
            "_________________________________________________________________\n",
            "conv2d_3 (Conv2D)            (None, 15, 15, 128)       147584    \n",
            "_________________________________________________________________\n",
            "max_pooling2d_3 (MaxPooling2 (None, 7, 7, 128)         0         \n",
            "_________________________________________________________________\n",
            "flatten (Flatten)            (None, 6272)              0         \n",
            "_________________________________________________________________\n",
            "dense (Dense)                (None, 512)               3211776   \n",
            "_________________________________________________________________\n",
            "dense_1 (Dense)              (None, 1)                 513       \n",
            "=================================================================\n",
            "Total params: 3,453,121\n",
            "Trainable params: 3,453,121\n",
            "Non-trainable params: 0\n",
            "_________________________________________________________________\n"
          ],
          "name": "stdout"
        }
      ]
    },
    {
      "cell_type": "markdown",
      "metadata": {
        "id": "EvK9vV23EOd8",
        "colab_type": "text"
      },
      "source": [
        "For our compilation step, we'll go with the RMSprop optimizer as usual. Since we ended our network with a single sigmoid unit, we will use binary crossentropy as our loss."
      ]
    },
    {
      "cell_type": "code",
      "metadata": {
        "id": "ZozpU8NJEFex",
        "colab_type": "code",
        "colab": {}
      },
      "source": [
        "model.compile(loss='binary_crossentropy', optimizer=keras.optimizers.RMSprop(learning_rate=1e-4), metrics=['accuracy'])"
      ],
      "execution_count": 0,
      "outputs": []
    },
    {
      "cell_type": "markdown",
      "metadata": {
        "id": "snGpSj64ErlG",
        "colab_type": "text"
      },
      "source": [
        "## Data preprocessing"
      ]
    },
    {
      "cell_type": "markdown",
      "metadata": {
        "id": "MybzzDYnEsgp",
        "colab_type": "text"
      },
      "source": [
        "As you already know by now, data should be formatted into appropriately pre-processed floating point tensors before being fed into our network. Currently, our data sits on a drive as JPEG files, so the steps for getting it into our network are roughly:\n",
        "\n",
        "* Read the picture files.\n",
        "* Decode the JPEG content to RBG grids of pixels.\n",
        "* Convert these into floating point tensors.\n",
        "* Rescale the pixel values (between 0 and 255) to the [0, 1] interval (as you know, neural networks prefer to deal with small input values).\n",
        "\n",
        "It may seem a bit daunting, but thankfully Keras has utilities to take care of these steps automatically. Keras has a module with image processing helper tools, located at keras.preprocessing.image. \n",
        "\n",
        "In particular, it contains the class ImageDataGenerator which allows to quickly set up Python generators that can automatically turn image files on disk into batches of pre-processed tensors. This is what we will use here."
      ]
    },
    {
      "cell_type": "markdown",
      "metadata": {
        "id": "llWqmhHoSVa6",
        "colab_type": "text"
      },
      "source": [
        "### Using ImageDataGenerator to read images from directories"
      ]
    },
    {
      "cell_type": "code",
      "metadata": {
        "id": "N6Z2eXcWSWn3",
        "colab_type": "code",
        "colab": {}
      },
      "source": [
        "from tensorflow.keras.preprocessing.image import ImageDataGenerator"
      ],
      "execution_count": 0,
      "outputs": []
    },
    {
      "cell_type": "code",
      "metadata": {
        "id": "hY478uNQEmk0",
        "colab_type": "code",
        "outputId": "db63c9fb-03fa-4bf9-81d3-462a10ffe9c0",
        "colab": {
          "base_uri": "https://localhost:8080/",
          "height": 52
        }
      },
      "source": [
        "# All images will be rescaled by 1./255\n",
        "train_datagen = ImageDataGenerator(rescale=1. / 255)\n",
        "test_datagen = ImageDataGenerator(rescale=1. / 255)\n",
        "\n",
        "train_generator = train_datagen.flow_from_directory(train_dir, # target directory\n",
        "                                                    target_size=(150, 150), # resized to 150x150\n",
        "                                                    batch_size=20,\n",
        "                                                    # Since we use binary_crossentropy loss, we need binary labels\n",
        "                                                    class_mode='binary')\n",
        "validation_generator = test_datagen.flow_from_directory(validation_dir,\n",
        "                                                        target_size=(150, 150),\n",
        "                                                        batch_size=20,\n",
        "                                                        class_mode='binary')"
      ],
      "execution_count": 0,
      "outputs": [
        {
          "output_type": "stream",
          "text": [
            "Found 2000 images belonging to 2 classes.\n",
            "Found 1000 images belonging to 2 classes.\n"
          ],
          "name": "stdout"
        }
      ]
    },
    {
      "cell_type": "markdown",
      "metadata": {
        "id": "dBebZTTgUzB5",
        "colab_type": "text"
      },
      "source": [
        "Let's take a look at the output of one of these generators: it yields batches of 150x150 RGB images (shape (20, 150, 150, 3)) and binary labels (shape (20,)). 20 is the number of samples in each batch (the batch size). \n",
        "\n",
        "Note that the generator yields these batches indefinitely: it just loops endlessly over the images present in the target folder. For this reason, we need to break the iteration loop at some point."
      ]
    },
    {
      "cell_type": "code",
      "metadata": {
        "id": "pKZIjEoOTSsO",
        "colab_type": "code",
        "outputId": "b26a21df-6dd8-46e3-bab3-170130511334",
        "colab": {
          "base_uri": "https://localhost:8080/",
          "height": 52
        }
      },
      "source": [
        "for data_batch, labels_batch in train_generator:\n",
        "  print(f'data batch shape: {data_batch.shape}')\n",
        "  print(f'labels batch shape: {labels_batch.shape}')\n",
        "  break"
      ],
      "execution_count": 0,
      "outputs": [
        {
          "output_type": "stream",
          "text": [
            "data batch shape: (20, 150, 150, 3)\n",
            "labels batch shape: (20,)\n"
          ],
          "name": "stdout"
        }
      ]
    },
    {
      "cell_type": "markdown",
      "metadata": {
        "id": "mZ2AxynxV8Fp",
        "colab_type": "text"
      },
      "source": [
        "### Fitting the model using a batch generator"
      ]
    },
    {
      "cell_type": "markdown",
      "metadata": {
        "id": "wF3AMnA_V9H3",
        "colab_type": "text"
      },
      "source": [
        "Let's fit our model to the data using the generator. We do it using the fit_generator method, the equivalent of fit for data generators like ours. It expects as first argument a Python generator that will yield batches of inputs and targets indefinitely, like ours does. Because the data is being generated endlessly, the generator needs to know example how many samples to draw from the generator before declaring an epoch over. \n",
        "\n",
        "This is the role of the steps_per_epoch argument: after having drawn steps_per_epoch batches from the generator, i.e. after having run for steps_per_epoch gradient descent steps, the fitting process will go to the next epoch. In our case, batches are 20-sample large, so it will take 100 batches until we see our target of 2000 samples.\n",
        "\n",
        "When using fit_generator, one may pass a validation_data argument, much like with the fit method. Importantly, this argument is allowed to be a data generator itself, but it could be a tuple of Numpy arrays as well. \n",
        "\n",
        "If you pass a generator as validation_data, then this generator is expected to yield batches of validation data endlessly, and thus you should also specify the validation_steps argument, which tells the process how many batches to draw from the validation generator for evaluation."
      ]
    },
    {
      "cell_type": "code",
      "metadata": {
        "id": "eOkouB6MVZfn",
        "colab_type": "code",
        "outputId": "977024d7-dd28-4329-d956-612d502f28b5",
        "colab": {
          "base_uri": "https://localhost:8080/",
          "height": 1000
        }
      },
      "source": [
        "history = model.fit_generator(train_generator,\n",
        "                              steps_per_epoch=100,\n",
        "                              epochs=30,\n",
        "                              validation_data=validation_generator,\n",
        "                              validation_steps=50)"
      ],
      "execution_count": 0,
      "outputs": [
        {
          "output_type": "stream",
          "text": [
            "WARNING:tensorflow:From <ipython-input-25-cc3b85ccc5e8>:5: Model.fit_generator (from tensorflow.python.keras.engine.training) is deprecated and will be removed in a future version.\n",
            "Instructions for updating:\n",
            "Please use Model.fit, which supports generators.\n",
            "WARNING:tensorflow:sample_weight modes were coerced from\n",
            "  ...\n",
            "    to  \n",
            "  ['...']\n",
            "WARNING:tensorflow:sample_weight modes were coerced from\n",
            "  ...\n",
            "    to  \n",
            "  ['...']\n",
            "Train for 100 steps, validate for 50 steps\n",
            "Epoch 1/30\n",
            "100/100 [==============================] - 17s 166ms/step - loss: 0.6883 - accuracy: 0.5570 - val_loss: 0.6742 - val_accuracy: 0.5910\n",
            "Epoch 2/30\n",
            "100/100 [==============================] - 9s 87ms/step - loss: 0.6578 - accuracy: 0.6115 - val_loss: 0.6454 - val_accuracy: 0.6250\n",
            "Epoch 3/30\n",
            "100/100 [==============================] - 9s 87ms/step - loss: 0.6202 - accuracy: 0.6575 - val_loss: 0.6159 - val_accuracy: 0.6570\n",
            "Epoch 4/30\n",
            "100/100 [==============================] - 9s 87ms/step - loss: 0.5803 - accuracy: 0.6870 - val_loss: 0.6068 - val_accuracy: 0.6700\n",
            "Epoch 5/30\n",
            "100/100 [==============================] - 9s 86ms/step - loss: 0.5491 - accuracy: 0.7105 - val_loss: 0.6650 - val_accuracy: 0.6290\n",
            "Epoch 6/30\n",
            "100/100 [==============================] - 9s 85ms/step - loss: 0.5179 - accuracy: 0.7465 - val_loss: 0.5668 - val_accuracy: 0.7030\n",
            "Epoch 7/30\n",
            "100/100 [==============================] - 9s 86ms/step - loss: 0.4899 - accuracy: 0.7570 - val_loss: 0.5646 - val_accuracy: 0.6980\n",
            "Epoch 8/30\n",
            "100/100 [==============================] - 9s 86ms/step - loss: 0.4599 - accuracy: 0.7835 - val_loss: 0.5557 - val_accuracy: 0.7110\n",
            "Epoch 9/30\n",
            "100/100 [==============================] - 9s 86ms/step - loss: 0.4432 - accuracy: 0.7880 - val_loss: 0.5835 - val_accuracy: 0.7110\n",
            "Epoch 10/30\n",
            "100/100 [==============================] - 9s 86ms/step - loss: 0.4163 - accuracy: 0.8085 - val_loss: 0.5509 - val_accuracy: 0.7180\n",
            "Epoch 11/30\n",
            "100/100 [==============================] - 9s 87ms/step - loss: 0.3893 - accuracy: 0.8300 - val_loss: 0.5553 - val_accuracy: 0.7280\n",
            "Epoch 12/30\n",
            "100/100 [==============================] - 9s 85ms/step - loss: 0.3572 - accuracy: 0.8420 - val_loss: 0.5794 - val_accuracy: 0.7170\n",
            "Epoch 13/30\n",
            "100/100 [==============================] - 8s 85ms/step - loss: 0.3444 - accuracy: 0.8530 - val_loss: 0.5552 - val_accuracy: 0.7230\n",
            "Epoch 14/30\n",
            "100/100 [==============================] - 9s 85ms/step - loss: 0.3170 - accuracy: 0.8660 - val_loss: 0.5855 - val_accuracy: 0.7260\n",
            "Epoch 15/30\n",
            "100/100 [==============================] - 9s 87ms/step - loss: 0.2879 - accuracy: 0.8780 - val_loss: 0.5998 - val_accuracy: 0.7300\n",
            "Epoch 16/30\n",
            "100/100 [==============================] - 9s 86ms/step - loss: 0.2751 - accuracy: 0.8920 - val_loss: 0.6492 - val_accuracy: 0.7250\n",
            "Epoch 17/30\n",
            "100/100 [==============================] - 9s 86ms/step - loss: 0.2459 - accuracy: 0.9060 - val_loss: 0.6328 - val_accuracy: 0.7190\n",
            "Epoch 18/30\n",
            "100/100 [==============================] - 9s 87ms/step - loss: 0.2232 - accuracy: 0.9155 - val_loss: 0.6246 - val_accuracy: 0.7300\n",
            "Epoch 19/30\n",
            "100/100 [==============================] - 9s 85ms/step - loss: 0.2044 - accuracy: 0.9245 - val_loss: 0.6774 - val_accuracy: 0.7280\n",
            "Epoch 20/30\n",
            "100/100 [==============================] - 9s 92ms/step - loss: 0.1789 - accuracy: 0.9360 - val_loss: 0.6902 - val_accuracy: 0.7310\n",
            "Epoch 21/30\n",
            "100/100 [==============================] - 9s 92ms/step - loss: 0.1671 - accuracy: 0.9410 - val_loss: 0.6890 - val_accuracy: 0.7270\n",
            "Epoch 22/30\n",
            "100/100 [==============================] - 9s 89ms/step - loss: 0.1444 - accuracy: 0.9465 - val_loss: 0.7582 - val_accuracy: 0.7200\n",
            "Epoch 23/30\n",
            "100/100 [==============================] - 9s 88ms/step - loss: 0.1260 - accuracy: 0.9610 - val_loss: 0.7407 - val_accuracy: 0.7300\n",
            "Epoch 24/30\n",
            "100/100 [==============================] - 9s 90ms/step - loss: 0.1094 - accuracy: 0.9660 - val_loss: 0.8234 - val_accuracy: 0.7180\n",
            "Epoch 25/30\n",
            "100/100 [==============================] - 9s 91ms/step - loss: 0.0930 - accuracy: 0.9750 - val_loss: 0.8520 - val_accuracy: 0.7350\n",
            "Epoch 26/30\n",
            "100/100 [==============================] - 9s 85ms/step - loss: 0.0863 - accuracy: 0.9760 - val_loss: 0.8906 - val_accuracy: 0.7130\n",
            "Epoch 27/30\n",
            "100/100 [==============================] - 9s 85ms/step - loss: 0.0692 - accuracy: 0.9770 - val_loss: 0.9155 - val_accuracy: 0.7380\n",
            "Epoch 28/30\n",
            "100/100 [==============================] - 9s 87ms/step - loss: 0.0600 - accuracy: 0.9835 - val_loss: 0.9781 - val_accuracy: 0.7290\n",
            "Epoch 29/30\n",
            "100/100 [==============================] - 9s 87ms/step - loss: 0.0474 - accuracy: 0.9865 - val_loss: 1.0178 - val_accuracy: 0.7210\n",
            "Epoch 30/30\n",
            "100/100 [==============================] - 8s 85ms/step - loss: 0.0410 - accuracy: 0.9920 - val_loss: 1.2043 - val_accuracy: 0.7220\n"
          ],
          "name": "stdout"
        }
      ]
    },
    {
      "cell_type": "markdown",
      "metadata": {
        "id": "iPT2KNEQXRqZ",
        "colab_type": "text"
      },
      "source": [
        "It’s good practice to always save your models after training."
      ]
    },
    {
      "cell_type": "code",
      "metadata": {
        "id": "BK0vtikUXSUW",
        "colab_type": "code",
        "colab": {}
      },
      "source": [
        "model.save('cats_and_dogs_small_1.h5')"
      ],
      "execution_count": 0,
      "outputs": []
    },
    {
      "cell_type": "markdown",
      "metadata": {
        "id": "9bBw-w7LXW8x",
        "colab_type": "text"
      },
      "source": [
        "Let's plot the loss and accuracy of the model over the training and validation data during training:"
      ]
    },
    {
      "cell_type": "code",
      "metadata": {
        "id": "UlNSRaAnW8zA",
        "colab_type": "code",
        "outputId": "b383577b-5966-4dbf-c067-7ec452d7e3ff",
        "colab": {
          "base_uri": "https://localhost:8080/",
          "height": 545
        }
      },
      "source": [
        "acc = history.history['accuracy']\n",
        "val_acc = history.history['val_accuracy']\n",
        "loss = history.history['loss']\n",
        "val_loss = history.history['val_loss']\n",
        "\n",
        "epochs = range(len(acc))\n",
        "\n",
        "plt.plot(epochs, acc, 'go', label='Training acc')\n",
        "plt.plot(epochs, val_acc, 'g', label='Validation acc')\n",
        "plt.title('Training and validation accuracy')\n",
        "plt.legend()\n",
        "\n",
        "plt.figure()\n",
        "\n",
        "plt.plot(epochs, loss, 'ro', label='Training loss')\n",
        "plt.plot(epochs, val_loss, 'r', label='Validation loss')\n",
        "plt.title('Training and validation loss')\n",
        "plt.legend()\n",
        "\n",
        "plt.show()"
      ],
      "execution_count": 0,
      "outputs": [
        {
          "output_type": "display_data",
          "data": {
            "image/png": "[encoded data removed]",
            "text/plain": [
              "<Figure size 432x288 with 1 Axes>"
            ]
          },
          "metadata": {
            "tags": []
          }
        },
        {
          "output_type": "display_data",
          "data": {
            "image/png": "[encoded data removed]",
            "text/plain": [
              "<Figure size 432x288 with 1 Axes>"
            ]
          },
          "metadata": {
            "tags": []
          }
        }
      ]
    },
    {
      "cell_type": "markdown",
      "metadata": {
        "id": "oDRGwKmGnPz7",
        "colab_type": "text"
      },
      "source": [
        "These plots are characteristic of overfitting. Our training accuracy increases linearly over time, until it reaches nearly 100%, while our validation accuracy stalls at 70-72%. Our validation loss reaches its minimum after only five epochs then stalls, while the training loss keeps decreasing linearly until it reaches nearly 0.\n",
        "\n",
        "Because we only have relatively few training samples (2000), overfitting is going to be our number one concern. You already know about a number of techniques that can help mitigate overfitting, such as dropout and weight decay (L2 regularization). We are now going to introduce a new one, specific to computer vision, and used almost universally when processing images with deep learning models: data augmentation."
      ]
    },
    {
      "cell_type": "markdown",
      "metadata": {
        "id": "-IdAd1YfnQs8",
        "colab_type": "text"
      },
      "source": [
        "## Using data augmentation"
      ]
    },
    {
      "cell_type": "markdown",
      "metadata": {
        "id": "dyHb19G9nUFm",
        "colab_type": "text"
      },
      "source": [
        "Overfitting is caused by having too few samples to learn from, rendering us unable to train a model able to generalize to new data. Given infinite data, our model would be exposed to every possible aspect of the data distribution at hand: we would never overfit. \n",
        "\n",
        "Data augmentation takes the approach of generating more training data from existing training samples, by \"augmenting\" the samples via a number of random transformations that yield believable-looking images. The goal is that at training time, our model would never see the exact same picture twice. This helps the model get exposed to more aspects of the data and generalize better."
      ]
    },
    {
      "cell_type": "markdown",
      "metadata": {
        "id": "0QCs-ubMg9ud",
        "colab_type": "text"
      },
      "source": [
        "### Setting up a data augmentation configuration via ImageDataGenerator"
      ]
    },
    {
      "cell_type": "markdown",
      "metadata": {
        "id": "xYAvvct9g-0p",
        "colab_type": "text"
      },
      "source": [
        "In Keras, this can be done by configuring a number of random transformations to be performed on the images read by our ImageDataGenerator instance. Let's get started with an example:"
      ]
    },
    {
      "cell_type": "code",
      "metadata": {
        "id": "43kDkRl9nBBm",
        "colab_type": "code",
        "colab": {}
      },
      "source": [
        "datagen = ImageDataGenerator(rotation_range=40, \n",
        "                             width_shift_range=0.2,\n",
        "                             height_shift_range=0.2,\n",
        "                             shear_range=0.2,\n",
        "                             zoom_range=0.2,\n",
        "                             horizontal_flip=True,\n",
        "                             fill_mode='nearest')"
      ],
      "execution_count": 0,
      "outputs": []
    },
    {
      "cell_type": "markdown",
      "metadata": {
        "id": "fWvLU6jjeN-F",
        "colab_type": "text"
      },
      "source": [
        "These are just a few of the options available (for more, see the Keras documentation). Let's quickly go over what we just wrote:\n",
        "\n",
        "* rotation_range is a value in degrees (0-180), a range within which to randomly rotate pictures.\n",
        "* width_shift and height_shift are ranges (as a fraction of total width or height) within which to randomly translate pictures vertically or horizontally.\n",
        "* shear_range is for randomly applying shearing transformations.\n",
        "* zoom_range is for randomly zooming inside pictures.\n",
        "* horizontal_flip is for randomly flipping half of the images horizontally -- relevant when there are no assumptions of horizontal asymmetry (e.g. real-world pictures).\n",
        "* fill_mode is the strategy used for filling in newly created pixels, which can appear after a rotation or a width/height shift.\n",
        "\n",
        "Let's take a look at our augmented images:"
      ]
    },
    {
      "cell_type": "markdown",
      "metadata": {
        "id": "FXv2pdHfhG71",
        "colab_type": "text"
      },
      "source": [
        "### Displaying some randomly augmented training images"
      ]
    },
    {
      "cell_type": "code",
      "metadata": {
        "id": "jwf1jlP5ecr4",
        "colab_type": "code",
        "outputId": "e5914f1b-f85e-46bc-d36d-d83ead9aaa50",
        "colab": {
          "base_uri": "https://localhost:8080/",
          "height": 1000
        }
      },
      "source": [
        "from tensorflow.keras.preprocessing import image\n",
        "\n",
        "fnames = [os.path.join(train_cats_dir, fname) for fname in os.listdir(train_cats_dir)]\n",
        "\n",
        "# pick one image to \"augment\"\n",
        "img_path = fnames[3]\n",
        "\n",
        "# Read the image and resize it\n",
        "img = image.load_img(img_path, target_size=(150, 150))\n",
        "\n",
        "# Convert it to a Numpy array with shape (150, 150, 3)\n",
        "x = image.img_to_array(img)\n",
        "\n",
        "# Reshape it to (1, 150, 150, 3)\n",
        "x = x.reshape((1, ) + x.shape)\n",
        "\n",
        "# The .flow() command below generates batches of randomly transformed images.\n",
        "# It will loop indefinitely, so we need to `break` the loop at some point!\n",
        "i = 0\n",
        "for batch in datagen.flow(x, batch_size=1):\n",
        "  plt.figure(i)\n",
        "  imgplot = plt.imshow(image.array_to_img(batch[0]))\n",
        "  i += 1\n",
        "  if i % 4 == 0:\n",
        "    break\n",
        "  \n",
        "plt.show()"
      ],
      "execution_count": 13,
      "outputs": [
        {
          "output_type": "display_data",
          "data": {
            "image/png": "[encoded data removed]",
            "text/plain": [
              "<Figure size 432x288 with 1 Axes>"
            ]
          },
          "metadata": {
            "tags": []
          }
        },
        {
          "output_type": "display_data",
          "data": {
            "image/png": "[encoded data removed]",
            "text/plain": [
              "<Figure size 432x288 with 1 Axes>"
            ]
          },
          "metadata": {
            "tags": []
          }
        },
        {
          "output_type": "display_data",
          "data": {
            "image/png": "[encoded data removed]",
            "text/plain": [
              "<Figure size 432x288 with 1 Axes>"
            ]
          },
          "metadata": {
            "tags": []
          }
        },
        {
          "output_type": "display_data",
          "data": {
            "image/png": "[encoded data removed]",
            "text/plain": [
              "<Figure size 432x288 with 1 Axes>"
            ]
          },
          "metadata": {
            "tags": []
          }
        }
      ]
    },
    {
      "cell_type": "markdown",
      "metadata": {
        "id": "t1oUmMzZhQ7-",
        "colab_type": "text"
      },
      "source": [
        "### Defining a new convnet that includes dropout"
      ]
    },
    {
      "cell_type": "markdown",
      "metadata": {
        "id": "A-778RAOhSn7",
        "colab_type": "text"
      },
      "source": [
        "If we train a new network using this data augmentation configuration, our network will never see twice the same input. However, the inputs that it sees are still heavily intercorrelated, since they come from a small number of original images -- we cannot produce new information, we can only remix existing information. As such, this might not be quite enough to completely get rid of overfitting. \n",
        "\n",
        "To further fight overfitting, we will also add a Dropout layer to our model, right before the densely-connected classifier:"
      ]
    },
    {
      "cell_type": "code",
      "metadata": {
        "id": "pC9iKtPDgM2T",
        "colab_type": "code",
        "outputId": "a6d0bec7-ebbe-42dd-a638-5429a680abda",
        "colab": {
          "base_uri": "https://localhost:8080/",
          "height": 586
        }
      },
      "source": [
        "model = keras.models.Sequential()\n",
        "model.add(keras.layers.Conv2D(32, (3, 3), activation='relu', input_shape=(150, 150, 3)))\n",
        "model.add(keras.layers.MaxPooling2D((2, 2)))\n",
        "\n",
        "model.add(keras.layers.Conv2D(64, (3, 3), activation='relu'))\n",
        "model.add(keras.layers.MaxPooling2D((2, 2)))\n",
        "\n",
        "model.add(keras.layers.Conv2D(128, (3, 3), activation='relu'))\n",
        "model.add(keras.layers.MaxPooling2D((2, 2)))\n",
        "\n",
        "model.add(keras.layers.Conv2D(128, (3, 3), activation='relu'))\n",
        "model.add(keras.layers.MaxPooling2D((2, 2)))\n",
        "\n",
        "model.add(keras.layers.Flatten())\n",
        "\n",
        "model.add(keras.layers.Dropout(0.5))\n",
        "\n",
        "model.add(keras.layers.Dense(512, activation='relu'))\n",
        "model.add(keras.layers.Dense(1, activation='sigmoid'))\n",
        "\n",
        "model.compile(loss='binary_crossentropy', optimizer='adam', metrics=['accuracy'])\n",
        "model.summary()"
      ],
      "execution_count": 14,
      "outputs": [
        {
          "output_type": "stream",
          "text": [
            "Model: \"sequential\"\n",
            "_________________________________________________________________\n",
            "Layer (type)                 Output Shape              Param #   \n",
            "=================================================================\n",
            "conv2d (Conv2D)              (None, 148, 148, 32)      896       \n",
            "_________________________________________________________________\n",
            "max_pooling2d (MaxPooling2D) (None, 74, 74, 32)        0         \n",
            "_________________________________________________________________\n",
            "conv2d_1 (Conv2D)            (None, 72, 72, 64)        18496     \n",
            "_________________________________________________________________\n",
            "max_pooling2d_1 (MaxPooling2 (None, 36, 36, 64)        0         \n",
            "_________________________________________________________________\n",
            "conv2d_2 (Conv2D)            (None, 34, 34, 128)       73856     \n",
            "_________________________________________________________________\n",
            "max_pooling2d_2 (MaxPooling2 (None, 17, 17, 128)       0         \n",
            "_________________________________________________________________\n",
            "conv2d_3 (Conv2D)            (None, 15, 15, 128)       147584    \n",
            "_________________________________________________________________\n",
            "max_pooling2d_3 (MaxPooling2 (None, 7, 7, 128)         0         \n",
            "_________________________________________________________________\n",
            "flatten (Flatten)            (None, 6272)              0         \n",
            "_________________________________________________________________\n",
            "dropout (Dropout)            (None, 6272)              0         \n",
            "_________________________________________________________________\n",
            "dense (Dense)                (None, 512)               3211776   \n",
            "_________________________________________________________________\n",
            "dense_1 (Dense)              (None, 1)                 513       \n",
            "=================================================================\n",
            "Total params: 3,453,121\n",
            "Trainable params: 3,453,121\n",
            "Non-trainable params: 0\n",
            "_________________________________________________________________\n"
          ],
          "name": "stdout"
        }
      ]
    },
    {
      "cell_type": "markdown",
      "metadata": {
        "id": "GoZKGLfujv0_",
        "colab_type": "text"
      },
      "source": [
        "### Training the convnet using data-augmentation generators"
      ]
    },
    {
      "cell_type": "markdown",
      "metadata": {
        "id": "5XAjxiWejoEL",
        "colab_type": "text"
      },
      "source": [
        "Let's train our network using data augmentation and dropout:"
      ]
    },
    {
      "cell_type": "code",
      "metadata": {
        "id": "tRBH4QwQjkhC",
        "colab_type": "code",
        "outputId": "1f425a4b-0f63-41ad-f81d-7642a9adcceb",
        "colab": {
          "base_uri": "https://localhost:8080/",
          "height": 339
        }
      },
      "source": [
        "# https://stackoverflow.com/questions/55141076/how-to-apply-data-augmentation-in-tensorflow-2-0-after-tfds-load\n",
        "# https://stackoverflow.com/questions/55421290/tensorflow-2-0-keras-how-to-write-image-summaries-for-tensorboard/55754700#55754700\n",
        "# https://www.tensorflow.org/api_docs/python/tf/keras/preprocessing/image/ImageDataGenerator\n",
        "\n",
        "train_datagen = ImageDataGenerator(rescale=1. / 255,\n",
        "                                   rotation_range=40,\n",
        "                                   width_shift_range=0.2,\n",
        "                                   height_shift_range=0.2,\n",
        "                                   shear_range=0.2,\n",
        "                                   zoom_range=0.2,\n",
        "                                   horizontal_flip=True)\n",
        "\n",
        "# Note that the validation data should not be augmented!\n",
        "test_datagen = ImageDataGenerator(rescale=1. / 255)\n",
        "\n",
        "train_generator = train_datagen.flow_from_directory(train_dir,  # target directory\n",
        "                                                    target_size=(150, 150), # resized to 150x150\n",
        "                                                    batch_size=32,\n",
        "                                                    # Since we use binary_crossentropy loss, we need binary labels\n",
        "                                                    class_mode='binary')\n",
        "validation_generator = test_datagen.flow_from_directory(validation_dir,  # target directory\n",
        "                                                    target_size=(150, 150), # resized to 150x150\n",
        "                                                    batch_size=32,\n",
        "                                                    class_mode='binary')\n",
        "\n",
        "# train the model\n",
        "history = model.fit_generator(train_generator,\n",
        "                              steps_per_epoch=2000,\n",
        "                              epochs=50,\n",
        "                              validation_data=validation_generator,\n",
        "                              validation_steps=800)"
      ],
      "execution_count": 15,
      "outputs": [
        {
          "output_type": "stream",
          "text": [
            "Found 2000 images belonging to 2 classes.\n",
            "Found 1000 images belonging to 2 classes.\n",
            "WARNING:tensorflow:From <ipython-input-15-0b9822a94e0e>:27: Model.fit_generator (from tensorflow.python.keras.engine.training) is deprecated and will be removed in a future version.\n",
            "Instructions for updating:\n",
            "Please use Model.fit, which supports generators.\n",
            "WARNING:tensorflow:sample_weight modes were coerced from\n",
            "  ...\n",
            "    to  \n",
            "  ['...']\n",
            "WARNING:tensorflow:sample_weight modes were coerced from\n",
            "  ...\n",
            "    to  \n",
            "  ['...']\n",
            "Train for 2000 steps, validate for 800 steps\n",
            "Epoch 1/50\n",
            "  63/2000 [..............................] - ETA: 55:49 - loss: 0.7105 - accuracy: 0.5140WARNING:tensorflow:Your input ran out of data; interrupting training. Make sure that your dataset or generator can generate at least `steps_per_epoch * epochs` batches (in this case, 100000 batches). You may need to use the repeat() function when building your dataset.\n",
            "  63/2000 [..............................] - ETA: 55:51 - loss: 0.7105 - accuracy: 0.5140"
          ],
          "name": "stdout"
        }
      ]
    },
    {
      "cell_type": "markdown",
      "metadata": {
        "id": "Lf3_x4o_loIo",
        "colab_type": "text"
      },
      "source": [
        "Let's save our model -- we will be using it in the section on convnet visualization."
      ]
    },
    {
      "cell_type": "code",
      "metadata": {
        "id": "UN2hohPflYeT",
        "colab_type": "code",
        "colab": {}
      },
      "source": [
        "model.save('cats_and_dogs_small_2.h5')"
      ],
      "execution_count": 0,
      "outputs": []
    },
    {
      "cell_type": "markdown",
      "metadata": {
        "id": "d_52AtGOu2oO",
        "colab_type": "text"
      },
      "source": [
        "Let's plot our results again:"
      ]
    },
    {
      "cell_type": "code",
      "metadata": {
        "id": "tTVPMuTdu3Hi",
        "colab_type": "code",
        "colab": {}
      },
      "source": [
        "acc = history.history['accuracy']\n",
        "val_acc = history.history['val_accuracy']\n",
        "loss = history.history['loss']\n",
        "val_loss = history.history['val_loss']\n",
        "\n",
        "epochs = range(len(acc))\n",
        "\n",
        "plt.plot(epochs, acc, 'go', label='Training acc')\n",
        "plt.plot(epochs, val_acc, 'g', label='Validation acc')\n",
        "plt.title('Training and validation accuracy')\n",
        "plt.legend()\n",
        "\n",
        "plt.figure()\n",
        "\n",
        "plt.plot(epochs, loss, 'ro', label='Training loss')\n",
        "plt.plot(epochs, val_loss, 'r', label='Validation loss')\n",
        "plt.title('Training and validation loss')\n",
        "plt.legend()\n",
        "\n",
        "plt.show()"
      ],
      "execution_count": 0,
      "outputs": []
    },
    {
      "cell_type": "markdown",
      "metadata": {
        "id": "8C-konq5vhcp",
        "colab_type": "text"
      },
      "source": [
        "Thanks to data augmentation and dropout, we are no longer overfitting: the training curves are rather closely tracking the validation curves. We are now able to reach an accuracy of 82%, a 15% relative improvement over the non-regularized model.\n",
        "\n",
        "By leveraging regularization techniques even further and by tuning the network's parameters (such as the number of filters per convolution layer, or the number of layers in the network), we may be able to get an even better accuracy, likely up to 86-87%. However, it would prove very difficult to go any higher just by training our own convnet from scratch, simply because we have so little data to work with. As a next step to improve our accuracy on this problem, we will have to leverage a pre-trained model, which will be the focus of the next two sections."
      ]
    }
  ]
}