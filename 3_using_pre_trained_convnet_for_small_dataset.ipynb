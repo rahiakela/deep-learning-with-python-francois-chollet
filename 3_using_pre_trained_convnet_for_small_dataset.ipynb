{
  "nbformat": 4,
  "nbformat_minor": 0,
  "metadata": {
    "colab": {
      "name": "3_using_pre_trained_convnet_for_small_dataset.ipynb",
      "provenance": [],
      "toc_visible": true,
      "include_colab_link": true
    },
    "kernelspec": {
      "name": "python3",
      "display_name": "Python 3"
    },
    "accelerator": "GPU"
  },
  "cells": [
    {
      "cell_type": "markdown",
      "metadata": {
        "id": "view-in-github",
        "colab_type": "text"
      },
      "source": [
        "<a href=\"https://colab.research.google.com/github/rahiakela/deep-learning-with-python-francois-chollet/blob/5-deep-learning-for-computer-vision/3_using_pre_trained_convnet_for_small_dataset.ipynb\" target=\"_parent\"><img src=\"https://colab.research.google.com/assets/colab-badge.svg\" alt=\"Open In Colab\"/></a>"
      ]
    },
    {
      "cell_type": "markdown",
      "metadata": {
        "id": "ichjB7bqxOAY",
        "colab_type": "text"
      },
      "source": [
        "# Using a pre-trained convnet for small dataset"
      ]
    },
    {
      "cell_type": "markdown",
      "metadata": {
        "id": "cuAC7iFf3eDN",
        "colab_type": "text"
      },
      "source": [
        "Having to train an image-classification model using very little data is a common situation, which you’ll likely encounter in practice if you ever do computer vision in a professional context. \n",
        "\n",
        "A “few” samples can mean anywhere from a few hundred to a\n",
        "few tens of thousands of images. As a practical example, we’ll focus on classifying images as dogs or cats, in a dataset containing 4,000 pictures of cats and dogs (2,000 cats, 2,000 dogs). We’ll use 2,000 pictures for training—1,000 for validation, and 1,000 for testing.\n",
        "\n",
        "We’ll review one basic strategy to tackle this problem: **training a new model from scratch using what little data you have**. You’ll start by naively training a small convnet on the 2,000 training samples, without any regularization, to set a baseline for what can be achieved. \n",
        "\n",
        "This will get you to a classification accuracy of 71%. At\n",
        "that point, the main issue will be overfitting. Then we’ll introduce data augmentation, a powerful technique for mitigating overfitting in computer vision. By using data augmentation you’ll improve the network to reach an accuracy of 82%.\n",
        "\n",
        "We’ll review two more essential techniques for applying deep\n",
        "learning to small datasets: \n",
        "* **feature extraction with a pretrained network** (which will get you to an accuracy of 90% to 96%) \n",
        "* and **fine-tuning a pretrained network** (this will get you to a final accuracy of 97%). \n",
        "\n",
        "Together, these three strategies—training a small model from scratch, doing feature extraction using a pretrained model, and fine-tuning a pretrained model—will constitute your future toolbox for tackling the problem of performing image classification with small datasets.\n",
        "\n",
        "Reference: https://blog.keras.io/building-powerful-image-classification-models-using-very-little-data.html"
      ]
    },
    {
      "cell_type": "markdown",
      "metadata": {
        "id": "-zGItxc6zWrr",
        "colab_type": "text"
      },
      "source": [
        "## Setup"
      ]
    },
    {
      "cell_type": "code",
      "metadata": {
        "id": "Wh8l50IVzYEb",
        "colab_type": "code",
        "outputId": "d8268f62-6a69-40f6-9c33-62d339059d87",
        "colab": {
          "base_uri": "https://localhost:8080/",
          "height": 33
        }
      },
      "source": [
        "from __future__ import absolute_import, division, print_function, unicode_literals\n",
        "\n",
        "try:\n",
        "  # %tensorflow_version only exists in Colab.\n",
        "  %tensorflow_version 2.x\n",
        "except Exception:\n",
        "  pass\n",
        "import tensorflow as tf\n",
        "from tensorflow import keras\n",
        "import numpy as np\n",
        "import pandas as pd\n",
        "\n",
        "import matplotlib.pyplot as plt"
      ],
      "execution_count": 1,
      "outputs": [
        {
          "output_type": "stream",
          "text": [
            "TensorFlow 2.x selected.\n"
          ],
          "name": "stdout"
        }
      ]
    },
    {
      "cell_type": "markdown",
      "metadata": {
        "id": "uOkYmhcV5vcZ",
        "colab_type": "text"
      },
      "source": [
        "## The relevance of deep learning for small-data problems"
      ]
    },
    {
      "cell_type": "markdown",
      "metadata": {
        "id": "CT-1Dy5L5xIJ",
        "colab_type": "text"
      },
      "source": [
        "You’ll sometimes hear that deep learning only works when lots of data is available. This is valid in part: one fundamental characteristic of deep learning is that it can find interesting features in the training data on its own, without any need for manual feature engineering, and this can only be achieved when lots of training examples are available. This is especially true for problems where the input samples are very highdimensional, like images.\n",
        "\n"
      ]
    },
    {
      "cell_type": "markdown",
      "metadata": {
        "id": "rCvFQyXx6WSS",
        "colab_type": "text"
      },
      "source": [
        "## Downloading the data"
      ]
    },
    {
      "cell_type": "markdown",
      "metadata": {
        "id": "gOTpVn9D6XSA",
        "colab_type": "text"
      },
      "source": [
        "The Dogs vs. Cats dataset that you’ll use isn’t packaged with Keras. It was made available by Kaggle as part of a computer-vision competition in late 2013, back when convnets weren’t mainstream. You can download the original dataset from [www.kaggle.com/c/dogs-vs-cats/data](https://www.kaggle.com/c/dogs-vs-cats/data).\n",
        "\n",
        "<img src='https://s3.amazonaws.com/book.keras.io/img/ch5/cats_vs_dogs_samples.jpg?raw=1' width='800'/>\n",
        "\n",
        "Unsurprisingly, the dogs-versus-cats Kaggle competition in 2013 was won by entrants who used convnets. The best entries achieved up to 95% accuracy. In this example, you’ll get fairly close to this accuracy (in the next section), even though you’ll train\n",
        "your models on less than 10% of the data that was available to the competitors.\n",
        "\n",
        "This dataset contains 25,000 images of dogs and cats (12,500 from each class) and is 543 MB (compressed). After downloading and uncompressing it, you’ll create a new dataset containing three subsets: a training set with 1,000 samples of each class, a validation set with 500 samples of each class, and a test set with 500 samples of each class.\n",
        "\n",
        "Let's donload datasets from Kaggle."
      ]
    },
    {
      "cell_type": "code",
      "metadata": {
        "id": "cxrWXQlHzYw7",
        "colab_type": "code",
        "outputId": "791680b7-edf5-4771-c9a9-1391d0a05e9d",
        "colab": {
          "base_uri": "https://localhost:8080/",
          "height": 117
        }
      },
      "source": [
        "# reference: https://medium.com/@saedhussain/google-colaboratory-and-kaggle-datasets-b57a83eb6ef8\n",
        "# Install Kaggle library\n",
        "! pip install -q kaggle"
      ],
      "execution_count": 2,
      "outputs": [
        {
          "output_type": "stream",
          "text": [
            "\u001b[?25l\r\u001b[K     |██▊                             | 10kB 24.0MB/s eta 0:00:01\r\u001b[K     |█████▌                          | 20kB 1.8MB/s eta 0:00:01\r\u001b[K     |████████▎                       | 30kB 2.2MB/s eta 0:00:01\r\u001b[K     |███████████                     | 40kB 1.7MB/s eta 0:00:01\r\u001b[K     |█████████████▉                  | 51kB 1.8MB/s eta 0:00:01\r\u001b[K     |████████████████▌               | 61kB 2.2MB/s eta 0:00:01\r\u001b[K     |███████████████████▎            | 71kB 2.4MB/s eta 0:00:01\r\u001b[K     |██████████████████████          | 81kB 2.6MB/s eta 0:00:01\r\u001b[K     |████████████████████████▉       | 92kB 2.9MB/s eta 0:00:01\r\u001b[K     |███████████████████████████▋    | 102kB 2.7MB/s eta 0:00:01\r\u001b[K     |██████████████████████████████▍ | 112kB 2.7MB/s eta 0:00:01\r\u001b[K     |████████████████████████████████| 122kB 2.7MB/s \n",
            "\u001b[31mERROR: tensor2tensor 1.14.1 has requirement tensorflow-probability==0.7.0, but you'll have tensorflow-probability 0.9.0 which is incompatible.\u001b[0m\n",
            "\u001b[31mERROR: google-colab 1.0.0 has requirement google-auth~=1.7.2, but you'll have google-auth 1.11.2 which is incompatible.\u001b[0m\n",
            "\u001b[31mERROR: google-colab 1.0.0 has requirement requests~=2.21.0, but you'll have requests 2.23.0 which is incompatible.\u001b[0m\n",
            "\u001b[31mERROR: google-colab 1.0.0 has requirement six~=1.12.0, but you'll have six 1.14.0 which is incompatible.\u001b[0m\n",
            "\u001b[31mERROR: datascience 0.10.6 has requirement folium==0.2.1, but you'll have folium 0.8.3 which is incompatible.\u001b[0m\n",
            "\u001b[?25h"
          ],
          "name": "stdout"
        }
      ]
    },
    {
      "cell_type": "code",
      "metadata": {
        "id": "XQrm3kCLB3xL",
        "colab_type": "code",
        "outputId": "f4d5dd57-1bb5-41f7-9ce9-a779a7f2f039",
        "colab": {
          "base_uri": "https://localhost:8080/",
          "height": 150
        }
      },
      "source": [
        "# Try to downlaod data for the dogs-vs-cats challenge, it will fail.\n",
        "!kaggle competitions download -c dogs-vs-cats"
      ],
      "execution_count": 3,
      "outputs": [
        {
          "output_type": "stream",
          "text": [
            "Traceback (most recent call last):\n",
            "  File \"/usr/local/bin/kaggle\", line 5, in <module>\n",
            "    from kaggle.cli import main\n",
            "  File \"/usr/local/lib/python2.7/dist-packages/kaggle/__init__.py\", line 23, in <module>\n",
            "    api.authenticate()\n",
            "  File \"/usr/local/lib/python2.7/dist-packages/kaggle/api/kaggle_api_extended.py\", line 146, in authenticate\n",
            "    self.config_file, self.config_dir))\n",
            "IOError: Could not find kaggle.json. Make sure it's located in /root/.kaggle. Or use the environment method.\n"
          ],
          "name": "stdout"
        }
      ]
    },
    {
      "cell_type": "code",
      "metadata": {
        "id": "3xHrkYW113ml",
        "colab_type": "code",
        "colab": {}
      },
      "source": [
        "# copy kaggle.json file to .kaggle directory\n",
        "! cp kaggle.json ~/.kaggle/\n",
        "! chmod 600 /root/.kaggle/kaggle.json"
      ],
      "execution_count": 0,
      "outputs": []
    },
    {
      "cell_type": "code",
      "metadata": {
        "id": "OxaTNBDozx06",
        "colab_type": "code",
        "outputId": "a2fe0973-7d76-4c4a-be3e-00dda6584df0",
        "colab": {
          "base_uri": "https://localhost:8080/",
          "height": 183
        }
      },
      "source": [
        "# Now try to downlaod data for the dogs-vs-cats challenge, it will succeed\n",
        "!kaggle competitions download -c dogs-vs-cats"
      ],
      "execution_count": 5,
      "outputs": [
        {
          "output_type": "stream",
          "text": [
            "Warning: Looks like you're using an outdated API Version, please consider updating (server 1.5.6 / client 1.5.4)\n",
            "Downloading train.zip to /content\n",
            " 97% 528M/543M [00:03<00:00, 160MB/s]\n",
            "100% 543M/543M [00:03<00:00, 166MB/s]\n",
            "Downloading test1.zip to /content\n",
            " 99% 268M/271M [00:02<00:00, 100MB/s]\n",
            "100% 271M/271M [00:02<00:00, 115MB/s]\n",
            "Downloading sampleSubmission.csv to /content\n",
            "  0% 0.00/86.8k [00:00<?, ?B/s]\n",
            "100% 86.8k/86.8k [00:00<00:00, 12.0MB/s]\n"
          ],
          "name": "stdout"
        }
      ]
    },
    {
      "cell_type": "markdown",
      "metadata": {
        "id": "X_RL5NfW8Oek",
        "colab_type": "text"
      },
      "source": [
        "### Copying images to training, validation, and test directories"
      ]
    },
    {
      "cell_type": "code",
      "metadata": {
        "id": "Yun4Uiru0nb1",
        "colab_type": "code",
        "colab": {}
      },
      "source": [
        "import os, shutil\n",
        "import zipfile"
      ],
      "execution_count": 0,
      "outputs": []
    },
    {
      "cell_type": "code",
      "metadata": {
        "id": "1ITh9ZMqCZKI",
        "colab_type": "code",
        "colab": {}
      },
      "source": [
        "# path to the directory where the original dataset was uncompressed\n",
        "original_dataset_dir = 'kaggle_original_data'\n",
        "# directory where we will store our smaller dataset\n",
        "base_dir = 'cats_and_dogs_small'\n",
        "\n",
        "# remove directories if it already exists\n",
        "shutil.rmtree(original_dataset_dir, ignore_errors=True)\n",
        "shutil.rmtree(base_dir, ignore_errors=True)\n",
        "\n",
        "# create directories\n",
        "os.mkdir(original_dataset_dir)\n",
        "os.mkdir(base_dir)"
      ],
      "execution_count": 0,
      "outputs": []
    },
    {
      "cell_type": "code",
      "metadata": {
        "id": "YAF9VlrFDB8f",
        "colab_type": "code",
        "colab": {}
      },
      "source": [
        "# unzip train dataset\n",
        "with zipfile.ZipFile(\"train.zip\",\"r\") as zip_ref:\n",
        "    zip_ref.extractall(original_dataset_dir)\n",
        "\n",
        "# unzip test dataset\n",
        "with zipfile.ZipFile(\"test1.zip\",\"r\") as zip_ref:\n",
        "    zip_ref.extractall(original_dataset_dir)"
      ],
      "execution_count": 0,
      "outputs": []
    },
    {
      "cell_type": "code",
      "metadata": {
        "id": "vdSkCRD5Duua",
        "colab_type": "code",
        "colab": {}
      },
      "source": [
        "# create directories for our training, validation and test splits\n",
        "train_dir = os.path.join(base_dir, 'train')\n",
        "os.mkdir(train_dir)\n",
        "validation_dir = os.path.join(base_dir, 'validation')\n",
        "os.mkdir(validation_dir)\n",
        "test_dir = os.path.join(base_dir, 'test')\n",
        "os.mkdir(test_dir)\n",
        "\n",
        "# create directory with our training cat/dog pictures\n",
        "train_cats_dir = os.path.join(train_dir, 'cats')\n",
        "os.mkdir(train_cats_dir)\n",
        "train_dogs_dir = os.path.join(train_dir, 'dogs')\n",
        "os.mkdir(train_dogs_dir)\n",
        "\n",
        "# create directory with our validation cat/dog pictures\n",
        "validation_cats_dir = os.path.join(validation_dir, 'cats')\n",
        "os.mkdir(validation_cats_dir)\n",
        "validation_dogs_dir = os.path.join(validation_dir, 'dogs')\n",
        "os.mkdir(validation_dogs_dir)\n",
        "\n",
        "# create directory with our test cat/dog pictures\n",
        "test_cats_dir = os.path.join(test_dir, 'cats')\n",
        "os.mkdir(test_cats_dir)\n",
        "test_dogs_dir = os.path.join(test_dir, 'dogs')\n",
        "os.mkdir(test_dogs_dir)\n",
        "\n",
        "# Copy first 1000 cat images to train_cats_dir\n",
        "fnames = ['cat.{}.jpg'.format(i) for i in range(1000)]\n",
        "for fname in fnames:\n",
        "    src = os.path.join(original_dataset_dir + '/train/', fname)\n",
        "    dst = os.path.join(train_cats_dir, fname)\n",
        "    shutil.copyfile(src, dst)\n",
        "# Copy next 500 cat images to validation_cats_dir\n",
        "fnames = ['cat.{}.jpg'.format(i) for i in range(1000, 1500)]\n",
        "for fname in fnames:\n",
        "    src = os.path.join(original_dataset_dir + '/train/', fname)\n",
        "    dst = os.path.join(validation_cats_dir, fname)\n",
        "    shutil.copyfile(src, dst)\n",
        "# Copy next 500 cat images to test_cats_dir\n",
        "fnames = ['cat.{}.jpg'.format(i) for i in range(1500, 2000)]\n",
        "for fname in fnames:\n",
        "    src = os.path.join(original_dataset_dir + '/train/', fname)\n",
        "    dst = os.path.join(test_cats_dir, fname)\n",
        "    shutil.copyfile(src, dst)\n",
        "    \n",
        "# Copy first 1000 dog images to train_dogs_dir\n",
        "fnames = ['dog.{}.jpg'.format(i) for i in range(1000)]\n",
        "for fname in fnames:\n",
        "    src = os.path.join(original_dataset_dir + '/train/', fname)\n",
        "    dst = os.path.join(train_dogs_dir, fname)\n",
        "    shutil.copyfile(src, dst)\n",
        "# Copy next 500 dog images to validation_dogs_dir\n",
        "fnames = ['dog.{}.jpg'.format(i) for i in range(1000, 1500)]\n",
        "for fname in fnames:\n",
        "    src = os.path.join(original_dataset_dir + '/train/', fname)\n",
        "    dst = os.path.join(validation_dogs_dir, fname)\n",
        "    shutil.copyfile(src, dst)\n",
        "# Copy next 500 dog images to test_dogs_dir\n",
        "fnames = ['dog.{}.jpg'.format(i) for i in range(1500, 2000)]\n",
        "for fname in fnames:\n",
        "    src = os.path.join(original_dataset_dir + '/train/', fname)\n",
        "    dst = os.path.join(test_dogs_dir, fname)\n",
        "    shutil.copyfile(src, dst)"
      ],
      "execution_count": 0,
      "outputs": []
    },
    {
      "cell_type": "markdown",
      "metadata": {
        "id": "Jnzszi6OFI4h",
        "colab_type": "text"
      },
      "source": [
        "As a sanity check, let's count how many pictures we have in each training split (train/validation/test):"
      ]
    },
    {
      "cell_type": "code",
      "metadata": {
        "id": "IKmHOTBQFJoL",
        "colab_type": "code",
        "outputId": "69a02303-af8f-41f8-c6fa-7d23f2c71a87",
        "colab": {
          "base_uri": "https://localhost:8080/",
          "height": 117
        }
      },
      "source": [
        "print(f'total training cat images: {len(os.listdir(train_cats_dir))}')\n",
        "print(f'total training dog  images: {len(os.listdir(train_dogs_dir))}')\n",
        "print(f'total validation  cat images: {len(os.listdir(validation_cats_dir))}')\n",
        "print(f'total validation  dog images: {len(os.listdir(validation_dogs_dir))}')\n",
        "print(f'total test cat images: {len(os.listdir(test_cats_dir))}')\n",
        "print(f'total test dog images: {len(os.listdir(test_dogs_dir))}')"
      ],
      "execution_count": 10,
      "outputs": [
        {
          "output_type": "stream",
          "text": [
            "total training cat images: 1000\n",
            "total training dog  images: 1000\n",
            "total validation  cat images: 500\n",
            "total validation  dog images: 500\n",
            "total test cat images: 500\n",
            "total test dog images: 500\n"
          ],
          "name": "stdout"
        }
      ]
    },
    {
      "cell_type": "markdown",
      "metadata": {
        "id": "OgtkqUEKO9nh",
        "colab_type": "text"
      },
      "source": [
        "So we have indeed 2000 training images, and then 1000 validation images and 1000 test images. In each split, there is the same number of samples from each class: this is a balanced binary classification problem, which means that classification accuracy will be an appropriate measure of success."
      ]
    },
    {
      "cell_type": "markdown",
      "metadata": {
        "id": "sqdF1Jjz05xz",
        "colab_type": "text"
      },
      "source": [
        "## Using a pre-trained convnet"
      ]
    },
    {
      "cell_type": "markdown",
      "metadata": {
        "id": "NsfP01_w06zZ",
        "colab_type": "text"
      },
      "source": [
        "A common and highly effective approach to deep learning on small image datasets is to leverage a pre-trained network. A pre-trained network is simply a saved network previously trained on a large dataset, typically on a large-scale image classification task. If this original dataset is large enough and general enough, then the spatial feature hierarchy learned by the pre-trained network can effectively act as a generic model of our visual world, and hence its features can prove useful for many different computer vision problems, even though these new problems might involve completely different classes from those of the original task.\n",
        "\n",
        "For instance, one might train a network on ImageNet (where classes are mostly animals and everyday objects) and then re-purpose this trained network for something as remote as identifying furniture items in images. Such portability of learned features across different problems is a key advantage of deep learning compared to many older shallow learning approaches, and it makes deep learning very effective for small-data problems.\n",
        "\n",
        "In our case, we will consider a large convnet trained on the ImageNet dataset (1.4 million labeled images and 1000 different classes). ImageNet contains many animal classes, including different species of cats and dogs, and we can thus expect to perform very well on our cat vs. dog classification problem.\n",
        "\n",
        "We will use the VGG16 architecture, developed by Karen Simonyan and Andrew Zisserman in 2014, a simple and widely used convnet architecture for ImageNet. Although it is a bit of an older model, far from the current state of the art and somewhat heavier than many other recent models, we chose it because its architecture is similar to what you are already familiar with, and easy to understand without introducing any new concepts. This may be your first encounter with one of these cutesie model names -- VGG, ResNet, Inception, Inception-ResNet, Xception... you will get used to them, as they will come up frequently if you keep doing deep learning for computer vision.\n",
        "\n",
        "There are two ways to leverage a pre-trained network: feature extraction and fine-tuning. We will cover both of them. Let's start with feature extraction."
      ]
    },
    {
      "cell_type": "markdown",
      "metadata": {
        "id": "kUfUxrrH1_s3",
        "colab_type": "text"
      },
      "source": [
        "## Feature extraction"
      ]
    },
    {
      "cell_type": "markdown",
      "metadata": {
        "id": "MJ6Sdmce2DUO",
        "colab_type": "text"
      },
      "source": [
        "Feature extraction consists of using the representations learned by a previous network to extract interesting features from new samples. These features are then run through a new classifier, which is trained from scratch.\n",
        "\n",
        "As we saw previously, convnets used for image classification comprise two parts: they start with a series of pooling and convolution layers, and they end with a densely-connected classifier. The first part is called the \"convolutional base\" of the model. In the case of convnets, \"feature extraction\" will simply consist of taking the convolutional base of a previously-trained network, running the new data through it, and training a new classifier on top of the output.\n",
        "\n",
        "<img src='https://s3.amazonaws.com/book.keras.io/img/ch5/swapping_fc_classifier.png?raw=1' width='800'/>\n",
        "\n",
        "Why only reuse the convolutional base? Could we reuse the densely-connected classifier as well? In general, it should be avoided. \n",
        "\n",
        "The reason is simply that the representations learned by the convolutional base are likely to be more generic and therefore more reusable: the feature maps of a convnet are presence maps of generic concepts over a picture, which is likely to be useful regardless of the computer vision problem at hand. \n",
        "\n",
        "On the other end, the representations learned by the classifier will necessarily be very specific to the set of classes that the model was trained on -- they will only contain information about the presence probability of this or that class in the entire picture. \n",
        "\n",
        "Additionally, representations found in densely-connected layers no longer contain any information about where objects are located in the input image: these layers get rid of the notion of space, whereas the object location is still described by convolutional feature maps. \n",
        "\n",
        "For problems where object location matters, densely-connected features would be largely useless.\n",
        "\n",
        "Note that the level of generality (and therefore reusability) of the representations extracted by specific convolution layers depends on the depth of the layer in the model. Layers that come earlier in the model extract local, highly generic feature maps (such as visual edges, colors, and textures), while layers higher-up extract more abstract concepts (such as \"cat ear\" or \"dog eye\"). \n",
        "\n",
        "So if your new dataset differs a lot from the dataset that the original model was trained on, you may be better off using only the first few layers of the model to do feature extraction, rather than using the entire convolutional base.\n",
        "\n",
        "In our case, since the ImageNet class set did contain multiple dog and cat classes, it is likely that it would be beneficial to reuse the information contained in the densely-connected layers of the original model. However, we will chose not to, in order to cover the more general case where the class set of the new problem does not overlap with the class set of the original model.\n",
        "\n",
        "Let's put this in practice by using the convolutional base of the VGG16 network, trained on ImageNet, to extract interesting features from our cat and dog images, and then training a cat vs. dog classifier on top of these features.\n",
        "\n",
        "The VGG16 model, among others, comes pre-packaged with Keras. You can import it from the keras.applications module. Here's the list of image classification models (all pre-trained on the ImageNet dataset) that are available as part of keras.applications:\n",
        "\n",
        "* Xception\n",
        "* InceptionV3\n",
        "* ResNet50\n",
        "* VGG16\n",
        "* VGG19\n",
        "* MobileNet\n",
        "\n",
        "Let's instantiate the VGG16 model:"
      ]
    },
    {
      "cell_type": "code",
      "metadata": {
        "id": "P2Qqy7N04mgs",
        "colab_type": "code",
        "outputId": "90dd0397-79c6-40b9-9779-c7ddb9b035ea",
        "colab": {
          "base_uri": "https://localhost:8080/",
          "height": 50
        }
      },
      "source": [
        "from tensorflow.keras.applications import VGG16\n",
        "\n",
        "conv_base = VGG16(weights='imagenet', include_top=False, input_shape=(150, 150, 3))"
      ],
      "execution_count": 11,
      "outputs": [
        {
          "output_type": "stream",
          "text": [
            "Downloading data from https://github.com/fchollet/deep-learning-models/releases/download/v0.1/vgg16_weights_tf_dim_ordering_tf_kernels_notop.h5\n",
            "58892288/58889256 [==============================] - 1s 0us/step\n"
          ],
          "name": "stdout"
        }
      ]
    },
    {
      "cell_type": "markdown",
      "metadata": {
        "id": "lzswLOUU53-1",
        "colab_type": "text"
      },
      "source": [
        "We passed three arguments to the constructor:\n",
        "\n",
        "* weights, to specify which weight checkpoint to initialize the model from\n",
        "* include_top, which refers to including or not the densely-connected classifier on top of the network. By default, this densely-connected classifier would correspond to the 1000 classes from ImageNet. Since we intend to use our own densely-connected classifier (with only two classes, cat and dog), we don't need to include it.\n",
        "* input_shape, the shape of the image tensors that we will feed to the network. This argument is purely optional: if we don't pass it, then the network will be able to process inputs of any size.\n",
        "\n",
        "Here's the detail of the architecture of the VGG16 convolutional base: it's very similar to the simple convnets that you are already familiar with."
      ]
    },
    {
      "cell_type": "code",
      "metadata": {
        "id": "Jz3SaDV86EMH",
        "colab_type": "code",
        "outputId": "c6546f4c-3fc8-456c-e0c2-dfd8c911535e",
        "colab": {
          "base_uri": "https://localhost:8080/",
          "height": 783
        }
      },
      "source": [
        "conv_base.summary()"
      ],
      "execution_count": 12,
      "outputs": [
        {
          "output_type": "stream",
          "text": [
            "Model: \"vgg16\"\n",
            "_________________________________________________________________\n",
            "Layer (type)                 Output Shape              Param #   \n",
            "=================================================================\n",
            "input_1 (InputLayer)         [(None, 150, 150, 3)]     0         \n",
            "_________________________________________________________________\n",
            "block1_conv1 (Conv2D)        (None, 150, 150, 64)      1792      \n",
            "_________________________________________________________________\n",
            "block1_conv2 (Conv2D)        (None, 150, 150, 64)      36928     \n",
            "_________________________________________________________________\n",
            "block1_pool (MaxPooling2D)   (None, 75, 75, 64)        0         \n",
            "_________________________________________________________________\n",
            "block2_conv1 (Conv2D)        (None, 75, 75, 128)       73856     \n",
            "_________________________________________________________________\n",
            "block2_conv2 (Conv2D)        (None, 75, 75, 128)       147584    \n",
            "_________________________________________________________________\n",
            "block2_pool (MaxPooling2D)   (None, 37, 37, 128)       0         \n",
            "_________________________________________________________________\n",
            "block3_conv1 (Conv2D)        (None, 37, 37, 256)       295168    \n",
            "_________________________________________________________________\n",
            "block3_conv2 (Conv2D)        (None, 37, 37, 256)       590080    \n",
            "_________________________________________________________________\n",
            "block3_conv3 (Conv2D)        (None, 37, 37, 256)       590080    \n",
            "_________________________________________________________________\n",
            "block3_pool (MaxPooling2D)   (None, 18, 18, 256)       0         \n",
            "_________________________________________________________________\n",
            "block4_conv1 (Conv2D)        (None, 18, 18, 512)       1180160   \n",
            "_________________________________________________________________\n",
            "block4_conv2 (Conv2D)        (None, 18, 18, 512)       2359808   \n",
            "_________________________________________________________________\n",
            "block4_conv3 (Conv2D)        (None, 18, 18, 512)       2359808   \n",
            "_________________________________________________________________\n",
            "block4_pool (MaxPooling2D)   (None, 9, 9, 512)         0         \n",
            "_________________________________________________________________\n",
            "block5_conv1 (Conv2D)        (None, 9, 9, 512)         2359808   \n",
            "_________________________________________________________________\n",
            "block5_conv2 (Conv2D)        (None, 9, 9, 512)         2359808   \n",
            "_________________________________________________________________\n",
            "block5_conv3 (Conv2D)        (None, 9, 9, 512)         2359808   \n",
            "_________________________________________________________________\n",
            "block5_pool (MaxPooling2D)   (None, 4, 4, 512)         0         \n",
            "=================================================================\n",
            "Total params: 14,714,688\n",
            "Trainable params: 14,714,688\n",
            "Non-trainable params: 0\n",
            "_________________________________________________________________\n"
          ],
          "name": "stdout"
        }
      ]
    },
    {
      "cell_type": "markdown",
      "metadata": {
        "id": "z9qQgO8L7W0X",
        "colab_type": "text"
      },
      "source": [
        "The final feature map has shape (4, 4, 512). That's the feature on top of which we will stick a densely-connected classifier.\n",
        "\n",
        "At this point, there are two ways we could proceed:\n",
        "\n",
        "* Running the convolutional base over our dataset, recording its output to a Numpy array on disk, then using this data as input to a standalone densely-connected classifier. This solution is very fast and cheap to run, because it only requires running the convolutional base once for every input image, and the convolutional base is by far the most expensive part of the pipeline. However, for the exact same reason, this technique would not allow us to leverage data augmentation at all.\n",
        "\n",
        "* Extending the model we have (conv_base) by adding Dense layers on top, and running the whole thing end-to-end on the input data. This allows us to use data augmentation, because every input image is going through the convolutional base every time it is seen by the model. However, for this same reason, this technique is far more expensive than the first one.\n",
        "\n",
        "We will cover both techniques. Let's walk through the code required to set-up the first one: recording the output of conv_base on our data and using these outputs as inputs to a new model."
      ]
    },
    {
      "cell_type": "markdown",
      "metadata": {
        "id": "T4D-EeAh7nfE",
        "colab_type": "text"
      },
      "source": [
        "### Fast Feature Extraction without Data Augmentation"
      ]
    },
    {
      "cell_type": "markdown",
      "metadata": {
        "id": "_FEOhbKl7pYA",
        "colab_type": "text"
      },
      "source": [
        "We will start by simply running instances of the previously-introduced ImageDataGenerator to extract images as Numpy arrays as well as their labels. We will extract features from these images simply by calling the predict method of the conv_base model."
      ]
    },
    {
      "cell_type": "code",
      "metadata": {
        "id": "V4_TuIbe7zqh",
        "colab_type": "code",
        "outputId": "5fcbdf8a-0ff8-431c-b4a3-ee3168aacf5a",
        "colab": {
          "base_uri": "https://localhost:8080/",
          "height": 67
        }
      },
      "source": [
        "from tensorflow.keras.preprocessing.image import ImageDataGenerator\n",
        "\n",
        "train_dir = os.path.join(base_dir, 'train')\n",
        "validation_dir = os.path.join(base_dir, 'validation')\n",
        "test_dir = os.path.join(base_dir, 'test')\n",
        "\n",
        "datagen = ImageDataGenerator(rescale=1. / 255)\n",
        "batch_size = 20\n",
        "\n",
        "def extract_features(directory, sample_count):\n",
        "  features = np.zeros(shape=(sample_count, 4, 4, 512))\n",
        "  labels = np.zeros(shape=(sample_count))\n",
        "\n",
        "  generator = datagen.flow_from_directory(directory, target_size=(150, 150), batch_size=batch_size, class_mode='binary')\n",
        "\n",
        "  i = 0\n",
        "  for inputs_batch, labels_batch in generator:\n",
        "    features_batch = conv_base.predict(inputs_batch)\n",
        "    features[i * batch_size: (i + 1) * batch_size] = features_batch\n",
        "    labels[i * batch_size: (i + 1) * batch_size] = labels_batch\n",
        "    i += 1\n",
        "\n",
        "    if i * batch_size >= sample_count:\n",
        "      # Note that since generators yield data indefinitely in a loop,\n",
        "      # we must `break` after every image has been seen once.\n",
        "      break;\n",
        "  return features, labels\n",
        "\n",
        "train_features, train_labels = extract_features(train_dir, 2000)\n",
        "validation_features, validation_labels = extract_features(validation_dir, 1000)\n",
        "test_features, test_labels = extract_features(test_dir, 1000)"
      ],
      "execution_count": 13,
      "outputs": [
        {
          "output_type": "stream",
          "text": [
            "Found 2000 images belonging to 2 classes.\n",
            "Found 1000 images belonging to 2 classes.\n",
            "Found 1000 images belonging to 2 classes.\n"
          ],
          "name": "stdout"
        }
      ]
    },
    {
      "cell_type": "markdown",
      "metadata": {
        "id": "SSIaJhhG-quN",
        "colab_type": "text"
      },
      "source": [
        "The extracted features are currently of shape (samples, 4, 4, 512). You’ll feed them to a densely connected classifier, so first you must flatten them to (samples, 8192):"
      ]
    },
    {
      "cell_type": "code",
      "metadata": {
        "id": "g3lx0FKm-sho",
        "colab_type": "code",
        "colab": {}
      },
      "source": [
        "features_shape = 4 * 4 * 512\n",
        "\n",
        "train_features = np.reshape(train_features, (2000, features_shape))\n",
        "validation_features = np.reshape(validation_features, (1000, features_shape))\n",
        "test_features = np.reshape(test_features, (1000, features_shape))"
      ],
      "execution_count": 0,
      "outputs": []
    },
    {
      "cell_type": "markdown",
      "metadata": {
        "id": "qeFuk3Gw_SCG",
        "colab_type": "text"
      },
      "source": [
        "At this point, we can define our densely-connected classifier (note the use of dropout for regularization), and train it on the data and labels that we just recorded:"
      ]
    },
    {
      "cell_type": "code",
      "metadata": {
        "id": "yLrxahjz_XlO",
        "colab_type": "code",
        "outputId": "7eb121be-1680-4444-e3ff-134a71997186",
        "colab": {
          "base_uri": "https://localhost:8080/",
          "height": 1000
        }
      },
      "source": [
        "model = keras.models.Sequential()\n",
        "model.add(keras.layers.Dense(256, activation='relu', input_dim=features_shape))\n",
        "model.add(keras.layers.Dropout(0.5))\n",
        "model.add(keras.layers.Dense(1, activation='sigmoid'))\n",
        "\n",
        "model.compile(loss='binary_crossentropy', optimizer=keras.optimizers.RMSprop(learning_rate=2e-5), metrics=['accuracy'])\n",
        "\n",
        "history = model.fit(train_features, train_labels, epochs=30, batch_size=20, validation_data=(validation_features, validation_labels))"
      ],
      "execution_count": 15,
      "outputs": [
        {
          "output_type": "stream",
          "text": [
            "Train on 2000 samples, validate on 1000 samples\n",
            "Epoch 1/30\n",
            "2000/2000 [==============================] - 1s 665us/sample - loss: 0.5913 - accuracy: 0.6760 - val_loss: 0.4422 - val_accuracy: 0.8410\n",
            "Epoch 2/30\n",
            "2000/2000 [==============================] - 1s 351us/sample - loss: 0.4285 - accuracy: 0.8030 - val_loss: 0.3661 - val_accuracy: 0.8550\n",
            "Epoch 3/30\n",
            "2000/2000 [==============================] - 1s 336us/sample - loss: 0.3671 - accuracy: 0.8485 - val_loss: 0.3239 - val_accuracy: 0.8760\n",
            "Epoch 4/30\n",
            "2000/2000 [==============================] - 1s 352us/sample - loss: 0.3239 - accuracy: 0.8665 - val_loss: 0.2980 - val_accuracy: 0.8940\n",
            "Epoch 5/30\n",
            "2000/2000 [==============================] - 1s 366us/sample - loss: 0.2977 - accuracy: 0.8820 - val_loss: 0.2993 - val_accuracy: 0.8690\n",
            "Epoch 6/30\n",
            "2000/2000 [==============================] - 1s 352us/sample - loss: 0.2634 - accuracy: 0.8985 - val_loss: 0.2706 - val_accuracy: 0.8920\n",
            "Epoch 7/30\n",
            "2000/2000 [==============================] - 1s 359us/sample - loss: 0.2510 - accuracy: 0.9035 - val_loss: 0.2621 - val_accuracy: 0.8920\n",
            "Epoch 8/30\n",
            "2000/2000 [==============================] - 1s 359us/sample - loss: 0.2373 - accuracy: 0.9085 - val_loss: 0.2585 - val_accuracy: 0.8920\n",
            "Epoch 9/30\n",
            "2000/2000 [==============================] - 1s 353us/sample - loss: 0.2236 - accuracy: 0.9170 - val_loss: 0.2517 - val_accuracy: 0.8980\n",
            "Epoch 10/30\n",
            "2000/2000 [==============================] - 1s 351us/sample - loss: 0.2069 - accuracy: 0.9190 - val_loss: 0.2471 - val_accuracy: 0.8980\n",
            "Epoch 11/30\n",
            "2000/2000 [==============================] - 1s 353us/sample - loss: 0.2000 - accuracy: 0.9275 - val_loss: 0.2451 - val_accuracy: 0.8960\n",
            "Epoch 12/30\n",
            "2000/2000 [==============================] - 1s 350us/sample - loss: 0.1860 - accuracy: 0.9350 - val_loss: 0.2421 - val_accuracy: 0.9030\n",
            "Epoch 13/30\n",
            "2000/2000 [==============================] - 1s 352us/sample - loss: 0.1832 - accuracy: 0.9315 - val_loss: 0.2454 - val_accuracy: 0.8930\n",
            "Epoch 14/30\n",
            "2000/2000 [==============================] - 1s 353us/sample - loss: 0.1697 - accuracy: 0.9360 - val_loss: 0.2376 - val_accuracy: 0.9040\n",
            "Epoch 15/30\n",
            "2000/2000 [==============================] - 1s 360us/sample - loss: 0.1685 - accuracy: 0.9405 - val_loss: 0.2377 - val_accuracy: 0.8990\n",
            "Epoch 16/30\n",
            "2000/2000 [==============================] - 1s 350us/sample - loss: 0.1510 - accuracy: 0.9445 - val_loss: 0.2379 - val_accuracy: 0.9010\n",
            "Epoch 17/30\n",
            "2000/2000 [==============================] - 1s 352us/sample - loss: 0.1480 - accuracy: 0.9495 - val_loss: 0.2350 - val_accuracy: 0.9050\n",
            "Epoch 18/30\n",
            "2000/2000 [==============================] - 1s 354us/sample - loss: 0.1477 - accuracy: 0.9465 - val_loss: 0.2351 - val_accuracy: 0.9030\n",
            "Epoch 19/30\n",
            "2000/2000 [==============================] - 1s 358us/sample - loss: 0.1367 - accuracy: 0.9585 - val_loss: 0.2336 - val_accuracy: 0.9050\n",
            "Epoch 20/30\n",
            "2000/2000 [==============================] - 1s 357us/sample - loss: 0.1303 - accuracy: 0.9560 - val_loss: 0.2336 - val_accuracy: 0.9060\n",
            "Epoch 21/30\n",
            "2000/2000 [==============================] - 1s 358us/sample - loss: 0.1232 - accuracy: 0.9580 - val_loss: 0.2426 - val_accuracy: 0.9000\n",
            "Epoch 22/30\n",
            "2000/2000 [==============================] - 1s 354us/sample - loss: 0.1259 - accuracy: 0.9580 - val_loss: 0.2406 - val_accuracy: 0.9010\n",
            "Epoch 23/30\n",
            "2000/2000 [==============================] - 1s 355us/sample - loss: 0.1184 - accuracy: 0.9610 - val_loss: 0.2372 - val_accuracy: 0.9060\n",
            "Epoch 24/30\n",
            "2000/2000 [==============================] - 1s 354us/sample - loss: 0.1223 - accuracy: 0.9610 - val_loss: 0.2360 - val_accuracy: 0.9020\n",
            "Epoch 25/30\n",
            "2000/2000 [==============================] - 1s 388us/sample - loss: 0.1088 - accuracy: 0.9645 - val_loss: 0.2355 - val_accuracy: 0.9030\n",
            "Epoch 26/30\n",
            "2000/2000 [==============================] - 1s 361us/sample - loss: 0.1063 - accuracy: 0.9630 - val_loss: 0.2393 - val_accuracy: 0.9030\n",
            "Epoch 27/30\n",
            "2000/2000 [==============================] - 1s 364us/sample - loss: 0.1001 - accuracy: 0.9690 - val_loss: 0.2336 - val_accuracy: 0.9020\n",
            "Epoch 28/30\n",
            "2000/2000 [==============================] - 1s 372us/sample - loss: 0.1004 - accuracy: 0.9695 - val_loss: 0.2358 - val_accuracy: 0.9000\n",
            "Epoch 29/30\n",
            "2000/2000 [==============================] - 1s 364us/sample - loss: 0.0991 - accuracy: 0.9675 - val_loss: 0.2439 - val_accuracy: 0.9030\n",
            "Epoch 30/30\n",
            "2000/2000 [==============================] - 1s 371us/sample - loss: 0.0927 - accuracy: 0.9705 - val_loss: 0.2432 - val_accuracy: 0.9030\n"
          ],
          "name": "stdout"
        }
      ]
    },
    {
      "cell_type": "markdown",
      "metadata": {
        "id": "ImjxX09VAwWf",
        "colab_type": "text"
      },
      "source": [
        "Training is very fast, since we only have to deal with two Dense layers -- an epoch takes less than one second even on CPU.\n",
        "\n",
        "Let's take a look at the loss and accuracy curves during training:"
      ]
    },
    {
      "cell_type": "code",
      "metadata": {
        "id": "Q6Ml1qIfA3TM",
        "colab_type": "code",
        "outputId": "743f2f7f-3d6f-4cf1-d752-4998fab1339b",
        "colab": {
          "base_uri": "https://localhost:8080/",
          "height": 545
        }
      },
      "source": [
        "acc = history.history['accuracy']\n",
        "val_acc = history.history['val_accuracy']\n",
        "loss = history.history['loss']\n",
        "val_loss = history.history['val_loss']\n",
        "\n",
        "epochs = range(len(acc))\n",
        "\n",
        "plt.plot(epochs, acc, 'bo', label='Training accuracy')\n",
        "plt.plot(epochs, val_acc, 'b', label='Validation accuracy')\n",
        "plt.title('Training and validation accuracy')\n",
        "plt.legend()\n",
        "\n",
        "plt.figure()\n",
        "\n",
        "plt.plot(epochs, loss, 'bo', label='Training loss')\n",
        "plt.plot(epochs, val_loss, 'b', label='Validation loss')\n",
        "plt.title('Training and validation loss')\n",
        "plt.legend()\n",
        "\n",
        "plt.show()"
      ],
      "execution_count": 16,
      "outputs": [
        {
          "output_type": "display_data",
          "data": {
            "image/png": "[encoded data removed]",
            "text/plain": [
              "<Figure size 432x288 with 1 Axes>"
            ]
          },
          "metadata": {
            "tags": []
          }
        },
        {
          "output_type": "display_data",
          "data": {
            "image/png": "[encoded data removed]",
            "text/plain": [
              "<Figure size 432x288 with 1 Axes>"
            ]
          },
          "metadata": {
            "tags": []
          }
        }
      ]
    },
    {
      "cell_type": "markdown",
      "metadata": {
        "id": "4BJSGMCmEC6Q",
        "colab_type": "text"
      },
      "source": [
        "We reach a validation accuracy of about 90%, much better than what we could achieve in the previous section with our small model trained from scratch. However, our plots also indicate that we are overfitting almost from the start -- despite using dropout with a fairly large rate. This is because this technique does not leverage data augmentation, which is essential to preventing overfitting with small image datasets."
      ]
    },
    {
      "cell_type": "markdown",
      "metadata": {
        "id": "L5885LsjBX3v",
        "colab_type": "text"
      },
      "source": [
        "### Feature Extraction with Data Augmentation"
      ]
    },
    {
      "cell_type": "markdown",
      "metadata": {
        "id": "gsK55XlUBkKR",
        "colab_type": "text"
      },
      "source": [
        "Now, let's review the second technique we mentioned for doing feature extraction, which is much slower and more expensive, but which allows us to leverage data augmentation during training: extending the conv_base model and running it end-to-end on the inputs. Note that this technique is in fact so expensive that you should only attempt it if you have access to a GPU: it is absolutely intractable on CPU. If you cannot run your code on GPU, then the previous technique is the way to go.\n",
        "\n",
        "Because models behave just like layers, you can add a model (like our conv_base) to a Sequential model just like you would add a layer. So you can do the following:"
      ]
    },
    {
      "cell_type": "code",
      "metadata": {
        "id": "9brlYbRCCs_r",
        "colab_type": "code",
        "colab": {}
      },
      "source": [
        "model = keras.models.Sequential()\n",
        "model.add(conv_base)\n",
        "model.add(keras.layers.Flatten())\n",
        "model.add(keras.layers.Dense(256, activation='relu'))\n",
        "model.add(keras.layers.Dense(1, activation='sigmoid'))"
      ],
      "execution_count": 0,
      "outputs": []
    },
    {
      "cell_type": "markdown",
      "metadata": {
        "id": "VSw5zD914D3z",
        "colab_type": "text"
      },
      "source": [
        "This is what our model looks like now:"
      ]
    },
    {
      "cell_type": "code",
      "metadata": {
        "id": "gotbqdIi4EPF",
        "colab_type": "code",
        "colab": {
          "base_uri": "https://localhost:8080/",
          "height": 283
        },
        "outputId": "f6315207-4669-4240-f57d-703763c179d6"
      },
      "source": [
        "model.summary()"
      ],
      "execution_count": 18,
      "outputs": [
        {
          "output_type": "stream",
          "text": [
            "Model: \"sequential_1\"\n",
            "_________________________________________________________________\n",
            "Layer (type)                 Output Shape              Param #   \n",
            "=================================================================\n",
            "vgg16 (Model)                (None, 4, 4, 512)         14714688  \n",
            "_________________________________________________________________\n",
            "flatten (Flatten)            (None, 8192)              0         \n",
            "_________________________________________________________________\n",
            "dense_2 (Dense)              (None, 256)               2097408   \n",
            "_________________________________________________________________\n",
            "dense_3 (Dense)              (None, 1)                 257       \n",
            "=================================================================\n",
            "Total params: 16,812,353\n",
            "Trainable params: 16,812,353\n",
            "Non-trainable params: 0\n",
            "_________________________________________________________________\n"
          ],
          "name": "stdout"
        }
      ]
    },
    {
      "cell_type": "markdown",
      "metadata": {
        "id": "snGpSj64ErlG",
        "colab_type": "text"
      },
      "source": [
        "As you can see, the convolutional base of VGG16 has 14,714,688 parameters, which is very large. The classifier we are adding on top has 2 million parameters.\n",
        "\n",
        "Before we compile and train our model, a very important thing to do is to freeze the convolutional base. \"Freezing\" a layer or set of layers means preventing their weights from getting updated during training. If we don't do this, then the representations that were previously learned by the convolutional base would get modified during training. Since the Dense layers on top are randomly initialized, very large weight updates would be propagated through the network, effectively destroying the representations previously learned.\n",
        "\n",
        "In Keras, freezing a network is done by setting its trainable attribute to False:"
      ]
    },
    {
      "cell_type": "code",
      "metadata": {
        "id": "b9ScukYA4lVi",
        "colab_type": "code",
        "colab": {
          "base_uri": "https://localhost:8080/",
          "height": 33
        },
        "outputId": "6c309273-cabc-4023-ecfe-311780355a20"
      },
      "source": [
        "print(f'This is the number of trainable weights before freezing the conv base:{len(model.trainable_weights)}')"
      ],
      "execution_count": 19,
      "outputs": [
        {
          "output_type": "stream",
          "text": [
            "This is the number of trainable weights before freezing the conv base:30\n"
          ],
          "name": "stdout"
        }
      ]
    },
    {
      "cell_type": "code",
      "metadata": {
        "id": "BWg8NpiH405n",
        "colab_type": "code",
        "colab": {}
      },
      "source": [
        "conv_base.trainable = False"
      ],
      "execution_count": 0,
      "outputs": []
    },
    {
      "cell_type": "code",
      "metadata": {
        "id": "9QIn4Pdh49Fs",
        "colab_type": "code",
        "colab": {
          "base_uri": "https://localhost:8080/",
          "height": 33
        },
        "outputId": "ebf3a638-4908-49d8-edca-871ad512cc5a"
      },
      "source": [
        "print(f'This is the number of trainable weights after freezing the conv base:{len(model.trainable_weights)}')"
      ],
      "execution_count": 21,
      "outputs": [
        {
          "output_type": "stream",
          "text": [
            "This is the number of trainable weights after freezing the conv base:4\n"
          ],
          "name": "stdout"
        }
      ]
    },
    {
      "cell_type": "markdown",
      "metadata": {
        "id": "MybzzDYnEsgp",
        "colab_type": "text"
      },
      "source": [
        "With this setup, only the weights from the two Dense layers that we added will be trained. That's a total of four weight tensors: two per layer (the main weight matrix and the bias vector). Note that in order for these changes to take effect, we must first compile the model. If you ever modify weight trainability after compilation, you should then re-compile the model, or these changes would be ignored.\n",
        "\n",
        "Now we can start training our model, with the same data augmentation configuration that we used in our previous example:"
      ]
    },
    {
      "cell_type": "code",
      "metadata": {
        "id": "N6Z2eXcWSWn3",
        "colab_type": "code",
        "colab": {}
      },
      "source": [
        "from tensorflow.keras.preprocessing.image import ImageDataGenerator"
      ],
      "execution_count": 0,
      "outputs": []
    },
    {
      "cell_type": "code",
      "metadata": {
        "id": "tRBH4QwQjkhC",
        "colab_type": "code",
        "outputId": "e75cd799-e7eb-4537-fe1c-cb29b9bb040f",
        "colab": {
          "base_uri": "https://localhost:8080/",
          "height": 1000
        }
      },
      "source": [
        "# https://stackoverflow.com/questions/55141076/how-to-apply-data-augmentation-in-tensorflow-2-0-after-tfds-load\n",
        "# https://stackoverflow.com/questions/55421290/tensorflow-2-0-keras-how-to-write-image-summaries-for-tensorboard/55754700#55754700\n",
        "# https://www.tensorflow.org/api_docs/python/tf/keras/preprocessing/image/ImageDataGenerator\n",
        "\n",
        "train_datagen = ImageDataGenerator(rescale=1. / 255,\n",
        "                                   rotation_range=40,\n",
        "                                   width_shift_range=0.2,\n",
        "                                   height_shift_range=0.2,\n",
        "                                   shear_range=0.2,\n",
        "                                   zoom_range=0.2,\n",
        "                                   horizontal_flip=True,\n",
        "                                   fill_mode='nearest')\n",
        "\n",
        "# Note that the validation data should not be augmented!\n",
        "test_datagen = ImageDataGenerator(rescale=1. / 255)\n",
        "\n",
        "train_generator = train_datagen.flow_from_directory(train_dir,  # target directory\n",
        "                                                    target_size=(150, 150), # resized to 150x150\n",
        "                                                    batch_size=20,\n",
        "                                                    # Since we use binary_crossentropy loss, we need binary labels\n",
        "                                                    class_mode='binary')\n",
        "validation_generator = test_datagen.flow_from_directory(validation_dir,  # target directory\n",
        "                                                    target_size=(150, 150), # resized to 150x150\n",
        "                                                    batch_size=20,\n",
        "                                                    class_mode='binary')\n",
        "\n",
        "model.compile(loss='binary_crossentropy', optimizer=keras.optimizers.RMSprop(learning_rate=2e-5), metrics=['accuracy'])\n",
        "\n",
        "# train the model\n",
        "history = model.fit(train_generator,\n",
        "                    steps_per_epoch=100,\n",
        "                    epochs=30,\n",
        "                    validation_data=validation_generator,\n",
        "                    validation_steps=50,\n",
        "                    verbose=2)"
      ],
      "execution_count": 23,
      "outputs": [
        {
          "output_type": "stream",
          "text": [
            "Found 2000 images belonging to 2 classes.\n",
            "Found 1000 images belonging to 2 classes.\n",
            "WARNING:tensorflow:sample_weight modes were coerced from\n",
            "  ...\n",
            "    to  \n",
            "  ['...']\n",
            "WARNING:tensorflow:sample_weight modes were coerced from\n",
            "  ...\n",
            "    to  \n",
            "  ['...']\n",
            "Train for 100 steps, validate for 50 steps\n",
            "Epoch 1/30\n",
            "100/100 - 27s - loss: 0.5945 - accuracy: 0.6860 - val_loss: 0.4520 - val_accuracy: 0.8290\n",
            "Epoch 2/30\n",
            "100/100 - 26s - loss: 0.4889 - accuracy: 0.7820 - val_loss: 0.3708 - val_accuracy: 0.8600\n",
            "Epoch 3/30\n",
            "100/100 - 26s - loss: 0.4379 - accuracy: 0.7990 - val_loss: 0.3338 - val_accuracy: 0.8630\n",
            "Epoch 4/30\n",
            "100/100 - 26s - loss: 0.3996 - accuracy: 0.8290 - val_loss: 0.3102 - val_accuracy: 0.8790\n",
            "Epoch 5/30\n",
            "100/100 - 26s - loss: 0.3832 - accuracy: 0.8260 - val_loss: 0.2952 - val_accuracy: 0.8910\n",
            "Epoch 6/30\n",
            "100/100 - 26s - loss: 0.3738 - accuracy: 0.8355 - val_loss: 0.2868 - val_accuracy: 0.8870\n",
            "Epoch 7/30\n",
            "100/100 - 26s - loss: 0.3642 - accuracy: 0.8370 - val_loss: 0.2874 - val_accuracy: 0.8790\n",
            "Epoch 8/30\n",
            "100/100 - 26s - loss: 0.3484 - accuracy: 0.8465 - val_loss: 0.2737 - val_accuracy: 0.8930\n",
            "Epoch 9/30\n",
            "100/100 - 26s - loss: 0.3338 - accuracy: 0.8570 - val_loss: 0.2676 - val_accuracy: 0.8930\n",
            "Epoch 10/30\n",
            "100/100 - 26s - loss: 0.3366 - accuracy: 0.8520 - val_loss: 0.2768 - val_accuracy: 0.8850\n",
            "Epoch 11/30\n",
            "100/100 - 26s - loss: 0.3336 - accuracy: 0.8525 - val_loss: 0.2950 - val_accuracy: 0.8660\n",
            "Epoch 12/30\n",
            "100/100 - 26s - loss: 0.3262 - accuracy: 0.8660 - val_loss: 0.2565 - val_accuracy: 0.8960\n",
            "Epoch 13/30\n",
            "100/100 - 26s - loss: 0.3154 - accuracy: 0.8675 - val_loss: 0.2536 - val_accuracy: 0.8960\n",
            "Epoch 14/30\n",
            "100/100 - 26s - loss: 0.3207 - accuracy: 0.8625 - val_loss: 0.2527 - val_accuracy: 0.8980\n",
            "Epoch 15/30\n",
            "100/100 - 26s - loss: 0.3171 - accuracy: 0.8580 - val_loss: 0.2521 - val_accuracy: 0.9000\n",
            "Epoch 16/30\n",
            "100/100 - 26s - loss: 0.3067 - accuracy: 0.8670 - val_loss: 0.2542 - val_accuracy: 0.8980\n",
            "Epoch 17/30\n",
            "100/100 - 26s - loss: 0.3185 - accuracy: 0.8535 - val_loss: 0.2572 - val_accuracy: 0.8980\n",
            "Epoch 18/30\n",
            "100/100 - 26s - loss: 0.3129 - accuracy: 0.8680 - val_loss: 0.2529 - val_accuracy: 0.9000\n",
            "Epoch 19/30\n",
            "100/100 - 26s - loss: 0.3102 - accuracy: 0.8700 - val_loss: 0.2706 - val_accuracy: 0.8860\n",
            "Epoch 20/30\n",
            "100/100 - 26s - loss: 0.2972 - accuracy: 0.8770 - val_loss: 0.2489 - val_accuracy: 0.8980\n",
            "Epoch 21/30\n",
            "100/100 - 26s - loss: 0.3079 - accuracy: 0.8740 - val_loss: 0.2652 - val_accuracy: 0.8910\n",
            "Epoch 22/30\n",
            "100/100 - 26s - loss: 0.2886 - accuracy: 0.8760 - val_loss: 0.2457 - val_accuracy: 0.9020\n",
            "Epoch 23/30\n",
            "100/100 - 26s - loss: 0.3010 - accuracy: 0.8675 - val_loss: 0.2471 - val_accuracy: 0.9030\n",
            "Epoch 24/30\n",
            "100/100 - 26s - loss: 0.2876 - accuracy: 0.8740 - val_loss: 0.2420 - val_accuracy: 0.9040\n",
            "Epoch 25/30\n",
            "100/100 - 26s - loss: 0.2983 - accuracy: 0.8700 - val_loss: 0.2437 - val_accuracy: 0.9040\n",
            "Epoch 26/30\n",
            "100/100 - 26s - loss: 0.2881 - accuracy: 0.8795 - val_loss: 0.2466 - val_accuracy: 0.9030\n",
            "Epoch 27/30\n",
            "100/100 - 25s - loss: 0.2870 - accuracy: 0.8730 - val_loss: 0.2500 - val_accuracy: 0.9030\n",
            "Epoch 28/30\n",
            "100/100 - 26s - loss: 0.2837 - accuracy: 0.8775 - val_loss: 0.2520 - val_accuracy: 0.9030\n",
            "Epoch 29/30\n",
            "100/100 - 25s - loss: 0.2853 - accuracy: 0.8785 - val_loss: 0.2484 - val_accuracy: 0.9030\n",
            "Epoch 30/30\n",
            "100/100 - 26s - loss: 0.2922 - accuracy: 0.8810 - val_loss: 0.2388 - val_accuracy: 0.9110\n"
          ],
          "name": "stdout"
        }
      ]
    },
    {
      "cell_type": "markdown",
      "metadata": {
        "id": "Lf3_x4o_loIo",
        "colab_type": "text"
      },
      "source": [
        "Let's save our model."
      ]
    },
    {
      "cell_type": "code",
      "metadata": {
        "id": "UN2hohPflYeT",
        "colab_type": "code",
        "colab": {}
      },
      "source": [
        "model.save('cats_and_dogs_small_3.h5')"
      ],
      "execution_count": 0,
      "outputs": []
    },
    {
      "cell_type": "markdown",
      "metadata": {
        "id": "d_52AtGOu2oO",
        "colab_type": "text"
      },
      "source": [
        "Let's plot our results again:"
      ]
    },
    {
      "cell_type": "code",
      "metadata": {
        "id": "tTVPMuTdu3Hi",
        "colab_type": "code",
        "outputId": "33898ade-b711-49b7-bc98-adff5dfbd12b",
        "colab": {
          "base_uri": "https://localhost:8080/",
          "height": 545
        }
      },
      "source": [
        "acc = history.history['accuracy']\n",
        "val_acc = history.history['val_accuracy']\n",
        "loss = history.history['loss']\n",
        "val_loss = history.history['val_loss']\n",
        "\n",
        "epochs = range(len(acc))\n",
        "\n",
        "plt.plot(epochs, acc, 'go', label='Training acc')\n",
        "plt.plot(epochs, val_acc, 'r', label='Validation acc')\n",
        "plt.title('Training and validation accuracy')\n",
        "plt.legend()\n",
        "\n",
        "plt.figure()\n",
        "\n",
        "plt.plot(epochs, loss, 'go', label='Training loss')\n",
        "plt.plot(epochs, val_loss, 'r', label='Validation loss')\n",
        "plt.title('Training and validation loss')\n",
        "plt.legend()\n",
        "\n",
        "plt.show()"
      ],
      "execution_count": 26,
      "outputs": [
        {
          "output_type": "display_data",
          "data": {
            "image/png": "[encoded data removed]",
            "text/plain": [
              "<Figure size 432x288 with 1 Axes>"
            ]
          },
          "metadata": {
            "tags": []
          }
        },
        {
          "output_type": "display_data",
          "data": {
            "image/png": "[encoded data removed]",
            "text/plain": [
              "<Figure size 432x288 with 1 Axes>"
            ]
          },
          "metadata": {
            "tags": []
          }
        }
      ]
    },
    {
      "cell_type": "markdown",
      "metadata": {
        "id": "8C-konq5vhcp",
        "colab_type": "text"
      },
      "source": [
        "As you can see, we reach a validation accuracy of about 96%. This is much better than our small convnet trained from scratch."
      ]
    },
    {
      "cell_type": "markdown",
      "metadata": {
        "id": "Pt_C-xtF7MOy",
        "colab_type": "text"
      },
      "source": [
        "## Fine-tuning"
      ]
    },
    {
      "cell_type": "markdown",
      "metadata": {
        "id": "vzqoAdVO7Q1b",
        "colab_type": "text"
      },
      "source": [
        ""
      ]
    }
  ]
}