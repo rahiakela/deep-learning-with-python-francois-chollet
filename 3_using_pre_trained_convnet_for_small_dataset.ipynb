{
  "nbformat": 4,
  "nbformat_minor": 0,
  "metadata": {
    "colab": {
      "name": "3_using_pre_trained_convnet_for_small_dataset.ipynb",
      "provenance": [],
      "toc_visible": true,
      "include_colab_link": true
    },
    "kernelspec": {
      "name": "python3",
      "display_name": "Python 3"
    },
    "accelerator": "GPU"
  },
  "cells": [
    {
      "cell_type": "markdown",
      "metadata": {
        "id": "view-in-github",
        "colab_type": "text"
      },
      "source": [
        "<a href=\"https://colab.research.google.com/github/rahiakela/deep-learning-with-python-francois-chollet/blob/5-deep-learning-for-computer-vision/3_using_pre_trained_convnet_for_small_dataset.ipynb\" target=\"_parent\"><img src=\"https://colab.research.google.com/assets/colab-badge.svg\" alt=\"Open In Colab\"/></a>"
      ]
    },
    {
      "cell_type": "markdown",
      "metadata": {
        "id": "ichjB7bqxOAY",
        "colab_type": "text"
      },
      "source": [
        "# Using a pre-trained convnet for small dataset"
      ]
    },
    {
      "cell_type": "markdown",
      "metadata": {
        "id": "cuAC7iFf3eDN",
        "colab_type": "text"
      },
      "source": [
        "Having to train an image-classification model using very little data is a common situation, which you’ll likely encounter in practice if you ever do computer vision in a professional context. \n",
        "\n",
        "A “few” samples can mean anywhere from a few hundred to a\n",
        "few tens of thousands of images. As a practical example, we’ll focus on classifying images as dogs or cats, in a dataset containing 4,000 pictures of cats and dogs (2,000 cats, 2,000 dogs). We’ll use 2,000 pictures for training—1,000 for validation, and 1,000 for testing.\n",
        "\n",
        "We’ll review one basic strategy to tackle this problem: **training a new model from scratch using what little data you have**. You’ll start by naively training a small convnet on the 2,000 training samples, without any regularization, to set a baseline for what can be achieved. \n",
        "\n",
        "This will get you to a classification accuracy of 71%. At\n",
        "that point, the main issue will be overfitting. Then we’ll introduce data augmentation, a powerful technique for mitigating overfitting in computer vision. By using data augmentation you’ll improve the network to reach an accuracy of 82%.\n",
        "\n",
        "We’ll review two more essential techniques for applying deep\n",
        "learning to small datasets: \n",
        "* **feature extraction with a pretrained network** (which will get you to an accuracy of 90% to 96%) \n",
        "* and **fine-tuning a pretrained network** (this will get you to a final accuracy of 97%). \n",
        "\n",
        "Together, these three strategies—training a small model from scratch, doing feature extraction using a pretrained model, and fine-tuning a pretrained model—will constitute your future toolbox for tackling the problem of performing image classification with small datasets.\n",
        "\n",
        "Reference: https://blog.keras.io/building-powerful-image-classification-models-using-very-little-data.html"
      ]
    },
    {
      "cell_type": "markdown",
      "metadata": {
        "id": "-zGItxc6zWrr",
        "colab_type": "text"
      },
      "source": [
        "## Setup"
      ]
    },
    {
      "cell_type": "code",
      "metadata": {
        "id": "Wh8l50IVzYEb",
        "colab_type": "code",
        "outputId": "d4c3adef-ee66-4620-e3a4-4705801917d8",
        "colab": {
          "base_uri": "https://localhost:8080/",
          "height": 33
        }
      },
      "source": [
        "from __future__ import absolute_import, division, print_function, unicode_literals\n",
        "\n",
        "try:\n",
        "  # %tensorflow_version only exists in Colab.\n",
        "  %tensorflow_version 2.x\n",
        "except Exception:\n",
        "  pass\n",
        "import tensorflow as tf\n",
        "from tensorflow import keras\n",
        "import numpy as np\n",
        "import pandas as pd\n",
        "\n",
        "import matplotlib.pyplot as plt"
      ],
      "execution_count": 1,
      "outputs": [
        {
          "output_type": "stream",
          "text": [
            "TensorFlow 2.x selected.\n"
          ],
          "name": "stdout"
        }
      ]
    },
    {
      "cell_type": "markdown",
      "metadata": {
        "id": "uOkYmhcV5vcZ",
        "colab_type": "text"
      },
      "source": [
        "## The relevance of deep learning for small-data problems"
      ]
    },
    {
      "cell_type": "markdown",
      "metadata": {
        "id": "CT-1Dy5L5xIJ",
        "colab_type": "text"
      },
      "source": [
        "You’ll sometimes hear that deep learning only works when lots of data is available. This is valid in part: one fundamental characteristic of deep learning is that it can find interesting features in the training data on its own, without any need for manual feature engineering, and this can only be achieved when lots of training examples are available. This is especially true for problems where the input samples are very highdimensional, like images.\n",
        "\n"
      ]
    },
    {
      "cell_type": "markdown",
      "metadata": {
        "id": "rCvFQyXx6WSS",
        "colab_type": "text"
      },
      "source": [
        "## Downloading the data"
      ]
    },
    {
      "cell_type": "markdown",
      "metadata": {
        "id": "gOTpVn9D6XSA",
        "colab_type": "text"
      },
      "source": [
        "The Dogs vs. Cats dataset that you’ll use isn’t packaged with Keras. It was made available by Kaggle as part of a computer-vision competition in late 2013, back when convnets weren’t mainstream. You can download the original dataset from [www.kaggle.com/c/dogs-vs-cats/data](https://www.kaggle.com/c/dogs-vs-cats/data).\n",
        "\n",
        "<img src='https://s3.amazonaws.com/book.keras.io/img/ch5/cats_vs_dogs_samples.jpg?raw=1' width='800'/>\n",
        "\n",
        "Unsurprisingly, the dogs-versus-cats Kaggle competition in 2013 was won by entrants who used convnets. The best entries achieved up to 95% accuracy. In this example, you’ll get fairly close to this accuracy (in the next section), even though you’ll train\n",
        "your models on less than 10% of the data that was available to the competitors.\n",
        "\n",
        "This dataset contains 25,000 images of dogs and cats (12,500 from each class) and is 543 MB (compressed). After downloading and uncompressing it, you’ll create a new dataset containing three subsets: a training set with 1,000 samples of each class, a validation set with 500 samples of each class, and a test set with 500 samples of each class.\n",
        "\n",
        "Let's donload datasets from Kaggle."
      ]
    },
    {
      "cell_type": "code",
      "metadata": {
        "id": "Kw23YOgO8fkc",
        "colab_type": "code",
        "colab": {}
      },
      "source": [
        "# copy kaggle.json file to .kaggle directory\n",
        "! cp kaggle.json ~/.kaggle/\n",
        "! chmod 600 /root/.kaggle/kaggle.json"
      ],
      "execution_count": 0,
      "outputs": []
    },
    {
      "cell_type": "code",
      "metadata": {
        "id": "cxrWXQlHzYw7",
        "colab_type": "code",
        "outputId": "d3f8963c-854d-41a4-c087-a147cf707ced",
        "colab": {
          "base_uri": "https://localhost:8080/",
          "height": 317
        }
      },
      "source": [
        "!pip uninstall -y kaggle\n",
        "!pip install --upgrade pip\n",
        "!pip install kaggle==1.5.6\n",
        "!kaggle -v"
      ],
      "execution_count": 5,
      "outputs": [
        {
          "output_type": "stream",
          "text": [
            "Found existing installation: kaggle 1.5.6\n",
            "Uninstalling kaggle-1.5.6:\n",
            "  Successfully uninstalled kaggle-1.5.6\n",
            "Requirement already up-to-date: pip in /usr/local/lib/python3.6/dist-packages (20.0.2)\n",
            "Processing /root/.cache/pip/wheels/01/3e/ff/77407ebac3ef71a79b9166a8382aecf88415a0bcbe3c095a01/kaggle-1.5.6-py3-none-any.whl\n",
            "Requirement already satisfied: python-slugify in /usr/local/lib/python3.6/dist-packages (from kaggle==1.5.6) (4.0.0)\n",
            "Requirement already satisfied: urllib3<1.25,>=1.21.1 in /usr/local/lib/python3.6/dist-packages (from kaggle==1.5.6) (1.24.3)\n",
            "Requirement already satisfied: six>=1.10 in /tensorflow-2.1.0/python3.6 (from kaggle==1.5.6) (1.14.0)\n",
            "Requirement already satisfied: tqdm in /usr/local/lib/python3.6/dist-packages (from kaggle==1.5.6) (4.28.1)\n",
            "Requirement already satisfied: requests in /tensorflow-2.1.0/python3.6 (from kaggle==1.5.6) (2.23.0)\n",
            "Requirement already satisfied: python-dateutil in /usr/local/lib/python3.6/dist-packages (from kaggle==1.5.6) (2.6.1)\n",
            "Requirement already satisfied: certifi in /tensorflow-2.1.0/python3.6 (from kaggle==1.5.6) (2019.11.28)\n",
            "Requirement already satisfied: text-unidecode>=1.3 in /usr/local/lib/python3.6/dist-packages (from python-slugify->kaggle==1.5.6) (1.3)\n",
            "Requirement already satisfied: idna<3,>=2.5 in /tensorflow-2.1.0/python3.6 (from requests->kaggle==1.5.6) (2.9)\n",
            "Requirement already satisfied: chardet<4,>=3.0.2 in /tensorflow-2.1.0/python3.6 (from requests->kaggle==1.5.6) (3.0.4)\n",
            "Installing collected packages: kaggle\n",
            "Successfully installed kaggle-1.5.6\n",
            "Kaggle API 1.5.6\n"
          ],
          "name": "stdout"
        }
      ]
    },
    {
      "cell_type": "code",
      "metadata": {
        "id": "XQrm3kCLB3xL",
        "colab_type": "code",
        "outputId": "c7fe1cf0-57ba-4a92-921b-fbc3eafbc021",
        "colab": {
          "base_uri": "https://localhost:8080/",
          "height": 67
        }
      },
      "source": [
        "# Try to downlaod data for the dogs-vs-cats challenge\n",
        "!kaggle competitions download -c dogs-vs-cats"
      ],
      "execution_count": 6,
      "outputs": [
        {
          "output_type": "stream",
          "text": [
            "Downloading dogs-vs-cats.zip to /content\n",
            "100% 809M/812M [00:13<00:00, 82.8MB/s]\n",
            "100% 812M/812M [00:13<00:00, 63.1MB/s]\n"
          ],
          "name": "stdout"
        }
      ]
    },
    {
      "cell_type": "markdown",
      "metadata": {
        "id": "X_RL5NfW8Oek",
        "colab_type": "text"
      },
      "source": [
        "### Copying images to training, validation, and test directories"
      ]
    },
    {
      "cell_type": "code",
      "metadata": {
        "id": "Yun4Uiru0nb1",
        "colab_type": "code",
        "colab": {}
      },
      "source": [
        "import os, shutil\n",
        "import zipfile"
      ],
      "execution_count": 0,
      "outputs": []
    },
    {
      "cell_type": "code",
      "metadata": {
        "id": "1ITh9ZMqCZKI",
        "colab_type": "code",
        "colab": {}
      },
      "source": [
        "# path to the directory where the original dataset was uncompressed\n",
        "original_dataset_dir = 'kaggle_original_data'\n",
        "# directory where we will store our smaller dataset\n",
        "base_dir = 'cats_and_dogs_small'\n",
        "\n",
        "# remove directories if it already exists\n",
        "shutil.rmtree(original_dataset_dir, ignore_errors=True)\n",
        "shutil.rmtree(base_dir, ignore_errors=True)\n",
        "\n",
        "# create directories\n",
        "os.mkdir(original_dataset_dir)\n",
        "os.mkdir(base_dir)"
      ],
      "execution_count": 0,
      "outputs": []
    },
    {
      "cell_type": "code",
      "metadata": {
        "id": "-aE7mvpN9rJU",
        "colab_type": "code",
        "colab": {}
      },
      "source": [
        "# unzip dogs-vs-cats zip file\n",
        "with zipfile.ZipFile(\"dogs-vs-cats.zip\",\"r\") as zip_ref:\n",
        "    zip_ref.extractall('.')"
      ],
      "execution_count": 0,
      "outputs": []
    },
    {
      "cell_type": "code",
      "metadata": {
        "id": "YAF9VlrFDB8f",
        "colab_type": "code",
        "colab": {}
      },
      "source": [
        "# unzip train dataset\n",
        "with zipfile.ZipFile(\"train.zip\",\"r\") as zip_ref:\n",
        "    zip_ref.extractall(original_dataset_dir)\n",
        "\n",
        "# unzip test dataset\n",
        "with zipfile.ZipFile(\"test1.zip\",\"r\") as zip_ref:\n",
        "    zip_ref.extractall(original_dataset_dir)"
      ],
      "execution_count": 0,
      "outputs": []
    },
    {
      "cell_type": "code",
      "metadata": {
        "id": "vdSkCRD5Duua",
        "colab_type": "code",
        "colab": {}
      },
      "source": [
        "# create directories for our training, validation and test splits\n",
        "train_dir = os.path.join(base_dir, 'train')\n",
        "os.mkdir(train_dir)\n",
        "validation_dir = os.path.join(base_dir, 'validation')\n",
        "os.mkdir(validation_dir)\n",
        "test_dir = os.path.join(base_dir, 'test')\n",
        "os.mkdir(test_dir)\n",
        "\n",
        "# create directory with our training cat/dog pictures\n",
        "train_cats_dir = os.path.join(train_dir, 'cats')\n",
        "os.mkdir(train_cats_dir)\n",
        "train_dogs_dir = os.path.join(train_dir, 'dogs')\n",
        "os.mkdir(train_dogs_dir)\n",
        "\n",
        "# create directory with our validation cat/dog pictures\n",
        "validation_cats_dir = os.path.join(validation_dir, 'cats')\n",
        "os.mkdir(validation_cats_dir)\n",
        "validation_dogs_dir = os.path.join(validation_dir, 'dogs')\n",
        "os.mkdir(validation_dogs_dir)\n",
        "\n",
        "# create directory with our test cat/dog pictures\n",
        "test_cats_dir = os.path.join(test_dir, 'cats')\n",
        "os.mkdir(test_cats_dir)\n",
        "test_dogs_dir = os.path.join(test_dir, 'dogs')\n",
        "os.mkdir(test_dogs_dir)\n",
        "\n",
        "# Copy first 1000 cat images to train_cats_dir\n",
        "fnames = ['cat.{}.jpg'.format(i) for i in range(1000)]\n",
        "for fname in fnames:\n",
        "    src = os.path.join(original_dataset_dir + '/train/', fname)\n",
        "    dst = os.path.join(train_cats_dir, fname)\n",
        "    shutil.copyfile(src, dst)\n",
        "# Copy next 500 cat images to validation_cats_dir\n",
        "fnames = ['cat.{}.jpg'.format(i) for i in range(1000, 1500)]\n",
        "for fname in fnames:\n",
        "    src = os.path.join(original_dataset_dir + '/train/', fname)\n",
        "    dst = os.path.join(validation_cats_dir, fname)\n",
        "    shutil.copyfile(src, dst)\n",
        "# Copy next 500 cat images to test_cats_dir\n",
        "fnames = ['cat.{}.jpg'.format(i) for i in range(1500, 2000)]\n",
        "for fname in fnames:\n",
        "    src = os.path.join(original_dataset_dir + '/train/', fname)\n",
        "    dst = os.path.join(test_cats_dir, fname)\n",
        "    shutil.copyfile(src, dst)\n",
        "    \n",
        "# Copy first 1000 dog images to train_dogs_dir\n",
        "fnames = ['dog.{}.jpg'.format(i) for i in range(1000)]\n",
        "for fname in fnames:\n",
        "    src = os.path.join(original_dataset_dir + '/train/', fname)\n",
        "    dst = os.path.join(train_dogs_dir, fname)\n",
        "    shutil.copyfile(src, dst)\n",
        "# Copy next 500 dog images to validation_dogs_dir\n",
        "fnames = ['dog.{}.jpg'.format(i) for i in range(1000, 1500)]\n",
        "for fname in fnames:\n",
        "    src = os.path.join(original_dataset_dir + '/train/', fname)\n",
        "    dst = os.path.join(validation_dogs_dir, fname)\n",
        "    shutil.copyfile(src, dst)\n",
        "# Copy next 500 dog images to test_dogs_dir\n",
        "fnames = ['dog.{}.jpg'.format(i) for i in range(1500, 2000)]\n",
        "for fname in fnames:\n",
        "    src = os.path.join(original_dataset_dir + '/train/', fname)\n",
        "    dst = os.path.join(test_dogs_dir, fname)\n",
        "    shutil.copyfile(src, dst)"
      ],
      "execution_count": 0,
      "outputs": []
    },
    {
      "cell_type": "markdown",
      "metadata": {
        "id": "Jnzszi6OFI4h",
        "colab_type": "text"
      },
      "source": [
        "As a sanity check, let's count how many pictures we have in each training split (train/validation/test):"
      ]
    },
    {
      "cell_type": "code",
      "metadata": {
        "id": "IKmHOTBQFJoL",
        "colab_type": "code",
        "outputId": "be519ac5-7b6a-49e8-a8bb-7df13b49de3a",
        "colab": {
          "base_uri": "https://localhost:8080/",
          "height": 117
        }
      },
      "source": [
        "print(f'total training cat images: {len(os.listdir(train_cats_dir))}')\n",
        "print(f'total training dog  images: {len(os.listdir(train_dogs_dir))}')\n",
        "print(f'total validation  cat images: {len(os.listdir(validation_cats_dir))}')\n",
        "print(f'total validation  dog images: {len(os.listdir(validation_dogs_dir))}')\n",
        "print(f'total test cat images: {len(os.listdir(test_cats_dir))}')\n",
        "print(f'total test dog images: {len(os.listdir(test_dogs_dir))}')"
      ],
      "execution_count": 15,
      "outputs": [
        {
          "output_type": "stream",
          "text": [
            "total training cat images: 1000\n",
            "total training dog  images: 1000\n",
            "total validation  cat images: 500\n",
            "total validation  dog images: 500\n",
            "total test cat images: 500\n",
            "total test dog images: 500\n"
          ],
          "name": "stdout"
        }
      ]
    },
    {
      "cell_type": "markdown",
      "metadata": {
        "id": "OgtkqUEKO9nh",
        "colab_type": "text"
      },
      "source": [
        "So we have indeed 2000 training images, and then 1000 validation images and 1000 test images. In each split, there is the same number of samples from each class: this is a balanced binary classification problem, which means that classification accuracy will be an appropriate measure of success."
      ]
    },
    {
      "cell_type": "markdown",
      "metadata": {
        "id": "sqdF1Jjz05xz",
        "colab_type": "text"
      },
      "source": [
        "## Using a pre-trained convnet"
      ]
    },
    {
      "cell_type": "markdown",
      "metadata": {
        "id": "NsfP01_w06zZ",
        "colab_type": "text"
      },
      "source": [
        "A common and highly effective approach to deep learning on small image datasets is to leverage a pre-trained network. A pre-trained network is simply a saved network previously trained on a large dataset, typically on a large-scale image classification task. If this original dataset is large enough and general enough, then the spatial feature hierarchy learned by the pre-trained network can effectively act as a generic model of our visual world, and hence its features can prove useful for many different computer vision problems, even though these new problems might involve completely different classes from those of the original task.\n",
        "\n",
        "For instance, one might train a network on ImageNet (where classes are mostly animals and everyday objects) and then re-purpose this trained network for something as remote as identifying furniture items in images. Such portability of learned features across different problems is a key advantage of deep learning compared to many older shallow learning approaches, and it makes deep learning very effective for small-data problems.\n",
        "\n",
        "In our case, we will consider a large convnet trained on the ImageNet dataset (1.4 million labeled images and 1000 different classes). ImageNet contains many animal classes, including different species of cats and dogs, and we can thus expect to perform very well on our cat vs. dog classification problem.\n",
        "\n",
        "We will use the VGG16 architecture, developed by Karen Simonyan and Andrew Zisserman in 2014, a simple and widely used convnet architecture for ImageNet. Although it is a bit of an older model, far from the current state of the art and somewhat heavier than many other recent models, we chose it because its architecture is similar to what you are already familiar with, and easy to understand without introducing any new concepts. This may be your first encounter with one of these cutesie model names -- VGG, ResNet, Inception, Inception-ResNet, Xception... you will get used to them, as they will come up frequently if you keep doing deep learning for computer vision.\n",
        "\n",
        "There are two ways to leverage a pre-trained network: feature extraction and fine-tuning. We will cover both of them. Let's start with feature extraction."
      ]
    },
    {
      "cell_type": "markdown",
      "metadata": {
        "id": "kUfUxrrH1_s3",
        "colab_type": "text"
      },
      "source": [
        "## Feature extraction"
      ]
    },
    {
      "cell_type": "markdown",
      "metadata": {
        "id": "MJ6Sdmce2DUO",
        "colab_type": "text"
      },
      "source": [
        "Feature extraction consists of using the representations learned by a previous network to extract interesting features from new samples. These features are then run through a new classifier, which is trained from scratch.\n",
        "\n",
        "As we saw previously, convnets used for image classification comprise two parts: they start with a series of pooling and convolution layers, and they end with a densely-connected classifier. The first part is called the \"convolutional base\" of the model. In the case of convnets, \"feature extraction\" will simply consist of taking the convolutional base of a previously-trained network, running the new data through it, and training a new classifier on top of the output.\n",
        "\n",
        "<img src='https://s3.amazonaws.com/book.keras.io/img/ch5/swapping_fc_classifier.png?raw=1' width='800'/>\n",
        "\n",
        "Why only reuse the convolutional base? Could we reuse the densely-connected classifier as well? In general, it should be avoided. \n",
        "\n",
        "The reason is simply that the representations learned by the convolutional base are likely to be more generic and therefore more reusable: the feature maps of a convnet are presence maps of generic concepts over a picture, which is likely to be useful regardless of the computer vision problem at hand. \n",
        "\n",
        "On the other end, the representations learned by the classifier will necessarily be very specific to the set of classes that the model was trained on -- they will only contain information about the presence probability of this or that class in the entire picture. \n",
        "\n",
        "Additionally, representations found in densely-connected layers no longer contain any information about where objects are located in the input image: these layers get rid of the notion of space, whereas the object location is still described by convolutional feature maps. \n",
        "\n",
        "For problems where object location matters, densely-connected features would be largely useless.\n",
        "\n",
        "Note that the level of generality (and therefore reusability) of the representations extracted by specific convolution layers depends on the depth of the layer in the model. Layers that come earlier in the model extract local, highly generic feature maps (such as visual edges, colors, and textures), while layers higher-up extract more abstract concepts (such as \"cat ear\" or \"dog eye\"). \n",
        "\n",
        "So if your new dataset differs a lot from the dataset that the original model was trained on, you may be better off using only the first few layers of the model to do feature extraction, rather than using the entire convolutional base.\n",
        "\n",
        "In our case, since the ImageNet class set did contain multiple dog and cat classes, it is likely that it would be beneficial to reuse the information contained in the densely-connected layers of the original model. However, we will chose not to, in order to cover the more general case where the class set of the new problem does not overlap with the class set of the original model.\n",
        "\n",
        "Let's put this in practice by using the convolutional base of the VGG16 network, trained on ImageNet, to extract interesting features from our cat and dog images, and then training a cat vs. dog classifier on top of these features.\n",
        "\n",
        "The VGG16 model, among others, comes pre-packaged with Keras. You can import it from the keras.applications module. Here's the list of image classification models (all pre-trained on the ImageNet dataset) that are available as part of keras.applications:\n",
        "\n",
        "* Xception\n",
        "* InceptionV3\n",
        "* ResNet50\n",
        "* VGG16\n",
        "* VGG19\n",
        "* MobileNet\n",
        "\n",
        "Let's instantiate the VGG16 model:"
      ]
    },
    {
      "cell_type": "code",
      "metadata": {
        "id": "P2Qqy7N04mgs",
        "colab_type": "code",
        "outputId": "ff81a57f-f86d-438d-e469-a0649dd0f0a6",
        "colab": {
          "base_uri": "https://localhost:8080/",
          "height": 50
        }
      },
      "source": [
        "from tensorflow.keras.applications import VGG16\n",
        "\n",
        "conv_base = VGG16(weights='imagenet', include_top=False, input_shape=(150, 150, 3))"
      ],
      "execution_count": 16,
      "outputs": [
        {
          "output_type": "stream",
          "text": [
            "Downloading data from https://github.com/fchollet/deep-learning-models/releases/download/v0.1/vgg16_weights_tf_dim_ordering_tf_kernels_notop.h5\n",
            "58892288/58889256 [==============================] - 2s 0us/step\n"
          ],
          "name": "stdout"
        }
      ]
    },
    {
      "cell_type": "markdown",
      "metadata": {
        "id": "lzswLOUU53-1",
        "colab_type": "text"
      },
      "source": [
        "We passed three arguments to the constructor:\n",
        "\n",
        "* weights, to specify which weight checkpoint to initialize the model from\n",
        "* include_top, which refers to including or not the densely-connected classifier on top of the network. By default, this densely-connected classifier would correspond to the 1000 classes from ImageNet. Since we intend to use our own densely-connected classifier (with only two classes, cat and dog), we don't need to include it.\n",
        "* input_shape, the shape of the image tensors that we will feed to the network. This argument is purely optional: if we don't pass it, then the network will be able to process inputs of any size.\n",
        "\n",
        "Here's the detail of the architecture of the VGG16 convolutional base: it's very similar to the simple convnets that you are already familiar with."
      ]
    },
    {
      "cell_type": "code",
      "metadata": {
        "id": "Jz3SaDV86EMH",
        "colab_type": "code",
        "outputId": "c3954da1-61b1-49ae-f338-aed3c0cb6d91",
        "colab": {
          "base_uri": "https://localhost:8080/",
          "height": 783
        }
      },
      "source": [
        "conv_base.summary()"
      ],
      "execution_count": 17,
      "outputs": [
        {
          "output_type": "stream",
          "text": [
            "Model: \"vgg16\"\n",
            "_________________________________________________________________\n",
            "Layer (type)                 Output Shape              Param #   \n",
            "=================================================================\n",
            "input_1 (InputLayer)         [(None, 150, 150, 3)]     0         \n",
            "_________________________________________________________________\n",
            "block1_conv1 (Conv2D)        (None, 150, 150, 64)      1792      \n",
            "_________________________________________________________________\n",
            "block1_conv2 (Conv2D)        (None, 150, 150, 64)      36928     \n",
            "_________________________________________________________________\n",
            "block1_pool (MaxPooling2D)   (None, 75, 75, 64)        0         \n",
            "_________________________________________________________________\n",
            "block2_conv1 (Conv2D)        (None, 75, 75, 128)       73856     \n",
            "_________________________________________________________________\n",
            "block2_conv2 (Conv2D)        (None, 75, 75, 128)       147584    \n",
            "_________________________________________________________________\n",
            "block2_pool (MaxPooling2D)   (None, 37, 37, 128)       0         \n",
            "_________________________________________________________________\n",
            "block3_conv1 (Conv2D)        (None, 37, 37, 256)       295168    \n",
            "_________________________________________________________________\n",
            "block3_conv2 (Conv2D)        (None, 37, 37, 256)       590080    \n",
            "_________________________________________________________________\n",
            "block3_conv3 (Conv2D)        (None, 37, 37, 256)       590080    \n",
            "_________________________________________________________________\n",
            "block3_pool (MaxPooling2D)   (None, 18, 18, 256)       0         \n",
            "_________________________________________________________________\n",
            "block4_conv1 (Conv2D)        (None, 18, 18, 512)       1180160   \n",
            "_________________________________________________________________\n",
            "block4_conv2 (Conv2D)        (None, 18, 18, 512)       2359808   \n",
            "_________________________________________________________________\n",
            "block4_conv3 (Conv2D)        (None, 18, 18, 512)       2359808   \n",
            "_________________________________________________________________\n",
            "block4_pool (MaxPooling2D)   (None, 9, 9, 512)         0         \n",
            "_________________________________________________________________\n",
            "block5_conv1 (Conv2D)        (None, 9, 9, 512)         2359808   \n",
            "_________________________________________________________________\n",
            "block5_conv2 (Conv2D)        (None, 9, 9, 512)         2359808   \n",
            "_________________________________________________________________\n",
            "block5_conv3 (Conv2D)        (None, 9, 9, 512)         2359808   \n",
            "_________________________________________________________________\n",
            "block5_pool (MaxPooling2D)   (None, 4, 4, 512)         0         \n",
            "=================================================================\n",
            "Total params: 14,714,688\n",
            "Trainable params: 14,714,688\n",
            "Non-trainable params: 0\n",
            "_________________________________________________________________\n"
          ],
          "name": "stdout"
        }
      ]
    },
    {
      "cell_type": "markdown",
      "metadata": {
        "id": "z9qQgO8L7W0X",
        "colab_type": "text"
      },
      "source": [
        "The final feature map has shape (4, 4, 512). That's the feature on top of which we will stick a densely-connected classifier.\n",
        "\n",
        "At this point, there are two ways we could proceed:\n",
        "\n",
        "* Running the convolutional base over our dataset, recording its output to a Numpy array on disk, then using this data as input to a standalone densely-connected classifier. This solution is very fast and cheap to run, because it only requires running the convolutional base once for every input image, and the convolutional base is by far the most expensive part of the pipeline. However, for the exact same reason, this technique would not allow us to leverage data augmentation at all.\n",
        "\n",
        "* Extending the model we have (conv_base) by adding Dense layers on top, and running the whole thing end-to-end on the input data. This allows us to use data augmentation, because every input image is going through the convolutional base every time it is seen by the model. However, for this same reason, this technique is far more expensive than the first one.\n",
        "\n",
        "We will cover both techniques. Let's walk through the code required to set-up the first one: recording the output of conv_base on our data and using these outputs as inputs to a new model."
      ]
    },
    {
      "cell_type": "markdown",
      "metadata": {
        "id": "T4D-EeAh7nfE",
        "colab_type": "text"
      },
      "source": [
        "### Fast Feature Extraction without Data Augmentation"
      ]
    },
    {
      "cell_type": "markdown",
      "metadata": {
        "id": "_FEOhbKl7pYA",
        "colab_type": "text"
      },
      "source": [
        "We will start by simply running instances of the previously-introduced ImageDataGenerator to extract images as Numpy arrays as well as their labels. We will extract features from these images simply by calling the predict method of the conv_base model."
      ]
    },
    {
      "cell_type": "code",
      "metadata": {
        "id": "V4_TuIbe7zqh",
        "colab_type": "code",
        "outputId": "ff2fe6ec-eb6d-46cd-d9b2-abb1872118cb",
        "colab": {
          "base_uri": "https://localhost:8080/",
          "height": 67
        }
      },
      "source": [
        "from tensorflow.keras.preprocessing.image import ImageDataGenerator\n",
        "\n",
        "train_dir = os.path.join(base_dir, 'train')\n",
        "validation_dir = os.path.join(base_dir, 'validation')\n",
        "test_dir = os.path.join(base_dir, 'test')\n",
        "\n",
        "datagen = ImageDataGenerator(rescale=1. / 255)\n",
        "batch_size = 20\n",
        "\n",
        "def extract_features(directory, sample_count):\n",
        "  features = np.zeros(shape=(sample_count, 4, 4, 512))\n",
        "  labels = np.zeros(shape=(sample_count))\n",
        "\n",
        "  generator = datagen.flow_from_directory(directory, target_size=(150, 150), batch_size=batch_size, class_mode='binary')\n",
        "\n",
        "  i = 0\n",
        "  for inputs_batch, labels_batch in generator:\n",
        "    features_batch = conv_base.predict(inputs_batch)\n",
        "    features[i * batch_size: (i + 1) * batch_size] = features_batch\n",
        "    labels[i * batch_size: (i + 1) * batch_size] = labels_batch\n",
        "    i += 1\n",
        "\n",
        "    if i * batch_size >= sample_count:\n",
        "      # Note that since generators yield data indefinitely in a loop,\n",
        "      # we must `break` after every image has been seen once.\n",
        "      break;\n",
        "  return features, labels\n",
        "\n",
        "train_features, train_labels = extract_features(train_dir, 2000)\n",
        "validation_features, validation_labels = extract_features(validation_dir, 1000)\n",
        "test_features, test_labels = extract_features(test_dir, 1000)"
      ],
      "execution_count": 18,
      "outputs": [
        {
          "output_type": "stream",
          "text": [
            "Found 2000 images belonging to 2 classes.\n",
            "Found 1000 images belonging to 2 classes.\n",
            "Found 1000 images belonging to 2 classes.\n"
          ],
          "name": "stdout"
        }
      ]
    },
    {
      "cell_type": "markdown",
      "metadata": {
        "id": "SSIaJhhG-quN",
        "colab_type": "text"
      },
      "source": [
        "The extracted features are currently of shape (samples, 4, 4, 512). You’ll feed them to a densely connected classifier, so first you must flatten them to (samples, 8192):"
      ]
    },
    {
      "cell_type": "code",
      "metadata": {
        "id": "g3lx0FKm-sho",
        "colab_type": "code",
        "colab": {}
      },
      "source": [
        "features_shape = 4 * 4 * 512\n",
        "\n",
        "train_features = np.reshape(train_features, (2000, features_shape))\n",
        "validation_features = np.reshape(validation_features, (1000, features_shape))\n",
        "test_features = np.reshape(test_features, (1000, features_shape))"
      ],
      "execution_count": 0,
      "outputs": []
    },
    {
      "cell_type": "markdown",
      "metadata": {
        "id": "qeFuk3Gw_SCG",
        "colab_type": "text"
      },
      "source": [
        "At this point, we can define our densely-connected classifier (note the use of dropout for regularization), and train it on the data and labels that we just recorded:"
      ]
    },
    {
      "cell_type": "code",
      "metadata": {
        "id": "yLrxahjz_XlO",
        "colab_type": "code",
        "outputId": "ec448f4c-547c-4d63-8cb9-9b9b69717ac4",
        "colab": {
          "base_uri": "https://localhost:8080/",
          "height": 1000
        }
      },
      "source": [
        "model = keras.models.Sequential()\n",
        "model.add(keras.layers.Dense(256, activation='relu', input_dim=features_shape))\n",
        "model.add(keras.layers.Dropout(0.5))\n",
        "model.add(keras.layers.Dense(1, activation='sigmoid'))\n",
        "\n",
        "model.compile(loss='binary_crossentropy', optimizer=keras.optimizers.RMSprop(learning_rate=2e-5), metrics=['accuracy'])\n",
        "\n",
        "history = model.fit(train_features, train_labels, epochs=30, batch_size=20, validation_data=(validation_features, validation_labels))"
      ],
      "execution_count": 20,
      "outputs": [
        {
          "output_type": "stream",
          "text": [
            "Train on 2000 samples, validate on 1000 samples\n",
            "Epoch 1/30\n",
            "2000/2000 [==============================] - 1s 618us/sample - loss: 0.6222 - accuracy: 0.6665 - val_loss: 0.4599 - val_accuracy: 0.7900\n",
            "Epoch 2/30\n",
            "2000/2000 [==============================] - 1s 314us/sample - loss: 0.4370 - accuracy: 0.7940 - val_loss: 0.3698 - val_accuracy: 0.8410\n",
            "Epoch 3/30\n",
            "2000/2000 [==============================] - 1s 315us/sample - loss: 0.3630 - accuracy: 0.8365 - val_loss: 0.3231 - val_accuracy: 0.8750\n",
            "Epoch 4/30\n",
            "2000/2000 [==============================] - 1s 333us/sample - loss: 0.3136 - accuracy: 0.8650 - val_loss: 0.2997 - val_accuracy: 0.8890\n",
            "Epoch 5/30\n",
            "2000/2000 [==============================] - 1s 334us/sample - loss: 0.2820 - accuracy: 0.8895 - val_loss: 0.2927 - val_accuracy: 0.8830\n",
            "Epoch 6/30\n",
            "2000/2000 [==============================] - 1s 331us/sample - loss: 0.2638 - accuracy: 0.9010 - val_loss: 0.2790 - val_accuracy: 0.8880\n",
            "Epoch 7/30\n",
            "2000/2000 [==============================] - 1s 329us/sample - loss: 0.2526 - accuracy: 0.8940 - val_loss: 0.2648 - val_accuracy: 0.8900\n",
            "Epoch 8/30\n",
            "2000/2000 [==============================] - 1s 340us/sample - loss: 0.2286 - accuracy: 0.9100 - val_loss: 0.2578 - val_accuracy: 0.8950\n",
            "Epoch 9/30\n",
            "2000/2000 [==============================] - 1s 346us/sample - loss: 0.2149 - accuracy: 0.9155 - val_loss: 0.2577 - val_accuracy: 0.8920\n",
            "Epoch 10/30\n",
            "2000/2000 [==============================] - 1s 343us/sample - loss: 0.2025 - accuracy: 0.9225 - val_loss: 0.2488 - val_accuracy: 0.8990\n",
            "Epoch 11/30\n",
            "2000/2000 [==============================] - 1s 336us/sample - loss: 0.1948 - accuracy: 0.9215 - val_loss: 0.2583 - val_accuracy: 0.8920\n",
            "Epoch 12/30\n",
            "2000/2000 [==============================] - 1s 345us/sample - loss: 0.1854 - accuracy: 0.9320 - val_loss: 0.2462 - val_accuracy: 0.9030\n",
            "Epoch 13/30\n",
            "2000/2000 [==============================] - 1s 343us/sample - loss: 0.1796 - accuracy: 0.9335 - val_loss: 0.2412 - val_accuracy: 0.9010\n",
            "Epoch 14/30\n",
            "2000/2000 [==============================] - 1s 338us/sample - loss: 0.1685 - accuracy: 0.9390 - val_loss: 0.2398 - val_accuracy: 0.9030\n",
            "Epoch 15/30\n",
            "2000/2000 [==============================] - 1s 342us/sample - loss: 0.1571 - accuracy: 0.9420 - val_loss: 0.2423 - val_accuracy: 0.9030\n",
            "Epoch 16/30\n",
            "2000/2000 [==============================] - 1s 342us/sample - loss: 0.1542 - accuracy: 0.9430 - val_loss: 0.2372 - val_accuracy: 0.9050\n",
            "Epoch 17/30\n",
            "2000/2000 [==============================] - 1s 332us/sample - loss: 0.1473 - accuracy: 0.9435 - val_loss: 0.2361 - val_accuracy: 0.9070\n",
            "Epoch 18/30\n",
            "2000/2000 [==============================] - 1s 344us/sample - loss: 0.1390 - accuracy: 0.9550 - val_loss: 0.2370 - val_accuracy: 0.9050\n",
            "Epoch 19/30\n",
            "2000/2000 [==============================] - 1s 340us/sample - loss: 0.1362 - accuracy: 0.9525 - val_loss: 0.2546 - val_accuracy: 0.8910\n",
            "Epoch 20/30\n",
            "2000/2000 [==============================] - 1s 336us/sample - loss: 0.1304 - accuracy: 0.9545 - val_loss: 0.2468 - val_accuracy: 0.8980\n",
            "Epoch 21/30\n",
            "2000/2000 [==============================] - 1s 347us/sample - loss: 0.1206 - accuracy: 0.9590 - val_loss: 0.2357 - val_accuracy: 0.9040\n",
            "Epoch 22/30\n",
            "2000/2000 [==============================] - 1s 339us/sample - loss: 0.1115 - accuracy: 0.9665 - val_loss: 0.2391 - val_accuracy: 0.9030\n",
            "Epoch 23/30\n",
            "2000/2000 [==============================] - 1s 341us/sample - loss: 0.1191 - accuracy: 0.9620 - val_loss: 0.2341 - val_accuracy: 0.9080\n",
            "Epoch 24/30\n",
            "2000/2000 [==============================] - 1s 344us/sample - loss: 0.1080 - accuracy: 0.9640 - val_loss: 0.2351 - val_accuracy: 0.9050\n",
            "Epoch 25/30\n",
            "2000/2000 [==============================] - 1s 351us/sample - loss: 0.1052 - accuracy: 0.9675 - val_loss: 0.2394 - val_accuracy: 0.9010\n",
            "Epoch 26/30\n",
            "2000/2000 [==============================] - 1s 346us/sample - loss: 0.0991 - accuracy: 0.9710 - val_loss: 0.2435 - val_accuracy: 0.8960\n",
            "Epoch 27/30\n",
            "2000/2000 [==============================] - 1s 347us/sample - loss: 0.0963 - accuracy: 0.9685 - val_loss: 0.2363 - val_accuracy: 0.9080\n",
            "Epoch 28/30\n",
            "2000/2000 [==============================] - 1s 351us/sample - loss: 0.0913 - accuracy: 0.9725 - val_loss: 0.2442 - val_accuracy: 0.8980\n",
            "Epoch 29/30\n",
            "2000/2000 [==============================] - 1s 343us/sample - loss: 0.0856 - accuracy: 0.9770 - val_loss: 0.2764 - val_accuracy: 0.8890\n",
            "Epoch 30/30\n",
            "2000/2000 [==============================] - 1s 342us/sample - loss: 0.0884 - accuracy: 0.9730 - val_loss: 0.2434 - val_accuracy: 0.8960\n"
          ],
          "name": "stdout"
        }
      ]
    },
    {
      "cell_type": "markdown",
      "metadata": {
        "id": "ImjxX09VAwWf",
        "colab_type": "text"
      },
      "source": [
        "Training is very fast, since we only have to deal with two Dense layers -- an epoch takes less than one second even on CPU.\n",
        "\n",
        "Let's take a look at the loss and accuracy curves during training:"
      ]
    },
    {
      "cell_type": "code",
      "metadata": {
        "id": "Q6Ml1qIfA3TM",
        "colab_type": "code",
        "outputId": "60ff6154-3ae2-4efe-aee8-07654298a414",
        "colab": {
          "base_uri": "https://localhost:8080/",
          "height": 545
        }
      },
      "source": [
        "acc = history.history['accuracy']\n",
        "val_acc = history.history['val_accuracy']\n",
        "loss = history.history['loss']\n",
        "val_loss = history.history['val_loss']\n",
        "\n",
        "epochs = range(len(acc))\n",
        "\n",
        "plt.plot(epochs, acc, 'bo', label='Training accuracy')\n",
        "plt.plot(epochs, val_acc, 'b', label='Validation accuracy')\n",
        "plt.title('Training and validation accuracy')\n",
        "plt.legend()\n",
        "\n",
        "plt.figure()\n",
        "\n",
        "plt.plot(epochs, loss, 'bo', label='Training loss')\n",
        "plt.plot(epochs, val_loss, 'b', label='Validation loss')\n",
        "plt.title('Training and validation loss')\n",
        "plt.legend()\n",
        "\n",
        "plt.show()"
      ],
      "execution_count": 21,
      "outputs": [
        {
          "output_type": "display_data",
          "data": {
            "image/png": "[encoded data removed]",
            "text/plain": [
              "<Figure size 432x288 with 1 Axes>"
            ]
          },
          "metadata": {
            "tags": []
          }
        },
        {
          "output_type": "display_data",
          "data": {
            "image/png": "[encoded data removed]",
            "text/plain": [
              "<Figure size 432x288 with 1 Axes>"
            ]
          },
          "metadata": {
            "tags": []
          }
        }
      ]
    },
    {
      "cell_type": "markdown",
      "metadata": {
        "id": "4BJSGMCmEC6Q",
        "colab_type": "text"
      },
      "source": [
        "We reach a validation accuracy of about 90%, much better than what we could achieve in the previous section with our small model trained from scratch. However, our plots also indicate that we are overfitting almost from the start -- despite using dropout with a fairly large rate. This is because this technique does not leverage data augmentation, which is essential to preventing overfitting with small image datasets."
      ]
    },
    {
      "cell_type": "markdown",
      "metadata": {
        "id": "L5885LsjBX3v",
        "colab_type": "text"
      },
      "source": [
        "### Feature Extraction with Data Augmentation"
      ]
    },
    {
      "cell_type": "markdown",
      "metadata": {
        "id": "gsK55XlUBkKR",
        "colab_type": "text"
      },
      "source": [
        "Now, let's review the second technique we mentioned for doing feature extraction, which is much slower and more expensive, but which allows us to leverage data augmentation during training: extending the conv_base model and running it end-to-end on the inputs. Note that this technique is in fact so expensive that you should only attempt it if you have access to a GPU: it is absolutely intractable on CPU. If you cannot run your code on GPU, then the previous technique is the way to go.\n",
        "\n",
        "Because models behave just like layers, you can add a model (like our conv_base) to a Sequential model just like you would add a layer. So you can do the following:"
      ]
    },
    {
      "cell_type": "code",
      "metadata": {
        "id": "9brlYbRCCs_r",
        "colab_type": "code",
        "colab": {}
      },
      "source": [
        "model = keras.models.Sequential()\n",
        "model.add(conv_base)\n",
        "model.add(keras.layers.Flatten())\n",
        "model.add(keras.layers.Dense(256, activation='relu'))\n",
        "model.add(keras.layers.Dense(1, activation='sigmoid'))"
      ],
      "execution_count": 0,
      "outputs": []
    },
    {
      "cell_type": "markdown",
      "metadata": {
        "id": "VSw5zD914D3z",
        "colab_type": "text"
      },
      "source": [
        "This is what our model looks like now:"
      ]
    },
    {
      "cell_type": "code",
      "metadata": {
        "id": "gotbqdIi4EPF",
        "colab_type": "code",
        "outputId": "7c861e0c-f8a4-44e7-b712-104e42b6c96a",
        "colab": {
          "base_uri": "https://localhost:8080/",
          "height": 283
        }
      },
      "source": [
        "model.summary()"
      ],
      "execution_count": 23,
      "outputs": [
        {
          "output_type": "stream",
          "text": [
            "Model: \"sequential_1\"\n",
            "_________________________________________________________________\n",
            "Layer (type)                 Output Shape              Param #   \n",
            "=================================================================\n",
            "vgg16 (Model)                (None, 4, 4, 512)         14714688  \n",
            "_________________________________________________________________\n",
            "flatten (Flatten)            (None, 8192)              0         \n",
            "_________________________________________________________________\n",
            "dense_2 (Dense)              (None, 256)               2097408   \n",
            "_________________________________________________________________\n",
            "dense_3 (Dense)              (None, 1)                 257       \n",
            "=================================================================\n",
            "Total params: 16,812,353\n",
            "Trainable params: 16,812,353\n",
            "Non-trainable params: 0\n",
            "_________________________________________________________________\n"
          ],
          "name": "stdout"
        }
      ]
    },
    {
      "cell_type": "markdown",
      "metadata": {
        "id": "snGpSj64ErlG",
        "colab_type": "text"
      },
      "source": [
        "As you can see, the convolutional base of VGG16 has 14,714,688 parameters, which is very large. The classifier we are adding on top has 2 million parameters.\n",
        "\n",
        "Before we compile and train our model, a very important thing to do is to freeze the convolutional base. \"Freezing\" a layer or set of layers means preventing their weights from getting updated during training. If we don't do this, then the representations that were previously learned by the convolutional base would get modified during training. Since the Dense layers on top are randomly initialized, very large weight updates would be propagated through the network, effectively destroying the representations previously learned.\n",
        "\n",
        "In Keras, freezing a network is done by setting its trainable attribute to False:"
      ]
    },
    {
      "cell_type": "code",
      "metadata": {
        "id": "b9ScukYA4lVi",
        "colab_type": "code",
        "outputId": "e55228d2-a59f-482a-99c5-28488726f7eb",
        "colab": {
          "base_uri": "https://localhost:8080/",
          "height": 33
        }
      },
      "source": [
        "print(f'This is the number of trainable weights before freezing the conv base:{len(model.trainable_weights)}')"
      ],
      "execution_count": 24,
      "outputs": [
        {
          "output_type": "stream",
          "text": [
            "This is the number of trainable weights before freezing the conv base:30\n"
          ],
          "name": "stdout"
        }
      ]
    },
    {
      "cell_type": "code",
      "metadata": {
        "id": "BWg8NpiH405n",
        "colab_type": "code",
        "colab": {}
      },
      "source": [
        "conv_base.trainable = False"
      ],
      "execution_count": 0,
      "outputs": []
    },
    {
      "cell_type": "code",
      "metadata": {
        "id": "9QIn4Pdh49Fs",
        "colab_type": "code",
        "outputId": "c55c757e-9464-4c3f-bdd3-408d98ef95ce",
        "colab": {
          "base_uri": "https://localhost:8080/",
          "height": 33
        }
      },
      "source": [
        "print(f'This is the number of trainable weights after freezing the conv base:{len(model.trainable_weights)}')"
      ],
      "execution_count": 26,
      "outputs": [
        {
          "output_type": "stream",
          "text": [
            "This is the number of trainable weights after freezing the conv base:4\n"
          ],
          "name": "stdout"
        }
      ]
    },
    {
      "cell_type": "markdown",
      "metadata": {
        "id": "MybzzDYnEsgp",
        "colab_type": "text"
      },
      "source": [
        "With this setup, only the weights from the two Dense layers that we added will be trained. That's a total of four weight tensors: two per layer (the main weight matrix and the bias vector). Note that in order for these changes to take effect, we must first compile the model. If you ever modify weight trainability after compilation, you should then re-compile the model, or these changes would be ignored.\n",
        "\n",
        "Now we can start training our model, with the same data augmentation configuration that we used in our previous example:"
      ]
    },
    {
      "cell_type": "code",
      "metadata": {
        "id": "N6Z2eXcWSWn3",
        "colab_type": "code",
        "colab": {}
      },
      "source": [
        "from tensorflow.keras.preprocessing.image import ImageDataGenerator"
      ],
      "execution_count": 0,
      "outputs": []
    },
    {
      "cell_type": "code",
      "metadata": {
        "id": "tRBH4QwQjkhC",
        "colab_type": "code",
        "outputId": "678f6def-f81c-4b91-f110-ce1bef274a50",
        "colab": {
          "base_uri": "https://localhost:8080/",
          "height": 1000
        }
      },
      "source": [
        "# https://stackoverflow.com/questions/55141076/how-to-apply-data-augmentation-in-tensorflow-2-0-after-tfds-load\n",
        "# https://stackoverflow.com/questions/55421290/tensorflow-2-0-keras-how-to-write-image-summaries-for-tensorboard/55754700#55754700\n",
        "# https://www.tensorflow.org/api_docs/python/tf/keras/preprocessing/image/ImageDataGenerator\n",
        "\n",
        "train_datagen = ImageDataGenerator(rescale=1. / 255,\n",
        "                                   rotation_range=40,\n",
        "                                   width_shift_range=0.2,\n",
        "                                   height_shift_range=0.2,\n",
        "                                   shear_range=0.2,\n",
        "                                   zoom_range=0.2,\n",
        "                                   horizontal_flip=True,\n",
        "                                   fill_mode='nearest')\n",
        "\n",
        "# Note that the validation data should not be augmented!\n",
        "test_datagen = ImageDataGenerator(rescale=1. / 255)\n",
        "\n",
        "train_generator = train_datagen.flow_from_directory(train_dir,  # target directory\n",
        "                                                    target_size=(150, 150), # resized to 150x150\n",
        "                                                    batch_size=20,\n",
        "                                                    # Since we use binary_crossentropy loss, we need binary labels\n",
        "                                                    class_mode='binary')\n",
        "validation_generator = test_datagen.flow_from_directory(validation_dir,  # target directory\n",
        "                                                    target_size=(150, 150), # resized to 150x150\n",
        "                                                    batch_size=20,\n",
        "                                                    class_mode='binary')\n",
        "\n",
        "model.compile(loss='binary_crossentropy', optimizer=keras.optimizers.RMSprop(learning_rate=2e-5), metrics=['accuracy'])\n",
        "\n",
        "# train the model\n",
        "history = model.fit(train_generator,\n",
        "                    steps_per_epoch=100,\n",
        "                    epochs=30,\n",
        "                    validation_data=validation_generator,\n",
        "                    validation_steps=50,\n",
        "                    verbose=2)"
      ],
      "execution_count": 28,
      "outputs": [
        {
          "output_type": "stream",
          "text": [
            "Found 2000 images belonging to 2 classes.\n",
            "Found 1000 images belonging to 2 classes.\n",
            "WARNING:tensorflow:sample_weight modes were coerced from\n",
            "  ...\n",
            "    to  \n",
            "  ['...']\n",
            "WARNING:tensorflow:sample_weight modes were coerced from\n",
            "  ...\n",
            "    to  \n",
            "  ['...']\n",
            "Train for 100 steps, validate for 50 steps\n",
            "Epoch 1/30\n",
            "100/100 - 27s - loss: 0.5882 - accuracy: 0.7010 - val_loss: 0.4405 - val_accuracy: 0.8240\n",
            "Epoch 2/30\n",
            "100/100 - 26s - loss: 0.4751 - accuracy: 0.7840 - val_loss: 0.3664 - val_accuracy: 0.8550\n",
            "Epoch 3/30\n",
            "100/100 - 26s - loss: 0.4361 - accuracy: 0.8150 - val_loss: 0.3279 - val_accuracy: 0.8710\n",
            "Epoch 4/30\n",
            "100/100 - 26s - loss: 0.4061 - accuracy: 0.8255 - val_loss: 0.3069 - val_accuracy: 0.8820\n",
            "Epoch 5/30\n",
            "100/100 - 26s - loss: 0.3782 - accuracy: 0.8340 - val_loss: 0.2896 - val_accuracy: 0.8870\n",
            "Epoch 6/30\n",
            "100/100 - 26s - loss: 0.3669 - accuracy: 0.8465 - val_loss: 0.2864 - val_accuracy: 0.8880\n",
            "Epoch 7/30\n",
            "100/100 - 26s - loss: 0.3530 - accuracy: 0.8430 - val_loss: 0.2805 - val_accuracy: 0.8780\n",
            "Epoch 8/30\n",
            "100/100 - 27s - loss: 0.3506 - accuracy: 0.8445 - val_loss: 0.2702 - val_accuracy: 0.8880\n",
            "Epoch 9/30\n",
            "100/100 - 26s - loss: 0.3420 - accuracy: 0.8580 - val_loss: 0.2655 - val_accuracy: 0.8910\n",
            "Epoch 10/30\n",
            "100/100 - 27s - loss: 0.3170 - accuracy: 0.8600 - val_loss: 0.2590 - val_accuracy: 0.8980\n",
            "Epoch 11/30\n",
            "100/100 - 26s - loss: 0.3232 - accuracy: 0.8635 - val_loss: 0.2804 - val_accuracy: 0.8780\n",
            "Epoch 12/30\n",
            "100/100 - 26s - loss: 0.3188 - accuracy: 0.8635 - val_loss: 0.2514 - val_accuracy: 0.9010\n",
            "Epoch 13/30\n",
            "100/100 - 26s - loss: 0.3076 - accuracy: 0.8715 - val_loss: 0.2541 - val_accuracy: 0.8940\n",
            "Epoch 14/30\n",
            "100/100 - 26s - loss: 0.3223 - accuracy: 0.8600 - val_loss: 0.2735 - val_accuracy: 0.8870\n",
            "Epoch 15/30\n",
            "100/100 - 26s - loss: 0.3121 - accuracy: 0.8725 - val_loss: 0.2495 - val_accuracy: 0.8990\n",
            "Epoch 16/30\n",
            "100/100 - 26s - loss: 0.2993 - accuracy: 0.8685 - val_loss: 0.2468 - val_accuracy: 0.8930\n",
            "Epoch 17/30\n",
            "100/100 - 26s - loss: 0.3035 - accuracy: 0.8645 - val_loss: 0.2459 - val_accuracy: 0.8930\n",
            "Epoch 18/30\n",
            "100/100 - 26s - loss: 0.2981 - accuracy: 0.8705 - val_loss: 0.2461 - val_accuracy: 0.9020\n",
            "Epoch 19/30\n",
            "100/100 - 27s - loss: 0.3017 - accuracy: 0.8620 - val_loss: 0.2449 - val_accuracy: 0.8920\n",
            "Epoch 20/30\n",
            "100/100 - 26s - loss: 0.3016 - accuracy: 0.8750 - val_loss: 0.2437 - val_accuracy: 0.9010\n",
            "Epoch 21/30\n",
            "100/100 - 26s - loss: 0.2966 - accuracy: 0.8665 - val_loss: 0.2435 - val_accuracy: 0.8970\n",
            "Epoch 22/30\n",
            "100/100 - 26s - loss: 0.3030 - accuracy: 0.8700 - val_loss: 0.2416 - val_accuracy: 0.8960\n",
            "Epoch 23/30\n",
            "100/100 - 27s - loss: 0.2826 - accuracy: 0.8720 - val_loss: 0.2484 - val_accuracy: 0.9000\n",
            "Epoch 24/30\n",
            "100/100 - 26s - loss: 0.2871 - accuracy: 0.8765 - val_loss: 0.2426 - val_accuracy: 0.8980\n",
            "Epoch 25/30\n",
            "100/100 - 27s - loss: 0.2880 - accuracy: 0.8745 - val_loss: 0.2404 - val_accuracy: 0.9060\n",
            "Epoch 26/30\n",
            "100/100 - 27s - loss: 0.2932 - accuracy: 0.8740 - val_loss: 0.2382 - val_accuracy: 0.8990\n",
            "Epoch 27/30\n",
            "100/100 - 26s - loss: 0.2882 - accuracy: 0.8710 - val_loss: 0.2398 - val_accuracy: 0.9060\n",
            "Epoch 28/30\n",
            "100/100 - 27s - loss: 0.2877 - accuracy: 0.8770 - val_loss: 0.2457 - val_accuracy: 0.8980\n",
            "Epoch 29/30\n",
            "100/100 - 26s - loss: 0.2763 - accuracy: 0.8790 - val_loss: 0.2418 - val_accuracy: 0.9050\n",
            "Epoch 30/30\n",
            "100/100 - 27s - loss: 0.2822 - accuracy: 0.8710 - val_loss: 0.2360 - val_accuracy: 0.9060\n"
          ],
          "name": "stdout"
        }
      ]
    },
    {
      "cell_type": "markdown",
      "metadata": {
        "id": "Lf3_x4o_loIo",
        "colab_type": "text"
      },
      "source": [
        "Let's save our model."
      ]
    },
    {
      "cell_type": "code",
      "metadata": {
        "id": "UN2hohPflYeT",
        "colab_type": "code",
        "colab": {}
      },
      "source": [
        "model.save('cats_and_dogs_small_3.h5')"
      ],
      "execution_count": 0,
      "outputs": []
    },
    {
      "cell_type": "markdown",
      "metadata": {
        "id": "d_52AtGOu2oO",
        "colab_type": "text"
      },
      "source": [
        "Let's plot our results again:"
      ]
    },
    {
      "cell_type": "code",
      "metadata": {
        "id": "tTVPMuTdu3Hi",
        "colab_type": "code",
        "outputId": "73003eac-c984-4c6e-ddc1-e5cf7c3601cc",
        "colab": {
          "base_uri": "https://localhost:8080/",
          "height": 545
        }
      },
      "source": [
        "acc = history.history['accuracy']\n",
        "val_acc = history.history['val_accuracy']\n",
        "loss = history.history['loss']\n",
        "val_loss = history.history['val_loss']\n",
        "\n",
        "epochs = range(len(acc))\n",
        "\n",
        "plt.plot(epochs, acc, 'go', label='Training acc')\n",
        "plt.plot(epochs, val_acc, 'r', label='Validation acc')\n",
        "plt.title('Training and validation accuracy')\n",
        "plt.legend()\n",
        "\n",
        "plt.figure()\n",
        "\n",
        "plt.plot(epochs, loss, 'go', label='Training loss')\n",
        "plt.plot(epochs, val_loss, 'r', label='Validation loss')\n",
        "plt.title('Training and validation loss')\n",
        "plt.legend()\n",
        "\n",
        "plt.show()"
      ],
      "execution_count": 30,
      "outputs": [
        {
          "output_type": "display_data",
          "data": {
            "image/png": "[encoded data removed]",
            "text/plain": [
              "<Figure size 432x288 with 1 Axes>"
            ]
          },
          "metadata": {
            "tags": []
          }
        },
        {
          "output_type": "display_data",
          "data": {
            "image/png": "[encoded data removed]",
            "text/plain": [
              "<Figure size 432x288 with 1 Axes>"
            ]
          },
          "metadata": {
            "tags": []
          }
        }
      ]
    },
    {
      "cell_type": "markdown",
      "metadata": {
        "id": "8C-konq5vhcp",
        "colab_type": "text"
      },
      "source": [
        "As you can see, we reach a validation accuracy of about 96%. This is much better than our small convnet trained from scratch."
      ]
    },
    {
      "cell_type": "markdown",
      "metadata": {
        "id": "Pt_C-xtF7MOy",
        "colab_type": "text"
      },
      "source": [
        "## Fine-tuning"
      ]
    },
    {
      "cell_type": "markdown",
      "metadata": {
        "id": "vzqoAdVO7Q1b",
        "colab_type": "text"
      },
      "source": [
        "Another widely used technique for model reuse, complementary to feature extraction, is fine-tuning. Fine-tuning consists in unfreezing a few of the top layers of a frozen model base used for feature extraction, and jointly training both the newly added part of the model (in our case, the fully-connected classifier) and these top layers. This is called \"fine-tuning\" because it slightly adjusts the more abstract representations of the model being reused, in order to make them more relevant for the problem at hand.\n",
        "\n",
        "<img src='https://s3.amazonaws.com/book.keras.io/img/ch5/vgg16_fine_tuning.png?raw=1' width='800'/>\n",
        "\n",
        "We have stated before that it was necessary to freeze the convolution base of VGG16 in order to be able to train a randomly initialized classifier on top. For the same reason, it is only possible to fine-tune the top layers of the convolutional base once the classifier on top has already been trained. If the classified wasn't already trained, then the error signal propagating through the network during training would be too large, and the representations previously learned by the layers being fine-tuned would be destroyed. Thus the steps for fine-tuning a network are as follow:\n",
        "\n",
        "1. Add your custom network on top of an already trained base network.\n",
        "2. Freeze the base network.\n",
        "3. Train the part you added.\n",
        "4. Unfreeze some layers in the base network.\n",
        "5. Jointly train both these layers and the part you added.\n",
        "\n",
        "We have already completed the first 3 steps when doing feature extraction. \n",
        "\n",
        "Let's proceed with the 4th step: we will unfreeze our conv_base, and then freeze individual layers inside of it.\n",
        "\n",
        "As a reminder, this is what our convolutional base looks like:\n"
      ]
    },
    {
      "cell_type": "code",
      "metadata": {
        "id": "15LyqoXK_74v",
        "colab_type": "code",
        "colab": {
          "base_uri": "https://localhost:8080/",
          "height": 783
        },
        "outputId": "859fae02-e7a7-4590-9ea7-553298ea614c"
      },
      "source": [
        "conv_base.summary()"
      ],
      "execution_count": 31,
      "outputs": [
        {
          "output_type": "stream",
          "text": [
            "Model: \"vgg16\"\n",
            "_________________________________________________________________\n",
            "Layer (type)                 Output Shape              Param #   \n",
            "=================================================================\n",
            "input_1 (InputLayer)         [(None, 150, 150, 3)]     0         \n",
            "_________________________________________________________________\n",
            "block1_conv1 (Conv2D)        (None, 150, 150, 64)      1792      \n",
            "_________________________________________________________________\n",
            "block1_conv2 (Conv2D)        (None, 150, 150, 64)      36928     \n",
            "_________________________________________________________________\n",
            "block1_pool (MaxPooling2D)   (None, 75, 75, 64)        0         \n",
            "_________________________________________________________________\n",
            "block2_conv1 (Conv2D)        (None, 75, 75, 128)       73856     \n",
            "_________________________________________________________________\n",
            "block2_conv2 (Conv2D)        (None, 75, 75, 128)       147584    \n",
            "_________________________________________________________________\n",
            "block2_pool (MaxPooling2D)   (None, 37, 37, 128)       0         \n",
            "_________________________________________________________________\n",
            "block3_conv1 (Conv2D)        (None, 37, 37, 256)       295168    \n",
            "_________________________________________________________________\n",
            "block3_conv2 (Conv2D)        (None, 37, 37, 256)       590080    \n",
            "_________________________________________________________________\n",
            "block3_conv3 (Conv2D)        (None, 37, 37, 256)       590080    \n",
            "_________________________________________________________________\n",
            "block3_pool (MaxPooling2D)   (None, 18, 18, 256)       0         \n",
            "_________________________________________________________________\n",
            "block4_conv1 (Conv2D)        (None, 18, 18, 512)       1180160   \n",
            "_________________________________________________________________\n",
            "block4_conv2 (Conv2D)        (None, 18, 18, 512)       2359808   \n",
            "_________________________________________________________________\n",
            "block4_conv3 (Conv2D)        (None, 18, 18, 512)       2359808   \n",
            "_________________________________________________________________\n",
            "block4_pool (MaxPooling2D)   (None, 9, 9, 512)         0         \n",
            "_________________________________________________________________\n",
            "block5_conv1 (Conv2D)        (None, 9, 9, 512)         2359808   \n",
            "_________________________________________________________________\n",
            "block5_conv2 (Conv2D)        (None, 9, 9, 512)         2359808   \n",
            "_________________________________________________________________\n",
            "block5_conv3 (Conv2D)        (None, 9, 9, 512)         2359808   \n",
            "_________________________________________________________________\n",
            "block5_pool (MaxPooling2D)   (None, 4, 4, 512)         0         \n",
            "=================================================================\n",
            "Total params: 14,714,688\n",
            "Trainable params: 0\n",
            "Non-trainable params: 14,714,688\n",
            "_________________________________________________________________\n"
          ],
          "name": "stdout"
        }
      ]
    },
    {
      "cell_type": "markdown",
      "metadata": {
        "id": "z-diNXK8BY2i",
        "colab_type": "text"
      },
      "source": [
        "We will fine-tune the last 3 convolutional layers, which means that all layers up until block4_pool should be frozen, and the layers block5_conv1, block5_conv2 and block5_conv3 should be trainable.\n",
        "\n",
        "Why not fine-tune more layers? Why not fine-tune the entire convolutional base? We could. However, we need to consider that:\n",
        "\n",
        "* Earlier layers in the convolutional base encode more generic, reusable features, while layers higher up encode more specialized features. It is more useful to fine-tune the more specialized features, as these are the ones that need to be repurposed on our new problem. There would be fast-decreasing returns in fine-tuning lower layers.\n",
        "* The more parameters we are training, the more we are at risk of overfitting. The convolutional base has 15M parameters, so it would be risky to attempt to train it on our small dataset.\n",
        "Thus, in our situation, it is a good strategy to only fine-tune the top 2 to 3 layers in the convolutional base.\n",
        "\n",
        "Let's set this up, starting from where we left off in the previous example:"
      ]
    },
    {
      "cell_type": "code",
      "metadata": {
        "id": "nVSzw0ECClX0",
        "colab_type": "code",
        "colab": {}
      },
      "source": [
        "conv_base.trainable = True\n",
        "\n",
        "set_trainable = False\n",
        "for layer in conv_base.layers:\n",
        "  if layer.name == 'block5_conv1':\n",
        "    set_trainable = True\n",
        "  if set_trainable:\n",
        "    layer.trainable = True\n",
        "  else:\n",
        "    layer.trainable = False"
      ],
      "execution_count": 0,
      "outputs": []
    },
    {
      "cell_type": "markdown",
      "metadata": {
        "id": "VtdM2aLWDf_4",
        "colab_type": "text"
      },
      "source": [
        "Now we can start fine-tuning our network. We will do this with the RMSprop optimizer, using a very low learning rate. The reason for using a low learning rate is that we want to limit the magnitude of the modifications we make to the representations of the 3 layers that we are fine-tuning. Updates that are too large may harm these representations.\n",
        "\n",
        "Now let's proceed with fine-tuning:"
      ]
    },
    {
      "cell_type": "code",
      "metadata": {
        "id": "CtdlgF1wDNld",
        "colab_type": "code",
        "colab": {
          "base_uri": "https://localhost:8080/",
          "height": 1000
        },
        "outputId": "295175b0-dff9-4e4e-e2a7-c628e62400a3"
      },
      "source": [
        "model.compile(loss='binary_crossentropy', optimizer=keras.optimizers.RMSprop(learning_rate=1e-5), metrics=['accuracy'])\n",
        "\n",
        "history = model.fit_generator(train_generator,\n",
        "                              steps_per_epoch=100,\n",
        "                              epochs=100,\n",
        "                              validation_data=validation_generator,\n",
        "                              validation_steps=50)"
      ],
      "execution_count": 38,
      "outputs": [
        {
          "output_type": "stream",
          "text": [
            "WARNING:tensorflow:sample_weight modes were coerced from\n",
            "  ...\n",
            "    to  \n",
            "  ['...']\n",
            "WARNING:tensorflow:sample_weight modes were coerced from\n",
            "  ...\n",
            "    to  \n",
            "  ['...']\n",
            "Train for 100 steps, validate for 50 steps\n",
            "Epoch 1/100\n",
            "100/100 [==============================] - 29s 290ms/step - loss: 0.2734 - accuracy: 0.8825 - val_loss: 0.2725 - val_accuracy: 0.8890\n",
            "Epoch 2/100\n",
            "100/100 [==============================] - 28s 277ms/step - loss: 0.2288 - accuracy: 0.9045 - val_loss: 0.2492 - val_accuracy: 0.9000\n",
            "Epoch 3/100\n",
            "100/100 [==============================] - 27s 272ms/step - loss: 0.2179 - accuracy: 0.9095 - val_loss: 0.2104 - val_accuracy: 0.9190\n",
            "Epoch 4/100\n",
            "100/100 [==============================] - 28s 276ms/step - loss: 0.2101 - accuracy: 0.9100 - val_loss: 0.2098 - val_accuracy: 0.9220\n",
            "Epoch 5/100\n",
            "100/100 [==============================] - 27s 275ms/step - loss: 0.1913 - accuracy: 0.9220 - val_loss: 0.2103 - val_accuracy: 0.9240\n",
            "Epoch 6/100\n",
            "100/100 [==============================] - 27s 274ms/step - loss: 0.1719 - accuracy: 0.9270 - val_loss: 0.2351 - val_accuracy: 0.9100\n",
            "Epoch 7/100\n",
            "100/100 [==============================] - 28s 276ms/step - loss: 0.1782 - accuracy: 0.9255 - val_loss: 0.2283 - val_accuracy: 0.9190\n",
            "Epoch 8/100\n",
            "100/100 [==============================] - 28s 276ms/step - loss: 0.1674 - accuracy: 0.9295 - val_loss: 0.2036 - val_accuracy: 0.9230\n",
            "Epoch 9/100\n",
            "100/100 [==============================] - 28s 277ms/step - loss: 0.1405 - accuracy: 0.9450 - val_loss: 0.2127 - val_accuracy: 0.9240\n",
            "Epoch 10/100\n",
            "100/100 [==============================] - 28s 276ms/step - loss: 0.1411 - accuracy: 0.9455 - val_loss: 0.1948 - val_accuracy: 0.9280\n",
            "Epoch 11/100\n",
            "100/100 [==============================] - 27s 274ms/step - loss: 0.1467 - accuracy: 0.9385 - val_loss: 0.2089 - val_accuracy: 0.9270\n",
            "Epoch 12/100\n",
            "100/100 [==============================] - 28s 277ms/step - loss: 0.1395 - accuracy: 0.9390 - val_loss: 0.2872 - val_accuracy: 0.9090\n",
            "Epoch 13/100\n",
            "100/100 [==============================] - 28s 278ms/step - loss: 0.1164 - accuracy: 0.9520 - val_loss: 0.2949 - val_accuracy: 0.9040\n",
            "Epoch 14/100\n",
            "100/100 [==============================] - 28s 276ms/step - loss: 0.1075 - accuracy: 0.9590 - val_loss: 0.2321 - val_accuracy: 0.9220\n",
            "Epoch 15/100\n",
            "100/100 [==============================] - 27s 273ms/step - loss: 0.1109 - accuracy: 0.9550 - val_loss: 0.2390 - val_accuracy: 0.9200\n",
            "Epoch 16/100\n",
            "100/100 [==============================] - 28s 276ms/step - loss: 0.1025 - accuracy: 0.9600 - val_loss: 0.2310 - val_accuracy: 0.9200\n",
            "Epoch 17/100\n",
            "100/100 [==============================] - 28s 279ms/step - loss: 0.1092 - accuracy: 0.9555 - val_loss: 0.2520 - val_accuracy: 0.9170\n",
            "Epoch 18/100\n",
            "100/100 [==============================] - 27s 273ms/step - loss: 0.1034 - accuracy: 0.9605 - val_loss: 0.2225 - val_accuracy: 0.9270\n",
            "Epoch 19/100\n",
            "100/100 [==============================] - 28s 277ms/step - loss: 0.0895 - accuracy: 0.9630 - val_loss: 0.2107 - val_accuracy: 0.9310\n",
            "Epoch 20/100\n",
            "100/100 [==============================] - 28s 280ms/step - loss: 0.1013 - accuracy: 0.9600 - val_loss: 0.2150 - val_accuracy: 0.9310\n",
            "Epoch 21/100\n",
            "100/100 [==============================] - 27s 273ms/step - loss: 0.0838 - accuracy: 0.9665 - val_loss: 0.2380 - val_accuracy: 0.9260\n",
            "Epoch 22/100\n",
            "100/100 [==============================] - 28s 279ms/step - loss: 0.0831 - accuracy: 0.9685 - val_loss: 0.2211 - val_accuracy: 0.9290\n",
            "Epoch 23/100\n",
            "100/100 [==============================] - 28s 279ms/step - loss: 0.0967 - accuracy: 0.9625 - val_loss: 0.1967 - val_accuracy: 0.9370\n",
            "Epoch 24/100\n",
            "100/100 [==============================] - 28s 276ms/step - loss: 0.0690 - accuracy: 0.9720 - val_loss: 0.2391 - val_accuracy: 0.9240\n",
            "Epoch 25/100\n",
            "100/100 [==============================] - 28s 276ms/step - loss: 0.0738 - accuracy: 0.9670 - val_loss: 0.2388 - val_accuracy: 0.9250\n",
            "Epoch 26/100\n",
            "100/100 [==============================] - 28s 277ms/step - loss: 0.0785 - accuracy: 0.9710 - val_loss: 0.2318 - val_accuracy: 0.9330\n",
            "Epoch 27/100\n",
            "100/100 [==============================] - 27s 274ms/step - loss: 0.0714 - accuracy: 0.9720 - val_loss: 0.2140 - val_accuracy: 0.9360\n",
            "Epoch 28/100\n",
            "100/100 [==============================] - 28s 276ms/step - loss: 0.0732 - accuracy: 0.9725 - val_loss: 0.2006 - val_accuracy: 0.9370\n",
            "Epoch 29/100\n",
            "100/100 [==============================] - 28s 276ms/step - loss: 0.0632 - accuracy: 0.9755 - val_loss: 0.2194 - val_accuracy: 0.9350\n",
            "Epoch 30/100\n",
            "100/100 [==============================] - 28s 277ms/step - loss: 0.0716 - accuracy: 0.9715 - val_loss: 0.2192 - val_accuracy: 0.9350\n",
            "Epoch 31/100\n",
            "100/100 [==============================] - 28s 275ms/step - loss: 0.0745 - accuracy: 0.9760 - val_loss: 0.2240 - val_accuracy: 0.9280\n",
            "Epoch 32/100\n",
            "100/100 [==============================] - 28s 277ms/step - loss: 0.0582 - accuracy: 0.9770 - val_loss: 0.2202 - val_accuracy: 0.9320\n",
            "Epoch 33/100\n",
            "100/100 [==============================] - 28s 277ms/step - loss: 0.0620 - accuracy: 0.9805 - val_loss: 0.2400 - val_accuracy: 0.9260\n",
            "Epoch 34/100\n",
            "100/100 [==============================] - 27s 274ms/step - loss: 0.0526 - accuracy: 0.9805 - val_loss: 0.2262 - val_accuracy: 0.9380\n",
            "Epoch 35/100\n",
            "100/100 [==============================] - 27s 274ms/step - loss: 0.0585 - accuracy: 0.9780 - val_loss: 0.2251 - val_accuracy: 0.9290\n",
            "Epoch 36/100\n",
            "100/100 [==============================] - 27s 275ms/step - loss: 0.0516 - accuracy: 0.9795 - val_loss: 0.2510 - val_accuracy: 0.9300\n",
            "Epoch 37/100\n",
            "100/100 [==============================] - 27s 275ms/step - loss: 0.0506 - accuracy: 0.9805 - val_loss: 0.2855 - val_accuracy: 0.9220\n",
            "Epoch 38/100\n",
            "100/100 [==============================] - 28s 277ms/step - loss: 0.0558 - accuracy: 0.9785 - val_loss: 0.2558 - val_accuracy: 0.9260\n",
            "Epoch 39/100\n",
            "100/100 [==============================] - 27s 275ms/step - loss: 0.0474 - accuracy: 0.9845 - val_loss: 0.2238 - val_accuracy: 0.9340\n",
            "Epoch 40/100\n",
            "100/100 [==============================] - 28s 275ms/step - loss: 0.0457 - accuracy: 0.9815 - val_loss: 0.3611 - val_accuracy: 0.9120\n",
            "Epoch 41/100\n",
            "100/100 [==============================] - 28s 277ms/step - loss: 0.0453 - accuracy: 0.9855 - val_loss: 0.2559 - val_accuracy: 0.9280\n",
            "Epoch 42/100\n",
            "100/100 [==============================] - 28s 275ms/step - loss: 0.0410 - accuracy: 0.9855 - val_loss: 0.2422 - val_accuracy: 0.9330\n",
            "Epoch 43/100\n",
            "100/100 [==============================] - 27s 269ms/step - loss: 0.0586 - accuracy: 0.9790 - val_loss: 0.2318 - val_accuracy: 0.9340\n",
            "Epoch 44/100\n",
            "100/100 [==============================] - 28s 277ms/step - loss: 0.0427 - accuracy: 0.9825 - val_loss: 0.2466 - val_accuracy: 0.9340\n",
            "Epoch 45/100\n",
            "100/100 [==============================] - 28s 276ms/step - loss: 0.0511 - accuracy: 0.9785 - val_loss: 0.2254 - val_accuracy: 0.9340\n",
            "Epoch 46/100\n",
            "100/100 [==============================] - 27s 271ms/step - loss: 0.0408 - accuracy: 0.9830 - val_loss: 0.2168 - val_accuracy: 0.9390\n",
            "Epoch 47/100\n",
            "100/100 [==============================] - 27s 273ms/step - loss: 0.0403 - accuracy: 0.9860 - val_loss: 0.2393 - val_accuracy: 0.9340\n",
            "Epoch 48/100\n",
            "100/100 [==============================] - 27s 270ms/step - loss: 0.0366 - accuracy: 0.9855 - val_loss: 0.2502 - val_accuracy: 0.9350\n",
            "Epoch 49/100\n",
            "100/100 [==============================] - 28s 275ms/step - loss: 0.0332 - accuracy: 0.9880 - val_loss: 0.2466 - val_accuracy: 0.9410\n",
            "Epoch 50/100\n",
            "100/100 [==============================] - 27s 270ms/step - loss: 0.0383 - accuracy: 0.9850 - val_loss: 0.2928 - val_accuracy: 0.9230\n",
            "Epoch 51/100\n",
            "100/100 [==============================] - 28s 277ms/step - loss: 0.0422 - accuracy: 0.9865 - val_loss: 0.2426 - val_accuracy: 0.9350\n",
            "Epoch 52/100\n",
            "100/100 [==============================] - 28s 277ms/step - loss: 0.0349 - accuracy: 0.9865 - val_loss: 0.2668 - val_accuracy: 0.9340\n",
            "Epoch 53/100\n",
            "100/100 [==============================] - 27s 274ms/step - loss: 0.0437 - accuracy: 0.9850 - val_loss: 0.2426 - val_accuracy: 0.9380\n",
            "Epoch 54/100\n",
            "100/100 [==============================] - 28s 276ms/step - loss: 0.0277 - accuracy: 0.9905 - val_loss: 0.2758 - val_accuracy: 0.9350\n",
            "Epoch 55/100\n",
            "100/100 [==============================] - 27s 275ms/step - loss: 0.0414 - accuracy: 0.9855 - val_loss: 0.3189 - val_accuracy: 0.9210\n",
            "Epoch 56/100\n",
            "100/100 [==============================] - 28s 276ms/step - loss: 0.0367 - accuracy: 0.9880 - val_loss: 0.2631 - val_accuracy: 0.9340\n",
            "Epoch 57/100\n",
            "100/100 [==============================] - 27s 273ms/step - loss: 0.0315 - accuracy: 0.9895 - val_loss: 0.2644 - val_accuracy: 0.9370\n",
            "Epoch 58/100\n",
            "100/100 [==============================] - 27s 275ms/step - loss: 0.0346 - accuracy: 0.9890 - val_loss: 0.3533 - val_accuracy: 0.9220\n",
            "Epoch 59/100\n",
            "100/100 [==============================] - 27s 274ms/step - loss: 0.0341 - accuracy: 0.9895 - val_loss: 0.2665 - val_accuracy: 0.9390\n",
            "Epoch 60/100\n",
            "100/100 [==============================] - 27s 275ms/step - loss: 0.0267 - accuracy: 0.9915 - val_loss: 0.2483 - val_accuracy: 0.9420\n",
            "Epoch 61/100\n",
            "100/100 [==============================] - 27s 273ms/step - loss: 0.0228 - accuracy: 0.9910 - val_loss: 0.2966 - val_accuracy: 0.9270\n",
            "Epoch 62/100\n",
            "100/100 [==============================] - 27s 274ms/step - loss: 0.0239 - accuracy: 0.9920 - val_loss: 0.2425 - val_accuracy: 0.9420\n",
            "Epoch 63/100\n",
            "100/100 [==============================] - 27s 272ms/step - loss: 0.0221 - accuracy: 0.9920 - val_loss: 0.2736 - val_accuracy: 0.9340\n",
            "Epoch 64/100\n",
            "100/100 [==============================] - 28s 280ms/step - loss: 0.0210 - accuracy: 0.9925 - val_loss: 0.2568 - val_accuracy: 0.9330\n",
            "Epoch 65/100\n",
            "100/100 [==============================] - 28s 277ms/step - loss: 0.0374 - accuracy: 0.9870 - val_loss: 0.2437 - val_accuracy: 0.9380\n",
            "Epoch 66/100\n",
            "100/100 [==============================] - 28s 276ms/step - loss: 0.0252 - accuracy: 0.9900 - val_loss: 0.2838 - val_accuracy: 0.9310\n",
            "Epoch 67/100\n",
            "100/100 [==============================] - 27s 273ms/step - loss: 0.0323 - accuracy: 0.9910 - val_loss: 0.3500 - val_accuracy: 0.9220\n",
            "Epoch 68/100\n",
            "100/100 [==============================] - 27s 273ms/step - loss: 0.0368 - accuracy: 0.9885 - val_loss: 0.2922 - val_accuracy: 0.9300\n",
            "Epoch 69/100\n",
            "100/100 [==============================] - 27s 271ms/step - loss: 0.0288 - accuracy: 0.9885 - val_loss: 0.2863 - val_accuracy: 0.9290\n",
            "Epoch 70/100\n",
            "100/100 [==============================] - 28s 276ms/step - loss: 0.0257 - accuracy: 0.9900 - val_loss: 0.2530 - val_accuracy: 0.9330\n",
            "Epoch 71/100\n",
            "100/100 [==============================] - 27s 267ms/step - loss: 0.0244 - accuracy: 0.9910 - val_loss: 0.2617 - val_accuracy: 0.9340\n",
            "Epoch 72/100\n",
            "100/100 [==============================] - 27s 272ms/step - loss: 0.0252 - accuracy: 0.9895 - val_loss: 0.2863 - val_accuracy: 0.9420\n",
            "Epoch 73/100\n",
            "100/100 [==============================] - 27s 273ms/step - loss: 0.0287 - accuracy: 0.9900 - val_loss: 0.3113 - val_accuracy: 0.9320\n",
            "Epoch 74/100\n",
            "100/100 [==============================] - 27s 275ms/step - loss: 0.0279 - accuracy: 0.9905 - val_loss: 0.2479 - val_accuracy: 0.9330\n",
            "Epoch 75/100\n",
            "100/100 [==============================] - 27s 272ms/step - loss: 0.0240 - accuracy: 0.9905 - val_loss: 0.2950 - val_accuracy: 0.9350\n",
            "Epoch 76/100\n",
            "100/100 [==============================] - 27s 271ms/step - loss: 0.0236 - accuracy: 0.9905 - val_loss: 0.3799 - val_accuracy: 0.9210\n",
            "Epoch 77/100\n",
            "100/100 [==============================] - 27s 269ms/step - loss: 0.0292 - accuracy: 0.9900 - val_loss: 0.3668 - val_accuracy: 0.9280\n",
            "Epoch 78/100\n",
            "100/100 [==============================] - 28s 275ms/step - loss: 0.0368 - accuracy: 0.9870 - val_loss: 0.2715 - val_accuracy: 0.9370\n",
            "Epoch 79/100\n",
            "100/100 [==============================] - 27s 274ms/step - loss: 0.0213 - accuracy: 0.9945 - val_loss: 0.2727 - val_accuracy: 0.9340\n",
            "Epoch 80/100\n",
            "100/100 [==============================] - 27s 272ms/step - loss: 0.0326 - accuracy: 0.9895 - val_loss: 0.2945 - val_accuracy: 0.9330\n",
            "Epoch 81/100\n",
            "100/100 [==============================] - 27s 274ms/step - loss: 0.0231 - accuracy: 0.9910 - val_loss: 0.3302 - val_accuracy: 0.9240\n",
            "Epoch 82/100\n",
            "100/100 [==============================] - 28s 276ms/step - loss: 0.0265 - accuracy: 0.9920 - val_loss: 0.2476 - val_accuracy: 0.9360\n",
            "Epoch 83/100\n",
            "100/100 [==============================] - 27s 270ms/step - loss: 0.0193 - accuracy: 0.9940 - val_loss: 0.2801 - val_accuracy: 0.9310\n",
            "Epoch 84/100\n",
            "100/100 [==============================] - 27s 270ms/step - loss: 0.0208 - accuracy: 0.9935 - val_loss: 0.2643 - val_accuracy: 0.9340\n",
            "Epoch 85/100\n",
            "100/100 [==============================] - 27s 273ms/step - loss: 0.0217 - accuracy: 0.9920 - val_loss: 0.3134 - val_accuracy: 0.9340\n",
            "Epoch 86/100\n",
            "100/100 [==============================] - 27s 272ms/step - loss: 0.0196 - accuracy: 0.9940 - val_loss: 0.3331 - val_accuracy: 0.9270\n",
            "Epoch 87/100\n",
            "100/100 [==============================] - 27s 275ms/step - loss: 0.0132 - accuracy: 0.9965 - val_loss: 0.3143 - val_accuracy: 0.9380\n",
            "Epoch 88/100\n",
            "100/100 [==============================] - 27s 275ms/step - loss: 0.0257 - accuracy: 0.9920 - val_loss: 0.2827 - val_accuracy: 0.9350\n",
            "Epoch 89/100\n",
            "100/100 [==============================] - 27s 274ms/step - loss: 0.0208 - accuracy: 0.9925 - val_loss: 0.3058 - val_accuracy: 0.9290\n",
            "Epoch 90/100\n",
            "100/100 [==============================] - 27s 270ms/step - loss: 0.0178 - accuracy: 0.9945 - val_loss: 0.2811 - val_accuracy: 0.9330\n",
            "Epoch 91/100\n",
            "100/100 [==============================] - 28s 276ms/step - loss: 0.0212 - accuracy: 0.9920 - val_loss: 0.2816 - val_accuracy: 0.9370\n",
            "Epoch 92/100\n",
            "100/100 [==============================] - 27s 273ms/step - loss: 0.0233 - accuracy: 0.9950 - val_loss: 0.2894 - val_accuracy: 0.9380\n",
            "Epoch 93/100\n",
            "100/100 [==============================] - 27s 274ms/step - loss: 0.0216 - accuracy: 0.9940 - val_loss: 0.2865 - val_accuracy: 0.9370\n",
            "Epoch 94/100\n",
            "100/100 [==============================] - 27s 274ms/step - loss: 0.0214 - accuracy: 0.9920 - val_loss: 0.4679 - val_accuracy: 0.9230\n",
            "Epoch 95/100\n",
            "100/100 [==============================] - 27s 267ms/step - loss: 0.0180 - accuracy: 0.9925 - val_loss: 0.3957 - val_accuracy: 0.9230\n",
            "Epoch 96/100\n",
            "100/100 [==============================] - 27s 273ms/step - loss: 0.0193 - accuracy: 0.9925 - val_loss: 0.3050 - val_accuracy: 0.9350\n",
            "Epoch 97/100\n",
            "100/100 [==============================] - 27s 265ms/step - loss: 0.0152 - accuracy: 0.9925 - val_loss: 0.3608 - val_accuracy: 0.9290\n",
            "Epoch 98/100\n",
            "100/100 [==============================] - 28s 276ms/step - loss: 0.0208 - accuracy: 0.9920 - val_loss: 0.3537 - val_accuracy: 0.9320\n",
            "Epoch 99/100\n",
            "100/100 [==============================] - 27s 270ms/step - loss: 0.0168 - accuracy: 0.9945 - val_loss: 0.4133 - val_accuracy: 0.9210\n",
            "Epoch 100/100\n",
            "100/100 [==============================] - 28s 275ms/step - loss: 0.0233 - accuracy: 0.9925 - val_loss: 0.2879 - val_accuracy: 0.9380\n"
          ],
          "name": "stdout"
        }
      ]
    },
    {
      "cell_type": "code",
      "metadata": {
        "id": "bDVHUKabEOBh",
        "colab_type": "code",
        "colab": {}
      },
      "source": [
        "model.save('cats_and_dogs_small_4.h5')"
      ],
      "execution_count": 0,
      "outputs": []
    },
    {
      "cell_type": "markdown",
      "metadata": {
        "id": "KZhHN-0bEa_n",
        "colab_type": "text"
      },
      "source": [
        "Let's plot our results using the same plotting code as before:"
      ]
    },
    {
      "cell_type": "code",
      "metadata": {
        "id": "C8bbjB_IEdGf",
        "colab_type": "code",
        "colab": {
          "base_uri": "https://localhost:8080/",
          "height": 545
        },
        "outputId": "ceaa4bbc-4cbd-401d-fcac-4da4c79a9189"
      },
      "source": [
        "acc = history.history['accuracy']\n",
        "val_acc = history.history['val_accuracy']\n",
        "loss = history.history['loss']\n",
        "val_loss = history.history['val_loss']\n",
        "\n",
        "epochs = range(len(acc))\n",
        "\n",
        "plt.plot(epochs, acc, 'go', label='Training accuracy')\n",
        "plt.plot(epochs, val_acc, 'r', label='Validation accuracy')\n",
        "plt.title('Training and validation accuracy')\n",
        "plt.legend()\n",
        "\n",
        "plt.figure()\n",
        "\n",
        "plt.plot(epochs, loss, 'go', label='Training loss')\n",
        "plt.plot(epochs, val_loss, 'r', label='Validation loss')\n",
        "plt.title('Training and validation loss')\n",
        "plt.legend()\n",
        "\n",
        "plt.show()"
      ],
      "execution_count": 40,
      "outputs": [
        {
          "output_type": "display_data",
          "data": {
            "image/png": "[encoded data removed]",
            "text/plain": [
              "<Figure size 432x288 with 1 Axes>"
            ]
          },
          "metadata": {
            "tags": []
          }
        },
        {
          "output_type": "display_data",
          "data": {
            "image/png": "[encoded data removed]",
            "text/plain": [
              "<Figure size 432x288 with 1 Axes>"
            ]
          },
          "metadata": {
            "tags": []
          }
        }
      ]
    },
    {
      "cell_type": "markdown",
      "metadata": {
        "id": "KaSJ9YOcFBPN",
        "colab_type": "text"
      },
      "source": [
        "These curves look very noisy. To make them more readable, we can smooth them by replacing every loss and accuracy with exponential moving averages of these quantities. \n",
        "\n",
        "Here's a trivial utility function to do this:"
      ]
    },
    {
      "cell_type": "code",
      "metadata": {
        "id": "On6SgA4KFLUd",
        "colab_type": "code",
        "colab": {
          "base_uri": "https://localhost:8080/",
          "height": 545
        },
        "outputId": "4438269a-cc85-4639-dacb-de7a112b039d"
      },
      "source": [
        "def smooth_curve(points, factor=0.8):\n",
        "  smoothed_points = []\n",
        "  for point in points:\n",
        "    if smoothed_points:\n",
        "      previous = smoothed_points[-1]\n",
        "      smoothed_points.append(previous * factor + point * (1 - factor))\n",
        "    else:\n",
        "      smoothed_points.append(point)\n",
        "  return smoothed_points\n",
        "\n",
        "plt.plot(epochs, smooth_curve(acc), 'bo', label='Smoothed training acc')\n",
        "plt.plot(epochs, smooth_curve(val_acc), 'b', label='Smoothed validation acc')\n",
        "plt.title('Training and validation accuracy')\n",
        "plt.legend()\n",
        "\n",
        "plt.figure()\n",
        "\n",
        "plt.plot(epochs, smooth_curve(loss), 'bo', label='Smoothed training loss')\n",
        "plt.plot(epochs, smooth_curve(val_loss), 'b', label='Smoothed validation loss')\n",
        "plt.title('Training and validation loss')\n",
        "plt.legend()\n",
        "\n",
        "plt.show()"
      ],
      "execution_count": 41,
      "outputs": [
        {
          "output_type": "display_data",
          "data": {
            "image/png": "[encoded data removed]",
            "text/plain": [
              "<Figure size 432x288 with 1 Axes>"
            ]
          },
          "metadata": {
            "tags": []
          }
        },
        {
          "output_type": "display_data",
          "data": {
            "image/png": "[encoded data removed]",
            "text/plain": [
              "<Figure size 432x288 with 1 Axes>"
            ]
          },
          "metadata": {
            "tags": []
          }
        }
      ]
    },
    {
      "cell_type": "markdown",
      "metadata": {
        "id": "nJhkZdBNFwp2",
        "colab_type": "text"
      },
      "source": [
        "These curves look much cleaner and more stable. We are seeing a nice 1% absolute improvement.\n",
        "\n",
        "Note that the loss curve does not show any real improvement (in fact, it is deteriorating). You may wonder, how could accuracy improve if the loss isn't decreasing? \n",
        "\n",
        "The answer is simple: what we display is an average of pointwise loss values, but what actually matters for accuracy is the distribution of the loss values, not their average, since accuracy is the result of a binary thresholding of the class probability predicted by the model. The model may still be improving even if this isn't reflected in the average loss.\n",
        "\n",
        "We can now finally evaluate this model on the test data:"
      ]
    },
    {
      "cell_type": "code",
      "metadata": {
        "id": "tPbHn8eHFzAI",
        "colab_type": "code",
        "colab": {
          "base_uri": "https://localhost:8080/",
          "height": 187
        },
        "outputId": "b7875878-1fb8-4827-fe69-6ebdf2d50df8"
      },
      "source": [
        "test_generator = test_datagen.flow_from_directory(test_dir,\n",
        "                                                  target_size=(150, 150),\n",
        "                                                  batch_size=20,\n",
        "                                                  class_mode='binary')\n",
        "test_loss, test_acc = model.evaluate_generator(test_generator, steps=50)\n",
        "print(f'test acc: {str(test_acc)}')"
      ],
      "execution_count": 42,
      "outputs": [
        {
          "output_type": "stream",
          "text": [
            "Found 1000 images belonging to 2 classes.\n",
            "WARNING:tensorflow:From <ipython-input-42-a12d14119289>:5: Model.evaluate_generator (from tensorflow.python.keras.engine.training) is deprecated and will be removed in a future version.\n",
            "Instructions for updating:\n",
            "Please use Model.evaluate, which supports generators.\n",
            "WARNING:tensorflow:sample_weight modes were coerced from\n",
            "  ...\n",
            "    to  \n",
            "  ['...']\n",
            "test acc: 0.944\n"
          ],
          "name": "stdout"
        }
      ]
    },
    {
      "cell_type": "markdown",
      "metadata": {
        "id": "h9px9WVPGWHT",
        "colab_type": "text"
      },
      "source": [
        "Here we get a test accuracy of 95%. In the original Kaggle competition around this dataset, this would have been one of the top results. However, using modern deep learning techniques, we managed to reach this result using only a very small fraction of the training data available (about 10%). There is a huge difference between being able to train on 20,000 samples compared to 2,000 samples!"
      ]
    },
    {
      "cell_type": "markdown",
      "metadata": {
        "id": "D-BmaQMoG1jA",
        "colab_type": "text"
      },
      "source": [
        "## Take-aways: using convnets with small datasets"
      ]
    },
    {
      "cell_type": "markdown",
      "metadata": {
        "id": "o1GQA4HKG4hj",
        "colab_type": "text"
      },
      "source": [
        "Here's what you should take away from the exercises of these past two sections:\n",
        "\n",
        "* Convnets are the best type of machine learning models for computer vision tasks. It is possible to train one from scratch even on a very small dataset, with decent results.\n",
        "* On a small dataset, overfitting will be the main issue. Data augmentation is a powerful way to fight overfitting when working with image data.\n",
        "* It is easy to reuse an existing convnet on a new dataset, via feature extraction. This is a very valuable technique for working with small image datasets.\n",
        "* As a complement to feature extraction, one may use fine-tuning, which adapts to a new problem some of the representations previously learned by an existing model. This pushes performance a bit further.\n",
        "\n",
        "Now you have a solid set of tools for dealing with image classification problems, in particular with small datasets."
      ]
    }
  ]
}