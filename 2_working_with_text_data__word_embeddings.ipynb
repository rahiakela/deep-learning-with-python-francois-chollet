{
  "nbformat": 4,
  "nbformat_minor": 0,
  "metadata": {
    "colab": {
      "name": "2_working_with_text_data__word_embeddings.ipynb",
      "provenance": [],
      "toc_visible": true,
      "include_colab_link": true
    },
    "kernelspec": {
      "name": "python3",
      "display_name": "Python 3"
    },
    "accelerator": "GPU"
  },
  "cells": [
    {
      "cell_type": "markdown",
      "metadata": {
        "id": "view-in-github",
        "colab_type": "text"
      },
      "source": [
        "<a href=\"https://colab.research.google.com/github/rahiakela/deep-learning-with-python-francois-chollet/blob/6-deep-learning-for-text-and-sequences/2_working_with_text_data__word_embeddings.ipynb\" target=\"_parent\"><img src=\"https://colab.research.google.com/assets/colab-badge.svg\" alt=\"Open In Colab\"/></a>"
      ]
    },
    {
      "cell_type": "markdown",
      "metadata": {
        "id": "qCLcK4vPkXXT",
        "colab_type": "text"
      },
      "source": [
        "# Working with text data: word embeddings"
      ]
    },
    {
      "cell_type": "markdown",
      "metadata": {
        "id": "IhQlXAUmkwsv",
        "colab_type": "text"
      },
      "source": [
        "Text is one of the most widespread forms of sequence data. It can be understood as either a sequence of characters or a sequence of words, but it’s most common to work at the level of words.\n",
        "\n",
        "The deep-learning sequence-processing models can use text to produce a basic form of natural-language understanding, sufficient for applications including:\n",
        "\n",
        "* document classification, \n",
        "* sentiment analysis, \n",
        "* author identification, \n",
        "* and even question-answering (QA)\n",
        "\n",
        "Of course, keep in mind that none of these deeplearning models truly understand text in a human sense; rather, these models can map the statistical structure of written language, which is sufficient to solve many simple textual tasks. \n",
        "\n",
        "Deep learning for natural-language processing is pattern recognition\n",
        "applied to words, sentences, and paragraphs, in much the same way that computer vision is pattern recognition applied to pixels.\n",
        "\n",
        "Like all other neural networks, deep-learning models don’t take as input raw text: they only work with numeric tensors. **Vectorizing text** is the process of transforming text into numeric tensors. \n",
        "\n",
        "This can be done in multiple ways:\n",
        "* Segment text into words, and transform each word into a vector.\n",
        "* Segment text into characters, and transform each character into a vector.\n",
        "* Extract n-grams of words or characters, and transform each n-gram into a vector.N-grams are overlapping groups of multiple consecutive words or characters.\n",
        "\n",
        "Collectively, the different units into which you can break down text (words, characters, or n-grams) are called tokens, and breaking text into such tokens is called tokenization. All text-vectorization processes consist of applying some tokenization scheme and then associating numeric vectors with the generated tokens. These vectors, packed into sequence tensors, are fed into deep neural networks. \n",
        "\n",
        "There are multiple ways to associate a vector with a token. I’ll present two major ones: \n",
        "\n",
        "* one-hot encoding of tokens, \n",
        "* and token embedding (typically used exclusively for words, and called\n",
        "word embedding).\n",
        "\n",
        "<img src='https://github.com/rahiakela/img-repo/blob/master/deep-learning-with-python/text-to-tokens-to-vectors.png?raw=1' width='800'/>"
      ]
    },
    {
      "cell_type": "markdown",
      "metadata": {
        "id": "UX6W7ry3oZ0i",
        "colab_type": "text"
      },
      "source": [
        "## Setup"
      ]
    },
    {
      "cell_type": "code",
      "metadata": {
        "id": "4-nh6BM2ocDO",
        "colab_type": "code",
        "colab": {}
      },
      "source": [
        "from __future__ import absolute_import, division, print_function, unicode_literals\n",
        "\n",
        "try:\n",
        "  # %tensorflow_version only exists in Colab.\n",
        "  %tensorflow_version 2.x\n",
        "except Exception:\n",
        "  pass\n",
        "import tensorflow as tf\n",
        "from tensorflow import keras\n",
        "\n",
        "from tensorflow.keras.models import Sequential\n",
        "from tensorflow.keras.layers import Flatten, Dense, Embedding\n",
        "\n",
        "from tensorflow.keras.datasets import imdb\n",
        "\n",
        "from tensorflow.keras.preprocessing.text import Tokenizer\n",
        "from tensorflow.keras.preprocessing.sequence import pad_sequences\n",
        "\n",
        "import numpy as np\n",
        "import pandas as pd\n",
        "\n",
        "import string\n",
        "import os\n",
        "\n",
        "import matplotlib.pyplot as plt\n",
        "%matplotlib inline"
      ],
      "execution_count": 0,
      "outputs": []
    },
    {
      "cell_type": "markdown",
      "metadata": {
        "id": "Trg_rlvaogpI",
        "colab_type": "text"
      },
      "source": [
        "## Using word embeddings"
      ]
    },
    {
      "cell_type": "markdown",
      "metadata": {
        "id": "jAm_0dVAoi_m",
        "colab_type": "text"
      },
      "source": [
        "Another popular and powerful way to associate a vector with a word is the use of dense word vectors, also called word embeddings. Whereas the vectors obtained through one-hot encoding are binary, sparse (mostly made of zeros), and very high-dimensional (same dimensionality as the number of words in the vocabulary), word embeddings are lowdimensional floating-point vectors (that is, dense vectors, as opposed to sparse vectors).\n",
        "\n",
        "Unlike word vectors obtained via one-hot encoding, word embeddings are learned from data. It is common to see word embeddings that are 256-dimensional, 512-dimensional, or 1024-dimensional when dealing with very large vocabularies. On the other hand, one-hot encoding words generally leads to vectors that are 20,000-dimensional or higher (capturing a vocabulary of 20,000 token in this case). So, word embeddings pack more information into far fewer dimensions.\n",
        "\n",
        "<img src='https://s3.amazonaws.com/book.keras.io/img/ch6/word_embeddings.png?raw=1' width='800'/>\n",
        "\n",
        "There are two ways to obtain word embeddings:\n",
        "\n",
        "* Learn word embeddings jointly with the main task you care about (e.g. document classification or sentiment prediction). In this setup, you would start with random word vectors, then learn your word vectors in the same way that you learn the weights of a neural network.\n",
        "* Load into your model word embeddings that were pre-computed using a different machine learning task than the one you are trying to solve. These are called \"pre-trained word embeddings\".\n"
      ]
    },
    {
      "cell_type": "markdown",
      "metadata": {
        "id": "eiQA-DoAlC6R",
        "colab_type": "text"
      },
      "source": [
        "### Learning word embeddings with the Embedding layer"
      ]
    },
    {
      "cell_type": "markdown",
      "metadata": {
        "id": "OLL705CqlGoc",
        "colab_type": "text"
      },
      "source": [
        "The simplest way to associate a dense vector to a word would be to pick the vector at random. The problem with this approach is that the resulting embedding space would have no structure: for instance, the words \"accurate\" and \"exact\" may end up with completely different embeddings, even though they are interchangeable in most sentences. It would be very difficult for a deep neural network to make sense of such a noisy, unstructured embedding space.\n",
        "\n",
        "To get a bit more abstract: the geometric relationships between word vectors should reflect the semantic relationships between these words. Word embeddings are meant to map human language into a geometric space. For instance, in a reasonable embedding space, we would expect synonyms to be embedded into similar word vectors, and in general we would expect the geometric distance (e.g. L2 distance) between any two word vectors to relate to the semantic distance of the associated words (words meaning very different things would be embedded to points far away from each other, while related words would be closer). Even beyond mere distance, we may want specific directions in the embedding space to be meaningful.\n",
        "\n",
        "It is thus reasonable to learn a new embedding space with every new task. Thankfully, backpropagation makes this really easy, and Keras makes it even easier. It's just about learning the weights of a layer: the Embedding layer.\n",
        "\n",
        "```python\n",
        "from keras.layers import Embedding\n",
        "\n",
        "# The Embedding layer takes at least two arguments:\n",
        "# the number of possible tokens, here 1000 (1 + maximum word index),\n",
        "# and the dimensionality of the embeddings, here 64.\n",
        "embedding_layer = Embedding(1000, 64)\n",
        "```\n",
        "\n",
        "The Embedding layer is best understood as a dictionary mapping integer indices (which stand for specific words) to dense vectors. It takes as input integers, it looks up these integers into an internal dictionary, and it returns the associated vectors. It's effectively a dictionary lookup.\n",
        "\n",
        "```python\n",
        "Word index >> Embedding layer >> Corresponding word vector\n",
        "```\n",
        "\n",
        "The Embedding layer takes as input a 2D tensor of integers, of shape (samples, sequence_length), where each entry is a sequence of integers. It can embed sequences of variable lengths, so for instance we could feed into our embedding layer above batches that could have shapes (32, 10) (batch of 32 sequences of length 10) or (64, 15) (batch of 64 sequences of length 15). All sequences in a batch must have the same length, though (since we need to pack them into a single tensor), so sequences that are shorter than others should be padded with zeros, and sequences that are longer should be truncated.\n",
        "\n",
        "This layer returns a 3D floating point tensor, of shape (samples, sequence_length, embedding_dimensionality). Such a 3D tensor can then be processed by a RNN layer or a 1D convolution layer.\n",
        "\n",
        "When you instantiate an Embedding layer, its weights (its internal dictionary of token vectors) are initially random, just like with any other layer. During training, these word vectors will be gradually adjusted via backpropagation, structuring the space into something that the downstream model can exploit. Once fully trained, your embedding space will show a lot of structure -- a kind of structure specialized for the specific problem you were training your model for.\n",
        "\n",
        "Let's apply this idea to the IMDB movie review sentiment prediction task that you are already familiar with. Let's quickly prepare the data. We will restrict the movie reviews to the top 10,000 most common words (like we did the first time we worked with this dataset), and cut the reviews after only 20 words. Our network will simply learn 8-dimensional embeddings for each of the 10,000 words, turn the input integer sequences (2D integer tensor) into embedded sequences (3D float tensor), flatten the tensor to 2D, and train a single Dense layer on top for classification.\n"
      ]
    },
    {
      "cell_type": "code",
      "metadata": {
        "id": "jQywk8Gmo1GT",
        "colab_type": "code",
        "outputId": "c60494ba-45be-40d6-f3ea-5bf8c87d643e",
        "colab": {
          "base_uri": "https://localhost:8080/",
          "height": 50
        }
      },
      "source": [
        "# Number of words to consider as features\n",
        "max_features = 10000\n",
        "\n",
        "# Cut texts after this number of words (among top max_features most common words)\n",
        "maxlen = 20\n",
        "\n",
        "# Load the data as lists of integers.\n",
        "(x_train, y_train), (x_test, y_test) = imdb.load_data(num_words=max_features)\n",
        "\n",
        "# turns our lists of integers into a 2D integer tensor of shape `(samples, maxlen)`\n",
        "x_train = pad_sequences(x_train, maxlen=maxlen)\n",
        "x_test = pad_sequences(x_test, maxlen=maxlen)"
      ],
      "execution_count": 3,
      "outputs": [
        {
          "output_type": "stream",
          "text": [
            "Downloading data from https://storage.googleapis.com/tensorflow/tf-keras-datasets/imdb.npz\n",
            "17465344/17464789 [==============================] - 0s 0us/step\n"
          ],
          "name": "stdout"
        }
      ]
    },
    {
      "cell_type": "code",
      "metadata": {
        "id": "ItjbXps3pMgf",
        "colab_type": "code",
        "outputId": "c4ff102c-17fb-4a45-8923-6a614adceab7",
        "colab": {
          "base_uri": "https://localhost:8080/",
          "height": 250
        }
      },
      "source": [
        "model = Sequential()\n",
        "\n",
        "# specify the maximum input length to our Embedding layer so we can later flatten the embedded inputs\n",
        "model.add(Embedding(10000, 8, input_length=maxlen))\n",
        "# After the Embedding layer, our activations have shape `(samples, maxlen, 8)`.\n",
        "\n",
        "# flatten the 3D tensor of embeddings into a 2D tensor of shape `(samples, maxlen * 8)`\n",
        "model.add(Flatten())\n",
        "\n",
        "# We add the classifier on top\n",
        "model.add(Dense(1, activation='sigmoid'))\n",
        "model.compile(optimizer='rmsprop', loss='binary_crossentropy', metrics=['accuracy'])\n",
        "model.summary()"
      ],
      "execution_count": 0,
      "outputs": [
        {
          "output_type": "stream",
          "text": [
            "Model: \"sequential\"\n",
            "_________________________________________________________________\n",
            "Layer (type)                 Output Shape              Param #   \n",
            "=================================================================\n",
            "embedding (Embedding)        (None, 20, 8)             80000     \n",
            "_________________________________________________________________\n",
            "flatten (Flatten)            (None, 160)               0         \n",
            "_________________________________________________________________\n",
            "dense (Dense)                (None, 1)                 161       \n",
            "=================================================================\n",
            "Total params: 80,161\n",
            "Trainable params: 80,161\n",
            "Non-trainable params: 0\n",
            "_________________________________________________________________\n"
          ],
          "name": "stdout"
        }
      ]
    },
    {
      "cell_type": "code",
      "metadata": {
        "id": "JIwcfo3ytBNL",
        "colab_type": "code",
        "outputId": "2af3b393-3895-49f0-cbb9-7516fc65944d",
        "colab": {
          "base_uri": "https://localhost:8080/",
          "height": 350
        }
      },
      "source": [
        "history = model.fit(x_train, y_train, epochs=10, batch_size=32, validation_split=0.2)"
      ],
      "execution_count": 0,
      "outputs": [
        {
          "output_type": "stream",
          "text": [
            "Epoch 1/10\n",
            "625/625 [==============================] - 2s 3ms/step - loss: 0.6701 - accuracy: 0.6220 - val_loss: 0.6212 - val_accuracy: 0.7000\n",
            "Epoch 2/10\n",
            "625/625 [==============================] - 2s 3ms/step - loss: 0.5425 - accuracy: 0.7494 - val_loss: 0.5268 - val_accuracy: 0.7392\n",
            "Epoch 3/10\n",
            "625/625 [==============================] - 2s 3ms/step - loss: 0.4615 - accuracy: 0.7857 - val_loss: 0.5006 - val_accuracy: 0.7512\n",
            "Epoch 4/10\n",
            "625/625 [==============================] - 2s 3ms/step - loss: 0.4229 - accuracy: 0.8067 - val_loss: 0.4936 - val_accuracy: 0.7578\n",
            "Epoch 5/10\n",
            "625/625 [==============================] - 2s 3ms/step - loss: 0.3973 - accuracy: 0.8236 - val_loss: 0.4945 - val_accuracy: 0.7602\n",
            "Epoch 6/10\n",
            "625/625 [==============================] - 2s 3ms/step - loss: 0.3769 - accuracy: 0.8340 - val_loss: 0.4958 - val_accuracy: 0.7636\n",
            "Epoch 7/10\n",
            "625/625 [==============================] - 2s 3ms/step - loss: 0.3573 - accuracy: 0.8473 - val_loss: 0.5002 - val_accuracy: 0.7608\n",
            "Epoch 8/10\n",
            "625/625 [==============================] - 2s 3ms/step - loss: 0.3381 - accuracy: 0.8586 - val_loss: 0.5050 - val_accuracy: 0.7584\n",
            "Epoch 9/10\n",
            "625/625 [==============================] - 2s 3ms/step - loss: 0.3192 - accuracy: 0.8684 - val_loss: 0.5111 - val_accuracy: 0.7528\n",
            "Epoch 10/10\n",
            "625/625 [==============================] - 2s 3ms/step - loss: 0.3011 - accuracy: 0.8777 - val_loss: 0.5178 - val_accuracy: 0.7508\n"
          ],
          "name": "stdout"
        }
      ]
    },
    {
      "cell_type": "markdown",
      "metadata": {
        "id": "TiKZaDi_rgKS",
        "colab_type": "text"
      },
      "source": [
        "We get to a validation accuracy of ~76%, which is pretty good considering that we only look at the first 20 words in every review. But note that merely flattening the embedded sequences and training a single Dense layer on top leads to a model that treats each word in the input sequence separately, without considering inter-word relationships and structure sentence (e.g. it would likely treat both \"this movie is shit\" and \"this movie is the shit\" as being negative \"reviews\"). It would be much better to add recurrent layers or 1D convolutional layers on top of the embedded sequences to learn features that take into account each sequence as a whole. That's what we will focus on in the next few sections."
      ]
    },
    {
      "cell_type": "markdown",
      "metadata": {
        "id": "O8LjZEp0thyB",
        "colab_type": "text"
      },
      "source": [
        "### Using pre-trained word embeddings"
      ]
    },
    {
      "cell_type": "markdown",
      "metadata": {
        "id": "RE7Hf7SwtES_",
        "colab_type": "text"
      },
      "source": [
        "Sometimes, you have so little training data available that could never use your data alone to learn an appropriate task-specific embedding of your vocabulary. What to do then?\n",
        "\n",
        "Instead of learning word embeddings jointly with the problem you want to solve, you could be loading embedding vectors from a pre-computed embedding space known to be highly structured and to exhibit useful properties -- that captures generic aspects of language structure. \n",
        "\n",
        "The rationale behind using pre-trained word embeddings in natural language processing is very much the same as for using pre-trained convnets in image classification: we don't have enough data available to learn truly powerful features on our own, but we expect the features that we need to be fairly generic, i.e. common visual features or semantic features. In this case it makes sense to reuse features learned on a different problem.\n",
        "\n",
        "Such word embeddings are generally computed using word occurrence statistics (observations about what words co-occur in sentences or documents), using a variety of techniques, some involving neural networks, others not. The idea of a dense, low-dimensional embedding space for words, computed in an unsupervised way, was initially explored by Bengio et al. in the early 2000s, but it only started really taking off in research and industry applications after the release of one of the most famous and successful word embedding scheme: the Word2Vec algorithm, developed by Mikolov at Google in 2013. Word2Vec dimensions capture specific semantic properties, e.g. gender.\n",
        "\n",
        "There are various pre-computed databases of word embeddings that can download and start using in a Keras Embedding layer. \n",
        "\n",
        "* Word2Vec is one of them. \n",
        "* Another popular one is called \"GloVe\", developed by Stanford researchers in 2014. It stands for \"Global Vectors for Word Representation\", and it is an embedding technique based on factorizing a matrix of word co-occurrence statistics. \n",
        "\n",
        "Let's take a look at how you can get started using GloVe embeddings in a Keras model. The same method will of course be valid for Word2Vec embeddings or any other word embedding database that you can download. We will also use this example to refresh the text tokenization techniques we introduced a few paragraphs ago: we will start from raw text, and work our way up."
      ]
    },
    {
      "cell_type": "markdown",
      "metadata": {
        "id": "t305iDvotfZ_",
        "colab_type": "text"
      },
      "source": [
        "## Putting it all together: from raw text to word embeddings"
      ]
    },
    {
      "cell_type": "markdown",
      "metadata": {
        "id": "sIJsyT-gthiS",
        "colab_type": "text"
      },
      "source": [
        "You’ll use a model similar to the one we just went over: \n",
        "\n",
        "* embedding sentences in sequences of vectors, \n",
        "* flattening them, \n",
        "* and training a Dense layer on top. \n",
        "\n",
        "But you’ll do so using pretrained word embeddings; and instead of using the pretokenized IMDB data packaged in Keras, you’ll start from scratch by downloading the original text data."
      ]
    },
    {
      "cell_type": "markdown",
      "metadata": {
        "id": "RY_pLK6r_jtQ",
        "colab_type": "text"
      },
      "source": [
        "### Download the IMDB data as raw text"
      ]
    },
    {
      "cell_type": "code",
      "metadata": {
        "id": "oofys_Mi66yS",
        "colab_type": "code",
        "outputId": "0583a980-68a9-4e35-d787-7dd1fe4578d9",
        "colab": {
          "base_uri": "https://localhost:8080/",
          "height": 67
        }
      },
      "source": [
        "# download IMDB dataset\n",
        "ds_path = keras.utils.get_file('aclImdb_v1.tar.gz', origin='http://ai.stanford.edu/~amaas/data/sentiment/aclImdb_v1.tar.gz', extract=True)\n",
        "ds_path"
      ],
      "execution_count": 4,
      "outputs": [
        {
          "output_type": "stream",
          "text": [
            "Downloading data from http://ai.stanford.edu/~amaas/data/sentiment/aclImdb_v1.tar.gz\n",
            "84131840/84125825 [==============================] - 7s 0us/step\n"
          ],
          "name": "stdout"
        },
        {
          "output_type": "execute_result",
          "data": {
            "text/plain": [
              "'/root/.keras/datasets/aclImdb_v1.tar.gz'"
            ]
          },
          "metadata": {
            "tags": []
          },
          "execution_count": 4
        }
      ]
    },
    {
      "cell_type": "code",
      "metadata": {
        "id": "zr7DJM6n7StN",
        "colab_type": "code",
        "colab": {}
      },
      "source": [
        "!cp /root/.keras/datasets/aclImdb_v1.tar.gz ."
      ],
      "execution_count": 0,
      "outputs": []
    },
    {
      "cell_type": "code",
      "metadata": {
        "id": "JEJBPv-wxeFF",
        "colab_type": "code",
        "colab": {}
      },
      "source": [
        "import tarfile\n",
        "\n",
        "tar = tarfile.open('aclImdb_v1.tar.gz', \"r:gz\")\n",
        "tar.extractall()\n",
        "tar.close()"
      ],
      "execution_count": 0,
      "outputs": []
    },
    {
      "cell_type": "code",
      "metadata": {
        "id": "yNtan1i6tRTW",
        "colab_type": "code",
        "colab": {}
      },
      "source": [
        "imdb_dir = 'aclImdb/'\n",
        "train_dir = os.path.join(imdb_dir, 'train')\n",
        "\n",
        "labels = []\n",
        "texts = []\n",
        "\n",
        "for label_type in ['neg', 'pos']:\n",
        "  dir_name = os.path.join(train_dir, label_type)\n",
        "  for fname in os.listdir(dir_name):\n",
        "    f = open(os.path.join(dir_name, fname))\n",
        "    texts.append(f.read())\n",
        "    f.close()\n",
        "    if label_type == 'neg':\n",
        "      labels.append(0)\n",
        "    else:\n",
        "      labels.append(1)"
      ],
      "execution_count": 0,
      "outputs": []
    },
    {
      "cell_type": "code",
      "metadata": {
        "id": "PmNyQ2j9w0sl",
        "colab_type": "code",
        "outputId": "ea229c11-972d-42ca-ecae-8960533ac999",
        "colab": {
          "base_uri": "https://localhost:8080/",
          "height": 120
        }
      },
      "source": [
        "texts[:5]"
      ],
      "execution_count": 8,
      "outputs": [
        {
          "output_type": "execute_result",
          "data": {
            "text/plain": [
              "['I saw this movie a few days ago and gamely jumped during the scary parts. I must admit, I found it pretty decent...until I started to THINK about what the characters were saying. Logical problems:<br /><br />1. Her boyfriend, who seems to be a pretty fit dude, makes no sound while being killed. Don\\'t you think that he might have at least tried to take the killer? <br /><br />2. When the remark is made that the gym teacher is \"SOOOO in love with Lisa,\" I almost screamed at the screen. When your best friend\\'s family HAS BEEN KILLED BY A TEACHER WHO WAS IN LOVE WITH HER, you don\\'t make comments like that if you have half of a heart.<br /><br />3. As soon as Nash asks the uncle how many exits they have in the house and the uncle catches on that there may be danger ahead, wouldn\\'t the smart thing to do be to get Donna, boyfriend, aunt, and uncle into a car and drive far, far away, then bait the house with the HRT and police force so that the killer has no way to get out?<br /><br />I could go on. And on. And on. Basically, the plot was decent, the characters weren\\'t profiled enough for you to actually feel any empathy when they were slaughtered and there were way too many errors.<br /><br />HOWEVER.<br /><br />This movie might be good for teenagers, or young couples just looking for a fun night out. If you don\\'t consider all the goofs, it\\'s a mediocre film.',\n",
              " 'I don\\'t see enough TV game shows to understand the attraction of SHOW ME THE MONEY, but I suppose it holds some appeal for undemanding audiences. Ostensibly a quiz show, it offers contestants huge sums of money for answering a few simple questions. However, its quiz elements play only a small part in the proceedings, which I find tortuously complicated. For example, before answering a question, a contestant selects which question is to be asked by choosing from among random \"A,\" \"B,\" or \"C\" choices. Does this serve any purpose other than to slow the game down? It would be a lot quicker simply to start with \"A.\" Contestants can pass on questions, but must answer one of the three questions in each category.<br /><br />After responding to a question, the contestant is then asked to \"lock in\" the answer--another delaying tactic. The contestant\\'s next task is to name which woman from about a dozen go-go dancers in cages is to unveil a card that indicates how much the question is worth. A correct answer adds the card\\'s dollar figure to the contestant\\'s running total; a wrong answer subtracts the same sum. This time-consuming step actually has some entertainment value, as it allows the audience to get a close look at the scantily clad and uniformly gorgeous dancers. Meanwhile, the contestant is reminded that an unlucky selection of the \"killer card\" will end the game instantly. This naturally makes the contestant sweat and causes further delays as the nervous contestant contemplates the sudden loss of the hundreds of thousands of dollars. My suspicion is that the possibility of sudden disaster is the show\\'s chief audience appeal.<br /><br />Meanwhile, the whole process is slowed down even more by a lot of empty banter between host William Shatner and the contestant, along with occasional routines by the caged dancers. All these delays burn up so much time that it might be possible for audiences to forget what the original question is by the time the correct answer is revealed.<br /><br />A typical 30-minute episode of JEOPARDY often gets through as many as 60 questions. The first 30 minutes of SMTM that I watched got through only six questions (many of which pertained to other TV shows). No one in his right mind would watch this show because it\\'s fun to play along by answering the questions at home. That leaves three possible reasons to watch the show.<br /><br />A. To see how a contestant responds to being on the verge of winning as much as one million dollars, only to lose everything in one stroke.<br /><br />B. To look at gorgeous young women performing sexually suggestive dance routines.<br /><br />C. To enjoy William Shatner\\'s scintillating banter.<br /><br />My choice is \"B,\" but the women aren\\'t on camera long enough to justify suffering through an hour of this show.',\n",
              " 'In 1967, mine workers find the remnants of an ancient vanished civilization named Abkani that believe there are the worlds of light and darkness. When they opened the gate between these worlds ten thousand years ago, something evil slipped through before the gate was closed. Twenty-two years ago, the Government Paranormal Research Agency Bureau 713 was directed by Professor Lionel Hudgens (Matthew Walker), who performed experiments with orphan children. On the present days, one of these children is the paranormal investigator Edward Carnby (Christian Slater), who has just gotten an Abkani artifact in South America, and is chased by a man with abilities. When an old friend of foster house disappears in the middle of the night, he discloses that demons are coming back to Earth. With the support of the anthropologist Aline Cedrac (Tara Reid) and the leader of the Bureau 713, Cmdr. Richard Burke (Stephen Dorff), and his squad, they battle against the evil creatures.<br /><br />In spite of having a charismatic good cast, leaded by Christian Slater, Tara Reid and Stephen Dorff, \"Alone in the Dark\" never works and is a complete mess, without development of characters or plot. The reason may be explained by the \"brilliant\" interview of director Uwe Boll in the Extras of the DVD, where he says that \"videogames are the bestsellers of the younger generations that are not driven by books anymore\". Further, his target audience would be people aged between twelve and twenty-five years old. Sorry, but I find both assertions disrespectful with the younger generations. I have a daughter and a son, and I know many of their friends and they are not that type of stupid stereotype the director says. Further, IMDb provides excellent statistics to show that Mr. Uwe Boll is absolutely wrong. My vote is three.<br /><br />Title (Brazil): \"Alone in the Dark \\x96 O Despertar do Mal\" (\"Alone in the Dark \\x96 The Awakening of the Evil\")',\n",
              " 'This was quite possibly the worst movie I have ever seen. I watched it with a large group of friends and after it was over not a one of us understood the plot. Aside from the lack of plot, the acting was atrocious, the \"special effects\" were not so special, and the writing was absolutely horrible. The movie\\'s only redeeming factor is that it\\'s so incredibly bad that it\\'s quite funny. You can\\'t help but laugh at a zombie being run over while actors are spewing crappy dialogue. I wouldn\\'t recommend this film to anyone looking for a good movie, but it\\'s something that a group of friends can get together and have a good laugh about. It\\'s now a running joke among my friends and I. 1 out of 10.',\n",
              " 'I think that my favorite part of this movie, the one that exemplifies the sheer pointless, stupidity and inanity of the proceedings, comes at the climax of the film. DOCTOR TED NELSON and his unmarried friend the Sheriff have finally cornered the Melting Man on a landing on some stairs in an electrical generating plant. Keep in mind that Nelson has been looking for the MM for nearly the entire film, and that the MM has killed and eaten several people at this point (including his boss), and Nelson is very aware that MM is violently insane and hungry for human flesh and blood.<br /><br />So the Sheriff has his gun pointed at MM, who is, and I give the movie and Rick Baker props for this, the most disgusting and terrifying object in human form that we have ever seen. And he yells a very important question to DOCTOR TED NELSON: \"WHAT DO WE DO NOW?!?!?\" <br /><br />The camera cuts over to DOCTOR TED NELSON, and it\\'s obvious that Ted has no idea what to do next. Apparently Ted was so intent on the problem of FINDING the Melting Man, he never thought to bring along some restraining devices, a lasso, or straitjacket, or a net, or some tranquilizer darts, or maybe a New Age tape by Vangelis to soothe the savage beast.<br /><br />So the sheriff panics and shoots, the Melting Man goes berserk, and hilarity ensues. <br /><br />Maybe this explains why NASA has been screwing around with the Space Shuttle program in sub-lunar space for the last 30 years instead of going back to the Moon or out to Mars like everyone knows they OUGHT to be doing. I dunno.<br /><br />Anyway, that\\'s the kind of lousy, lazy writing and direction that undercuts every aspect of this movie. It\\'s hard to say how good the actors actually are, because the movie has complete contempt for their characters.<br /><br />Two other incredibly painful sequences also ramp up the stupidity of the proceedings: There is a scene featuring the lumpiest old couple in the world trying to steal lemons from a grove, only to be torn apart by the Melting Man. This scene is a nadir in 70s cinema. I can guarantee you\\'ve never watched a more pointless and irritating setup with odder looking people in your entire life. And the Melting Man\\'s assault on the lady who lives in the house where they keep a horse who pees on the walls defies every attempt to process it.(BTW, I think famous film director Jonathon Demme has a walk-on in this scene as the redneck husband who goes in first to check on the house and never comes out again). The only thing that keeps the actress from literally chewing the scenery is that, as I said, their horse has apparently been peeing on it. And we are forced to watch her hysterics for at least two minutes longer than any SANE film director would hold the shot. <br /><br />Burr DeBenning ought to beat the crap out of IMM\\'s director and photographer. I remember him from an old Columbo episode where he looked MUCH better than he does here - no one\\'s idea of a leading man, but solid and unobtrusive. But no one could possibly be as unappealing in real life as his director makes him look here. <br /><br />Everyone else comes off a little better except for the old couple (and shut up, I know they were being played for laughs, but I ain\\'t laughing!) but not much. <br /><br />This definitely falls into the \\'So Bad You Can\\'t Look Away\\' category of cinema disasters. Still, I\\'d watch it again before I\\'d watch a lot of other 70\\'s and 80\\'s abortions ( \"Track of The Moonbeast\" and \"It Lives By Night\" come to mind), and MST\\'s coverage of it is great fun, so if you get a chance, watch the MST version.']"
            ]
          },
          "metadata": {
            "tags": []
          },
          "execution_count": 8
        }
      ]
    },
    {
      "cell_type": "code",
      "metadata": {
        "id": "frYlCiup10yN",
        "colab_type": "code",
        "outputId": "2cbd7cc7-01e4-4a15-ddf7-0a777b87af52",
        "colab": {
          "base_uri": "https://localhost:8080/",
          "height": 33
        }
      },
      "source": [
        "labels[:5]"
      ],
      "execution_count": 9,
      "outputs": [
        {
          "output_type": "execute_result",
          "data": {
            "text/plain": [
              "[0, 0, 0, 0, 0]"
            ]
          },
          "metadata": {
            "tags": []
          },
          "execution_count": 9
        }
      ]
    },
    {
      "cell_type": "code",
      "metadata": {
        "id": "GlG-80GT6E0w",
        "colab_type": "code",
        "outputId": "fa03fd12-6ddc-4635-e1ba-60c574a695cd",
        "colab": {
          "base_uri": "https://localhost:8080/",
          "height": 33
        }
      },
      "source": [
        "(len(texts), len(labels))"
      ],
      "execution_count": 10,
      "outputs": [
        {
          "output_type": "execute_result",
          "data": {
            "text/plain": [
              "(25000, 25000)"
            ]
          },
          "metadata": {
            "tags": []
          },
          "execution_count": 10
        }
      ]
    },
    {
      "cell_type": "markdown",
      "metadata": {
        "id": "mPlVTaND2QKW",
        "colab_type": "text"
      },
      "source": [
        "### Tokenize the data"
      ]
    },
    {
      "cell_type": "markdown",
      "metadata": {
        "id": "LkOrM--02RFT",
        "colab_type": "text"
      },
      "source": [
        "Let's vectorize the texts we collected, and prepare a training and validation split. We will merely be using the concepts we introduced earlier in this section.\n",
        "\n",
        "Because pre-trained word embeddings are meant to be particularly useful on problems where little training data is available (otherwise, task-specific embeddings are likely to outperform them), we will add the following twist: we restrict the training data to its first 200 samples. So we will be learning to classify movie reviews after looking at just 200 examples..."
      ]
    },
    {
      "cell_type": "code",
      "metadata": {
        "id": "Kx_g9FA513a2",
        "colab_type": "code",
        "outputId": "9c214844-e2bd-4dd7-95d0-20dd4135f5fd",
        "colab": {
          "base_uri": "https://localhost:8080/",
          "height": 67
        }
      },
      "source": [
        "maxlen = 100                # We will cut reviews after 100 words\n",
        "training_samples = 200      # We will be training on 200 samples\n",
        "validation_samples = 10000  # We will be validating on 10000 samples\n",
        "max_words = 10000           # We will only consider the top 10,000 words in the dataset\n",
        "\n",
        "tokenizer = Tokenizer(num_words=max_words)\n",
        "tokenizer.fit_on_texts(texts)\n",
        "sequences = tokenizer.texts_to_sequences(texts)\n",
        "\n",
        "word_index = tokenizer.word_index\n",
        "print(f'Found {str(len(word_index))} unique tokens.')\n",
        "\n",
        "data = pad_sequences(sequences, maxlen=maxlen)\n",
        "labels = np.asarray(labels)\n",
        "print(f'Shape of data tensor: {data.shape}')\n",
        "print(f'Shape of label tensor: {labels.shape}')\n",
        "\n",
        "'''\n",
        "Split the data into a training set and a validation set\n",
        "But first, shuffle the data, since we started from data\n",
        "where sample are ordered (all negative first, then all positive).\n",
        "'''\n",
        "indices = np.arange(data.shape[0])\n",
        "np.random.shuffle(indices)\n",
        "data = data[indices]\n",
        "labels = labels[indices]\n",
        "\n",
        "x_train = data[:training_samples]\n",
        "y_train = labels[:training_samples]\n",
        "x_val = data[training_samples: training_samples + validation_samples]\n",
        "y_val = labels[training_samples: training_samples + validation_samples]"
      ],
      "execution_count": 11,
      "outputs": [
        {
          "output_type": "stream",
          "text": [
            "Found 88582 unique tokens.\n",
            "Shape of data tensor: (25000, 100)\n",
            "Shape of label tensor: (25000,)\n"
          ],
          "name": "stdout"
        }
      ]
    },
    {
      "cell_type": "markdown",
      "metadata": {
        "id": "uaktj7dT9MJe",
        "colab_type": "text"
      },
      "source": [
        "## Download the GloVe word embeddings"
      ]
    },
    {
      "cell_type": "markdown",
      "metadata": {
        "id": "QXZCxKVp9N2P",
        "colab_type": "text"
      },
      "source": [
        "Head to https://nlp.stanford.edu/projects/glove/ (where you can learn more about the GloVe algorithm), and download the pre-computed embeddings from 2014 English Wikipedia. It's a 822MB zip file named glove.6B.zip, containing 100-dimensional embedding vectors for 400,000 words (or non-word tokens). Un-zip it."
      ]
    },
    {
      "cell_type": "code",
      "metadata": {
        "id": "CQsDD0_H3Sth",
        "colab_type": "code",
        "outputId": "ca3a638f-71fb-4bb5-bf55-cabf8bc2c1e2",
        "colab": {
          "base_uri": "https://localhost:8080/",
          "height": 67
        }
      },
      "source": [
        "# download IMDB dataset\n",
        "glove_path = keras.utils.get_file('glove.6B.zip', origin='http://nlp.stanford.edu/data/glove.6B.zip', extract=True)\n",
        "glove_path"
      ],
      "execution_count": 12,
      "outputs": [
        {
          "output_type": "stream",
          "text": [
            "Downloading data from http://nlp.stanford.edu/data/glove.6B.zip\n",
            "862183424/862182613 [==============================] - 390s 0us/step\n"
          ],
          "name": "stdout"
        },
        {
          "output_type": "execute_result",
          "data": {
            "text/plain": [
              "'/root/.keras/datasets/glove.6B.zip'"
            ]
          },
          "metadata": {
            "tags": []
          },
          "execution_count": 12
        }
      ]
    },
    {
      "cell_type": "code",
      "metadata": {
        "id": "dNeCFbNe-qIK",
        "colab_type": "code",
        "colab": {}
      },
      "source": [
        "!cp -r /root/.keras/datasets/glove.6B.zip ."
      ],
      "execution_count": 0,
      "outputs": []
    },
    {
      "cell_type": "code",
      "metadata": {
        "id": "z-6iAr6YBHIY",
        "colab_type": "code",
        "colab": {}
      },
      "source": [
        "import zipfile\n",
        "with zipfile.ZipFile('glove.6B.zip', 'r') as zip_ref:\n",
        "    zip_ref.extractall('glove')"
      ],
      "execution_count": 0,
      "outputs": []
    },
    {
      "cell_type": "markdown",
      "metadata": {
        "id": "kxv4PH9aBeS7",
        "colab_type": "text"
      },
      "source": [
        "### Pre-process the embeddings"
      ]
    },
    {
      "cell_type": "markdown",
      "metadata": {
        "id": "V8P6MCAoBfgV",
        "colab_type": "text"
      },
      "source": [
        "Let's parse the un-zipped file (it's a txt file) to build an index mapping words (as strings) to their vector representation (as number vectors)."
      ]
    },
    {
      "cell_type": "code",
      "metadata": {
        "id": "CrOf_yaRBTlX",
        "colab_type": "code",
        "outputId": "19121c8a-a0f7-4edb-db4d-811d13960f00",
        "colab": {
          "base_uri": "https://localhost:8080/",
          "height": 33
        }
      },
      "source": [
        "glove_dir = 'glove/'\n",
        "\n",
        "embeddings_index = {}\n",
        "f = open(os.path.join(glove_dir, 'glove.6B.100d.txt'))\n",
        "for line in f:\n",
        "  values = line.split()\n",
        "  word = values[0]\n",
        "  coefs = np.asarray(values[1:], dtype='float32')\n",
        "  embeddings_index[word] = coefs\n",
        "f.close()\n",
        "\n",
        "print(f'Found {str(len(embeddings_index))} word vectors.')"
      ],
      "execution_count": 15,
      "outputs": [
        {
          "output_type": "stream",
          "text": [
            "Found 400000 word vectors.\n"
          ],
          "name": "stdout"
        }
      ]
    },
    {
      "cell_type": "markdown",
      "metadata": {
        "id": "DjAxJAjmCo0d",
        "colab_type": "text"
      },
      "source": [
        "### Preparing the GloVe word-embeddings matrix"
      ]
    },
    {
      "cell_type": "markdown",
      "metadata": {
        "id": "cUelZzKSCput",
        "colab_type": "text"
      },
      "source": [
        "Now let's build an embedding matrix that we will be able to load into an Embedding layer. It must be a matrix of shape (max_words, \n",
        "embedding_dim), where each entry i contains the embedding_dim-dimensional vector for the word of index i in our reference word index (built during tokenization). Note that the index 0 is not supposed to stand for any word or token -- it's a placeholder."
      ]
    },
    {
      "cell_type": "code",
      "metadata": {
        "id": "eREU0iWMCYjk",
        "colab_type": "code",
        "colab": {}
      },
      "source": [
        "embedding_dim = 100\n",
        "\n",
        "embedding_matrix = np.zeros((max_words, embedding_dim))\n",
        "for word, i in word_index.items():\n",
        "  embedding_vector = embeddings_index.get(word)\n",
        "  if i < max_words:\n",
        "    if embedding_vector is not None:\n",
        "      # Words not found in embedding index will be all-zeros.\n",
        "      embedding_matrix[i] = embedding_vector"
      ],
      "execution_count": 0,
      "outputs": []
    },
    {
      "cell_type": "markdown",
      "metadata": {
        "id": "iFj_FbtaDUjf",
        "colab_type": "text"
      },
      "source": [
        "## Define a model"
      ]
    },
    {
      "cell_type": "markdown",
      "metadata": {
        "id": "wSHX-RpFDXRj",
        "colab_type": "text"
      },
      "source": [
        "You’ll use the same model architecture as before."
      ]
    },
    {
      "cell_type": "code",
      "metadata": {
        "id": "cZUnAJykDTY0",
        "colab_type": "code",
        "colab": {
          "base_uri": "https://localhost:8080/",
          "height": 283
        },
        "outputId": "e10c36fa-e5e2-401a-e0e4-49ddd769487a"
      },
      "source": [
        "model = Sequential()\n",
        "model.add(Embedding(max_words, embedding_dim, input_length=maxlen))\n",
        "model.add(Flatten())\n",
        "model.add(Dense(32, activation='relu'))\n",
        "model.add(Dense(1, activation='sigmoid'))\n",
        "model.summary()"
      ],
      "execution_count": 17,
      "outputs": [
        {
          "output_type": "stream",
          "text": [
            "Model: \"sequential\"\n",
            "_________________________________________________________________\n",
            "Layer (type)                 Output Shape              Param #   \n",
            "=================================================================\n",
            "embedding (Embedding)        (None, 100, 100)          1000000   \n",
            "_________________________________________________________________\n",
            "flatten (Flatten)            (None, 10000)             0         \n",
            "_________________________________________________________________\n",
            "dense (Dense)                (None, 32)                320032    \n",
            "_________________________________________________________________\n",
            "dense_1 (Dense)              (None, 1)                 33        \n",
            "=================================================================\n",
            "Total params: 1,320,065\n",
            "Trainable params: 1,320,065\n",
            "Non-trainable params: 0\n",
            "_________________________________________________________________\n"
          ],
          "name": "stdout"
        }
      ]
    },
    {
      "cell_type": "markdown",
      "metadata": {
        "id": "VJQTP-6AHZxk",
        "colab_type": "text"
      },
      "source": [
        "### Load the GloVe embeddings in the model"
      ]
    },
    {
      "cell_type": "markdown",
      "metadata": {
        "id": "QbmqQubYHdB5",
        "colab_type": "text"
      },
      "source": [
        "The Embedding layer has a single weight matrix: a 2D float matrix where each entry i is the word vector meant to be associated with index i. Simple enough. Let's just load the GloVe matrix we prepared into our Embedding layer, the first layer in our model:"
      ]
    },
    {
      "cell_type": "code",
      "metadata": {
        "id": "pNQUvv7jHiLI",
        "colab_type": "code",
        "colab": {}
      },
      "source": [
        "model.layers[0].set_weights([embedding_matrix])\n",
        "model.layers[0].trainable = False"
      ],
      "execution_count": 0,
      "outputs": []
    },
    {
      "cell_type": "markdown",
      "metadata": {
        "id": "hOKoNjiuIMN2",
        "colab_type": "text"
      },
      "source": [
        "Additionally, we freeze the embedding layer (we set its trainable attribute to False), following the same rationale as what you are already familiar with in the context of pre-trained convnet features: when parts of a model are pre-trained (like our Embedding layer), and parts are randomly initialized (like our classifier), the pre-trained parts should not be updated during training to avoid forgetting what they already know. The large gradient update triggered by the randomly initialized layers would be very disruptive to the already learned features."
      ]
    },
    {
      "cell_type": "markdown",
      "metadata": {
        "id": "BSpD5b89IU9v",
        "colab_type": "text"
      },
      "source": [
        "### Train and evaluate"
      ]
    },
    {
      "cell_type": "markdown",
      "metadata": {
        "id": "L0ovZNsFIXhg",
        "colab_type": "text"
      },
      "source": [
        "Let's compile our model and train it:"
      ]
    },
    {
      "cell_type": "code",
      "metadata": {
        "id": "aByQdYCZIb2Q",
        "colab_type": "code",
        "colab": {
          "base_uri": "https://localhost:8080/",
          "height": 350
        },
        "outputId": "f918065c-116a-4c9e-e1c5-57d8eed68df5"
      },
      "source": [
        "model.compile(optimizer='RMSprop', loss='binary_crossentropy', metrics=['accuracy'])\n",
        "history = model.fit(x_train, y_train, epochs=10, batch_size=32, validation_data=(x_val, y_val))\n",
        "model.save_weights('pre_trained_glove_model.h5')"
      ],
      "execution_count": 19,
      "outputs": [
        {
          "output_type": "stream",
          "text": [
            "Epoch 1/10\n",
            "7/7 [==============================] - 1s 154ms/step - loss: 1.5567 - accuracy: 0.5150 - val_loss: 0.7849 - val_accuracy: 0.5047\n",
            "Epoch 2/10\n",
            "7/7 [==============================] - 1s 128ms/step - loss: 0.6059 - accuracy: 0.6550 - val_loss: 0.8547 - val_accuracy: 0.5047\n",
            "Epoch 3/10\n",
            "7/7 [==============================] - 1s 136ms/step - loss: 0.4956 - accuracy: 0.7750 - val_loss: 0.6833 - val_accuracy: 0.5698\n",
            "Epoch 4/10\n",
            "7/7 [==============================] - 1s 127ms/step - loss: 0.2952 - accuracy: 0.9250 - val_loss: 0.8442 - val_accuracy: 0.5221\n",
            "Epoch 5/10\n",
            "7/7 [==============================] - 1s 129ms/step - loss: 0.2802 - accuracy: 0.8950 - val_loss: 1.1398 - val_accuracy: 0.4988\n",
            "Epoch 6/10\n",
            "7/7 [==============================] - 1s 130ms/step - loss: 0.2606 - accuracy: 0.8900 - val_loss: 0.7497 - val_accuracy: 0.5543\n",
            "Epoch 7/10\n",
            "7/7 [==============================] - 1s 128ms/step - loss: 0.1115 - accuracy: 0.9950 - val_loss: 0.7532 - val_accuracy: 0.5735\n",
            "Epoch 8/10\n",
            "7/7 [==============================] - 1s 129ms/step - loss: 0.0574 - accuracy: 1.0000 - val_loss: 2.0511 - val_accuracy: 0.4962\n",
            "Epoch 9/10\n",
            "7/7 [==============================] - 1s 128ms/step - loss: 0.3529 - accuracy: 0.8450 - val_loss: 0.7622 - val_accuracy: 0.5801\n",
            "Epoch 10/10\n",
            "7/7 [==============================] - 1s 126ms/step - loss: 0.0303 - accuracy: 1.0000 - val_loss: 0.8911 - val_accuracy: 0.5550\n"
          ],
          "name": "stdout"
        }
      ]
    },
    {
      "cell_type": "markdown",
      "metadata": {
        "id": "3SiVgDlMJm_T",
        "colab_type": "text"
      },
      "source": [
        "Let's plot its performance over time:"
      ]
    },
    {
      "cell_type": "code",
      "metadata": {
        "id": "UV30jCrUJj-E",
        "colab_type": "code",
        "colab": {
          "base_uri": "https://localhost:8080/",
          "height": 545
        },
        "outputId": "17ae68b9-ecf6-4ed6-8d67-c08b8760326f"
      },
      "source": [
        "acc = history.history['accuracy']\n",
        "val_acc = history.history['val_accuracy']\n",
        "loss = history.history['loss']\n",
        "val_loss = history.history['val_loss']\n",
        "\n",
        "epochs = range(1, len(acc) + 1)\n",
        "\n",
        "plt.plot(epochs, acc, 'bo', label='Training acc')\n",
        "plt.plot(epochs, val_acc, 'b', label='Validation acc')\n",
        "plt.title('Training and validation accuracy')\n",
        "plt.legend()\n",
        "\n",
        "plt.figure()\n",
        "\n",
        "plt.plot(epochs, loss, 'bo', label='Training loss')\n",
        "plt.plot(epochs, val_loss, 'b', label='Validation loss')\n",
        "plt.title('Training and validation loss')\n",
        "plt.legend()\n",
        "\n",
        "plt.show()"
      ],
      "execution_count": 20,
      "outputs": [
        {
          "output_type": "display_data",
          "data": {
            "image/png": "[encoded data removed]",
            "text/plain": [
              "<Figure size 432x288 with 1 Axes>"
            ]
          },
          "metadata": {
            "tags": []
          }
        },
        {
          "output_type": "display_data",
          "data": {
            "image/png": "[encoded data removed]",
            "text/plain": [
              "<Figure size 432x288 with 1 Axes>"
            ]
          },
          "metadata": {
            "tags": []
          }
        }
      ]
    },
    {
      "cell_type": "markdown",
      "metadata": {
        "id": "x9nQvcDOKF5p",
        "colab_type": "text"
      },
      "source": [
        "The model quickly starts overfitting, unsurprisingly given the small number of training samples. Validation accuracy has high variance for the same reason, but seems to reach high 50s.\n",
        "\n",
        "Note that your mileage may vary: since we have so few training samples, performance is heavily dependent on which exact 200 samples we picked, and we picked them at random. If it worked really poorly for you, try picking a different random set of 200 samples, just for the sake of the exercise (in real life you don't get to pick your training data).\n",
        "\n",
        "We can also try to train the same model without loading the pre-trained word embeddings and without freezing the embedding layer. In that case, we would be learning a task-specific embedding of our input tokens, which is generally more powerful than pre-trained word embeddings when lots of data is available. However, in our case, we have only 200 training samples. Let's try it:"
      ]
    },
    {
      "cell_type": "code",
      "metadata": {
        "id": "dC8AoHfGJwTJ",
        "colab_type": "code",
        "colab": {
          "base_uri": "https://localhost:8080/",
          "height": 617
        },
        "outputId": "78438472-ca1d-4869-998e-96eac14b8bc0"
      },
      "source": [
        "model = Sequential()\n",
        "model.add(Embedding(max_words, embedding_dim, input_length=maxlen))\n",
        "model.add(Flatten())\n",
        "model.add(Dense(32, activation='relu'))\n",
        "model.add(Dense(1, activation='sigmoid'))\n",
        "model.summary()\n",
        "\n",
        "model.compile(optimizer='RMSprop', loss='binary_crossentropy', metrics=['accuracy'])\n",
        "history = model.fit(x_train, y_train, epochs=10, batch_size=32, validation_data=(x_val, y_val))\n",
        "model.save_weights('pre_trained_glove_model.h5')"
      ],
      "execution_count": 22,
      "outputs": [
        {
          "output_type": "stream",
          "text": [
            "Model: \"sequential_2\"\n",
            "_________________________________________________________________\n",
            "Layer (type)                 Output Shape              Param #   \n",
            "=================================================================\n",
            "embedding_2 (Embedding)      (None, 100, 100)          1000000   \n",
            "_________________________________________________________________\n",
            "flatten_2 (Flatten)          (None, 10000)             0         \n",
            "_________________________________________________________________\n",
            "dense_4 (Dense)              (None, 32)                320032    \n",
            "_________________________________________________________________\n",
            "dense_5 (Dense)              (None, 1)                 33        \n",
            "=================================================================\n",
            "Total params: 1,320,065\n",
            "Trainable params: 1,320,065\n",
            "Non-trainable params: 0\n",
            "_________________________________________________________________\n",
            "Epoch 1/10\n",
            "7/7 [==============================] - 1s 148ms/step - loss: 0.7016 - accuracy: 0.4500 - val_loss: 0.6926 - val_accuracy: 0.5105\n",
            "Epoch 2/10\n",
            "7/7 [==============================] - 1s 136ms/step - loss: 0.5123 - accuracy: 0.9850 - val_loss: 0.6940 - val_accuracy: 0.5117\n",
            "Epoch 3/10\n",
            "7/7 [==============================] - 1s 133ms/step - loss: 0.3083 - accuracy: 0.9850 - val_loss: 0.6967 - val_accuracy: 0.5217\n",
            "Epoch 4/10\n",
            "7/7 [==============================] - 1s 137ms/step - loss: 0.1329 - accuracy: 1.0000 - val_loss: 0.7086 - val_accuracy: 0.5188\n",
            "Epoch 5/10\n",
            "7/7 [==============================] - 1s 133ms/step - loss: 0.0604 - accuracy: 1.0000 - val_loss: 0.7047 - val_accuracy: 0.5198\n",
            "Epoch 6/10\n",
            "7/7 [==============================] - 1s 166ms/step - loss: 0.0308 - accuracy: 1.0000 - val_loss: 0.7249 - val_accuracy: 0.5200\n",
            "Epoch 7/10\n",
            "7/7 [==============================] - 1s 136ms/step - loss: 0.0173 - accuracy: 1.0000 - val_loss: 0.7153 - val_accuracy: 0.5238\n",
            "Epoch 8/10\n",
            "7/7 [==============================] - 1s 134ms/step - loss: 0.0098 - accuracy: 1.0000 - val_loss: 0.7336 - val_accuracy: 0.5217\n",
            "Epoch 9/10\n",
            "7/7 [==============================] - 1s 134ms/step - loss: 0.0058 - accuracy: 1.0000 - val_loss: 0.7325 - val_accuracy: 0.5229\n",
            "Epoch 10/10\n",
            "7/7 [==============================] - 1s 133ms/step - loss: 0.0035 - accuracy: 1.0000 - val_loss: 0.7339 - val_accuracy: 0.5231\n"
          ],
          "name": "stdout"
        }
      ]
    },
    {
      "cell_type": "code",
      "metadata": {
        "id": "8NIJA23sKSyi",
        "colab_type": "code",
        "colab": {
          "base_uri": "https://localhost:8080/",
          "height": 545
        },
        "outputId": "520821ba-1edc-455c-da2b-3e1a872c0ace"
      },
      "source": [
        "acc = history.history['accuracy']\n",
        "val_acc = history.history['val_accuracy']\n",
        "loss = history.history['loss']\n",
        "val_loss = history.history['val_loss']\n",
        "\n",
        "epochs = range(1, len(acc) + 1)\n",
        "\n",
        "plt.plot(epochs, acc, 'bo', label='Training acc')\n",
        "plt.plot(epochs, val_acc, 'b', label='Validation acc')\n",
        "plt.title('Training and validation accuracy')\n",
        "plt.legend()\n",
        "\n",
        "plt.figure()\n",
        "\n",
        "plt.plot(epochs, loss, 'bo', label='Training loss')\n",
        "plt.plot(epochs, val_loss, 'b', label='Validation loss')\n",
        "plt.title('Training and validation loss')\n",
        "plt.legend()\n",
        "\n",
        "plt.show()"
      ],
      "execution_count": 23,
      "outputs": [
        {
          "output_type": "display_data",
          "data": {
            "image/png": "[encoded data removed]",
            "text/plain": [
              "<Figure size 432x288 with 1 Axes>"
            ]
          },
          "metadata": {
            "tags": []
          }
        },
        {
          "output_type": "display_data",
          "data": {
            "image/png": "[encoded data removed]",
            "text/plain": [
              "<Figure size 432x288 with 1 Axes>"
            ]
          },
          "metadata": {
            "tags": []
          }
        }
      ]
    },
    {
      "cell_type": "markdown",
      "metadata": {
        "id": "5AtgcZjXKsS6",
        "colab_type": "text"
      },
      "source": [
        "Validation accuracy stalls in the low 50s. So in our case, pre-trained word embeddings does outperform jointly learned embeddings. If you increase the number of training samples, this will quickly stop being the case -- try it as an exercise.\n",
        "\n",
        "Finally, let's evaluate the model on the test data. First, we will need to tokenize the test data:"
      ]
    },
    {
      "cell_type": "code",
      "metadata": {
        "id": "Khn2KIijKha3",
        "colab_type": "code",
        "colab": {}
      },
      "source": [
        "test_dir = os.path.join(imdb_dir, 'test')\n",
        "\n",
        "labels = []\n",
        "texts = []\n",
        "\n",
        "for label_type in ['neg', 'pos']:\n",
        "    dir_name = os.path.join(test_dir, label_type)\n",
        "    for fname in sorted(os.listdir(dir_name)):\n",
        "        if fname[-4:] == '.txt':\n",
        "            f = open(os.path.join(dir_name, fname))\n",
        "            texts.append(f.read())\n",
        "            f.close()\n",
        "            if label_type == 'neg':\n",
        "                labels.append(0)\n",
        "            else:\n",
        "                labels.append(1)\n",
        "\n",
        "sequences = tokenizer.texts_to_sequences(texts)\n",
        "x_test = pad_sequences(sequences, maxlen=maxlen)\n",
        "y_test = np.asarray(labels)"
      ],
      "execution_count": 0,
      "outputs": []
    },
    {
      "cell_type": "markdown",
      "metadata": {
        "id": "4GjNFMopK868",
        "colab_type": "text"
      },
      "source": [
        "And let's load and evaluate the first model:"
      ]
    },
    {
      "cell_type": "code",
      "metadata": {
        "id": "xBEYEeezK3NI",
        "colab_type": "code",
        "colab": {
          "base_uri": "https://localhost:8080/",
          "height": 50
        },
        "outputId": "bc429458-fcfc-4fd9-f2e0-e456dea118d9"
      },
      "source": [
        "model.load_weights('pre_trained_glove_model.h5')\n",
        "model.evaluate(x_test, y_test)"
      ],
      "execution_count": 25,
      "outputs": [
        {
          "output_type": "stream",
          "text": [
            "782/782 [==============================] - 2s 3ms/step - loss: 0.7289 - accuracy: 0.5320\n"
          ],
          "name": "stdout"
        },
        {
          "output_type": "execute_result",
          "data": {
            "text/plain": [
              "[0.728891909122467, 0.5320000052452087]"
            ]
          },
          "metadata": {
            "tags": []
          },
          "execution_count": 25
        }
      ]
    },
    {
      "cell_type": "markdown",
      "metadata": {
        "id": "knzMeGg4LN47",
        "colab_type": "text"
      },
      "source": [
        "We get an appalling test accuracy of 54%. Working with just a handful of training samples is hard!"
      ]
    }
  ]
}