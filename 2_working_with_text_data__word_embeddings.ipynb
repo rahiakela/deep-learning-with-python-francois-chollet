{
  "nbformat": 4,
  "nbformat_minor": 0,
  "metadata": {
    "colab": {
      "name": "2_working_with_text_data__word_embeddings.ipynb",
      "provenance": [],
      "toc_visible": true,
      "include_colab_link": true
    },
    "kernelspec": {
      "name": "python3",
      "display_name": "Python 3"
    },
    "accelerator": "GPU"
  },
  "cells": [
    {
      "cell_type": "markdown",
      "metadata": {
        "id": "view-in-github",
        "colab_type": "text"
      },
      "source": [
        "<a href=\"https://colab.research.google.com/github/rahiakela/deep-learning-with-python-francois-chollet/blob/6-deep-learning-for-text-and-sequences/2_working_with_text_data__word_embeddings.ipynb\" target=\"_parent\"><img src=\"https://colab.research.google.com/assets/colab-badge.svg\" alt=\"Open In Colab\"/></a>"
      ]
    },
    {
      "cell_type": "markdown",
      "metadata": {
        "id": "qCLcK4vPkXXT",
        "colab_type": "text"
      },
      "source": [
        "# Working with text data: word embeddings"
      ]
    },
    {
      "cell_type": "markdown",
      "metadata": {
        "id": "IhQlXAUmkwsv",
        "colab_type": "text"
      },
      "source": [
        "Text is one of the most widespread forms of sequence data. It can be understood as either a sequence of characters or a sequence of words, but it’s most common to work at the level of words.\n",
        "\n",
        "The deep-learning sequence-processing models can use text to produce a basic form of natural-language understanding, sufficient for applications including:\n",
        "\n",
        "* document classification, \n",
        "* sentiment analysis, \n",
        "* author identification, \n",
        "* and even question-answering (QA)\n",
        "\n",
        "Of course, keep in mind that none of these deeplearning models truly understand text in a human sense; rather, these models can map the statistical structure of written language, which is sufficient to solve many simple textual tasks. \n",
        "\n",
        "Deep learning for natural-language processing is pattern recognition\n",
        "applied to words, sentences, and paragraphs, in much the same way that computer vision is pattern recognition applied to pixels.\n",
        "\n",
        "Like all other neural networks, deep-learning models don’t take as input raw text: they only work with numeric tensors. **Vectorizing text** is the process of transforming text into numeric tensors. \n",
        "\n",
        "This can be done in multiple ways:\n",
        "* Segment text into words, and transform each word into a vector.\n",
        "* Segment text into characters, and transform each character into a vector.\n",
        "* Extract n-grams of words or characters, and transform each n-gram into a vector.N-grams are overlapping groups of multiple consecutive words or characters.\n",
        "\n",
        "Collectively, the different units into which you can break down text (words, characters, or n-grams) are called tokens, and breaking text into such tokens is called tokenization. All text-vectorization processes consist of applying some tokenization scheme and then associating numeric vectors with the generated tokens. These vectors, packed into sequence tensors, are fed into deep neural networks. \n",
        "\n",
        "There are multiple ways to associate a vector with a token. I’ll present two major ones: \n",
        "\n",
        "* one-hot encoding of tokens, \n",
        "* and token embedding (typically used exclusively for words, and called\n",
        "word embedding).\n",
        "\n",
        "<img src='https://github.com/rahiakela/img-repo/blob/master/deep-learning-with-python/text-to-tokens-to-vectors.png?raw=1' width='800'/>"
      ]
    },
    {
      "cell_type": "markdown",
      "metadata": {
        "id": "UX6W7ry3oZ0i",
        "colab_type": "text"
      },
      "source": [
        "## Setup"
      ]
    },
    {
      "cell_type": "code",
      "metadata": {
        "id": "4-nh6BM2ocDO",
        "colab_type": "code",
        "colab": {}
      },
      "source": [
        "from __future__ import absolute_import, division, print_function, unicode_literals\n",
        "\n",
        "try:\n",
        "  # %tensorflow_version only exists in Colab.\n",
        "  %tensorflow_version 2.x\n",
        "except Exception:\n",
        "  pass\n",
        "import tensorflow as tf\n",
        "from tensorflow import keras\n",
        "\n",
        "from tensorflow.keras.models import Sequential\n",
        "from tensorflow.keras.layers import Flatten, Dense, Embedding\n",
        "\n",
        "from tensorflow.keras.datasets import imdb\n",
        "\n",
        "from tensorflow.keras.preprocessing.text import Tokenizer\n",
        "from tensorflow.keras.preprocessing.sequence import pad_sequences\n",
        "\n",
        "import numpy as np\n",
        "import pandas as pd\n",
        "\n",
        "import string\n",
        "import os\n",
        "\n",
        "import matplotlib.pyplot as plt"
      ],
      "execution_count": 0,
      "outputs": []
    },
    {
      "cell_type": "markdown",
      "metadata": {
        "id": "Trg_rlvaogpI",
        "colab_type": "text"
      },
      "source": [
        "## Using word embeddings"
      ]
    },
    {
      "cell_type": "markdown",
      "metadata": {
        "id": "jAm_0dVAoi_m",
        "colab_type": "text"
      },
      "source": [
        "Another popular and powerful way to associate a vector with a word is the use of dense word vectors, also called word embeddings. Whereas the vectors obtained through one-hot encoding are binary, sparse (mostly made of zeros), and very high-dimensional (same dimensionality as the number of words in the vocabulary), word embeddings are lowdimensional floating-point vectors (that is, dense vectors, as opposed to sparse vectors).\n",
        "\n",
        "Unlike word vectors obtained via one-hot encoding, word embeddings are learned from data. It is common to see word embeddings that are 256-dimensional, 512-dimensional, or 1024-dimensional when dealing with very large vocabularies. On the other hand, one-hot encoding words generally leads to vectors that are 20,000-dimensional or higher (capturing a vocabulary of 20,000 token in this case). So, word embeddings pack more information into far fewer dimensions.\n",
        "\n",
        "<img src='https://s3.amazonaws.com/book.keras.io/img/ch6/word_embeddings.png?raw=1' width='800'/>\n",
        "\n",
        "There are two ways to obtain word embeddings:\n",
        "\n",
        "* Learn word embeddings jointly with the main task you care about (e.g. document classification or sentiment prediction). In this setup, you would start with random word vectors, then learn your word vectors in the same way that you learn the weights of a neural network.\n",
        "* Load into your model word embeddings that were pre-computed using a different machine learning task than the one you are trying to solve. These are called \"pre-trained word embeddings\".\n"
      ]
    },
    {
      "cell_type": "markdown",
      "metadata": {
        "id": "eiQA-DoAlC6R",
        "colab_type": "text"
      },
      "source": [
        "### Learning word embeddings with the Embedding layer"
      ]
    },
    {
      "cell_type": "markdown",
      "metadata": {
        "id": "OLL705CqlGoc",
        "colab_type": "text"
      },
      "source": [
        "The simplest way to associate a dense vector to a word would be to pick the vector at random. The problem with this approach is that the resulting embedding space would have no structure: for instance, the words \"accurate\" and \"exact\" may end up with completely different embeddings, even though they are interchangeable in most sentences. It would be very difficult for a deep neural network to make sense of such a noisy, unstructured embedding space.\n",
        "\n",
        "To get a bit more abstract: the geometric relationships between word vectors should reflect the semantic relationships between these words. Word embeddings are meant to map human language into a geometric space. For instance, in a reasonable embedding space, we would expect synonyms to be embedded into similar word vectors, and in general we would expect the geometric distance (e.g. L2 distance) between any two word vectors to relate to the semantic distance of the associated words (words meaning very different things would be embedded to points far away from each other, while related words would be closer). Even beyond mere distance, we may want specific directions in the embedding space to be meaningful.\n",
        "\n",
        "It is thus reasonable to learn a new embedding space with every new task. Thankfully, backpropagation makes this really easy, and Keras makes it even easier. It's just about learning the weights of a layer: the Embedding layer.\n",
        "\n",
        "```python\n",
        "from keras.layers import Embedding\n",
        "\n",
        "# The Embedding layer takes at least two arguments:\n",
        "# the number of possible tokens, here 1000 (1 + maximum word index),\n",
        "# and the dimensionality of the embeddings, here 64.\n",
        "embedding_layer = Embedding(1000, 64)\n",
        "```\n",
        "\n",
        "The Embedding layer is best understood as a dictionary mapping integer indices (which stand for specific words) to dense vectors. It takes as input integers, it looks up these integers into an internal dictionary, and it returns the associated vectors. It's effectively a dictionary lookup.\n",
        "\n",
        "```python\n",
        "Word index >> Embedding layer >> Corresponding word vector\n",
        "```\n",
        "\n",
        "The Embedding layer takes as input a 2D tensor of integers, of shape (samples, sequence_length), where each entry is a sequence of integers. It can embed sequences of variable lengths, so for instance we could feed into our embedding layer above batches that could have shapes (32, 10) (batch of 32 sequences of length 10) or (64, 15) (batch of 64 sequences of length 15). All sequences in a batch must have the same length, though (since we need to pack them into a single tensor), so sequences that are shorter than others should be padded with zeros, and sequences that are longer should be truncated.\n",
        "\n",
        "This layer returns a 3D floating point tensor, of shape (samples, sequence_length, embedding_dimensionality). Such a 3D tensor can then be processed by a RNN layer or a 1D convolution layer.\n",
        "\n",
        "When you instantiate an Embedding layer, its weights (its internal dictionary of token vectors) are initially random, just like with any other layer. During training, these word vectors will be gradually adjusted via backpropagation, structuring the space into something that the downstream model can exploit. Once fully trained, your embedding space will show a lot of structure -- a kind of structure specialized for the specific problem you were training your model for.\n",
        "\n",
        "Let's apply this idea to the IMDB movie review sentiment prediction task that you are already familiar with. Let's quickly prepare the data. We will restrict the movie reviews to the top 10,000 most common words (like we did the first time we worked with this dataset), and cut the reviews after only 20 words. Our network will simply learn 8-dimensional embeddings for each of the 10,000 words, turn the input integer sequences (2D integer tensor) into embedded sequences (3D float tensor), flatten the tensor to 2D, and train a single Dense layer on top for classification.\n"
      ]
    },
    {
      "cell_type": "code",
      "metadata": {
        "id": "jQywk8Gmo1GT",
        "colab_type": "code",
        "outputId": "5fe285a6-e77f-46a2-ac14-cc4d1bd89376",
        "colab": {
          "base_uri": "https://localhost:8080/",
          "height": 50
        }
      },
      "source": [
        "# Number of words to consider as features\n",
        "max_features = 10000\n",
        "\n",
        "# Cut texts after this number of words (among top max_features most common words)\n",
        "maxlen = 20\n",
        "\n",
        "# Load the data as lists of integers.\n",
        "(x_train, y_train), (x_test, y_test) = imdb.load_data(num_words=max_features)\n",
        "\n",
        "# turns our lists of integers into a 2D integer tensor of shape `(samples, maxlen)`\n",
        "x_train = pad_sequences(x_train, maxlen=maxlen)\n",
        "x_test = pad_sequences(x_test, maxlen=maxlen)"
      ],
      "execution_count": 2,
      "outputs": [
        {
          "output_type": "stream",
          "text": [
            "Downloading data from https://storage.googleapis.com/tensorflow/tf-keras-datasets/imdb.npz\n",
            "17465344/17464789 [==============================] - 1s 0us/step\n"
          ],
          "name": "stdout"
        }
      ]
    },
    {
      "cell_type": "code",
      "metadata": {
        "id": "ItjbXps3pMgf",
        "colab_type": "code",
        "outputId": "c4ff102c-17fb-4a45-8923-6a614adceab7",
        "colab": {
          "base_uri": "https://localhost:8080/",
          "height": 250
        }
      },
      "source": [
        "model = Sequential()\n",
        "\n",
        "# specify the maximum input length to our Embedding layer so we can later flatten the embedded inputs\n",
        "model.add(Embedding(10000, 8, input_length=maxlen))\n",
        "# After the Embedding layer, our activations have shape `(samples, maxlen, 8)`.\n",
        "\n",
        "# flatten the 3D tensor of embeddings into a 2D tensor of shape `(samples, maxlen * 8)`\n",
        "model.add(Flatten())\n",
        "\n",
        "# We add the classifier on top\n",
        "model.add(Dense(1, activation='sigmoid'))\n",
        "model.compile(optimizer='rmsprop', loss='binary_crossentropy', metrics=['accuracy'])\n",
        "model.summary()"
      ],
      "execution_count": 3,
      "outputs": [
        {
          "output_type": "stream",
          "text": [
            "Model: \"sequential\"\n",
            "_________________________________________________________________\n",
            "Layer (type)                 Output Shape              Param #   \n",
            "=================================================================\n",
            "embedding (Embedding)        (None, 20, 8)             80000     \n",
            "_________________________________________________________________\n",
            "flatten (Flatten)            (None, 160)               0         \n",
            "_________________________________________________________________\n",
            "dense (Dense)                (None, 1)                 161       \n",
            "=================================================================\n",
            "Total params: 80,161\n",
            "Trainable params: 80,161\n",
            "Non-trainable params: 0\n",
            "_________________________________________________________________\n"
          ],
          "name": "stdout"
        }
      ]
    },
    {
      "cell_type": "code",
      "metadata": {
        "id": "JIwcfo3ytBNL",
        "colab_type": "code",
        "outputId": "2af3b393-3895-49f0-cbb9-7516fc65944d",
        "colab": {
          "base_uri": "https://localhost:8080/",
          "height": 350
        }
      },
      "source": [
        "history = model.fit(x_train, y_train, epochs=10, batch_size=32, validation_split=0.2)"
      ],
      "execution_count": 4,
      "outputs": [
        {
          "output_type": "stream",
          "text": [
            "Epoch 1/10\n",
            "625/625 [==============================] - 2s 3ms/step - loss: 0.6701 - accuracy: 0.6220 - val_loss: 0.6212 - val_accuracy: 0.7000\n",
            "Epoch 2/10\n",
            "625/625 [==============================] - 2s 3ms/step - loss: 0.5425 - accuracy: 0.7494 - val_loss: 0.5268 - val_accuracy: 0.7392\n",
            "Epoch 3/10\n",
            "625/625 [==============================] - 2s 3ms/step - loss: 0.4615 - accuracy: 0.7857 - val_loss: 0.5006 - val_accuracy: 0.7512\n",
            "Epoch 4/10\n",
            "625/625 [==============================] - 2s 3ms/step - loss: 0.4229 - accuracy: 0.8067 - val_loss: 0.4936 - val_accuracy: 0.7578\n",
            "Epoch 5/10\n",
            "625/625 [==============================] - 2s 3ms/step - loss: 0.3973 - accuracy: 0.8236 - val_loss: 0.4945 - val_accuracy: 0.7602\n",
            "Epoch 6/10\n",
            "625/625 [==============================] - 2s 3ms/step - loss: 0.3769 - accuracy: 0.8340 - val_loss: 0.4958 - val_accuracy: 0.7636\n",
            "Epoch 7/10\n",
            "625/625 [==============================] - 2s 3ms/step - loss: 0.3573 - accuracy: 0.8473 - val_loss: 0.5002 - val_accuracy: 0.7608\n",
            "Epoch 8/10\n",
            "625/625 [==============================] - 2s 3ms/step - loss: 0.3381 - accuracy: 0.8586 - val_loss: 0.5050 - val_accuracy: 0.7584\n",
            "Epoch 9/10\n",
            "625/625 [==============================] - 2s 3ms/step - loss: 0.3192 - accuracy: 0.8684 - val_loss: 0.5111 - val_accuracy: 0.7528\n",
            "Epoch 10/10\n",
            "625/625 [==============================] - 2s 3ms/step - loss: 0.3011 - accuracy: 0.8777 - val_loss: 0.5178 - val_accuracy: 0.7508\n"
          ],
          "name": "stdout"
        }
      ]
    },
    {
      "cell_type": "markdown",
      "metadata": {
        "id": "TiKZaDi_rgKS",
        "colab_type": "text"
      },
      "source": [
        "We get to a validation accuracy of ~76%, which is pretty good considering that we only look at the first 20 words in every review. But note that merely flattening the embedded sequences and training a single Dense layer on top leads to a model that treats each word in the input sequence separately, without considering inter-word relationships and structure sentence (e.g. it would likely treat both \"this movie is shit\" and \"this movie is the shit\" as being negative \"reviews\"). It would be much better to add recurrent layers or 1D convolutional layers on top of the embedded sequences to learn features that take into account each sequence as a whole. That's what we will focus on in the next few sections."
      ]
    },
    {
      "cell_type": "markdown",
      "metadata": {
        "id": "O8LjZEp0thyB",
        "colab_type": "text"
      },
      "source": [
        "### Using pre-trained word embeddings"
      ]
    },
    {
      "cell_type": "markdown",
      "metadata": {
        "id": "RE7Hf7SwtES_",
        "colab_type": "text"
      },
      "source": [
        "Sometimes, you have so little training data available that could never use your data alone to learn an appropriate task-specific embedding of your vocabulary. What to do then?\n",
        "\n",
        "Instead of learning word embeddings jointly with the problem you want to solve, you could be loading embedding vectors from a pre-computed embedding space known to be highly structured and to exhibit useful properties -- that captures generic aspects of language structure. \n",
        "\n",
        "The rationale behind using pre-trained word embeddings in natural language processing is very much the same as for using pre-trained convnets in image classification: we don't have enough data available to learn truly powerful features on our own, but we expect the features that we need to be fairly generic, i.e. common visual features or semantic features. In this case it makes sense to reuse features learned on a different problem.\n",
        "\n",
        "Such word embeddings are generally computed using word occurrence statistics (observations about what words co-occur in sentences or documents), using a variety of techniques, some involving neural networks, others not. The idea of a dense, low-dimensional embedding space for words, computed in an unsupervised way, was initially explored by Bengio et al. in the early 2000s, but it only started really taking off in research and industry applications after the release of one of the most famous and successful word embedding scheme: the Word2Vec algorithm, developed by Mikolov at Google in 2013. Word2Vec dimensions capture specific semantic properties, e.g. gender.\n",
        "\n",
        "There are various pre-computed databases of word embeddings that can download and start using in a Keras Embedding layer. \n",
        "\n",
        "* Word2Vec is one of them. \n",
        "* Another popular one is called \"GloVe\", developed by Stanford researchers in 2014. It stands for \"Global Vectors for Word Representation\", and it is an embedding technique based on factorizing a matrix of word co-occurrence statistics. \n",
        "\n",
        "Let's take a look at how you can get started using GloVe embeddings in a Keras model. The same method will of course be valid for Word2Vec embeddings or any other word embedding database that you can download. We will also use this example to refresh the text tokenization techniques we introduced a few paragraphs ago: we will start from raw text, and work our way up."
      ]
    },
    {
      "cell_type": "markdown",
      "metadata": {
        "id": "t305iDvotfZ_",
        "colab_type": "text"
      },
      "source": [
        "## Putting it all together: from raw text to word embeddings"
      ]
    },
    {
      "cell_type": "markdown",
      "metadata": {
        "id": "sIJsyT-gthiS",
        "colab_type": "text"
      },
      "source": [
        "You’ll use a model similar to the one we just went over: \n",
        "\n",
        "* embedding sentences in sequences of vectors, \n",
        "* flattening them, \n",
        "* and training a Dense layer on top. \n",
        "\n",
        "But you’ll do so using pretrained word embeddings; and instead of using the pretokenized IMDB data packaged in Keras, you’ll start from scratch by downloading the original text data."
      ]
    },
    {
      "cell_type": "markdown",
      "metadata": {
        "id": "RY_pLK6r_jtQ",
        "colab_type": "text"
      },
      "source": [
        "### Download the IMDB data as raw text"
      ]
    },
    {
      "cell_type": "code",
      "metadata": {
        "id": "oofys_Mi66yS",
        "colab_type": "code",
        "colab": {
          "base_uri": "https://localhost:8080/",
          "height": 33
        },
        "outputId": "4ed5e9a5-e0d2-4121-da99-0326abcf1933"
      },
      "source": [
        "# download IMDB dataset\n",
        "ds_path = keras.utils.get_file('aclImdb_v1.tar.gz', origin='http://ai.stanford.edu/~amaas/data/sentiment/aclImdb_v1.tar.gz', extract=True)\n",
        "ds_path"
      ],
      "execution_count": 31,
      "outputs": [
        {
          "output_type": "execute_result",
          "data": {
            "text/plain": [
              "'/root/.keras/datasets/aclImdb_v1.tar.gz'"
            ]
          },
          "metadata": {
            "tags": []
          },
          "execution_count": 31
        }
      ]
    },
    {
      "cell_type": "code",
      "metadata": {
        "id": "zr7DJM6n7StN",
        "colab_type": "code",
        "colab": {}
      },
      "source": [
        "!cp /root/.keras/datasets/aclImdb_v1.tar.gz ."
      ],
      "execution_count": 0,
      "outputs": []
    },
    {
      "cell_type": "code",
      "metadata": {
        "id": "JEJBPv-wxeFF",
        "colab_type": "code",
        "colab": {}
      },
      "source": [
        "import tarfile\n",
        "\n",
        "tar = tarfile.open('aclImdb_v1.tar.gz', \"r:gz\")\n",
        "tar.extractall()\n",
        "tar.close()"
      ],
      "execution_count": 0,
      "outputs": []
    },
    {
      "cell_type": "code",
      "metadata": {
        "id": "yNtan1i6tRTW",
        "colab_type": "code",
        "colab": {}
      },
      "source": [
        "imdb_dir = 'aclImdb/'\n",
        "train_dir = os.path.join(imdb_dir, 'train')\n",
        "\n",
        "labels = []\n",
        "texts = []\n",
        "\n",
        "for label_type in ['neg', 'pos']:\n",
        "  dir_name = os.path.join(train_dir, label_type)\n",
        "  for fname in os.listdir(dir_name):\n",
        "    f = open(os.path.join(dir_name, fname))\n",
        "    texts.append(f.read())\n",
        "    f.close()\n",
        "    if label_type == 'neg':\n",
        "      labels.append(0)\n",
        "    else:\n",
        "      labels.append(1)"
      ],
      "execution_count": 0,
      "outputs": []
    },
    {
      "cell_type": "code",
      "metadata": {
        "id": "PmNyQ2j9w0sl",
        "colab_type": "code",
        "colab": {
          "base_uri": "https://localhost:8080/",
          "height": 120
        },
        "outputId": "d617a36b-8cee-4ee9-ad93-5e7c80480b2d"
      },
      "source": [
        "texts[:5]"
      ],
      "execution_count": 37,
      "outputs": [
        {
          "output_type": "execute_result",
          "data": {
            "text/plain": [
              "[\"The movie itself is so pathetic. It portrayed deaf people as cynical toward hearing people. True, some deaf people are wary of dating hearing people, but they are not necessarily angry like of Marlee Matlin's character was throughout the story. Deaf people do not go to the bar and dance the way Matlin did. All in all, the movie itself is more boring than pathetic. It is so boring that I'd like to believe that it is an insomnia-cured movie. If I have a problem sleeping, I can simply pop in Children of a Lesser God and watch. It will put me to sleep.<br /><br />Keep in mind, this is a deaf guy talking.\",\n",
              " \"I have always admired Susan Sarandon for her integrity and honesty in her private life as well as her talents as an actor. I therefor found it strange that she would appear in a film that so distorted that facts. Her character's rescue from the South Pole was done by a Canadian charter company from Edmonton, Alberta flying a Canadian designed and built Twin Otter aircraft. The trip had been turned down by the US Airforce, Navy and Coast Guard as beyond their capabilities. The same company staged a similar rescue a few years later to bring out a man from the South Pole base. I feel that the film fairly represented a very gripping subject and documented a very courageous woman facing a frightening task. I fail to see why the producers would find it necessary ignore the bravery of the rescue pilots and show the rescue plane as a USAF Hercules.\",\n",
              " 'Seriously crappy movie.<br /><br />First off, the movie starts with a cop and his partner parked outside of a warehouse/furniture store. The \"bad\" cop takes a girl, which they had pulled over, into the warehouse\\'s attic, while the newbie cop sits outside and ponders what could be happening up there. The \"bad\" cop eventually returns with a heavy duffel bag, and the newbie cop doesn\\'t think there are any problems, but he still wonders what was in the bag, so he asks, gets a bullshit response, and then he thinks everything is OK (for now).<br /><br />The \"bad\" cop repeats this process, and even once with a tit scene (made it slightly better). But eventually people start to catch on, which took awhile considering how f***ing obvious it was. One girl gets a voodoo curse placed on her just in case she dies, like ya do. Now, the \"bad\" cop eventually kills this magically protected bitch, and then he gets rid of the duffel-bagged body.<br /><br />Since she had the oogey-boogey magic put on her, she comes back with lots of eye-shadow on, which is supposed to indicate that she may be a zombie... also, the magic curse causes all of the other girls to become \"eye-shadow monsters\". Some of the girls meet up with a dude, who is apparently a currency specialist, and he offers them a ride (they look normal to him apparently). But when the girls see other people, such as the one girls husband, he freaks out because she is hideous (some people freak out, but others don\\'t even notice).... massive plot hole.<br /><br />So, to wrap it up, the eye-shadow monsters kill the \"bad\" cop, who in turn ends up becoming a zombie in the last scene. It was as though they were trying to prep us for a sequel! Like anyone would want to see part 2 of this cow dropping.',\n",
              " 'THE CRIMSON RIVERS is one of the most over-directed, over-the-top, over-everything mess I\\'ve ever seen come out of France. There\\'s nothing worse than a French production trying to out-do films made in Hollywood and CR is a perfect example of such a wannabe horror/action/buddy flick. I almost stopped it halfway through because I knew it wouldn\\'t amount to anything but French guys trying to show-off.<br /><br />The film starts off promisingly, like some sort of expansive horror film, but it quickly shifts genres, from horror to action to x-files type to buddy flick, that in the end, CR is all of it and also none of it. It\\'s so full of clichés that at one point I thought the whole thing was a comedy. The painful dialogue and those silent pauses, with fades outs and fades ins just at the right expositionary moments, made me groan. I thought only films made in Hollywood used this hackneyed technique.<br /><br />The chase scene, with Vincent Cassel running after the killer, is so over-directed and over-done that it\\'s almost a thing of beauty. The climax on top of the mountain, with the stupid revelation about the killer(s) with Cassel and Reno playing \"buddies\" like Nolte and Murphy in 48 HRS, completely derailed what little credibility the film had by then.<br /><br />It\\'s difficult to believe that the director of THE CRIMSON RIVERS also directed GOTHIKA, which though had its share of problems, doesn\\'t even come close to the awfulness of this overbaked, confused film.',\n",
              " \"I rented this movie tonight because it looked like a fun movie. I figured that you really couldn't go wrong with a concept of Ex Girlfriend with super powers. <br /><br />... but the movie was confused and pointless ...<br /><br />it seemed that at every turn the writer kept throwing junk in. Also the writer kept throwing in way too much toilet humor and sexual situations that only a teenage boy could love.<br /><br />It seems that it could have been so simple to draw a story out of Fatal Attraction Super hero .. but I guess not. <br /><br />This is not a fun romantic comedy it was advertised to be. You could not take a child to see it and you would be embarrassed seeing it a date. <br /><br />If the writer could have done a basic story around the high concept and cleaned it up - the movie might have a fighting chance. <br /><br />A serious waste of time.<br /><br />B\"]"
            ]
          },
          "metadata": {
            "tags": []
          },
          "execution_count": 37
        }
      ]
    },
    {
      "cell_type": "code",
      "metadata": {
        "id": "frYlCiup10yN",
        "colab_type": "code",
        "colab": {
          "base_uri": "https://localhost:8080/",
          "height": 33
        },
        "outputId": "fe7cb518-4e9a-48d3-a67d-96a35a93d8af"
      },
      "source": [
        "labels[:5]"
      ],
      "execution_count": 38,
      "outputs": [
        {
          "output_type": "execute_result",
          "data": {
            "text/plain": [
              "[0, 0, 0, 0, 0]"
            ]
          },
          "metadata": {
            "tags": []
          },
          "execution_count": 38
        }
      ]
    },
    {
      "cell_type": "code",
      "metadata": {
        "id": "GlG-80GT6E0w",
        "colab_type": "code",
        "colab": {
          "base_uri": "https://localhost:8080/",
          "height": 33
        },
        "outputId": "b4695f50-5315-422b-d758-8c011a3a13aa"
      },
      "source": [
        "(len(texts), len(labels))"
      ],
      "execution_count": 39,
      "outputs": [
        {
          "output_type": "execute_result",
          "data": {
            "text/plain": [
              "(25000, 25000)"
            ]
          },
          "metadata": {
            "tags": []
          },
          "execution_count": 39
        }
      ]
    },
    {
      "cell_type": "markdown",
      "metadata": {
        "id": "mPlVTaND2QKW",
        "colab_type": "text"
      },
      "source": [
        "### Tokenize the data"
      ]
    },
    {
      "cell_type": "markdown",
      "metadata": {
        "id": "LkOrM--02RFT",
        "colab_type": "text"
      },
      "source": [
        "Let's vectorize the texts we collected, and prepare a training and validation split. We will merely be using the concepts we introduced earlier in this section.\n",
        "\n",
        "Because pre-trained word embeddings are meant to be particularly useful on problems where little training data is available (otherwise, task-specific embeddings are likely to outperform them), we will add the following twist: we restrict the training data to its first 200 samples. So we will be learning to classify movie reviews after looking at just 200 examples..."
      ]
    },
    {
      "cell_type": "code",
      "metadata": {
        "id": "Kx_g9FA513a2",
        "colab_type": "code",
        "colab": {
          "base_uri": "https://localhost:8080/",
          "height": 67
        },
        "outputId": "1f185356-cc52-43a2-d7c4-4dffda2ec4d9"
      },
      "source": [
        "maxlen = 100                # We will cut reviews after 100 words\n",
        "training_samples = 200      # We will be training on 200 samples\n",
        "validation_samples = 10000  # We will be validating on 10000 samples\n",
        "max_words = 10000           # We will only consider the top 10,000 words in the dataset\n",
        "\n",
        "tokenizer = Tokenizer(num_words=max_words)\n",
        "tokenizer.fit_on_texts(texts)\n",
        "sequences = tokenizer.texts_to_sequences(texts)\n",
        "\n",
        "word_index = tokenizer.word_index\n",
        "print(f'Found {str(len(word_index))} unique tokens.')\n",
        "\n",
        "data = pad_sequences(sequences, maxlen=maxlen)\n",
        "labels = np.asarray(labels)\n",
        "print(f'Shape of data tensor: {data.shape}')\n",
        "print(f'Shape of label tensor: {labels.shape}')\n",
        "\n",
        "'''\n",
        "Split the data into a training set and a validation set\n",
        "But first, shuffle the data, since we started from data\n",
        "where sample are ordered (all negative first, then all positive).\n",
        "'''\n",
        "indices = np.arange(data.shape[0])\n",
        "np.random.shuffle(indices)\n",
        "data = data[indices]\n",
        "labels = labels[indices]\n",
        "\n",
        "x_train = data[:training_samples]\n",
        "y_train = labels[:training_samples]\n",
        "x_val = data[training_samples: training_samples + validation_samples]\n",
        "y_val = labels[training_samples: training_samples + validation_samples]"
      ],
      "execution_count": 40,
      "outputs": [
        {
          "output_type": "stream",
          "text": [
            "Found 88582 unique tokens.\n",
            "Shape of data tensor: (25000, 100)\n",
            "Shape of label tensor: (25000,)\n"
          ],
          "name": "stdout"
        }
      ]
    },
    {
      "cell_type": "markdown",
      "metadata": {
        "id": "uaktj7dT9MJe",
        "colab_type": "text"
      },
      "source": [
        "## Download the GloVe word embeddings"
      ]
    },
    {
      "cell_type": "markdown",
      "metadata": {
        "id": "QXZCxKVp9N2P",
        "colab_type": "text"
      },
      "source": [
        "Head to https://nlp.stanford.edu/projects/glove/ (where you can learn more about the GloVe algorithm), and download the pre-computed embeddings from 2014 English Wikipedia. It's a 822MB zip file named glove.6B.zip, containing 100-dimensional embedding vectors for 400,000 words (or non-word tokens). Un-zip it."
      ]
    },
    {
      "cell_type": "code",
      "metadata": {
        "id": "CQsDD0_H3Sth",
        "colab_type": "code",
        "colab": {
          "base_uri": "https://localhost:8080/",
          "height": 67
        },
        "outputId": "9c7fb1af-e770-490d-b42b-7633fb491320"
      },
      "source": [
        "# download IMDB dataset\n",
        "glove_path = keras.utils.get_file('glove.6B.zip', origin='http://nlp.stanford.edu/data/glove.6B.zip', extract=True)\n",
        "glove_path"
      ],
      "execution_count": 41,
      "outputs": [
        {
          "output_type": "stream",
          "text": [
            "Downloading data from http://nlp.stanford.edu/data/glove.6B.zip\n",
            "862183424/862182613 [==============================] - 389s 0us/step\n"
          ],
          "name": "stdout"
        },
        {
          "output_type": "execute_result",
          "data": {
            "text/plain": [
              "'/root/.keras/datasets/glove.6B.zip'"
            ]
          },
          "metadata": {
            "tags": []
          },
          "execution_count": 41
        }
      ]
    },
    {
      "cell_type": "code",
      "metadata": {
        "id": "dNeCFbNe-qIK",
        "colab_type": "code",
        "colab": {}
      },
      "source": [
        "!cp -r /root/.keras/datasets/glove.6B.zip ."
      ],
      "execution_count": 0,
      "outputs": []
    },
    {
      "cell_type": "code",
      "metadata": {
        "id": "z-6iAr6YBHIY",
        "colab_type": "code",
        "colab": {}
      },
      "source": [
        "import zipfile\n",
        "with zipfile.ZipFile('glove.6B.zip', 'r') as zip_ref:\n",
        "    zip_ref.extractall('glove')"
      ],
      "execution_count": 0,
      "outputs": []
    },
    {
      "cell_type": "markdown",
      "metadata": {
        "id": "kxv4PH9aBeS7",
        "colab_type": "text"
      },
      "source": [
        "### Pre-process the embeddings"
      ]
    },
    {
      "cell_type": "markdown",
      "metadata": {
        "id": "V8P6MCAoBfgV",
        "colab_type": "text"
      },
      "source": [
        "Let's parse the un-zipped file (it's a txt file) to build an index mapping words (as strings) to their vector representation (as number vectors)."
      ]
    },
    {
      "cell_type": "code",
      "metadata": {
        "id": "CrOf_yaRBTlX",
        "colab_type": "code",
        "colab": {
          "base_uri": "https://localhost:8080/",
          "height": 33
        },
        "outputId": "79479b8e-9000-4b88-ace8-7df1777f9771"
      },
      "source": [
        "glove_dir = 'glove/'\n",
        "\n",
        "embeddings_index = {}\n",
        "f = open(os.path.join(glove_dir, 'glove.6B.100d.txt'))\n",
        "for line in f:\n",
        "  values = line.split()\n",
        "  word = values[0]\n",
        "  coefs = np.asarray(values[1:], dtype='float32')\n",
        "  embeddings_index[word] = coefs\n",
        "f.close()\n",
        "\n",
        "print(f'Found {str(len(embeddings_index))} word vectors.')"
      ],
      "execution_count": 44,
      "outputs": [
        {
          "output_type": "stream",
          "text": [
            "Found 400000 word vectors.\n"
          ],
          "name": "stdout"
        }
      ]
    },
    {
      "cell_type": "markdown",
      "metadata": {
        "id": "DjAxJAjmCo0d",
        "colab_type": "text"
      },
      "source": [
        "### Preparing the GloVe word-embeddings matrix"
      ]
    },
    {
      "cell_type": "markdown",
      "metadata": {
        "id": "cUelZzKSCput",
        "colab_type": "text"
      },
      "source": [
        "Now let's build an embedding matrix that we will be able to load into an Embedding layer. It must be a matrix of shape (max_words, \n",
        "embedding_dim), where each entry i contains the embedding_dim-dimensional vector for the word of index i in our reference word index (built during tokenization). Note that the index 0 is not supposed to stand for any word or token -- it's a placeholder."
      ]
    },
    {
      "cell_type": "code",
      "metadata": {
        "id": "eREU0iWMCYjk",
        "colab_type": "code",
        "colab": {}
      },
      "source": [
        "embedding_dim = 100\n",
        "\n",
        "embedding_matrix = np.zeros((max_words, embedding_dim))\n",
        "for word, i in word_index.items():\n",
        "  embedding_vector = embeddings_index.get(word)\n",
        "  if i < max_words:\n",
        "    if embedding_vector is not None:\n",
        "      # Words not found in embedding index will be all-zeros.\n",
        "      embedding_matrix[i] = embedding_vector"
      ],
      "execution_count": 0,
      "outputs": []
    },
    {
      "cell_type": "markdown",
      "metadata": {
        "id": "iFj_FbtaDUjf",
        "colab_type": "text"
      },
      "source": [
        "## Define a model"
      ]
    },
    {
      "cell_type": "markdown",
      "metadata": {
        "id": "wSHX-RpFDXRj",
        "colab_type": "text"
      },
      "source": [
        "You’ll use the same model architecture as before."
      ]
    },
    {
      "cell_type": "code",
      "metadata": {
        "id": "cZUnAJykDTY0",
        "colab_type": "code",
        "colab": {}
      },
      "source": [
        ""
      ],
      "execution_count": 0,
      "outputs": []
    }
  ]
}