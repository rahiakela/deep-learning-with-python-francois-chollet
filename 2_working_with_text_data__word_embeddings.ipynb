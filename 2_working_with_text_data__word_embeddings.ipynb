{
  "nbformat": 4,
  "nbformat_minor": 0,
  "metadata": {
    "colab": {
      "name": "2_working_with_text_data__word_embeddings.ipynb",
      "provenance": [],
      "toc_visible": true,
      "include_colab_link": true
    },
    "kernelspec": {
      "name": "python3",
      "display_name": "Python 3"
    }
  },
  "cells": [
    {
      "cell_type": "markdown",
      "metadata": {
        "id": "view-in-github",
        "colab_type": "text"
      },
      "source": [
        "<a href=\"https://colab.research.google.com/github/rahiakela/deep-learning-with-python-francois-chollet/blob/6-deep-learning-for-text-and-sequences/2_working_with_text_data__word_embeddings.ipynb\" target=\"_parent\"><img src=\"https://colab.research.google.com/assets/colab-badge.svg\" alt=\"Open In Colab\"/></a>"
      ]
    },
    {
      "cell_type": "markdown",
      "metadata": {
        "id": "qCLcK4vPkXXT",
        "colab_type": "text"
      },
      "source": [
        "# Working with text data: word embeddings"
      ]
    },
    {
      "cell_type": "markdown",
      "metadata": {
        "id": "IhQlXAUmkwsv",
        "colab_type": "text"
      },
      "source": [
        "Text is one of the most widespread forms of sequence data. It can be understood as either a sequence of characters or a sequence of words, but it’s most common to work at the level of words.\n",
        "\n",
        "The deep-learning sequence-processing models can use text to produce a basic form of natural-language understanding, sufficient for applications including:\n",
        "\n",
        "* document classification, \n",
        "* sentiment analysis, \n",
        "* author identification, \n",
        "* and even question-answering (QA)\n",
        "\n",
        "Of course, keep in mind that none of these deeplearning models truly understand text in a human sense; rather, these models can map the statistical structure of written language, which is sufficient to solve many simple textual tasks. \n",
        "\n",
        "Deep learning for natural-language processing is pattern recognition\n",
        "applied to words, sentences, and paragraphs, in much the same way that computer vision is pattern recognition applied to pixels.\n",
        "\n",
        "Like all other neural networks, deep-learning models don’t take as input raw text: they only work with numeric tensors. **Vectorizing text** is the process of transforming text into numeric tensors. \n",
        "\n",
        "This can be done in multiple ways:\n",
        "* Segment text into words, and transform each word into a vector.\n",
        "* Segment text into characters, and transform each character into a vector.\n",
        "* Extract n-grams of words or characters, and transform each n-gram into a vector.N-grams are overlapping groups of multiple consecutive words or characters.\n",
        "\n",
        "Collectively, the different units into which you can break down text (words, characters, or n-grams) are called tokens, and breaking text into such tokens is called tokenization. All text-vectorization processes consist of applying some tokenization scheme and then associating numeric vectors with the generated tokens. These vectors, packed into sequence tensors, are fed into deep neural networks. \n",
        "\n",
        "There are multiple ways to associate a vector with a token. I’ll present two major ones: \n",
        "\n",
        "* one-hot encoding of tokens, \n",
        "* and token embedding (typically used exclusively for words, and called\n",
        "word embedding).\n",
        "\n",
        "<img src='https://github.com/rahiakela/img-repo/blob/master/deep-learning-with-python/text-to-tokens-to-vectors.png?raw=1' width='800'/>"
      ]
    },
    {
      "cell_type": "markdown",
      "metadata": {
        "id": "UX6W7ry3oZ0i",
        "colab_type": "text"
      },
      "source": [
        "## Setup"
      ]
    },
    {
      "cell_type": "code",
      "metadata": {
        "id": "4-nh6BM2ocDO",
        "colab_type": "code",
        "colab": {}
      },
      "source": [
        "from __future__ import absolute_import, division, print_function, unicode_literals\n",
        "\n",
        "try:\n",
        "  # %tensorflow_version only exists in Colab.\n",
        "  %tensorflow_version 2.x\n",
        "except Exception:\n",
        "  pass\n",
        "import tensorflow as tf\n",
        "from tensorflow import keras\n",
        "\n",
        "from tensorflow.keras.models import Sequential\n",
        "from tensorflow.keras.layers import Flatten, Dense, Embedding\n",
        "from tensorflow.keras.datasets import imdb\n",
        "from tensorflow.keras.preprocessing.sequence import pad_sequences\n",
        "\n",
        "import numpy as np\n",
        "import pandas as pd\n",
        "\n",
        "import string\n",
        "\n",
        "import matplotlib.pyplot as plt"
      ],
      "execution_count": 0,
      "outputs": []
    },
    {
      "cell_type": "markdown",
      "metadata": {
        "id": "Trg_rlvaogpI",
        "colab_type": "text"
      },
      "source": [
        "## Using word embeddings"
      ]
    },
    {
      "cell_type": "markdown",
      "metadata": {
        "id": "jAm_0dVAoi_m",
        "colab_type": "text"
      },
      "source": [
        "Another popular and powerful way to associate a vector with a word is the use of dense word vectors, also called word embeddings. Whereas the vectors obtained through one-hot encoding are binary, sparse (mostly made of zeros), and very high-dimensional (same dimensionality as the number of words in the vocabulary), word embeddings are lowdimensional floating-point vectors (that is, dense vectors, as opposed to sparse vectors).\n",
        "\n",
        "Unlike word vectors obtained via one-hot encoding, word embeddings are learned from data. It is common to see word embeddings that are 256-dimensional, 512-dimensional, or 1024-dimensional when dealing with very large vocabularies. On the other hand, one-hot encoding words generally leads to vectors that are 20,000-dimensional or higher (capturing a vocabulary of 20,000 token in this case). So, word embeddings pack more information into far fewer dimensions.\n",
        "\n",
        "<img src='https://s3.amazonaws.com/book.keras.io/img/ch6/word_embeddings.png?raw=1' width='800'/>\n",
        "\n",
        "There are two ways to obtain word embeddings:\n",
        "\n",
        "* Learn word embeddings jointly with the main task you care about (e.g. document classification or sentiment prediction). In this setup, you would start with random word vectors, then learn your word vectors in the same way that you learn the weights of a neural network.\n",
        "* Load into your model word embeddings that were pre-computed using a different machine learning task than the one you are trying to solve. These are called \"pre-trained word embeddings\".\n"
      ]
    },
    {
      "cell_type": "markdown",
      "metadata": {
        "id": "eiQA-DoAlC6R",
        "colab_type": "text"
      },
      "source": [
        "### Learning word embeddings with the Embedding layer"
      ]
    },
    {
      "cell_type": "markdown",
      "metadata": {
        "id": "OLL705CqlGoc",
        "colab_type": "text"
      },
      "source": [
        "The simplest way to associate a dense vector to a word would be to pick the vector at random. The problem with this approach is that the resulting embedding space would have no structure: for instance, the words \"accurate\" and \"exact\" may end up with completely different embeddings, even though they are interchangeable in most sentences. It would be very difficult for a deep neural network to make sense of such a noisy, unstructured embedding space.\n",
        "\n",
        "To get a bit more abstract: the geometric relationships between word vectors should reflect the semantic relationships between these words. Word embeddings are meant to map human language into a geometric space. For instance, in a reasonable embedding space, we would expect synonyms to be embedded into similar word vectors, and in general we would expect the geometric distance (e.g. L2 distance) between any two word vectors to relate to the semantic distance of the associated words (words meaning very different things would be embedded to points far away from each other, while related words would be closer). Even beyond mere distance, we may want specific directions in the embedding space to be meaningful.\n",
        "\n",
        "It is thus reasonable to learn a new embedding space with every new task. Thankfully, backpropagation makes this really easy, and Keras makes it even easier. It's just about learning the weights of a layer: the Embedding layer.\n",
        "\n",
        "```python\n",
        "from keras.layers import Embedding\n",
        "\n",
        "# The Embedding layer takes at least two arguments:\n",
        "# the number of possible tokens, here 1000 (1 + maximum word index),\n",
        "# and the dimensionality of the embeddings, here 64.\n",
        "embedding_layer = Embedding(1000, 64)\n",
        "```\n",
        "\n",
        "The Embedding layer is best understood as a dictionary mapping integer indices (which stand for specific words) to dense vectors. It takes as input integers, it looks up these integers into an internal dictionary, and it returns the associated vectors. It's effectively a dictionary lookup.\n",
        "\n",
        "```python\n",
        "Word index >> Embedding layer >> Corresponding word vector\n",
        "```\n",
        "\n",
        "The Embedding layer takes as input a 2D tensor of integers, of shape (samples, sequence_length), where each entry is a sequence of integers. It can embed sequences of variable lengths, so for instance we could feed into our embedding layer above batches that could have shapes (32, 10) (batch of 32 sequences of length 10) or (64, 15) (batch of 64 sequences of length 15). All sequences in a batch must have the same length, though (since we need to pack them into a single tensor), so sequences that are shorter than others should be padded with zeros, and sequences that are longer should be truncated.\n",
        "\n",
        "This layer returns a 3D floating point tensor, of shape (samples, sequence_length, embedding_dimensionality). Such a 3D tensor can then be processed by a RNN layer or a 1D convolution layer.\n",
        "\n",
        "When you instantiate an Embedding layer, its weights (its internal dictionary of token vectors) are initially random, just like with any other layer. During training, these word vectors will be gradually adjusted via backpropagation, structuring the space into something that the downstream model can exploit. Once fully trained, your embedding space will show a lot of structure -- a kind of structure specialized for the specific problem you were training your model for.\n",
        "\n",
        "Let's apply this idea to the IMDB movie review sentiment prediction task that you are already familiar with. Let's quickly prepare the data. We will restrict the movie reviews to the top 10,000 most common words (like we did the first time we worked with this dataset), and cut the reviews after only 20 words. Our network will simply learn 8-dimensional embeddings for each of the 10,000 words, turn the input integer sequences (2D integer tensor) into embedded sequences (3D float tensor), flatten the tensor to 2D, and train a single Dense layer on top for classification.\n"
      ]
    },
    {
      "cell_type": "code",
      "metadata": {
        "id": "jQywk8Gmo1GT",
        "colab_type": "code",
        "outputId": "b07c7617-2398-46a2-dc27-6b45738992a1",
        "colab": {
          "base_uri": "https://localhost:8080/",
          "height": 50
        }
      },
      "source": [
        "# Number of words to consider as features\n",
        "max_features = 10000\n",
        "\n",
        "# Cut texts after this number of words (among top max_features most common words)\n",
        "maxlen = 20\n",
        "\n",
        "# Load the data as lists of integers.\n",
        "(x_train, y_train), (x_test, y_test) = imdb.load_data(num_words=max_features)\n",
        "\n",
        "# turns our lists of integers into a 2D integer tensor of shape `(samples, maxlen)`\n",
        "x_train = pad_sequences(x_train, maxlen=maxlen)\n",
        "x_test = pad_sequences(x_test, maxlen=maxlen)"
      ],
      "execution_count": 0,
      "outputs": [
        {
          "output_type": "stream",
          "text": [
            "Downloading data from https://storage.googleapis.com/tensorflow/tf-keras-datasets/imdb.npz\n",
            "17465344/17464789 [==============================] - 0s 0us/step\n"
          ],
          "name": "stdout"
        }
      ]
    },
    {
      "cell_type": "code",
      "metadata": {
        "id": "ItjbXps3pMgf",
        "colab_type": "code",
        "outputId": "0f32be09-ee6d-4d36-e971-9442ae1e084d",
        "colab": {
          "base_uri": "https://localhost:8080/",
          "height": 250
        }
      },
      "source": [
        "model = Sequential()\n",
        "\n",
        "# specify the maximum input length to our Embedding layer so we can later flatten the embedded inputs\n",
        "model.add(Embedding(10000, 8, input_length=maxlen))\n",
        "# After the Embedding layer, our activations have shape `(samples, maxlen, 8)`.\n",
        "\n",
        "# flatten the 3D tensor of embeddings into a 2D tensor of shape `(samples, maxlen * 8)`\n",
        "model.add(Flatten())\n",
        "\n",
        "# We add the classifier on top\n",
        "model.add(Dense(1, activation='sigmoid'))\n",
        "model.compile(optimizer='rmsprop', loss='binary_crossentropy', metrics=['accuracy'])\n",
        "model.summary()"
      ],
      "execution_count": 0,
      "outputs": [
        {
          "output_type": "stream",
          "text": [
            "Model: \"sequential\"\n",
            "_________________________________________________________________\n",
            "Layer (type)                 Output Shape              Param #   \n",
            "=================================================================\n",
            "embedding (Embedding)        (None, 20, 8)             80000     \n",
            "_________________________________________________________________\n",
            "flatten (Flatten)            (None, 160)               0         \n",
            "_________________________________________________________________\n",
            "dense (Dense)                (None, 1)                 161       \n",
            "=================================================================\n",
            "Total params: 80,161\n",
            "Trainable params: 80,161\n",
            "Non-trainable params: 0\n",
            "_________________________________________________________________\n"
          ],
          "name": "stdout"
        }
      ]
    },
    {
      "cell_type": "code",
      "metadata": {
        "id": "JIwcfo3ytBNL",
        "colab_type": "code",
        "outputId": "af875023-3f65-4c62-d690-cdb22fe20719",
        "colab": {
          "base_uri": "https://localhost:8080/",
          "height": 367
        }
      },
      "source": [
        "history = model.fit(x_train, y_train, epochs=10, batch_size=32, validation_split=0.2)"
      ],
      "execution_count": 0,
      "outputs": [
        {
          "output_type": "stream",
          "text": [
            "Train on 20000 samples, validate on 5000 samples\n",
            "Epoch 1/10\n",
            "20000/20000 [==============================] - 2s 89us/sample - loss: 0.6642 - accuracy: 0.6334 - val_loss: 0.6093 - val_accuracy: 0.6986\n",
            "Epoch 2/10\n",
            "20000/20000 [==============================] - 1s 66us/sample - loss: 0.5343 - accuracy: 0.7542 - val_loss: 0.5200 - val_accuracy: 0.7374\n",
            "Epoch 3/10\n",
            "20000/20000 [==============================] - 1s 60us/sample - loss: 0.4583 - accuracy: 0.7875 - val_loss: 0.4988 - val_accuracy: 0.7472\n",
            "Epoch 4/10\n",
            "20000/20000 [==============================] - 1s 60us/sample - loss: 0.4207 - accuracy: 0.8079 - val_loss: 0.4933 - val_accuracy: 0.7526\n",
            "Epoch 5/10\n",
            "20000/20000 [==============================] - 1s 63us/sample - loss: 0.3944 - accuracy: 0.8221 - val_loss: 0.4935 - val_accuracy: 0.7516\n",
            "Epoch 6/10\n",
            "20000/20000 [==============================] - 1s 63us/sample - loss: 0.3722 - accuracy: 0.8345 - val_loss: 0.5001 - val_accuracy: 0.7530\n",
            "Epoch 7/10\n",
            "20000/20000 [==============================] - 1s 64us/sample - loss: 0.3527 - accuracy: 0.8468 - val_loss: 0.5032 - val_accuracy: 0.7530\n",
            "Epoch 8/10\n",
            "20000/20000 [==============================] - 1s 64us/sample - loss: 0.3349 - accuracy: 0.8572 - val_loss: 0.5103 - val_accuracy: 0.7530\n",
            "Epoch 9/10\n",
            "20000/20000 [==============================] - 1s 62us/sample - loss: 0.3179 - accuracy: 0.8669 - val_loss: 0.5185 - val_accuracy: 0.7524\n",
            "Epoch 10/10\n",
            "20000/20000 [==============================] - 1s 63us/sample - loss: 0.3017 - accuracy: 0.8759 - val_loss: 0.5277 - val_accuracy: 0.7510\n"
          ],
          "name": "stdout"
        }
      ]
    },
    {
      "cell_type": "markdown",
      "metadata": {
        "id": "TiKZaDi_rgKS",
        "colab_type": "text"
      },
      "source": [
        "We get to a validation accuracy of ~76%, which is pretty good considering that we only look at the first 20 words in every review. But note that merely flattening the embedded sequences and training a single Dense layer on top leads to a model that treats each word in the input sequence separately, without considering inter-word relationships and structure sentence (e.g. it would likely treat both \"this movie is shit\" and \"this movie is the shit\" as being negative \"reviews\"). It would be much better to add recurrent layers or 1D convolutional layers on top of the embedded sequences to learn features that take into account each sequence as a whole. That's what we will focus on in the next few sections."
      ]
    },
    {
      "cell_type": "markdown",
      "metadata": {
        "id": "O8LjZEp0thyB",
        "colab_type": "text"
      },
      "source": [
        "### Using pre-trained word embeddings"
      ]
    },
    {
      "cell_type": "markdown",
      "metadata": {
        "id": "RE7Hf7SwtES_",
        "colab_type": "text"
      },
      "source": [
        "Sometimes, you have so little training data available that could never use your data alone to learn an appropriate task-specific embedding of your vocabulary. What to do then?\n",
        "\n",
        "Instead of learning word embeddings jointly with the problem you want to solve, you could be loading embedding vectors from a pre-computed embedding space known to be highly structured and to exhibit useful properties -- that captures generic aspects of language structure. \n",
        "\n",
        "The rationale behind using pre-trained word embeddings in natural language processing is very much the same as for using pre-trained convnets in image classification: we don't have enough data available to learn truly powerful features on our own, but we expect the features that we need to be fairly generic, i.e. common visual features or semantic features. In this case it makes sense to reuse features learned on a different problem.\n",
        "\n",
        "Such word embeddings are generally computed using word occurrence statistics (observations about what words co-occur in sentences or documents), using a variety of techniques, some involving neural networks, others not. The idea of a dense, low-dimensional embedding space for words, computed in an unsupervised way, was initially explored by Bengio et al. in the early 2000s, but it only started really taking off in research and industry applications after the release of one of the most famous and successful word embedding scheme: the Word2Vec algorithm, developed by Mikolov at Google in 2013. Word2Vec dimensions capture specific semantic properties, e.g. gender.\n",
        "\n",
        "There are various pre-computed databases of word embeddings that can download and start using in a Keras Embedding layer. \n",
        "\n",
        "* Word2Vec is one of them. \n",
        "* Another popular one is called \"GloVe\", developed by Stanford researchers in 2014. It stands for \"Global Vectors for Word Representation\", and it is an embedding technique based on factorizing a matrix of word co-occurrence statistics. \n",
        "\n",
        "Let's take a look at how you can get started using GloVe embeddings in a Keras model. The same method will of course be valid for Word2Vec embeddings or any other word embedding database that you can download. We will also use this example to refresh the text tokenization techniques we introduced a few paragraphs ago: we will start from raw text, and work our way up."
      ]
    },
    {
      "cell_type": "markdown",
      "metadata": {
        "id": "t305iDvotfZ_",
        "colab_type": "text"
      },
      "source": [
        "### Putting it all together: from raw text to word embeddings"
      ]
    },
    {
      "cell_type": "markdown",
      "metadata": {
        "id": "sIJsyT-gthiS",
        "colab_type": "text"
      },
      "source": [
        "You’ll use a model similar to the one we just went over: \n",
        "\n",
        "* embedding sentences in sequences of vectors, \n",
        "* flattening them, \n",
        "* and training a Dense layer on top. \n",
        "\n",
        "But you’ll do so using pretrained word embeddings; and instead of using the pretokenized IMDB data packaged in Keras, you’ll start from scratch by downloading the original text data."
      ]
    },
    {
      "cell_type": "markdown",
      "metadata": {
        "id": "RY_pLK6r_jtQ",
        "colab_type": "text"
      },
      "source": [
        "### Download the IMDB data as raw text"
      ]
    },
    {
      "cell_type": "code",
      "metadata": {
        "id": "yNtan1i6tRTW",
        "colab_type": "code",
        "colab": {}
      },
      "source": [
        "samples = ['The cat sat on the mat.', 'The dog ate my homework.']\n",
        "\n",
        "characters = string.printable  # All printable ASCII characters.\n",
        "\n",
        "#  First, build an index of all tokens in the data.\n",
        "token_index = dict(zip(characters, range(1, len(characters) + 1)))\n",
        "\n",
        "'''\n",
        "Next, we vectorize our samples.\n",
        "We will only consider the first `max_length` words in each sample.\n",
        "'''\n",
        "max_length = 50\n",
        "\n",
        "results = np.zeros((len(samples), max_length, max(token_index.values()) + 1))\n",
        "for i, sample in enumerate(samples):\n",
        "  for j, character  in list(enumerate(sample.split()))[:max_length]:\n",
        "    index = token_index.get(character)\n",
        "    results[i, j, index] = 1."
      ],
      "execution_count": 0,
      "outputs": []
    }
  ]
}