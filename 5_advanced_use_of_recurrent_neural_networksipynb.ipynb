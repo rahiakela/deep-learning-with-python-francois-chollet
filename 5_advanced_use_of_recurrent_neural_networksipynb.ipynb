{
  "nbformat": 4,
  "nbformat_minor": 0,
  "metadata": {
    "colab": {
      "name": "5-advanced-use-of-recurrent-neural-networksipynb",
      "provenance": [],
      "toc_visible": true,
      "include_colab_link": true
    },
    "kernelspec": {
      "name": "python3",
      "display_name": "Python 3"
    },
    "accelerator": "GPU"
  },
  "cells": [
    {
      "cell_type": "markdown",
      "metadata": {
        "id": "view-in-github",
        "colab_type": "text"
      },
      "source": [
        "<a href=\"https://colab.research.google.com/github/rahiakela/deep-learning-with-python-francois-chollet/blob/6-deep-learning-for-text-and-sequences/5_advanced_use_of_recurrent_neural_networksipynb.ipynb\" target=\"_parent\"><img src=\"https://colab.research.google.com/assets/colab-badge.svg\" alt=\"Open In Colab\"/></a>"
      ]
    },
    {
      "cell_type": "markdown",
      "metadata": {
        "id": "xEmGMZ4jIJgm",
        "colab_type": "text"
      },
      "source": [
        "# Advanced use of recurrent neural networks"
      ]
    },
    {
      "cell_type": "markdown",
      "metadata": {
        "id": "A_FHcZb4ILRf",
        "colab_type": "text"
      },
      "source": [
        "**A major characteristic of all neural networks you’ve seen so far, such as densely connected networks and convnets, is that they have no memory. Each input shown to them is processed independently, with no state kept in between inputs.**\n",
        "\n",
        "**With such networks, in order to process a sequence or a temporal series of data points, you have to show the entire sequence to the network at once: turn it into a single data point.**\n",
        "\n",
        "For instance, this is what you did in the IMDB example: an entire movie review was transformed into a single large vector(flatten) and processed in one go. Such networks are called **feedforward networks**.\n",
        "\n",
        "In contrast, as you’re reading the present sentence, you’re processing it word by word—or rather, eye saccade by eye saccade—while keeping memories of what came before; this gives you a fluid representation of the meaning conveyed by this sentence.\n",
        "\n",
        "**Biological intelligence processes information incrementally while maintaining an internal model of what it’s processing, built from past information and constantly updated as new information comes in**.\n",
        "\n",
        "A **recurrent neural network (RNN)** adopts the same principle, albeit in an extremely simplified version: **it processes sequences by iterating through the sequence elements and maintaining a state containing information relative to what it has seen so far. In effect, an RNN is a type of neural network that has an internal loop.**\n",
        "\n",
        "The state of the RNN is reset between processing two different,\n",
        "independent sequences (such as two different IMDB reviews), so you still consider one sequence a single data point: **a single input to the network. What changes is that this data point is no longer processed in a single step; rather, the network internally loops over sequence elements.**\n",
        "\n",
        "<img src='https://github.com/rahiakela/img-repo/blob/master/deep-learning-with-python/recurrent-neural-network.png?raw=1' width='800'/>"
      ]
    },
    {
      "cell_type": "markdown",
      "metadata": {
        "id": "I-cxGszvOwJe",
        "colab_type": "text"
      },
      "source": [
        "## Setup"
      ]
    },
    {
      "cell_type": "code",
      "metadata": {
        "id": "qIw5Nx0tOx6C",
        "colab_type": "code",
        "colab": {}
      },
      "source": [
        "from __future__ import absolute_import, division, print_function, unicode_literals\n",
        "\n",
        "try:\n",
        "  # %tensorflow_version only exists in Colab.\n",
        "  %tensorflow_version 2.x\n",
        "except Exception:\n",
        "  pass\n",
        "import tensorflow as tf\n",
        "from tensorflow import keras\n",
        "\n",
        "from tensorflow.keras.models import Sequential\n",
        "from tensorflow.keras.layers import Flatten, Dense, LSTM, Embedding, GRU, Bidirectional\n",
        "from tensorflow.keras.optimizers import RMSprop\n",
        "\n",
        "from tensorflow.keras.datasets import imdb\n",
        "\n",
        "from tensorflow.keras.preprocessing.text import Tokenizer\n",
        "from tensorflow.keras.preprocessing.sequence import pad_sequences\n",
        "\n",
        "from tensorflow.keras import backend as K\n",
        "\n",
        "import numpy as np\n",
        "import pandas as pd\n",
        "\n",
        "import string\n",
        "import os\n",
        "\n",
        "import matplotlib.pyplot as plt\n",
        "%matplotlib inline"
      ],
      "execution_count": 0,
      "outputs": []
    },
    {
      "cell_type": "markdown",
      "metadata": {
        "id": "kv4KQLrDO-JQ",
        "colab_type": "text"
      },
      "source": [
        "## Advanced use of recurrent neural networks"
      ]
    },
    {
      "cell_type": "markdown",
      "metadata": {
        "id": "2QAyWdz2O_Ov",
        "colab_type": "text"
      },
      "source": [
        "We will review three advanced techniques for improving the performance and generalization power of recurrent neural networks. By the end of the section, you will know most of what there is to know about using recurrent networks with Keras. We will demonstrate all three concepts on a weather forecasting problem, where we have access to a timeseries of data points coming from sensors installed on the roof of a building, such as temperature, air pressure, and humidity, which we use to predict what the temperature will be 24 hours after the last data point collected. This is a fairly challenging problem that exemplifies many common difficulties encountered when working with timeseries.\n",
        "\n",
        "We will cover the following techniques:\n",
        "\n",
        "* **Recurrent dropout, a specific, built-in way to use dropout to fight overfitting in recurrent layers.**\n",
        "* **Stacking recurrent layers, to increase the representational power of the network** (at the cost of higher computational loads).\n",
        "* **Bidirectional recurrent layers, which presents the same information to a recurrent network in different ways, increasing accuracy and mitigating forgetting issues.**\n"
      ]
    },
    {
      "cell_type": "markdown",
      "metadata": {
        "id": "2QZCIuWS2i1v",
        "colab_type": "text"
      },
      "source": [
        "## A temperature-forecasting problem"
      ]
    },
    {
      "cell_type": "markdown",
      "metadata": {
        "id": "ZIqxPNSv2j5P",
        "colab_type": "text"
      },
      "source": [
        "Until now, the only sequence data we have covered has been text data, for instance the IMDB dataset and the Reuters dataset. But sequence data is found in many more problems than just language processing. In all of our examples in this section, we will be playing with a weather timeseries dataset recorded at the Weather Station at the Max-Planck-Institute for Biogeochemistry in Jena, Germany: http://www.bgc-jena.mpg.de/wetter/.\n",
        "\n",
        "In this dataset, fourteen different quantities (such air temperature, atmospheric pressure, humidity, wind direction, etc.) are recorded every ten minutes, over several years. The original data goes back to 2003, but we limit ourselves to data from 2009-2016. This dataset is perfect for learning to work with numerical timeseries. We will use it to build a model that takes as input some data from the recent past (a few days worth of data points) and predicts the air temperature 24 hours in the future.\n",
        "\n",
        "Let's take a look at the data:"
      ]
    },
    {
      "cell_type": "code",
      "metadata": {
        "id": "mwZWT3qfQ8QU",
        "colab_type": "code",
        "outputId": "c71bc8d3-2a4a-406b-c6b4-2af59b5d1d68",
        "colab": {
          "base_uri": "https://localhost:8080/",
          "height": 238
        }
      },
      "source": [
        "# Download and uncompress the data\n",
        "!wget https://s3.amazonaws.com/keras-datasets/jena_climate_2009_2016.csv.zip\n",
        "!unzip jena_climate_2009_2016.csv.zip"
      ],
      "execution_count": 2,
      "outputs": [
        {
          "output_type": "stream",
          "text": [
            "--2020-06-01 09:28:20--  https://s3.amazonaws.com/keras-datasets/jena_climate_2009_2016.csv.zip\n",
            "Resolving s3.amazonaws.com (s3.amazonaws.com)... 52.216.26.14\n",
            "Connecting to s3.amazonaws.com (s3.amazonaws.com)|52.216.26.14|:443... connected.\n",
            "HTTP request sent, awaiting response... 200 OK\n",
            "Length: 13568290 (13M) [application/zip]\n",
            "Saving to: ‘jena_climate_2009_2016.csv.zip’\n",
            "\n",
            "\r          jena_clim   0%[                    ]       0  --.-KB/s               \r         jena_clima   1%[                    ] 245.64K   967KB/s               \r        jena_climat  29%[====>               ]   3.82M  7.53MB/s               \rjena_climate_2009_2 100%[===================>]  12.94M  18.5MB/s    in 0.7s    \n",
            "\n",
            "2020-06-01 09:28:21 (18.5 MB/s) - ‘jena_climate_2009_2016.csv.zip’ saved [13568290/13568290]\n",
            "\n",
            "Archive:  jena_climate_2009_2016.csv.zip\n",
            "  inflating: jena_climate_2009_2016.csv  \n"
          ],
          "name": "stdout"
        }
      ]
    },
    {
      "cell_type": "code",
      "metadata": {
        "id": "0K-6GCYR6RNn",
        "colab_type": "code",
        "outputId": "2f104468-dff4-46a4-d42f-bd989a9f6bbd",
        "colab": {
          "base_uri": "https://localhost:8080/",
          "height": 71
        }
      },
      "source": [
        "# Inspecting the data of the Jena weather dataset\n",
        "fname = 'jena_climate_2009_2016.csv'\n",
        "f = open(fname)\n",
        "data = f.read()\n",
        "f.close()\n",
        "\n",
        "lines = data.split('\\n')\n",
        "header = lines[0].split(',')\n",
        "lines = lines[1:]\n",
        "\n",
        "print(header)\n",
        "print(len(lines))"
      ],
      "execution_count": 3,
      "outputs": [
        {
          "output_type": "stream",
          "text": [
            "['\"Date Time\"', '\"p (mbar)\"', '\"T (degC)\"', '\"Tpot (K)\"', '\"Tdew (degC)\"', '\"rh (%)\"', '\"VPmax (mbar)\"', '\"VPact (mbar)\"', '\"VPdef (mbar)\"', '\"sh (g/kg)\"', '\"H2OC (mmol/mol)\"', '\"rho (g/m**3)\"', '\"wv (m/s)\"', '\"max. wv (m/s)\"', '\"wd (deg)\"']\n",
            "420551\n"
          ],
          "name": "stdout"
        }
      ]
    },
    {
      "cell_type": "markdown",
      "metadata": {
        "id": "MeH1XvPCS3Gn",
        "colab_type": "text"
      },
      "source": [
        "This outputs a count of 420,551 lines of data (each line is a timestep: a record of a date and 14 weather-related values), as well as the following header:\n",
        "```python\n",
        "[\"Date Time\",\n",
        "\"p (mbar)\",\n",
        "\"T (degC)\",\n",
        "\"Tpot (K)\",\n",
        "\"Tdew (degC)\",\n",
        "\"rh (%)\",\n",
        "\"VPmax (mbar)\",\n",
        "\"VPact (mbar)\",\n",
        "\"VPdef (mbar)\",\n",
        "\"sh (g/kg)\",\n",
        "\"H2OC (mmol/mol)\",\n",
        "\"rho (g/m**3)\",\n",
        "\"wv (m/s)\",\n",
        "\"max. wv (m/s)\",\n",
        "\"wd (deg)\"]\n",
        "```"
      ]
    },
    {
      "cell_type": "markdown",
      "metadata": {
        "id": "UCDA-v-sKsyD",
        "colab_type": "text"
      },
      "source": [
        "Now, convert all 420,551 lines of data into a Numpy array."
      ]
    },
    {
      "cell_type": "code",
      "metadata": {
        "id": "aA7BC9XtKtbi",
        "colab_type": "code",
        "colab": {}
      },
      "source": [
        "float_data = np.zeros((len(lines), len(header) - 1))\n",
        "for i, line in enumerate(lines):\n",
        "  values = [float(x) for x in line.split(',')[1:]]\n",
        "  float_data[i, :] = values"
      ],
      "execution_count": 0,
      "outputs": []
    },
    {
      "cell_type": "markdown",
      "metadata": {
        "id": "nDgCqGi8J9pg",
        "colab_type": "text"
      },
      "source": [
        "For instance, here is the plot of temperature (in degrees Celsius) over time:"
      ]
    },
    {
      "cell_type": "code",
      "metadata": {
        "id": "IKvKHvCTTqDc",
        "colab_type": "code",
        "outputId": "79650955-4d0d-4f6b-b23c-dd2e2b685fd5",
        "colab": {
          "base_uri": "https://localhost:8080/",
          "height": 268
        }
      },
      "source": [
        "temp = float_data[:, 1]   # temperature (in degrees Celsius)\n",
        "plt.plot(range(len(temp)), temp)\n",
        "plt.show()"
      ],
      "execution_count": 5,
      "outputs": [
        {
          "output_type": "display_data",
          "data": {
            "image/png": "[encoded data removed]",
            "text/plain": [
              "<Figure size 432x288 with 1 Axes>"
            ]
          },
          "metadata": {
            "tags": [],
            "needs_background": "light"
          }
        }
      ]
    },
    {
      "cell_type": "markdown",
      "metadata": {
        "id": "u6wC6awnUELQ",
        "colab_type": "text"
      },
      "source": [
        "On this plot, you can clearly see the yearly periodicity of temperature.\n",
        "\n",
        "Here is a more narrow plot of the first ten days of temperature data (since the data is recorded every ten minutes, we get 144 data points per day):"
      ]
    },
    {
      "cell_type": "code",
      "metadata": {
        "id": "Ich70j_cT6Yp",
        "colab_type": "code",
        "outputId": "812ce610-655c-4c50-97c9-a4d28b0e7372",
        "colab": {
          "base_uri": "https://localhost:8080/",
          "height": 265
        }
      },
      "source": [
        "plt.plot(range(1440), temp[:1440])\n",
        "plt.show()"
      ],
      "execution_count": 8,
      "outputs": [
        {
          "output_type": "display_data",
          "data": {
            "image/png": "[encoded data removed]",
            "text/plain": [
              "<Figure size 432x288 with 1 Axes>"
            ]
          },
          "metadata": {
            "tags": [],
            "needs_background": "light"
          }
        }
      ]
    },
    {
      "cell_type": "markdown",
      "metadata": {
        "id": "tluIYMVbUhT8",
        "colab_type": "text"
      },
      "source": [
        "On this plot, you can see daily periodicity, especially evident for the last 4 days. We can also note that this ten-days period must be coming from a fairly cold winter month.\n",
        "\n",
        "If we were trying to predict average temperature for the next month given a few month of past data, the problem would be easy, due to the reliable year-scale periodicity of the data. But looking at the data over a scale of days, the temperature looks a lot more chaotic. So is this timeseries predictable at a daily scale? Let's find out."
      ]
    },
    {
      "cell_type": "markdown",
      "metadata": {
        "id": "F1EbHcJjUkAq",
        "colab_type": "text"
      },
      "source": [
        "## Preparing the data"
      ]
    },
    {
      "cell_type": "markdown",
      "metadata": {
        "id": "TjpkWIPNUnWL",
        "colab_type": "text"
      },
      "source": [
        "The exact formulation of our problem will be the following: given data going as far back as lookback timesteps (a timestep is 10 minutes) and sampled every steps timesteps, can we predict the temperature in delay timesteps?\n",
        "\n",
        "We will use the following parameter values:\n",
        "\n",
        "* lookback = 720, i.e. our observations will go back 5 days.\n",
        "* steps = 6, i.e. our observations will be sampled at one data point per hour.\n",
        "* delay = 144, i.e. our targets will be 24 hours in the future.\n",
        "\n",
        "To get started, we need to do two things:\n",
        "\n",
        "* Preprocess the data to a format a neural network can ingest. This is easy: the data is already numerical, so we don't need to do any vectorization. However each timeseries in the data is on a different scale (e.g. temperature is typically between -20 and +30, but pressure, measured in mbar, is around 1000). So we will normalize each timeseries independently so that they all take small values on a similar scale.\n",
        "\n",
        "* Write a Python generator that takes our current array of float data and yields batches of data from the recent past, alongside with a target temperature in the future. Since the samples in our dataset are highly redundant (e.g. sample N and sample N + 1 will have most of their timesteps in common), it would be very wasteful to explicitly allocate every sample. Instead, we will generate the samples on the fly using the original data.\n",
        "\n",
        "We preprocess the data by subtracting the mean of each timeseries and dividing by the standard deviation. We plan on using the first 200,000 timesteps as training data, so we compute the mean and standard deviation only on this fraction of the data:"
      ]
    },
    {
      "cell_type": "code",
      "metadata": {
        "id": "1jTVM4bOUPnU",
        "colab_type": "code",
        "colab": {}
      },
      "source": [
        "mean = float_data[:200000].mean(axis=0)\n",
        "float_data -= mean\n",
        "\n",
        "std = float_data[:200000].std(axis=0)\n",
        "float_data /= std"
      ],
      "execution_count": 0,
      "outputs": []
    },
    {
      "cell_type": "markdown",
      "metadata": {
        "id": "ygW5dV4pbRmV",
        "colab_type": "text"
      },
      "source": [
        "Now here is the data generator that we will use. It yields a tuple (samples, targets) where samples is one batch of input data and targets is the corresponding array of target temperatures. It takes the following arguments:\n",
        "\n",
        "* **data**: The original array of floating point data, which we just normalized in the code snippet above.\n",
        "* **lookback**: How many timesteps back should our input data go.\n",
        "* **delay**: How many timesteps in the future should our target be.\n",
        "* **min_index and max_index**: Indices in the data array that delimit which * timesteps to draw from. This is useful for keeping a segment of the data for validation and another one for testing.\n",
        "* **shuffle**: Whether to shuffle our samples or draw them in chronological order.\n",
        "* **batch_size**: The number of samples per batch.\n",
        "* **step**: The period, in timesteps, at which we sample data. We will set it 6 in order to draw one data point every hour."
      ]
    },
    {
      "cell_type": "code",
      "metadata": {
        "id": "3XuL07y5bOUJ",
        "colab_type": "code",
        "colab": {}
      },
      "source": [
        "def generator(data, lookback, delay, min_index, max_index, shuffle=False, batch_size=128, step=6):\n",
        "  if max_index is None:\n",
        "    max_index = len(data) - delay - 1\n",
        "  i = min_index + lookback\n",
        "  while 1:\n",
        "    if shuffle:\n",
        "      rows = np.random.randint(min_index + lookback, max_index, size=batch_size)\n",
        "    else:\n",
        "      if i + batch_size >= max_index:\n",
        "        i = min_index + lookback\n",
        "      rows = np.arange(i, min(i + batch_size, max_index))\n",
        "      i += len(rows)\n",
        "    \n",
        "    samples = np.zeros((len(rows), lookback // step, data.shape[-1]))\n",
        "    targets = np.zeros((len(rows),))\n",
        "\n",
        "    for j, row in enumerate(rows):\n",
        "      indices = range(rows[j] - lookback, rows[j], step)\n",
        "      samples[j] = data[indices]\n",
        "      targets[j] = data[rows[j] + delay][1]\n",
        "    yield samples, targets"
      ],
      "execution_count": 0,
      "outputs": []
    },
    {
      "cell_type": "markdown",
      "metadata": {
        "id": "5BwTXrGIgYx1",
        "colab_type": "text"
      },
      "source": [
        "Now let's use our abstract generator function to instantiate three generators, one for training, one for validation and one for testing. Each will look at different temporal segments of the original data: the training generator looks at the first 200,000 timesteps, the validation generator looks at the following 100,000, and the test generator looks at the remainder."
      ]
    },
    {
      "cell_type": "code",
      "metadata": {
        "id": "aw5pP3YGy16p",
        "colab_type": "code",
        "colab": {}
      },
      "source": [
        "lookback = 1440\n",
        "step = 6\n",
        "delay = 144\n",
        "batch_size = 128"
      ],
      "execution_count": 0,
      "outputs": []
    },
    {
      "cell_type": "code",
      "metadata": {
        "id": "n5QalW6NgVXL",
        "colab_type": "code",
        "colab": {}
      },
      "source": [
        "train_gen = generator(float_data, lookback=lookback, delay=delay, min_index=0, max_index=200000, shuffle=True, step=step, batch_size=batch_size)\n",
        "val_gen = generator(float_data, lookback=lookback, delay=delay, min_index=200001, max_index=300000, step=step, batch_size=batch_size)\n",
        "test_gen = generator(float_data, lookback=lookback, delay=delay, min_index=300001, max_index=None, step=step, batch_size=batch_size)"
      ],
      "execution_count": 0,
      "outputs": []
    },
    {
      "cell_type": "code",
      "metadata": {
        "id": "r2P-A0D4y6mn",
        "colab_type": "code",
        "colab": {}
      },
      "source": [
        "# This is how many steps to draw from `val_gen` in order to see the whole validation set:\n",
        "val_steps = (300000 - 200001 - lookback) // batch_size\n",
        "\n",
        "# This is how many steps to draw from `test_gen` in order to see the whole test set:\n",
        "test_steps = (len(float_data) - 300001 - lookback) // batch_size"
      ],
      "execution_count": 0,
      "outputs": []
    },
    {
      "cell_type": "markdown",
      "metadata": {
        "id": "wgv3p5X6i_1y",
        "colab_type": "text"
      },
      "source": [
        "## A common sense, non-machine learning baseline"
      ]
    },
    {
      "cell_type": "markdown",
      "metadata": {
        "id": "CcSq67xYjA6k",
        "colab_type": "text"
      },
      "source": [
        "Before we start leveraging black-box deep learning models to solve our temperature prediction problem, let's try out a simple common-sense approach. It will serve as a sanity check, and it will establish a baseline that we will have to beat in order to demonstrate the usefulness of more advanced machine learning models. Such common-sense baselines can be very useful when approaching a new problem for which there is no known solution (yet). A classic example is that of unbalanced classification tasks, where some classes can be much more common than others. If your dataset contains 90% of instances of class A and 10% of instances of class B, then a common sense approach to the classification task would be to always predict \"A\" when presented with a new sample. Such a classifier would be 90% accurate overall, and any learning-based approach should therefore beat this 90% score in order to demonstrate usefulness. Sometimes such elementary baseline can prove surprisingly hard to beat.\n",
        "\n",
        "In our case, the temperature timeseries can safely be assumed to be continuous (the temperatures tomorrow are likely to be close to the temperatures today) as well as periodical with a daily period. Thus a common sense approach would be to always predict that the temperature 24 hours from now will be equal to the temperature right now. \n",
        "\n",
        "Let's evaluate this approach, using the Mean Absolute Error metric (MAE). Mean Absolute Error is simply equal to:\n",
        "\n",
        "```python\n",
        "np.mean(np.abs(preds - targets))\n",
        "```"
      ]
    },
    {
      "cell_type": "markdown",
      "metadata": {
        "id": "uy-gA9Z4jWi4",
        "colab_type": "text"
      },
      "source": [
        "Here's our evaluation loop:"
      ]
    },
    {
      "cell_type": "code",
      "metadata": {
        "id": "ukKz2Dbxh0gv",
        "colab_type": "code",
        "outputId": "4de2704e-bc75-4428-d82b-89f480a36481",
        "colab": {
          "base_uri": "https://localhost:8080/",
          "height": 34
        }
      },
      "source": [
        "def evaluate_naive_method():\n",
        "  batch_maes = []\n",
        "  for step in range(val_steps):\n",
        "    samples, targets = next(val_gen)\n",
        "    preds = samples[:, -1, 1]\n",
        "    mae = np.mean(np.abs(preds - targets))\n",
        "    batch_maes.append(mae)\n",
        "  print(np.mean(batch_maes))\n",
        "\n",
        "evaluate_naive_method()"
      ],
      "execution_count": 0,
      "outputs": [
        {
          "output_type": "stream",
          "text": [
            "0.2897359729905486\n"
          ],
          "name": "stdout"
        }
      ]
    },
    {
      "cell_type": "markdown",
      "metadata": {
        "id": "DQlsn2c9l7jb",
        "colab_type": "text"
      },
      "source": [
        "It yields a MAE of 0.29. Since our temperature data has been normalized to be centered on 0 and have a standard deviation of one, this number is not immediately interpretable. It translates to an average absolute error of 0.29 * temperature_std degrees Celsius, i.e. 2.57˚C. \n",
        "\n",
        "```python\n",
        "celsius_mae = 0.29 * std[1]\n",
        "```\n",
        "\n",
        "That’s a fairly large average absolute error. Now the game is to use your knowledge of deep learning to do better."
      ]
    },
    {
      "cell_type": "markdown",
      "metadata": {
        "id": "zLSM74bCmDPZ",
        "colab_type": "text"
      },
      "source": [
        "## A basic machine-learning approach"
      ]
    },
    {
      "cell_type": "markdown",
      "metadata": {
        "id": "IqCnxSJBmFfI",
        "colab_type": "text"
      },
      "source": [
        "In the same way that it is useful to establish a common sense baseline before trying machine learning approaches, it is useful to try simple and cheap machine learning models (such as small densely-connected networks) before looking into complicated and computationally expensive models such as RNNs. This is the best way to make sure that any further complexity we throw at the problem later on is legitimate and delivers real benefits.\n",
        "\n",
        "Here is a simply fully-connected model in which we start by flattening the data, then run it through two Dense layers. Note the lack of activation function on the last Dense layer, which is typical for a regression problem. We use MAE as the loss. Since we are evaluating on the exact same data and with the exact same metric as with our common sense approach, the results will be directly comparable"
      ]
    },
    {
      "cell_type": "code",
      "metadata": {
        "id": "WT5qY8IRj2kT",
        "colab_type": "code",
        "outputId": "c22087ca-c923-4819-93eb-9cfa6d7a6e0f",
        "colab": {
          "base_uri": "https://localhost:8080/"
        }
      },
      "source": [
        "model = Sequential()\n",
        "model.add(Flatten(input_shape=(lookback // step, float_data.shape[-1])))\n",
        "model.add(Dense(32, activation='relu'))\n",
        "model.add(Dense(1))\n",
        "\n",
        "model.compile(optimizer=RMSprop(), loss='mae')\n",
        "history = model.fit_generator(train_gen, steps_per_epoch=500, epochs=20, validation_data=val_gen, validation_steps=val_steps)"
      ],
      "execution_count": 0,
      "outputs": [
        {
          "output_type": "stream",
          "text": [
            "WARNING:tensorflow:From <ipython-input-12-b1ef2fe602fc>:7: Model.fit_generator (from tensorflow.python.keras.engine.training) is deprecated and will be removed in a future version.\n",
            "Instructions for updating:\n",
            "Please use Model.fit, which supports generators.\n",
            "Epoch 1/20\n",
            "500/500 [==============================] - 14s 28ms/step - loss: 0.9992 - val_loss: 0.5608\n",
            "Epoch 2/20\n",
            "500/500 [==============================] - 14s 27ms/step - loss: 0.3360 - val_loss: 0.2951\n",
            "Epoch 3/20\n",
            "500/500 [==============================] - 14s 27ms/step - loss: 0.2762 - val_loss: 0.2977\n",
            "Epoch 4/20\n",
            "500/500 [==============================] - 14s 27ms/step - loss: 0.2600 - val_loss: 0.3450\n",
            "Epoch 5/20\n",
            "500/500 [==============================] - 14s 27ms/step - loss: 0.2483 - val_loss: 0.3290\n",
            "Epoch 6/20\n",
            "500/500 [==============================] - 14s 27ms/step - loss: 0.2398 - val_loss: 0.3031\n",
            "Epoch 7/20\n",
            "500/500 [==============================] - 14s 28ms/step - loss: 0.2329 - val_loss: 0.3173\n",
            "Epoch 8/20\n",
            "500/500 [==============================] - 14s 27ms/step - loss: 0.2280 - val_loss: 0.3243\n",
            "Epoch 9/20\n",
            "500/500 [==============================] - 14s 27ms/step - loss: 0.2242 - val_loss: 0.3538\n",
            "Epoch 10/20\n",
            "500/500 [==============================] - 14s 28ms/step - loss: 0.2207 - val_loss: 0.3664\n",
            "Epoch 11/20\n",
            "500/500 [==============================] - 14s 28ms/step - loss: 0.2179 - val_loss: 0.3401\n",
            "Epoch 12/20\n",
            "500/500 [==============================] - 14s 27ms/step - loss: 0.2155 - val_loss: 0.3170\n",
            "Epoch 13/20\n",
            "500/500 [==============================] - 14s 27ms/step - loss: 0.2111 - val_loss: 0.3335\n",
            "Epoch 14/20\n",
            "500/500 [==============================] - 14s 28ms/step - loss: 0.2098 - val_loss: 0.3439\n",
            "Epoch 15/20\n",
            "500/500 [==============================] - 14s 28ms/step - loss: 0.2069 - val_loss: 0.3535\n",
            "Epoch 16/20\n",
            "500/500 [==============================] - 14s 27ms/step - loss: 0.2046 - val_loss: 0.3221\n",
            "Epoch 17/20\n",
            "500/500 [==============================] - 14s 27ms/step - loss: 0.2031 - val_loss: 0.3584\n",
            "Epoch 18/20\n",
            "500/500 [==============================] - 18s 35ms/step - loss: 0.2016 - val_loss: 0.3383\n",
            "Epoch 19/20\n",
            "500/500 [==============================] - 17s 34ms/step - loss: 0.2013 - val_loss: 0.3601\n",
            "Epoch 20/20\n",
            "500/500 [==============================] - 14s 28ms/step - loss: 0.1991 - val_loss: 0.3238\n"
          ],
          "name": "stdout"
        }
      ]
    },
    {
      "cell_type": "markdown",
      "metadata": {
        "id": "bOtukw2oOZ5v",
        "colab_type": "text"
      },
      "source": [
        "Let's display the loss curves for validation and training:"
      ]
    },
    {
      "cell_type": "code",
      "metadata": {
        "id": "qZFWlSzCOLC-",
        "colab_type": "code",
        "outputId": "a2366dff-1b4f-4fc9-d927-84946bd52bac",
        "colab": {
          "base_uri": "https://localhost:8080/"
        }
      },
      "source": [
        "loss = history.history['loss']\n",
        "val_loss = history.history['val_loss']\n",
        "\n",
        "epochs = range(len(loss))\n",
        "\n",
        "plt.figure()\n",
        "\n",
        "plt.plot(epochs, loss, 'bo', label='Training loss')\n",
        "plt.plot(epochs, val_loss, 'b', label='Validation loss')\n",
        "plt.title('Training and validation loss')\n",
        "plt.legend()\n",
        "\n",
        "plt.show()"
      ],
      "execution_count": 0,
      "outputs": [
        {
          "output_type": "display_data",
          "data": {
            "image/png": "[encoded data removed]",
            "text/plain": [
              "<Figure size 432x288 with 1 Axes>"
            ]
          },
          "metadata": {
            "tags": [],
            "needs_background": "light"
          }
        }
      ]
    },
    {
      "cell_type": "markdown",
      "metadata": {
        "id": "4QG_G1WfOjgy",
        "colab_type": "text"
      },
      "source": [
        "Some of our validation losses get close to the no-learning baseline, but not very reliably. This goes to show the merit of having had this baseline in the first place: it turns out not to be so easy to outperform. Our common sense contains already a lot of valuable information that a machine learning model does not have access to.\n",
        "\n",
        "You may ask, if there exists a simple, well-performing model to go from the data to the targets (our common sense baseline), why doesn't the model we are training find it and improve on it? Simply put: because this simple solution is not what our training setup is looking for. The space of models in which we are searching for a solution, i.e. our hypothesis space, is the space of all possible 2-layer networks with the configuration that we defined. These networks are already fairly complicated. When looking for a solution with a space of complicated models, the simple well-performing baseline might be unlearnable, even if it's technically part of the hypothesis space. That is a pretty significant limitation of machine learning in general: unless the learning algorithm is hard-coded to look for a specific kind of simple model, parameter learning can sometimes fail to find a simple solution to a simple problem."
      ]
    },
    {
      "cell_type": "markdown",
      "metadata": {
        "id": "j-2FNsa3OwBx",
        "colab_type": "text"
      },
      "source": [
        "## A first recurrent baseline"
      ]
    },
    {
      "cell_type": "markdown",
      "metadata": {
        "id": "xsJeRl84OyY-",
        "colab_type": "text"
      },
      "source": [
        "Our first fully-connected approach didn't do so well, but that doesn't mean machine learning is not applicable to our problem. **The approach above consisted in first flattening the timeseries, which removed the notion of time from the input data. Let us instead look at our data as what it is: a sequence, where causality and order matter.** We will try a recurrent sequence processing model -- it should be the perfect fit for such sequence data, precisely because it does exploit the temporal ordering of data points, unlike our first approach.\n",
        "\n",
        "Instead of the LSTM layer introduced in the previous section, we will use the GRU layer, developed by Cho et al. in 2014. **GRU layers (which stands for \"gated recurrent unit\") work by leveraging the same principle as LSTM, but they are somewhat streamlined and thus cheaper to run, albeit they may not have quite as much representational power as LSTM.** This trade-off between computational expensiveness and representational power is seen everywhere in machine learning."
      ]
    },
    {
      "cell_type": "code",
      "metadata": {
        "id": "MulcMpOGPRZy",
        "colab_type": "code",
        "outputId": "91406df0-0f7a-427b-bdb5-fab5918ce166",
        "colab": {
          "base_uri": "https://localhost:8080/",
          "height": 697
        }
      },
      "source": [
        "model = Sequential()\n",
        "model.add(GRU(32, input_shape=(None, float_data.shape[-1])))\n",
        "model.add(Dense(1))\n",
        "\n",
        "model.compile(optimizer=RMSprop(), loss='mae')\n",
        "history = model.fit_generator(train_gen, steps_per_epoch=500, epochs=20, validation_data=val_gen, validation_steps=val_steps)"
      ],
      "execution_count": 0,
      "outputs": [
        {
          "output_type": "stream",
          "text": [
            "Epoch 1/20\n",
            "500/500 [==============================] - 30s 60ms/step - loss: 0.3094 - val_loss: 0.2741\n",
            "Epoch 2/20\n",
            "500/500 [==============================] - 30s 60ms/step - loss: 0.2828 - val_loss: 0.2661\n",
            "Epoch 3/20\n",
            "500/500 [==============================] - 30s 59ms/step - loss: 0.2788 - val_loss: 0.2638\n",
            "Epoch 4/20\n",
            "500/500 [==============================] - 30s 60ms/step - loss: 0.2753 - val_loss: 0.2646\n",
            "Epoch 5/20\n",
            "500/500 [==============================] - 30s 60ms/step - loss: 0.2688 - val_loss: 0.2632\n",
            "Epoch 6/20\n",
            "500/500 [==============================] - 30s 60ms/step - loss: 0.2641 - val_loss: 0.2723\n",
            "Epoch 7/20\n",
            "500/500 [==============================] - 34s 68ms/step - loss: 0.2615 - val_loss: 0.2613\n",
            "Epoch 8/20\n",
            "500/500 [==============================] - 31s 62ms/step - loss: 0.2575 - val_loss: 0.2603\n",
            "Epoch 9/20\n",
            "500/500 [==============================] - 30s 60ms/step - loss: 0.2511 - val_loss: 0.2622\n",
            "Epoch 10/20\n",
            "500/500 [==============================] - 30s 60ms/step - loss: 0.2456 - val_loss: 0.2685\n",
            "Epoch 11/20\n",
            "500/500 [==============================] - 30s 61ms/step - loss: 0.2417 - val_loss: 0.2695\n",
            "Epoch 12/20\n",
            "500/500 [==============================] - 30s 60ms/step - loss: 0.2389 - val_loss: 0.2740\n",
            "Epoch 13/20\n",
            "500/500 [==============================] - 30s 60ms/step - loss: 0.2332 - val_loss: 0.2770\n",
            "Epoch 14/20\n",
            "500/500 [==============================] - 30s 60ms/step - loss: 0.2310 - val_loss: 0.2773\n",
            "Epoch 15/20\n",
            "500/500 [==============================] - 30s 60ms/step - loss: 0.2250 - val_loss: 0.2851\n",
            "Epoch 16/20\n",
            "500/500 [==============================] - 30s 60ms/step - loss: 0.2230 - val_loss: 0.2861\n",
            "Epoch 17/20\n",
            "500/500 [==============================] - 30s 60ms/step - loss: 0.2193 - val_loss: 0.2925\n",
            "Epoch 18/20\n",
            "500/500 [==============================] - 30s 60ms/step - loss: 0.2161 - val_loss: 0.2966\n",
            "Epoch 19/20\n",
            "500/500 [==============================] - 30s 60ms/step - loss: 0.2129 - val_loss: 0.2983\n",
            "Epoch 20/20\n",
            "500/500 [==============================] - 30s 60ms/step - loss: 0.2104 - val_loss: 0.2976\n"
          ],
          "name": "stdout"
        }
      ]
    },
    {
      "cell_type": "markdown",
      "metadata": {
        "id": "ydq7RlRZPwvj",
        "colab_type": "text"
      },
      "source": [
        "Let look at our results:"
      ]
    },
    {
      "cell_type": "code",
      "metadata": {
        "id": "kt50c4v6Pvyj",
        "colab_type": "code",
        "outputId": "12ddb113-2b7f-4704-98ff-fbdcc3e68b8b",
        "colab": {
          "base_uri": "https://localhost:8080/",
          "height": 281
        }
      },
      "source": [
        "loss = history.history['loss']\n",
        "val_loss = history.history['val_loss']\n",
        "\n",
        "epochs = range(len(loss))\n",
        "\n",
        "plt.figure()\n",
        "\n",
        "plt.plot(epochs, loss, 'bo', label='Training loss')\n",
        "plt.plot(epochs, val_loss, 'b', label='Validation loss')\n",
        "plt.title('Training and validation loss')\n",
        "plt.legend()\n",
        "\n",
        "plt.show()"
      ],
      "execution_count": 0,
      "outputs": [
        {
          "output_type": "display_data",
          "data": {
            "image/png": "[encoded data removed]",
            "text/plain": [
              "<Figure size 432x288 with 1 Axes>"
            ]
          },
          "metadata": {
            "tags": [],
            "needs_background": "light"
          }
        }
      ]
    },
    {
      "cell_type": "markdown",
      "metadata": {
        "id": "Fj8woooHP1cZ",
        "colab_type": "text"
      },
      "source": [
        "Much better! We are able to significantly beat the common sense baseline, such demonstrating the value of machine learning here, as well as the superiority of recurrent networks compared to sequence-flattening dense networks on this type of task.\n",
        "\n",
        "Our new validation MAE of ~0.265 (before we start significantly overfitting) translates to a mean absolute error of 2.35˚C after de-normalization. That's a solid gain on our initial error of 2.57˚C, but we probably still have a bit of margin for improvement."
      ]
    },
    {
      "cell_type": "markdown",
      "metadata": {
        "id": "eDtM38EDP6mD",
        "colab_type": "text"
      },
      "source": [
        "## Using recurrent dropout to fight overfitting"
      ]
    },
    {
      "cell_type": "markdown",
      "metadata": {
        "id": "3tnFcmx-P9Hq",
        "colab_type": "text"
      },
      "source": [
        "It is evident from our training and validation curves that our model is overfitting: the training and validation losses start diverging considerably after a few epochs. You are already familiar with a classic technique for fighting this phenomenon: dropout, consisting in randomly zeroing-out input units of a layer in order to break happenstance correlations in the training data that the layer is exposed to. How to correctly apply dropout in recurrent networks, however, is not a trivial question. **It has long been known that applying dropout before a recurrent layer hinders learning rather than helping with regularization**. In 2015, Yarin Gal, as part of his Ph.D. thesis on Bayesian deep learning, determined the proper way to use dropout with a recurrent network: the same dropout mask (the same pattern of dropped units) should be applied at every timestep, instead of a dropout mask that would vary randomly from timestep to timestep. What's more: in order to regularize the representations formed by the recurrent gates of layers such as GRU and LSTM, a temporally constant dropout mask should be applied to the inner recurrent activations of the layer (a \"recurrent\" dropout mask). Using the same dropout mask at every timestep allows the network to properly propagate its learning error through time; a temporally random dropout mask would instead disrupt this error signal and be harmful to the learning process.\n",
        "\n",
        "Yarin Gal did his research using Keras and helped build this mechanism directly into Keras recurrent layers. **Every recurrent layer in Keras has two dropout-related arguments: dropout, a float specifying the dropout rate for input units of the layer, and recurrent_dropout, specifying the dropout rate of the recurrent units**. Let's add dropout and recurrent dropout to our GRU layer and see how it impacts overfitting. Because networks being regularized with dropout always take longer to fully converge, we train our network for twice as many epochs."
      ]
    },
    {
      "cell_type": "code",
      "metadata": {
        "id": "lmMRdC3EdDDz",
        "colab_type": "code",
        "outputId": "7890468d-8b29-481d-d981-b91a0083695f",
        "colab": {
          "base_uri": "https://localhost:8080/",
          "height": 357
        }
      },
      "source": [
        "model = Sequential()\n",
        "model.add(GRU(32, dropout=0.2, recurrent_dropout=0.2, input_shape=(None, float_data.shape[-1])))\n",
        "model.add(Dense(1))\n",
        "\n",
        "model.compile(optimizer=RMSprop(), loss='mae')\n",
        "history = model.fit_generator(train_gen, steps_per_epoch=500, epochs=40, validation_data=val_gen, validation_steps=val_steps)"
      ],
      "execution_count": 0,
      "outputs": [
        {
          "output_type": "stream",
          "text": [
            "WARNING:tensorflow:Layer gru will not use cuDNN kernel since it doesn't meet the cuDNN kernel criteria. It will use generic GPU kernel as fallback when running on GPU\n",
            "WARNING:tensorflow:From <ipython-input-10-d3bd4da1a653>:6: Model.fit_generator (from tensorflow.python.keras.engine.training) is deprecated and will be removed in a future version.\n",
            "Instructions for updating:\n",
            "Please use Model.fit, which supports generators.\n",
            "Epoch 1/40\n",
            "500/500 [==============================] - 377s 753ms/step - loss: 0.3248 - val_loss: 0.2875\n",
            "Epoch 2/40\n",
            "500/500 [==============================] - 382s 765ms/step - loss: 0.3065 - val_loss: 0.2748\n",
            "Epoch 3/40\n",
            "500/500 [==============================] - 389s 778ms/step - loss: 0.2980 - val_loss: 0.2731\n",
            "Epoch 4/40\n",
            "500/500 [==============================] - 382s 763ms/step - loss: 0.2941 - val_loss: 0.2758\n",
            "Epoch 5/40\n",
            "500/500 [==============================] - 382s 764ms/step - loss: 0.2908 - val_loss: 0.2706\n",
            "Epoch 6/40\n",
            "500/500 [==============================] - 394s 788ms/step - loss: 0.2863 - val_loss: 0.2813\n",
            "Epoch 7/40\n",
            "500/500 [==============================] - 402s 805ms/step - loss: 0.2859 - val_loss: 0.2713\n",
            "Epoch 8/40\n",
            "384/500 [======================>.......] - ETA: 1:23 - loss: 0.2817"
          ],
          "name": "stdout"
        }
      ]
    },
    {
      "cell_type": "code",
      "metadata": {
        "id": "HoZKKpexeA1h",
        "colab_type": "code",
        "colab": {}
      },
      "source": [
        "loss = history.history['loss']\n",
        "val_loss = history.history['val_loss']\n",
        "\n",
        "epochs = range(len(loss))\n",
        "\n",
        "plt.figure()\n",
        "\n",
        "plt.plot(epochs, loss, 'bo', label='Training loss')\n",
        "plt.plot(epochs, val_loss, 'b', label='Validation loss')\n",
        "plt.title('Training and validation loss')\n",
        "plt.legend()\n",
        "\n",
        "plt.show()"
      ],
      "execution_count": 0,
      "outputs": []
    },
    {
      "cell_type": "markdown",
      "metadata": {
        "id": "9rudfy9UeKhO",
        "colab_type": "text"
      },
      "source": [
        "Great success; we are no longer overfitting during the first 30 epochs. However, while we have more stable evaluation scores, our best scores are not much lower than they were previously."
      ]
    },
    {
      "cell_type": "markdown",
      "metadata": {
        "id": "tqIaD8I_eLHx",
        "colab_type": "text"
      },
      "source": [
        "## Stacking recurrent layers"
      ]
    },
    {
      "cell_type": "markdown",
      "metadata": {
        "id": "i8pY0ZMteZ8M",
        "colab_type": "text"
      },
      "source": [
        "**Since we are no longer overfitting yet we seem to have hit a performance bottleneck, we should start considering increasing the capacity of our network.** If you remember our description of the \"universal machine learning workflow\": **it is a generally a good idea to increase the capacity of your network until overfitting becomes your primary obstacle** (assuming that you are already taking basic steps to mitigate overfitting, such as using dropout). **As long as you are not overfitting too badly, then you are likely under-capacity.**\n",
        "\n",
        "**Increasing network capacity is typically done by increasing the number of units in the layers, or adding more layers. Recurrent layer stacking is a classic way to build more powerful recurrent networks**: for instance, what currently powers the Google translate algorithm is a stack of seven large LSTM layers -- that's huge.\n",
        "\n",
        "**To stack recurrent layers on top of each other in Keras, all intermediate layers should return their full sequence of outputs (a 3D tensor) rather than their output at the last timestep. This is done by specifying return_sequences=True:**\n"
      ]
    },
    {
      "cell_type": "code",
      "metadata": {
        "id": "HEqAN6FBfBad",
        "colab_type": "code",
        "colab": {}
      },
      "source": [
        "model = Sequential()\n",
        "model.add(GRU(32, dropout=0.1, recurrent_dropout=0.2, return_sequences=True, input_shape=(None, float_data.shape[-1])))\n",
        "model.add(GRU(64, dropout=0.1, recurrent_dropout=0.5, activation='relu'))\n",
        "model.add(Dense(1))\n",
        "\n",
        "model.compile(optimizer=RMSprop(), loss='mae')\n",
        "history = model.fit_generator(train_gen, steps_per_epoch=500, epochs=40, validation_data=val_gen, validation_steps=val_steps)"
      ],
      "execution_count": 0,
      "outputs": []
    },
    {
      "cell_type": "markdown",
      "metadata": {
        "id": "Pb9JRuFhf3xU",
        "colab_type": "text"
      },
      "source": [
        "Let's take a look at our results:"
      ]
    },
    {
      "cell_type": "code",
      "metadata": {
        "id": "54GGSfXrf4Lb",
        "colab_type": "code",
        "colab": {}
      },
      "source": [
        "loss = history.history['loss']\n",
        "val_loss = history.history['val_loss']\n",
        "\n",
        "epochs = range(len(loss))\n",
        "\n",
        "plt.figure()\n",
        "\n",
        "plt.plot(epochs, loss, 'bo', label='Training loss')\n",
        "plt.plot(epochs, val_loss, 'b', label='Validation loss')\n",
        "plt.title('Training and validation loss')\n",
        "plt.legend()\n",
        "\n",
        "plt.show()"
      ],
      "execution_count": 0,
      "outputs": []
    },
    {
      "cell_type": "markdown",
      "metadata": {
        "id": "Dw-Ull5Cf6VF",
        "colab_type": "text"
      },
      "source": [
        "We can see that the added layers does improve ours results by a bit, albeit not very significantly. We can draw two conclusions:\n",
        "\n",
        "* Since we are still not overfitting too badly, we could safely increase the size of our layers, in quest for a bit of validation loss improvement. This does have a non-negligible computational cost, though.\n",
        "* Since adding a layer did not help us by a significant factor, we may be seeing diminishing returns to increasing network capacity at this point."
      ]
    },
    {
      "cell_type": "markdown",
      "metadata": {
        "id": "2fYHSqRlgDZO",
        "colab_type": "text"
      },
      "source": [
        "## Using bidirectional RNNs"
      ]
    },
    {
      "cell_type": "markdown",
      "metadata": {
        "id": "mxWUfZ7hgFm2",
        "colab_type": "text"
      },
      "source": [
        "The last technique that we will introduce in this section is called \"bidirectional RNNs\". **A bidirectional RNN is common RNN variant which can offer higher performance than a regular RNN on certain tasks. It is frequently used in natural language processing** -- you could call it the Swiss army knife of deep learning for NLP.\n",
        "\n",
        "**RNNs are notably order-dependent, or time-dependent**: they process the timesteps of their input sequences in order, and shuffling or reversing the timesteps can completely change the representations that the RNN will extract from the sequence. This is precisely the reason why they perform well on problems where order is meaningful, such as our temperature forecasting problem. A bidirectional RNN exploits the order-sensitivity of RNNs: **it simply consists of two regular RNNs, such as the GRU or LSTM layers that you are already familiar with, each processing input sequence in one direction (chronologically and antichronologically), then merging their representations. By processing a sequence both way, a bidirectional RNN is able to catch patterns that may have been overlooked by a one-direction RNN.**\n",
        "\n",
        "Remarkably, the fact that the RNN layers in this section have so far processed sequences in chronological order (older timesteps first) may have been an arbitrary decision. At least, it's a decision we made no attempt at questioning so far. Could it be that our RNNs could have performed well enough if it were processing input sequences in antichronological order, for instance (newer timesteps first)? Let's try this in practice and see what we get. All we need to do is write a variant of our data generator, where the input sequences get reverted along the time dimension (replace the last line with yield samples[:, ::-1, :], targets). Training the same one-GRU-layer network as we used in the first experiment in this section, we get the following results:"
      ]
    },
    {
      "cell_type": "code",
      "metadata": {
        "id": "5q9W5CeFlIQi",
        "colab_type": "code",
        "colab": {}
      },
      "source": [
        "def reverse_order_generator(data, lookback, delay, min_index, max_index, shuffle=False, batch_size=128, step=6):\n",
        "  if max_index is None:\n",
        "    max_index = len(data) - delay - 1\n",
        "  i = min_index + lookback\n",
        "  while 1:\n",
        "    if shuffle:\n",
        "      rows = np.random.randint(min_index + lookback, max_index, size=batch_size)\n",
        "    else:\n",
        "      if i + batch_size >= max_index:\n",
        "        i = min_index + lookback\n",
        "      rows = np.arange(i, min(i + batch_size, max_index))\n",
        "      i += len(rows)\n",
        "    \n",
        "    samples = np.zeros((len(rows), lookback // step, data.shape[-1]))\n",
        "    targets = np.zeros((len(rows),))\n",
        "\n",
        "    for j, row in enumerate(rows):\n",
        "      indices = range(rows[j] - lookback, rows[j], step)\n",
        "      samples[j] = data[indices]\n",
        "      targets[j] = data[rows[j] + delay][1]\n",
        "    yield samples[:, ::-1, :], targets"
      ],
      "execution_count": 0,
      "outputs": []
    },
    {
      "cell_type": "code",
      "metadata": {
        "id": "94u7xYjAltuy",
        "colab_type": "code",
        "colab": {}
      },
      "source": [
        "train_gen_reverse = reverse_order_generator(float_data, lookback=lookback, delay=delay, min_index=0, max_index=200000, shuffle=True, step=step, batch_size=batch_size)\n",
        "val_gen_reverse = reverse_order_generator(float_data, lookback=lookback, delay=delay, min_index=200001, max_index=300000, step=step, batch_size=batch_size)"
      ],
      "execution_count": 0,
      "outputs": []
    },
    {
      "cell_type": "code",
      "metadata": {
        "id": "Pkz5MyYxl8tI",
        "colab_type": "code",
        "colab": {
          "base_uri": "https://localhost:8080/",
          "height": 1000
        },
        "outputId": "92a27d0e-5d10-4c3e-d069-4fa40e0efc9e"
      },
      "source": [
        "model = Sequential()\n",
        "model.add(GRU(32, input_shape=(None, float_data.shape[-1])))\n",
        "model.add(Dense(1))\n",
        "\n",
        "model.compile(optimizer=RMSprop(), loss='mae')\n",
        "history = model.fit_generator(train_gen_reverse, steps_per_epoch=500, epochs=40, validation_data=val_gen_reverse, validation_steps=val_steps)"
      ],
      "execution_count": 11,
      "outputs": [
        {
          "output_type": "stream",
          "text": [
            "WARNING:tensorflow:From <ipython-input-11-1aa67a6693d9>:6: Model.fit_generator (from tensorflow.python.keras.engine.training) is deprecated and will be removed in a future version.\n",
            "Instructions for updating:\n",
            "Please use Model.fit, which supports generators.\n",
            "Epoch 1/40\n",
            "500/500 [==============================] - 16s 32ms/step - loss: 0.4781 - val_loss: 0.4886\n",
            "Epoch 2/40\n",
            "500/500 [==============================] - 16s 32ms/step - loss: 0.4495 - val_loss: 0.4732\n",
            "Epoch 3/40\n",
            "500/500 [==============================] - 19s 38ms/step - loss: 0.4065 - val_loss: 0.4624\n",
            "Epoch 4/40\n",
            "500/500 [==============================] - 17s 34ms/step - loss: 0.3712 - val_loss: 0.4645\n",
            "Epoch 5/40\n",
            "500/500 [==============================] - 15s 30ms/step - loss: 0.3432 - val_loss: 0.4481\n",
            "Epoch 6/40\n",
            "500/500 [==============================] - 15s 30ms/step - loss: 0.3218 - val_loss: 0.4329\n",
            "Epoch 7/40\n",
            "500/500 [==============================] - 15s 30ms/step - loss: 0.3084 - val_loss: 0.4194\n",
            "Epoch 8/40\n",
            "500/500 [==============================] - 15s 30ms/step - loss: 0.2989 - val_loss: 0.4003\n",
            "Epoch 9/40\n",
            "500/500 [==============================] - 15s 30ms/step - loss: 0.2889 - val_loss: 0.4028\n",
            "Epoch 10/40\n",
            "500/500 [==============================] - 15s 31ms/step - loss: 0.2793 - val_loss: 0.4017\n",
            "Epoch 11/40\n",
            "500/500 [==============================] - 17s 35ms/step - loss: 0.2719 - val_loss: 0.4096\n",
            "Epoch 12/40\n",
            "500/500 [==============================] - 15s 31ms/step - loss: 0.2649 - val_loss: 0.4064\n",
            "Epoch 13/40\n",
            "500/500 [==============================] - 15s 30ms/step - loss: 0.2566 - val_loss: 0.4108\n",
            "Epoch 14/40\n",
            "500/500 [==============================] - 16s 32ms/step - loss: 0.2505 - val_loss: 0.4055\n",
            "Epoch 15/40\n",
            "500/500 [==============================] - 16s 31ms/step - loss: 0.2446 - val_loss: 0.4100\n",
            "Epoch 16/40\n",
            "500/500 [==============================] - 15s 30ms/step - loss: 0.2397 - val_loss: 0.4025\n",
            "Epoch 17/40\n",
            "500/500 [==============================] - 15s 30ms/step - loss: 0.2372 - val_loss: 0.4034\n",
            "Epoch 18/40\n",
            "500/500 [==============================] - 15s 30ms/step - loss: 0.2331 - val_loss: 0.4039\n",
            "Epoch 19/40\n",
            "500/500 [==============================] - 17s 35ms/step - loss: 0.2276 - val_loss: 0.4126\n",
            "Epoch 20/40\n",
            "500/500 [==============================] - 15s 31ms/step - loss: 0.2273 - val_loss: 0.4121\n",
            "Epoch 21/40\n",
            "500/500 [==============================] - 15s 30ms/step - loss: 0.2221 - val_loss: 0.4144\n",
            "Epoch 22/40\n",
            "500/500 [==============================] - 15s 30ms/step - loss: 0.2179 - val_loss: 0.4058\n",
            "Epoch 23/40\n",
            "500/500 [==============================] - 15s 30ms/step - loss: 0.2152 - val_loss: 0.4199\n",
            "Epoch 24/40\n",
            "500/500 [==============================] - 15s 30ms/step - loss: 0.2152 - val_loss: 0.4062\n",
            "Epoch 25/40\n",
            "500/500 [==============================] - 15s 30ms/step - loss: 0.2123 - val_loss: 0.4262\n",
            "Epoch 26/40\n",
            "500/500 [==============================] - 15s 30ms/step - loss: 0.2092 - val_loss: 0.4137\n",
            "Epoch 27/40\n",
            "500/500 [==============================] - 15s 29ms/step - loss: 0.2059 - val_loss: 0.4167\n",
            "Epoch 28/40\n",
            "500/500 [==============================] - 15s 30ms/step - loss: 0.2053 - val_loss: 0.4071\n",
            "Epoch 29/40\n",
            "500/500 [==============================] - 15s 29ms/step - loss: 0.2012 - val_loss: 0.4272\n",
            "Epoch 30/40\n",
            "500/500 [==============================] - 15s 29ms/step - loss: 0.2009 - val_loss: 0.4100\n",
            "Epoch 31/40\n",
            "500/500 [==============================] - 15s 30ms/step - loss: 0.1990 - val_loss: 0.4129\n",
            "Epoch 32/40\n",
            "500/500 [==============================] - 15s 29ms/step - loss: 0.1974 - val_loss: 0.4152\n",
            "Epoch 33/40\n",
            "500/500 [==============================] - 15s 29ms/step - loss: 0.1943 - val_loss: 0.4173\n",
            "Epoch 34/40\n",
            "500/500 [==============================] - 15s 30ms/step - loss: 0.1936 - val_loss: 0.4156\n",
            "Epoch 35/40\n",
            "500/500 [==============================] - 15s 29ms/step - loss: 0.1926 - val_loss: 0.4148\n",
            "Epoch 36/40\n",
            "500/500 [==============================] - 15s 29ms/step - loss: 0.1900 - val_loss: 0.4147\n",
            "Epoch 37/40\n",
            "500/500 [==============================] - 15s 30ms/step - loss: 0.1886 - val_loss: 0.4140\n",
            "Epoch 38/40\n",
            "500/500 [==============================] - 15s 29ms/step - loss: 0.1868 - val_loss: 0.4159\n",
            "Epoch 39/40\n",
            "500/500 [==============================] - 15s 30ms/step - loss: 0.1869 - val_loss: 0.4183\n",
            "Epoch 40/40\n",
            "500/500 [==============================] - 15s 30ms/step - loss: 0.1840 - val_loss: 0.4155\n"
          ],
          "name": "stdout"
        }
      ]
    },
    {
      "cell_type": "code",
      "metadata": {
        "id": "u11WC9GRmip_",
        "colab_type": "code",
        "colab": {
          "base_uri": "https://localhost:8080/",
          "height": 281
        },
        "outputId": "580b2fa9-8315-4eff-aadc-396c90621b9c"
      },
      "source": [
        "loss = history.history['loss']\n",
        "val_loss = history.history['val_loss']\n",
        "\n",
        "epochs = range(len(loss))\n",
        "\n",
        "plt.figure()\n",
        "\n",
        "plt.plot(epochs, loss, 'bo', label='Training loss')\n",
        "plt.plot(epochs, val_loss, 'b', label='Validation loss')\n",
        "plt.title('Training and validation loss')\n",
        "plt.legend()\n",
        "\n",
        "plt.show()"
      ],
      "execution_count": 12,
      "outputs": [
        {
          "output_type": "display_data",
          "data": {
            "image/png": "[encoded data removed]",
            "text/plain": [
              "<Figure size 432x288 with 1 Axes>"
            ]
          },
          "metadata": {
            "tags": [],
            "needs_background": "light"
          }
        }
      ]
    },
    {
      "cell_type": "markdown",
      "metadata": {
        "id": "5wJSTGSLnr9p",
        "colab_type": "text"
      },
      "source": [
        "So the reversed-order GRU strongly underperforms even the common-sense baseline, indicating that the in our case chronological processing is very important to the success of our approach. This makes perfect sense: the underlying GRU layer will typically be better at remembering the recent past than the distant past, and naturally the more recent weather data points are more predictive than older data points in our problem (that's precisely what makes the common-sense baseline a fairly strong baseline). \n"
      ]
    },
    {
      "cell_type": "markdown",
      "metadata": {
        "id": "bNp3sPl0nzFM",
        "colab_type": "text"
      },
      "source": [
        "### Training and evaluating an LSTM using reversed sequences"
      ]
    },
    {
      "cell_type": "markdown",
      "metadata": {
        "id": "FRu3XQhZnzdZ",
        "colab_type": "text"
      },
      "source": [
        "Thus the chronological version of the layer is bound to outperform the reversed-order version. Importantly, this is generally not true for many other problems, including natural language: intuitively, the importance of a word in understanding a sentence is not usually dependent on its position in the sentence. Let's try the same trick on the LSTM IMDB example from the previous section:"
      ]
    },
    {
      "cell_type": "code",
      "metadata": {
        "id": "Xq5bS9sfoLQL",
        "colab_type": "code",
        "colab": {
          "base_uri": "https://localhost:8080/",
          "height": 357
        },
        "outputId": "2142b3ed-dd1d-4bde-9ae4-0161b828e171"
      },
      "source": [
        "# Number of words to consider as features\n",
        "max_features = 10000\n",
        "# Cut texts after this number of words (among top max_features most common words)\n",
        "maxlen = 500\n",
        "\n",
        "# Load data\n",
        "(x_train, y_train), (x_test, y_test) = imdb.load_data(num_words=max_features)\n",
        "\n",
        "# Reverse sequences\n",
        "x_train = [x[::-1] for x in x_train]\n",
        "x_test = [x[::-1] for x in x_test]\n",
        "\n",
        "# Pad sequences\n",
        "x_train = pad_sequences(x_train, maxlen=maxlen)\n",
        "x_test = pad_sequences(x_test, maxlen=maxlen)\n",
        "\n",
        "model = Sequential()\n",
        "model.add(Embedding(max_features, 128))\n",
        "model.add(LSTM(32))\n",
        "model.add(Dense(1, activation='sigmoid'))\n",
        "\n",
        "model.compile(optimizer=RMSprop(), loss='binary_crossentropy', metrics=['accuracy'])\n",
        "history = model.fit(x_train, y_train, epochs=10, batch_size=128, validation_split=0.2)"
      ],
      "execution_count": 15,
      "outputs": [
        {
          "output_type": "stream",
          "text": [
            "Epoch 1/10\n",
            "157/157 [==============================] - 7s 48ms/step - loss: 0.4833 - accuracy: 0.7691 - val_loss: 1.0126 - val_accuracy: 0.6674\n",
            "Epoch 2/10\n",
            "157/157 [==============================] - 7s 46ms/step - loss: 0.3049 - accuracy: 0.8816 - val_loss: 0.3224 - val_accuracy: 0.8704\n",
            "Epoch 3/10\n",
            "157/157 [==============================] - 7s 46ms/step - loss: 0.2539 - accuracy: 0.9073 - val_loss: 0.3458 - val_accuracy: 0.8484\n",
            "Epoch 4/10\n",
            "157/157 [==============================] - 7s 45ms/step - loss: 0.2133 - accuracy: 0.9227 - val_loss: 0.3202 - val_accuracy: 0.8844\n",
            "Epoch 5/10\n",
            "157/157 [==============================] - 7s 45ms/step - loss: 0.1913 - accuracy: 0.9329 - val_loss: 0.3792 - val_accuracy: 0.8702\n",
            "Epoch 6/10\n",
            "157/157 [==============================] - 7s 45ms/step - loss: 0.1635 - accuracy: 0.9432 - val_loss: 0.4466 - val_accuracy: 0.7944\n",
            "Epoch 7/10\n",
            "157/157 [==============================] - 7s 45ms/step - loss: 0.1518 - accuracy: 0.9481 - val_loss: 0.3858 - val_accuracy: 0.8668\n",
            "Epoch 8/10\n",
            "157/157 [==============================] - 7s 45ms/step - loss: 0.1421 - accuracy: 0.9520 - val_loss: 0.4152 - val_accuracy: 0.8456\n",
            "Epoch 9/10\n",
            "157/157 [==============================] - 7s 46ms/step - loss: 0.1299 - accuracy: 0.9542 - val_loss: 0.4731 - val_accuracy: 0.8664\n",
            "Epoch 10/10\n",
            "157/157 [==============================] - 7s 46ms/step - loss: 0.1177 - accuracy: 0.9614 - val_loss: 0.4671 - val_accuracy: 0.8574\n"
          ],
          "name": "stdout"
        }
      ]
    },
    {
      "cell_type": "code",
      "metadata": {
        "id": "MRofmFuAO8-1",
        "colab_type": "code",
        "colab": {
          "base_uri": "https://localhost:8080/",
          "height": 281
        },
        "outputId": "488c5727-b53f-4599-e26a-d3890d456e33"
      },
      "source": [
        "loss = history.history['loss']\n",
        "val_loss = history.history['val_loss']\n",
        "\n",
        "epochs = range(len(loss))\n",
        "\n",
        "plt.figure()\n",
        "\n",
        "plt.plot(epochs, loss, 'bo', label='Training loss')\n",
        "plt.plot(epochs, val_loss, 'b', label='Validation loss')\n",
        "plt.title('Training and validation loss')\n",
        "plt.legend()\n",
        "\n",
        "plt.show()"
      ],
      "execution_count": 16,
      "outputs": [
        {
          "output_type": "display_data",
          "data": {
            "image/png": "[encoded data removed]",
            "text/plain": [
              "<Figure size 432x288 with 1 Axes>"
            ]
          },
          "metadata": {
            "tags": [],
            "needs_background": "light"
          }
        }
      ]
    },
    {
      "cell_type": "markdown",
      "metadata": {
        "id": "L7Sxck07RNOD",
        "colab_type": "text"
      },
      "source": [
        "We get near-identical performance as the chronological-order LSTM we tried in the previous section.\n",
        "\n",
        "Thus, remarkably, on such a text dataset, reversed-order processing works just as well as chronological processing, confirming our hypothesis that, albeit word order does matter in understanding language, which order you use isn't crucial. Importantly, a RNN trained on reversed sequences will learn different representations than one trained on the original sequences, in much the same way that you would have quite different mental models if time flowed backwards in the real world -- if you lived a life where you died on your first day and you were born on your last day. In machine learning, representations that are different yet useful are always worth exploiting, and the more they differ the better: they offer a new angle from which to look at your data, capturing aspects of the data that were missed by other approaches, and thus they can allow to boost performance on a task. This is the intuition behind \"ensembling\", a concept that we will introduce in the next chapter."
      ]
    },
    {
      "cell_type": "markdown",
      "metadata": {
        "id": "fVEP6B95RNZy",
        "colab_type": "text"
      },
      "source": [
        "### Training and evaluating a bidirectional LSTM"
      ]
    },
    {
      "cell_type": "markdown",
      "metadata": {
        "id": "lkFLjV1-O95D",
        "colab_type": "text"
      },
      "source": [
        "A bidirectional RNN exploits this idea to improve upon the performance of chronological-order RNNs: it looks at its inputs sequence both ways, obtaining potentially richer representations and capturing patterns that may have been missed by the chronological-order version alone.\n",
        "\n",
        "<img src='https://s3.amazonaws.com/book.keras.io/img/ch6/bidirectional_rnn.png?raw=1' width='800'/>\n",
        "\n",
        "To instantiate a bidirectional RNN in Keras, one would use the Bidirectional layer, which takes as first argument a recurrent layer instance. Bidirectional will create a second, separate instance of this recurrent layer, and will use one instance for processing the input sequences in chronological order and the other instance for processing the input sequences in reversed order. Let's try it on the IMDB sentiment analysis task:"
      ]
    },
    {
      "cell_type": "code",
      "metadata": {
        "id": "_J4UU7k3Pnnm",
        "colab_type": "code",
        "colab": {}
      },
      "source": [
        "K.clear_session()"
      ],
      "execution_count": 0,
      "outputs": []
    },
    {
      "cell_type": "code",
      "metadata": {
        "id": "hjOR5P_0RkXu",
        "colab_type": "code",
        "colab": {
          "base_uri": "https://localhost:8080/",
          "height": 357
        },
        "outputId": "bb6020bd-534f-49a8-ead7-2c7402d3a433"
      },
      "source": [
        "model = Sequential()\n",
        "model.add(Embedding(max_features, 32))\n",
        "model.add(Bidirectional(LSTM(32)))\n",
        "model.add(Dense(1, activation='sigmoid'))\n",
        "\n",
        "model.compile(optimizer=RMSprop(), loss='binary_crossentropy', metrics=['accuracy'])\n",
        "history = model.fit(x_train, y_train, epochs=10, batch_size=128, validation_split=0.2)"
      ],
      "execution_count": 19,
      "outputs": [
        {
          "output_type": "stream",
          "text": [
            "Epoch 1/10\n",
            "157/157 [==============================] - 8s 52ms/step - loss: 0.5624 - accuracy: 0.7180 - val_loss: 1.1446 - val_accuracy: 0.5726\n",
            "Epoch 2/10\n",
            "157/157 [==============================] - 8s 49ms/step - loss: 0.3429 - accuracy: 0.8679 - val_loss: 0.3142 - val_accuracy: 0.8790\n",
            "Epoch 3/10\n",
            "157/157 [==============================] - 8s 49ms/step - loss: 0.2661 - accuracy: 0.9010 - val_loss: 0.3794 - val_accuracy: 0.8402\n",
            "Epoch 4/10\n",
            "157/157 [==============================] - 8s 49ms/step - loss: 0.2298 - accuracy: 0.9183 - val_loss: 0.3216 - val_accuracy: 0.8764\n",
            "Epoch 5/10\n",
            "157/157 [==============================] - 8s 49ms/step - loss: 0.1994 - accuracy: 0.9279 - val_loss: 0.4256 - val_accuracy: 0.8774\n",
            "Epoch 6/10\n",
            "157/157 [==============================] - 8s 49ms/step - loss: 0.1788 - accuracy: 0.9391 - val_loss: 0.5443 - val_accuracy: 0.8046\n",
            "Epoch 7/10\n",
            "157/157 [==============================] - 8s 49ms/step - loss: 0.1598 - accuracy: 0.9445 - val_loss: 0.4501 - val_accuracy: 0.8756\n",
            "Epoch 8/10\n",
            "157/157 [==============================] - 8s 49ms/step - loss: 0.1539 - accuracy: 0.9464 - val_loss: 0.3451 - val_accuracy: 0.8762\n",
            "Epoch 9/10\n",
            "157/157 [==============================] - 8s 49ms/step - loss: 0.1283 - accuracy: 0.9557 - val_loss: 0.4235 - val_accuracy: 0.8722\n",
            "Epoch 10/10\n",
            "157/157 [==============================] - 8s 49ms/step - loss: 0.1252 - accuracy: 0.9597 - val_loss: 0.4042 - val_accuracy: 0.8830\n"
          ],
          "name": "stdout"
        }
      ]
    },
    {
      "cell_type": "code",
      "metadata": {
        "id": "zbRBjjVFSJzN",
        "colab_type": "code",
        "colab": {
          "base_uri": "https://localhost:8080/",
          "height": 281
        },
        "outputId": "c6fca86f-00aa-4eab-c16f-b3538a438d0d"
      },
      "source": [
        "loss = history.history['loss']\n",
        "val_loss = history.history['val_loss']\n",
        "\n",
        "epochs = range(len(loss))\n",
        "\n",
        "plt.figure()\n",
        "\n",
        "plt.plot(epochs, loss, 'bo', label='Training loss')\n",
        "plt.plot(epochs, val_loss, 'b', label='Validation loss')\n",
        "plt.title('Training and validation loss')\n",
        "plt.legend()\n",
        "\n",
        "plt.show()"
      ],
      "execution_count": 20,
      "outputs": [
        {
          "output_type": "display_data",
          "data": {
            "image/png": "[encoded data removed]",
            "text/plain": [
              "<Figure size 432x288 with 1 Axes>"
            ]
          },
          "metadata": {
            "tags": [],
            "needs_background": "light"
          }
        }
      ]
    },
    {
      "cell_type": "markdown",
      "metadata": {
        "id": "uHBPSFR6SWP1",
        "colab_type": "text"
      },
      "source": [
        "It performs slightly better than the regular LSTM we tried in the previous section, going above 88% validation accuracy. It also seems to overfit faster, which is unsurprising since a bidirectional layer has twice more parameters than a chronological LSTM. With some regularization, the bidirectional approach would likely be a strong performer on this task."
      ]
    },
    {
      "cell_type": "markdown",
      "metadata": {
        "id": "im5yEsfqSbSW",
        "colab_type": "text"
      },
      "source": [
        "### Training a bidirectional GRU"
      ]
    },
    {
      "cell_type": "markdown",
      "metadata": {
        "id": "xcKQyydXScME",
        "colab_type": "text"
      },
      "source": [
        "Now let's try the same approach on the weather prediction task:"
      ]
    },
    {
      "cell_type": "code",
      "metadata": {
        "id": "gTgHlYFLTJPr",
        "colab_type": "code",
        "colab": {}
      },
      "source": [
        "K.clear_session()"
      ],
      "execution_count": 0,
      "outputs": []
    },
    {
      "cell_type": "code",
      "metadata": {
        "id": "Nans_D8HSfV3",
        "colab_type": "code",
        "colab": {
          "base_uri": "https://localhost:8080/",
          "height": 1000
        },
        "outputId": "5a2b2f18-997b-4917-f4ed-79f3be59609a"
      },
      "source": [
        "model = Sequential()\n",
        "model.add(Bidirectional(GRU(32), input_shape=(None, float_data.shape[-1])))\n",
        "model.add(Dense(1))\n",
        "\n",
        "model.compile(optimizer=RMSprop(), loss='mse')\n",
        "history = model.fit_generator(train_gen, steps_per_epoch=500, epochs=40, validation_data=val_gen, validation_steps=val_steps)"
      ],
      "execution_count": 25,
      "outputs": [
        {
          "output_type": "stream",
          "text": [
            "Epoch 1/40\n",
            "500/500 [==============================] - 22s 44ms/step - loss: 0.1549 - val_loss: 0.1235\n",
            "Epoch 2/40\n",
            "500/500 [==============================] - 21s 42ms/step - loss: 0.1227 - val_loss: 0.1201\n",
            "Epoch 3/40\n",
            "500/500 [==============================] - 21s 41ms/step - loss: 0.1173 - val_loss: 0.1176\n",
            "Epoch 4/40\n",
            "500/500 [==============================] - 20s 41ms/step - loss: 0.1120 - val_loss: 0.1198\n",
            "Epoch 5/40\n",
            "500/500 [==============================] - 20s 41ms/step - loss: 0.1066 - val_loss: 0.1201\n",
            "Epoch 6/40\n",
            "500/500 [==============================] - 20s 41ms/step - loss: 0.1018 - val_loss: 0.1260\n",
            "Epoch 7/40\n",
            "500/500 [==============================] - 20s 41ms/step - loss: 0.0950 - val_loss: 0.1309\n",
            "Epoch 8/40\n",
            "500/500 [==============================] - 20s 40ms/step - loss: 0.0881 - val_loss: 0.1394\n",
            "Epoch 9/40\n",
            "500/500 [==============================] - 20s 40ms/step - loss: 0.0827 - val_loss: 0.1452\n",
            "Epoch 10/40\n",
            "500/500 [==============================] - 20s 41ms/step - loss: 0.0779 - val_loss: 0.1488\n",
            "Epoch 11/40\n",
            "500/500 [==============================] - 20s 40ms/step - loss: 0.0729 - val_loss: 0.1596\n",
            "Epoch 12/40\n",
            "500/500 [==============================] - 20s 40ms/step - loss: 0.0678 - val_loss: 0.1630\n",
            "Epoch 13/40\n",
            "500/500 [==============================] - 20s 40ms/step - loss: 0.0624 - val_loss: 0.1764\n",
            "Epoch 14/40\n",
            "500/500 [==============================] - 20s 40ms/step - loss: 0.0589 - val_loss: 0.1777\n",
            "Epoch 15/40\n",
            "500/500 [==============================] - 20s 40ms/step - loss: 0.0550 - val_loss: 0.1835\n",
            "Epoch 16/40\n",
            "500/500 [==============================] - 20s 40ms/step - loss: 0.0523 - val_loss: 0.1874\n",
            "Epoch 17/40\n",
            "500/500 [==============================] - 20s 41ms/step - loss: 0.0490 - val_loss: 0.1907\n",
            "Epoch 18/40\n",
            "500/500 [==============================] - 20s 41ms/step - loss: 0.0469 - val_loss: 0.2016\n",
            "Epoch 19/40\n",
            "500/500 [==============================] - 20s 41ms/step - loss: 0.0443 - val_loss: 0.1954\n",
            "Epoch 20/40\n",
            "500/500 [==============================] - 20s 41ms/step - loss: 0.0422 - val_loss: 0.2010\n",
            "Epoch 21/40\n",
            "500/500 [==============================] - 20s 41ms/step - loss: 0.0404 - val_loss: 0.2007\n",
            "Epoch 22/40\n",
            "500/500 [==============================] - 21s 41ms/step - loss: 0.0389 - val_loss: 0.1983\n",
            "Epoch 23/40\n",
            "500/500 [==============================] - 20s 41ms/step - loss: 0.0377 - val_loss: 0.2040\n",
            "Epoch 24/40\n",
            "500/500 [==============================] - 21s 42ms/step - loss: 0.0364 - val_loss: 0.2022\n",
            "Epoch 25/40\n",
            "500/500 [==============================] - 21s 41ms/step - loss: 0.0354 - val_loss: 0.2078\n",
            "Epoch 26/40\n",
            "500/500 [==============================] - 20s 41ms/step - loss: 0.0347 - val_loss: 0.2046\n",
            "Epoch 27/40\n",
            "500/500 [==============================] - 20s 41ms/step - loss: 0.0337 - val_loss: 0.2025\n",
            "Epoch 28/40\n",
            "500/500 [==============================] - 21s 41ms/step - loss: 0.0324 - val_loss: 0.2063\n",
            "Epoch 29/40\n",
            "500/500 [==============================] - 20s 40ms/step - loss: 0.0319 - val_loss: 0.2117\n",
            "Epoch 30/40\n",
            "500/500 [==============================] - 20s 41ms/step - loss: 0.0309 - val_loss: 0.2099\n",
            "Epoch 31/40\n",
            "500/500 [==============================] - 20s 40ms/step - loss: 0.0298 - val_loss: 0.2048\n",
            "Epoch 32/40\n",
            "500/500 [==============================] - 20s 40ms/step - loss: 0.0292 - val_loss: 0.2036\n",
            "Epoch 33/40\n",
            "500/500 [==============================] - 20s 40ms/step - loss: 0.0288 - val_loss: 0.2060\n",
            "Epoch 34/40\n",
            "500/500 [==============================] - 20s 40ms/step - loss: 0.0285 - val_loss: 0.2095\n",
            "Epoch 35/40\n",
            "500/500 [==============================] - 20s 40ms/step - loss: 0.0279 - val_loss: 0.2083\n",
            "Epoch 36/40\n",
            "500/500 [==============================] - 24s 47ms/step - loss: 0.0272 - val_loss: 0.2039\n",
            "Epoch 37/40\n",
            "500/500 [==============================] - 22s 44ms/step - loss: 0.0271 - val_loss: 0.2051\n",
            "Epoch 38/40\n",
            "500/500 [==============================] - 20s 41ms/step - loss: 0.0267 - val_loss: 0.2131\n",
            "Epoch 39/40\n",
            "500/500 [==============================] - 20s 41ms/step - loss: 0.0263 - val_loss: 0.2039\n",
            "Epoch 40/40\n",
            "500/500 [==============================] - 20s 41ms/step - loss: 0.0256 - val_loss: 0.2070\n"
          ],
          "name": "stdout"
        }
      ]
    },
    {
      "cell_type": "code",
      "metadata": {
        "id": "B5Q9XHnBTtQM",
        "colab_type": "code",
        "colab": {
          "base_uri": "https://localhost:8080/",
          "height": 281
        },
        "outputId": "f4eb0f95-e41b-4fb2-f357-ad7eb010a9e3"
      },
      "source": [
        "loss = history.history['loss']\n",
        "val_loss = history.history['val_loss']\n",
        "\n",
        "epochs = range(len(loss))\n",
        "\n",
        "plt.figure()\n",
        "\n",
        "plt.plot(epochs, loss, 'bo', label='Training loss')\n",
        "plt.plot(epochs, val_loss, 'b', label='Validation loss')\n",
        "plt.title('Training and validation loss')\n",
        "plt.legend()\n",
        "\n",
        "plt.show()"
      ],
      "execution_count": 26,
      "outputs": [
        {
          "output_type": "display_data",
          "data": {
            "image/png": "[encoded data removed]",
            "text/plain": [
              "<Figure size 432x288 with 1 Axes>"
            ]
          },
          "metadata": {
            "tags": [],
            "needs_background": "light"
          }
        }
      ]
    },
    {
      "cell_type": "markdown",
      "metadata": {
        "id": "Git725xoXHgg",
        "colab_type": "text"
      },
      "source": [
        "This performs about as well as the regular GRU layer. It’s easy to understand why: all the predictive capacity must come from the chronological half of the network, because the antichronological half is known to be severely underperforming on this task (again, because the recent past matters much more than the distant past in this case)."
      ]
    },
    {
      "cell_type": "markdown",
      "metadata": {
        "id": "4WwB2iUsTt-d",
        "colab_type": "text"
      },
      "source": [
        "## Going even further"
      ]
    },
    {
      "cell_type": "markdown",
      "metadata": {
        "id": "01W53JIvT81d",
        "colab_type": "text"
      },
      "source": [
        "At this stage, there are still many other things you could try in order to improve performance on our weather forecasting problem:\n",
        "\n",
        "* Adjust the number of units in each recurrent layer in the stacked setup. Our current choices are largely arbitrary and thus likely suboptimal.\n",
        "* Adjust the learning rate used by our RMSprop optimizer.\n",
        "* Try using LSTM layers instead of GRU layers.\n",
        "* Try using a bigger densely-connected regressor on top of the recurrent layers, i.e. a bigger Dense layer or even a stack of Dense layers.\n",
        "* Don't forget to eventually run the best performing models (in terms of validation MAE) on the test set! Least you start developing architectures that are overfitting to the validation set.\n",
        "\n",
        "As usual: deep learning is more an art than a science, and while we can provide guidelines as to what is likely to work or not work on a given problem, ultimately every problem is unique and you will have to try and evaluate different strategies empirically. There is currently no theory that will tell you in advance precisely what you should do to optimally solve a problem. You must try and iterate."
      ]
    },
    {
      "cell_type": "markdown",
      "metadata": {
        "id": "SRsTDXuuUJKj",
        "colab_type": "text"
      },
      "source": [
        "## Wrapping up"
      ]
    },
    {
      "cell_type": "markdown",
      "metadata": {
        "id": "TsOPIVhtUJ71",
        "colab_type": "text"
      },
      "source": [
        "Here's what you should take away from this section:\n",
        "\n",
        "*  When approaching a new problem, it is good to first establish common sense baselines for your metric of choice. If you don't have a baseline to beat, you can't tell if you are making any real progress.\n",
        "\n",
        "* Try simple models before expensive ones, to justify the additional expense. Sometimes a simple model will turn out to be your best option.\n",
        "\n",
        "* On data where temporal ordering matters, recurrent networks are a great fit and easily outperform models that first flatten the temporal data.\n",
        "\n",
        "* To use dropout with recurrent networks, one should use a time-constant dropout mask and recurrent dropout mask. This is built into Keras recurrent layers, so all you have to do is use the dropout and recurrent_dropout arguments of recurrent layers.\n",
        "\n",
        "* Stacked RNNs provide more representational power than a single RNN layer. They are also much more expensive, and thus not always worth it. While they offer clear gains on complex problems (e.g. machine translation), they might not always be relevant to smaller, simpler problems.\n",
        "\n",
        "* Bidirectional RNNs, which look at a sequence both ways, are very useful on natural language processing problems. However, they will not be strong performers on sequence data where the recent past is much more informative than the beginning of the sequence.\n"
      ]
    }
  ]
}