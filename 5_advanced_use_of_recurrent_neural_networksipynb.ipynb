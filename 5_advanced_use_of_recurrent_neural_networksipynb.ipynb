{
  "nbformat": 4,
  "nbformat_minor": 0,
  "metadata": {
    "colab": {
      "name": "5-advanced-use-of-recurrent-neural-networksipynb",
      "provenance": [],
      "toc_visible": true,
      "include_colab_link": true
    },
    "kernelspec": {
      "name": "python3",
      "display_name": "Python 3"
    },
    "accelerator": "GPU"
  },
  "cells": [
    {
      "cell_type": "markdown",
      "metadata": {
        "id": "view-in-github",
        "colab_type": "text"
      },
      "source": [
        "<a href=\"https://colab.research.google.com/github/rahiakela/deep-learning-with-python-francois-chollet/blob/6-deep-learning-for-text-and-sequences/5_advanced_use_of_recurrent_neural_networksipynb.ipynb\" target=\"_parent\"><img src=\"https://colab.research.google.com/assets/colab-badge.svg\" alt=\"Open In Colab\"/></a>"
      ]
    },
    {
      "cell_type": "markdown",
      "metadata": {
        "id": "xEmGMZ4jIJgm",
        "colab_type": "text"
      },
      "source": [
        "# Advanced use of recurrent neural networks"
      ]
    },
    {
      "cell_type": "markdown",
      "metadata": {
        "id": "A_FHcZb4ILRf",
        "colab_type": "text"
      },
      "source": [
        "**A major characteristic of all neural networks you’ve seen so far, such as densely connected networks and convnets, is that they have no memory. Each input shown to them is processed independently, with no state kept in between inputs.**\n",
        "\n",
        "**With such networks, in order to process a sequence or a temporal series of data points, you have to show the entire sequence to the network at once: turn it into a single data point.**\n",
        "\n",
        "For instance, this is what you did in the IMDB example: an entire movie review was transformed into a single large vector(flatten) and processed in one go. Such networks are called **feedforward networks**.\n",
        "\n",
        "In contrast, as you’re reading the present sentence, you’re processing it word by word—or rather, eye saccade by eye saccade—while keeping memories of what came before; this gives you a fluid representation of the meaning conveyed by this sentence.\n",
        "\n",
        "**Biological intelligence processes information incrementally while maintaining an internal model of what it’s processing, built from past information and constantly updated as new information comes in**.\n",
        "\n",
        "A **recurrent neural network (RNN)** adopts the same principle, albeit in an extremely simplified version: **it processes sequences by iterating through the sequence elements and maintaining a state containing information relative to what it has seen so far. In effect, an RNN is a type of neural network that has an internal loop.**\n",
        "\n",
        "The state of the RNN is reset between processing two different,\n",
        "independent sequences (such as two different IMDB reviews), so you still consider one sequence a single data point: **a single input to the network. What changes is that this data point is no longer processed in a single step; rather, the network internally loops over sequence elements.**\n",
        "\n",
        "<img src='https://github.com/rahiakela/img-repo/blob/master/deep-learning-with-python/recurrent-neural-network.png?raw=1' width='800'/>"
      ]
    },
    {
      "cell_type": "markdown",
      "metadata": {
        "id": "I-cxGszvOwJe",
        "colab_type": "text"
      },
      "source": [
        "## Setup"
      ]
    },
    {
      "cell_type": "code",
      "metadata": {
        "id": "qIw5Nx0tOx6C",
        "colab_type": "code",
        "colab": {}
      },
      "source": [
        "from __future__ import absolute_import, division, print_function, unicode_literals\n",
        "\n",
        "try:\n",
        "  # %tensorflow_version only exists in Colab.\n",
        "  %tensorflow_version 2.x\n",
        "except Exception:\n",
        "  pass\n",
        "import tensorflow as tf\n",
        "from tensorflow import keras\n",
        "\n",
        "from tensorflow.keras.models import Sequential\n",
        "from tensorflow.keras.layers import Flatten, Dense, LSTM, Embedding, GRU\n",
        "from tensorflow.keras.optimizers import RMSprop\n",
        "\n",
        "from tensorflow.keras.datasets import imdb\n",
        "\n",
        "from tensorflow.keras.preprocessing.text import Tokenizer\n",
        "from tensorflow.keras.preprocessing.sequence import pad_sequences\n",
        "\n",
        "import numpy as np\n",
        "import pandas as pd\n",
        "\n",
        "import string\n",
        "import os\n",
        "\n",
        "import matplotlib.pyplot as plt\n",
        "%matplotlib inline"
      ],
      "execution_count": 0,
      "outputs": []
    },
    {
      "cell_type": "markdown",
      "metadata": {
        "id": "kv4KQLrDO-JQ",
        "colab_type": "text"
      },
      "source": [
        "## Advanced use of recurrent neural networks"
      ]
    },
    {
      "cell_type": "markdown",
      "metadata": {
        "id": "2QAyWdz2O_Ov",
        "colab_type": "text"
      },
      "source": [
        "We will review three advanced techniques for improving the performance and generalization power of recurrent neural networks. By the end of the section, you will know most of what there is to know about using recurrent networks with Keras. We will demonstrate all three concepts on a weather forecasting problem, where we have access to a timeseries of data points coming from sensors installed on the roof of a building, such as temperature, air pressure, and humidity, which we use to predict what the temperature will be 24 hours after the last data point collected. This is a fairly challenging problem that exemplifies many common difficulties encountered when working with timeseries.\n",
        "\n",
        "We will cover the following techniques:\n",
        "\n",
        "* **Recurrent dropout, a specific, built-in way to use dropout to fight overfitting in recurrent layers.**\n",
        "* **Stacking recurrent layers, to increase the representational power of the network** (at the cost of higher computational loads).\n",
        "* **Bidirectional recurrent layers, which presents the same information to a recurrent network in different ways, increasing accuracy and mitigating forgetting issues.**\n"
      ]
    },
    {
      "cell_type": "markdown",
      "metadata": {
        "id": "2QZCIuWS2i1v",
        "colab_type": "text"
      },
      "source": [
        "## A temperature-forecasting problem"
      ]
    },
    {
      "cell_type": "markdown",
      "metadata": {
        "id": "ZIqxPNSv2j5P",
        "colab_type": "text"
      },
      "source": [
        "Until now, the only sequence data we have covered has been text data, for instance the IMDB dataset and the Reuters dataset. But sequence data is found in many more problems than just language processing. In all of our examples in this section, we will be playing with a weather timeseries dataset recorded at the Weather Station at the Max-Planck-Institute for Biogeochemistry in Jena, Germany: http://www.bgc-jena.mpg.de/wetter/.\n",
        "\n",
        "In this dataset, fourteen different quantities (such air temperature, atmospheric pressure, humidity, wind direction, etc.) are recorded every ten minutes, over several years. The original data goes back to 2003, but we limit ourselves to data from 2009-2016. This dataset is perfect for learning to work with numerical timeseries. We will use it to build a model that takes as input some data from the recent past (a few days worth of data points) and predicts the air temperature 24 hours in the future.\n",
        "\n",
        "Let's take a look at the data:"
      ]
    },
    {
      "cell_type": "code",
      "metadata": {
        "id": "mwZWT3qfQ8QU",
        "colab_type": "code",
        "outputId": "8b2dac6d-f556-4ebe-e280-4887ad8a4411",
        "colab": {
          "base_uri": "https://localhost:8080/",
          "height": 238
        }
      },
      "source": [
        "# Download and uncompress the data\n",
        "!wget https://s3.amazonaws.com/keras-datasets/jena_climate_2009_2016.csv.zip\n",
        "!unzip jena_climate_2009_2016.csv.zip"
      ],
      "execution_count": 3,
      "outputs": [
        {
          "output_type": "stream",
          "text": [
            "--2020-05-25 09:20:15--  https://s3.amazonaws.com/keras-datasets/jena_climate_2009_2016.csv.zip\n",
            "Resolving s3.amazonaws.com (s3.amazonaws.com)... 52.216.186.13\n",
            "Connecting to s3.amazonaws.com (s3.amazonaws.com)|52.216.186.13|:443... connected.\n",
            "HTTP request sent, awaiting response... 200 OK\n",
            "Length: 13568290 (13M) [application/zip]\n",
            "Saving to: ‘jena_climate_2009_2016.csv.zip’\n",
            "\n",
            "\r          jena_clim   0%[                    ]       0  --.-KB/s               \r         jena_clima  15%[==>                 ]   2.00M  10.0MB/s               \rjena_climate_2009_2 100%[===================>]  12.94M  41.1MB/s    in 0.3s    \n",
            "\n",
            "2020-05-25 09:20:16 (41.1 MB/s) - ‘jena_climate_2009_2016.csv.zip’ saved [13568290/13568290]\n",
            "\n",
            "Archive:  jena_climate_2009_2016.csv.zip\n",
            "  inflating: jena_climate_2009_2016.csv  \n"
          ],
          "name": "stdout"
        }
      ]
    },
    {
      "cell_type": "code",
      "metadata": {
        "id": "0K-6GCYR6RNn",
        "colab_type": "code",
        "outputId": "0a851df7-6d67-4498-cb42-457a42aa2d96",
        "colab": {
          "base_uri": "https://localhost:8080/",
          "height": 71
        }
      },
      "source": [
        "# Inspecting the data of the Jena weather dataset\n",
        "fname = 'jena_climate_2009_2016.csv'\n",
        "f = open(fname)\n",
        "data = f.read()\n",
        "f.close()\n",
        "\n",
        "lines = data.split('\\n')\n",
        "header = lines[0].split(',')\n",
        "lines = lines[1:]\n",
        "\n",
        "print(header)\n",
        "print(len(lines))"
      ],
      "execution_count": 4,
      "outputs": [
        {
          "output_type": "stream",
          "text": [
            "['\"Date Time\"', '\"p (mbar)\"', '\"T (degC)\"', '\"Tpot (K)\"', '\"Tdew (degC)\"', '\"rh (%)\"', '\"VPmax (mbar)\"', '\"VPact (mbar)\"', '\"VPdef (mbar)\"', '\"sh (g/kg)\"', '\"H2OC (mmol/mol)\"', '\"rho (g/m**3)\"', '\"wv (m/s)\"', '\"max. wv (m/s)\"', '\"wd (deg)\"']\n",
            "420551\n"
          ],
          "name": "stdout"
        }
      ]
    },
    {
      "cell_type": "markdown",
      "metadata": {
        "id": "MeH1XvPCS3Gn",
        "colab_type": "text"
      },
      "source": [
        "This outputs a count of 420,551 lines of data (each line is a timestep: a record of a date and 14 weather-related values), as well as the following header:\n",
        "```python\n",
        "[\"Date Time\",\n",
        "\"p (mbar)\",\n",
        "\"T (degC)\",\n",
        "\"Tpot (K)\",\n",
        "\"Tdew (degC)\",\n",
        "\"rh (%)\",\n",
        "\"VPmax (mbar)\",\n",
        "\"VPact (mbar)\",\n",
        "\"VPdef (mbar)\",\n",
        "\"sh (g/kg)\",\n",
        "\"H2OC (mmol/mol)\",\n",
        "\"rho (g/m**3)\",\n",
        "\"wv (m/s)\",\n",
        "\"max. wv (m/s)\",\n",
        "\"wd (deg)\"]\n",
        "```"
      ]
    },
    {
      "cell_type": "markdown",
      "metadata": {
        "id": "UCDA-v-sKsyD",
        "colab_type": "text"
      },
      "source": [
        "Now, convert all 420,551 lines of data into a Numpy array."
      ]
    },
    {
      "cell_type": "code",
      "metadata": {
        "id": "aA7BC9XtKtbi",
        "colab_type": "code",
        "colab": {}
      },
      "source": [
        "float_data = np.zeros((len(lines), len(header) - 1))\n",
        "for i, line in enumerate(lines):\n",
        "  values = [float(x) for x in line.split(',')[1:]]\n",
        "  float_data[i, :] = values"
      ],
      "execution_count": 0,
      "outputs": []
    },
    {
      "cell_type": "markdown",
      "metadata": {
        "id": "nDgCqGi8J9pg",
        "colab_type": "text"
      },
      "source": [
        "For instance, here is the plot of temperature (in degrees Celsius) over time:"
      ]
    },
    {
      "cell_type": "code",
      "metadata": {
        "id": "IKvKHvCTTqDc",
        "colab_type": "code",
        "outputId": "23c359f7-8670-4681-dee3-275f1c8852a6",
        "colab": {
          "base_uri": "https://localhost:8080/",
          "height": 268
        }
      },
      "source": [
        "temp = float_data[:, 1]   # temperature (in degrees Celsius)\n",
        "plt.plot(range(len(temp)), temp)\n",
        "plt.show()"
      ],
      "execution_count": 6,
      "outputs": [
        {
          "output_type": "display_data",
          "data": {
            "image/png": "[encoded data removed]",
            "text/plain": [
              "<Figure size 432x288 with 1 Axes>"
            ]
          },
          "metadata": {
            "tags": [],
            "needs_background": "light"
          }
        }
      ]
    },
    {
      "cell_type": "markdown",
      "metadata": {
        "id": "u6wC6awnUELQ",
        "colab_type": "text"
      },
      "source": [
        "On this plot, you can clearly see the yearly periodicity of temperature.\n",
        "\n",
        "Here is a more narrow plot of the first ten days of temperature data (since the data is recorded every ten minutes, we get 144 data points per day):"
      ]
    },
    {
      "cell_type": "code",
      "metadata": {
        "id": "Ich70j_cT6Yp",
        "colab_type": "code",
        "outputId": "249975dd-63da-45b8-9a08-a9b9c4a209fc",
        "colab": {
          "base_uri": "https://localhost:8080/",
          "height": 265
        }
      },
      "source": [
        "plt.plot(range(1440), temp[:1440])\n",
        "plt.show()"
      ],
      "execution_count": 7,
      "outputs": [
        {
          "output_type": "display_data",
          "data": {
            "image/png": "[encoded data removed]",
            "text/plain": [
              "<Figure size 432x288 with 1 Axes>"
            ]
          },
          "metadata": {
            "tags": [],
            "needs_background": "light"
          }
        }
      ]
    },
    {
      "cell_type": "markdown",
      "metadata": {
        "id": "tluIYMVbUhT8",
        "colab_type": "text"
      },
      "source": [
        "On this plot, you can see daily periodicity, especially evident for the last 4 days. We can also note that this ten-days period must be coming from a fairly cold winter month.\n",
        "\n",
        "If we were trying to predict average temperature for the next month given a few month of past data, the problem would be easy, due to the reliable year-scale periodicity of the data. But looking at the data over a scale of days, the temperature looks a lot more chaotic. So is this timeseries predictable at a daily scale? Let's find out."
      ]
    },
    {
      "cell_type": "markdown",
      "metadata": {
        "id": "F1EbHcJjUkAq",
        "colab_type": "text"
      },
      "source": [
        "## Preparing the data"
      ]
    },
    {
      "cell_type": "markdown",
      "metadata": {
        "id": "TjpkWIPNUnWL",
        "colab_type": "text"
      },
      "source": [
        "The exact formulation of our problem will be the following: given data going as far back as lookback timesteps (a timestep is 10 minutes) and sampled every steps timesteps, can we predict the temperature in delay timesteps?\n",
        "\n",
        "We will use the following parameter values:\n",
        "\n",
        "* lookback = 720, i.e. our observations will go back 5 days.\n",
        "* steps = 6, i.e. our observations will be sampled at one data point per hour.\n",
        "* delay = 144, i.e. our targets will be 24 hours in the future.\n",
        "\n",
        "To get started, we need to do two things:\n",
        "\n",
        "* Preprocess the data to a format a neural network can ingest. This is easy: the data is already numerical, so we don't need to do any vectorization. However each timeseries in the data is on a different scale (e.g. temperature is typically between -20 and +30, but pressure, measured in mbar, is around 1000). So we will normalize each timeseries independently so that they all take small values on a similar scale.\n",
        "\n",
        "* Write a Python generator that takes our current array of float data and yields batches of data from the recent past, alongside with a target temperature in the future. Since the samples in our dataset are highly redundant (e.g. sample N and sample N + 1 will have most of their timesteps in common), it would be very wasteful to explicitly allocate every sample. Instead, we will generate the samples on the fly using the original data.\n",
        "\n",
        "We preprocess the data by subtracting the mean of each timeseries and dividing by the standard deviation. We plan on using the first 200,000 timesteps as training data, so we compute the mean and standard deviation only on this fraction of the data:"
      ]
    },
    {
      "cell_type": "code",
      "metadata": {
        "id": "1jTVM4bOUPnU",
        "colab_type": "code",
        "colab": {}
      },
      "source": [
        "mean = float_data[:200000].mean(axis=0)\n",
        "float_data -= mean\n",
        "\n",
        "std = float_data[:200000].std(axis=0)\n",
        "float_data /= std"
      ],
      "execution_count": 0,
      "outputs": []
    },
    {
      "cell_type": "markdown",
      "metadata": {
        "id": "ygW5dV4pbRmV",
        "colab_type": "text"
      },
      "source": [
        "Now here is the data generator that we will use. It yields a tuple (samples, targets) where samples is one batch of input data and targets is the corresponding array of target temperatures. It takes the following arguments:\n",
        "\n",
        "* **data**: The original array of floating point data, which we just normalized in the code snippet above.\n",
        "* **lookback**: How many timesteps back should our input data go.\n",
        "* **delay**: How many timesteps in the future should our target be.\n",
        "* **min_index and max_index**: Indices in the data array that delimit which * timesteps to draw from. This is useful for keeping a segment of the data for validation and another one for testing.\n",
        "* **shuffle**: Whether to shuffle our samples or draw them in chronological order.\n",
        "* **batch_size**: The number of samples per batch.\n",
        "* **step**: The period, in timesteps, at which we sample data. We will set it 6 in order to draw one data point every hour."
      ]
    },
    {
      "cell_type": "code",
      "metadata": {
        "id": "3XuL07y5bOUJ",
        "colab_type": "code",
        "colab": {}
      },
      "source": [
        "def generator(data, lookback, delay, min_index, max_index, shuffle=False, batch_size=128, step=6):\n",
        "  if max_index is None:\n",
        "    max_index = len(data) - delay - 1\n",
        "  i = min_index + lookback\n",
        "  while 1:\n",
        "    if shuffle:\n",
        "      rows = np.random.randint(min_index + lookback, max_index, size=batch_size)\n",
        "    else:\n",
        "      if i + batch_size >= max_index:\n",
        "        i = min_index + lookback\n",
        "      rows = np.arange(i, min(i + batch_size, max_index))\n",
        "      i += len(rows)\n",
        "    \n",
        "    samples = np.zeros((len(rows), lookback // step, data.shape[-1]))\n",
        "    targets = np.zeros((len(rows),))\n",
        "\n",
        "    for j, row in enumerate(rows):\n",
        "      indices = range(rows[j] - lookback, rows[j], step)\n",
        "      samples[j] = data[indices]\n",
        "      targets[j] = data[rows[j] + delay][1]\n",
        "    yield samples, targets"
      ],
      "execution_count": 0,
      "outputs": []
    },
    {
      "cell_type": "markdown",
      "metadata": {
        "id": "5BwTXrGIgYx1",
        "colab_type": "text"
      },
      "source": [
        "Now let's use our abstract generator function to instantiate three generators, one for training, one for validation and one for testing. Each will look at different temporal segments of the original data: the training generator looks at the first 200,000 timesteps, the validation generator looks at the following 100,000, and the test generator looks at the remainder."
      ]
    },
    {
      "cell_type": "code",
      "metadata": {
        "id": "n5QalW6NgVXL",
        "colab_type": "code",
        "colab": {}
      },
      "source": [
        "lookback = 1440\n",
        "step = 6\n",
        "delay = 144\n",
        "batch_size = 128\n",
        "\n",
        "train_gen = generator(float_data, lookback=lookback, delay=delay, min_index=0, max_index=200000, shuffle=True, step=step, batch_size=batch_size)\n",
        "val_gen = generator(float_data, lookback=lookback, delay=delay, min_index=200001, max_index=300000, step=step, batch_size=batch_size)\n",
        "test_gen = generator(float_data, lookback=lookback, delay=delay, min_index=300001, max_index=None, step=step, batch_size=batch_size)\n",
        "\n",
        "# This is how many steps to draw from `val_gen` in order to see the whole validation set:\n",
        "val_steps = (300000 - 200001 - lookback) // batch_size\n",
        "\n",
        "# This is how many steps to draw from `test_gen` in order to see the whole test set:\n",
        "test_steps = (len(float_data) - 300001 - lookback) // batch_size"
      ],
      "execution_count": 0,
      "outputs": []
    },
    {
      "cell_type": "markdown",
      "metadata": {
        "id": "wgv3p5X6i_1y",
        "colab_type": "text"
      },
      "source": [
        "## A common sense, non-machine learning baseline"
      ]
    },
    {
      "cell_type": "markdown",
      "metadata": {
        "id": "CcSq67xYjA6k",
        "colab_type": "text"
      },
      "source": [
        "Before we start leveraging black-box deep learning models to solve our temperature prediction problem, let's try out a simple common-sense approach. It will serve as a sanity check, and it will establish a baseline that we will have to beat in order to demonstrate the usefulness of more advanced machine learning models. Such common-sense baselines can be very useful when approaching a new problem for which there is no known solution (yet). A classic example is that of unbalanced classification tasks, where some classes can be much more common than others. If your dataset contains 90% of instances of class A and 10% of instances of class B, then a common sense approach to the classification task would be to always predict \"A\" when presented with a new sample. Such a classifier would be 90% accurate overall, and any learning-based approach should therefore beat this 90% score in order to demonstrate usefulness. Sometimes such elementary baseline can prove surprisingly hard to beat.\n",
        "\n",
        "In our case, the temperature timeseries can safely be assumed to be continuous (the temperatures tomorrow are likely to be close to the temperatures today) as well as periodical with a daily period. Thus a common sense approach would be to always predict that the temperature 24 hours from now will be equal to the temperature right now. \n",
        "\n",
        "Let's evaluate this approach, using the Mean Absolute Error metric (MAE). Mean Absolute Error is simply equal to:\n",
        "\n",
        "```python\n",
        "np.mean(np.abs(preds - targets))\n",
        "```"
      ]
    },
    {
      "cell_type": "markdown",
      "metadata": {
        "id": "uy-gA9Z4jWi4",
        "colab_type": "text"
      },
      "source": [
        "Here's our evaluation loop:"
      ]
    },
    {
      "cell_type": "code",
      "metadata": {
        "id": "ukKz2Dbxh0gv",
        "colab_type": "code",
        "outputId": "4de2704e-bc75-4428-d82b-89f480a36481",
        "colab": {
          "base_uri": "https://localhost:8080/",
          "height": 34
        }
      },
      "source": [
        "def evaluate_naive_method():\n",
        "  batch_maes = []\n",
        "  for step in range(val_steps):\n",
        "    samples, targets = next(val_gen)\n",
        "    preds = samples[:, -1, 1]\n",
        "    mae = np.mean(np.abs(preds - targets))\n",
        "    batch_maes.append(mae)\n",
        "  print(np.mean(batch_maes))\n",
        "\n",
        "evaluate_naive_method()"
      ],
      "execution_count": 11,
      "outputs": [
        {
          "output_type": "stream",
          "text": [
            "0.2897359729905486\n"
          ],
          "name": "stdout"
        }
      ]
    },
    {
      "cell_type": "markdown",
      "metadata": {
        "id": "DQlsn2c9l7jb",
        "colab_type": "text"
      },
      "source": [
        "It yields a MAE of 0.29. Since our temperature data has been normalized to be centered on 0 and have a standard deviation of one, this number is not immediately interpretable. It translates to an average absolute error of 0.29 * temperature_std degrees Celsius, i.e. 2.57˚C. \n",
        "\n",
        "```python\n",
        "celsius_mae = 0.29 * std[1]\n",
        "```\n",
        "\n",
        "That’s a fairly large average absolute error. Now the game is to use your knowledge of deep learning to do better."
      ]
    },
    {
      "cell_type": "markdown",
      "metadata": {
        "id": "zLSM74bCmDPZ",
        "colab_type": "text"
      },
      "source": [
        "## A basic machine-learning approach"
      ]
    },
    {
      "cell_type": "markdown",
      "metadata": {
        "id": "IqCnxSJBmFfI",
        "colab_type": "text"
      },
      "source": [
        "In the same way that it is useful to establish a common sense baseline before trying machine learning approaches, it is useful to try simple and cheap machine learning models (such as small densely-connected networks) before looking into complicated and computationally expensive models such as RNNs. This is the best way to make sure that any further complexity we throw at the problem later on is legitimate and delivers real benefits.\n",
        "\n",
        "Here is a simply fully-connected model in which we start by flattening the data, then run it through two Dense layers. Note the lack of activation function on the last Dense layer, which is typical for a regression problem. We use MAE as the loss. Since we are evaluating on the exact same data and with the exact same metric as with our common sense approach, the results will be directly comparable"
      ]
    },
    {
      "cell_type": "code",
      "metadata": {
        "id": "WT5qY8IRj2kT",
        "colab_type": "code",
        "outputId": "c22087ca-c923-4819-93eb-9cfa6d7a6e0f",
        "colab": {
          "base_uri": "https://localhost:8080/",
          "height": 0
        }
      },
      "source": [
        "model = Sequential()\n",
        "model.add(Flatten(input_shape=(lookback // step, float_data.shape[-1])))\n",
        "model.add(Dense(32, activation='relu'))\n",
        "model.add(Dense(1))\n",
        "\n",
        "model.compile(optimizer=RMSprop(), loss='mae')\n",
        "history = model.fit_generator(train_gen, steps_per_epoch=500, epochs=20, validation_data=val_gen, validation_steps=val_steps)"
      ],
      "execution_count": 12,
      "outputs": [
        {
          "output_type": "stream",
          "text": [
            "WARNING:tensorflow:From <ipython-input-12-b1ef2fe602fc>:7: Model.fit_generator (from tensorflow.python.keras.engine.training) is deprecated and will be removed in a future version.\n",
            "Instructions for updating:\n",
            "Please use Model.fit, which supports generators.\n",
            "Epoch 1/20\n",
            "500/500 [==============================] - 14s 28ms/step - loss: 0.9992 - val_loss: 0.5608\n",
            "Epoch 2/20\n",
            "500/500 [==============================] - 14s 27ms/step - loss: 0.3360 - val_loss: 0.2951\n",
            "Epoch 3/20\n",
            "500/500 [==============================] - 14s 27ms/step - loss: 0.2762 - val_loss: 0.2977\n",
            "Epoch 4/20\n",
            "500/500 [==============================] - 14s 27ms/step - loss: 0.2600 - val_loss: 0.3450\n",
            "Epoch 5/20\n",
            "500/500 [==============================] - 14s 27ms/step - loss: 0.2483 - val_loss: 0.3290\n",
            "Epoch 6/20\n",
            "500/500 [==============================] - 14s 27ms/step - loss: 0.2398 - val_loss: 0.3031\n",
            "Epoch 7/20\n",
            "500/500 [==============================] - 14s 28ms/step - loss: 0.2329 - val_loss: 0.3173\n",
            "Epoch 8/20\n",
            "500/500 [==============================] - 14s 27ms/step - loss: 0.2280 - val_loss: 0.3243\n",
            "Epoch 9/20\n",
            "500/500 [==============================] - 14s 27ms/step - loss: 0.2242 - val_loss: 0.3538\n",
            "Epoch 10/20\n",
            "500/500 [==============================] - 14s 28ms/step - loss: 0.2207 - val_loss: 0.3664\n",
            "Epoch 11/20\n",
            "500/500 [==============================] - 14s 28ms/step - loss: 0.2179 - val_loss: 0.3401\n",
            "Epoch 12/20\n",
            "500/500 [==============================] - 14s 27ms/step - loss: 0.2155 - val_loss: 0.3170\n",
            "Epoch 13/20\n",
            "500/500 [==============================] - 14s 27ms/step - loss: 0.2111 - val_loss: 0.3335\n",
            "Epoch 14/20\n",
            "500/500 [==============================] - 14s 28ms/step - loss: 0.2098 - val_loss: 0.3439\n",
            "Epoch 15/20\n",
            "500/500 [==============================] - 14s 28ms/step - loss: 0.2069 - val_loss: 0.3535\n",
            "Epoch 16/20\n",
            "500/500 [==============================] - 14s 27ms/step - loss: 0.2046 - val_loss: 0.3221\n",
            "Epoch 17/20\n",
            "500/500 [==============================] - 14s 27ms/step - loss: 0.2031 - val_loss: 0.3584\n",
            "Epoch 18/20\n",
            "500/500 [==============================] - 18s 35ms/step - loss: 0.2016 - val_loss: 0.3383\n",
            "Epoch 19/20\n",
            "500/500 [==============================] - 17s 34ms/step - loss: 0.2013 - val_loss: 0.3601\n",
            "Epoch 20/20\n",
            "500/500 [==============================] - 14s 28ms/step - loss: 0.1991 - val_loss: 0.3238\n"
          ],
          "name": "stdout"
        }
      ]
    },
    {
      "cell_type": "markdown",
      "metadata": {
        "id": "bOtukw2oOZ5v",
        "colab_type": "text"
      },
      "source": [
        "Let's display the loss curves for validation and training:"
      ]
    },
    {
      "cell_type": "code",
      "metadata": {
        "id": "qZFWlSzCOLC-",
        "colab_type": "code",
        "outputId": "a2366dff-1b4f-4fc9-d927-84946bd52bac",
        "colab": {
          "base_uri": "https://localhost:8080/",
          "height": 0
        }
      },
      "source": [
        "loss = history.history['loss']\n",
        "val_loss = history.history['val_loss']\n",
        "\n",
        "epochs = range(len(loss))\n",
        "\n",
        "plt.figure()\n",
        "\n",
        "plt.plot(epochs, loss, 'bo', label='Training loss')\n",
        "plt.plot(epochs, val_loss, 'b', label='Validation loss')\n",
        "plt.title('Training and validation loss')\n",
        "plt.legend()\n",
        "\n",
        "plt.show()"
      ],
      "execution_count": 13,
      "outputs": [
        {
          "output_type": "display_data",
          "data": {
            "image/png": "[encoded data removed]",
            "text/plain": [
              "<Figure size 432x288 with 1 Axes>"
            ]
          },
          "metadata": {
            "tags": [],
            "needs_background": "light"
          }
        }
      ]
    },
    {
      "cell_type": "markdown",
      "metadata": {
        "id": "4QG_G1WfOjgy",
        "colab_type": "text"
      },
      "source": [
        "Some of our validation losses get close to the no-learning baseline, but not very reliably. This goes to show the merit of having had this baseline in the first place: it turns out not to be so easy to outperform. Our common sense contains already a lot of valuable information that a machine learning model does not have access to.\n",
        "\n",
        "You may ask, if there exists a simple, well-performing model to go from the data to the targets (our common sense baseline), why doesn't the model we are training find it and improve on it? Simply put: because this simple solution is not what our training setup is looking for. The space of models in which we are searching for a solution, i.e. our hypothesis space, is the space of all possible 2-layer networks with the configuration that we defined. These networks are already fairly complicated. When looking for a solution with a space of complicated models, the simple well-performing baseline might be unlearnable, even if it's technically part of the hypothesis space. That is a pretty significant limitation of machine learning in general: unless the learning algorithm is hard-coded to look for a specific kind of simple model, parameter learning can sometimes fail to find a simple solution to a simple problem."
      ]
    },
    {
      "cell_type": "markdown",
      "metadata": {
        "id": "j-2FNsa3OwBx",
        "colab_type": "text"
      },
      "source": [
        "## A first recurrent baseline"
      ]
    },
    {
      "cell_type": "markdown",
      "metadata": {
        "id": "xsJeRl84OyY-",
        "colab_type": "text"
      },
      "source": [
        "Our first fully-connected approach didn't do so well, but that doesn't mean machine learning is not applicable to our problem. **The approach above consisted in first flattening the timeseries, which removed the notion of time from the input data. Let us instead look at our data as what it is: a sequence, where causality and order matter.** We will try a recurrent sequence processing model -- it should be the perfect fit for such sequence data, precisely because it does exploit the temporal ordering of data points, unlike our first approach.\n",
        "\n",
        "Instead of the LSTM layer introduced in the previous section, we will use the GRU layer, developed by Cho et al. in 2014. **GRU layers (which stands for \"gated recurrent unit\") work by leveraging the same principle as LSTM, but they are somewhat streamlined and thus cheaper to run, albeit they may not have quite as much representational power as LSTM.** This trade-off between computational expensiveness and representational power is seen everywhere in machine learning."
      ]
    },
    {
      "cell_type": "code",
      "metadata": {
        "id": "MulcMpOGPRZy",
        "colab_type": "code",
        "outputId": "91406df0-0f7a-427b-bdb5-fab5918ce166",
        "colab": {
          "base_uri": "https://localhost:8080/",
          "height": 697
        }
      },
      "source": [
        "model = Sequential()\n",
        "model.add(GRU(32, input_shape=(None, float_data.shape[-1])))\n",
        "model.add(Dense(1))\n",
        "\n",
        "model.compile(optimizer=RMSprop(), loss='mae')\n",
        "history = model.fit_generator(train_gen, steps_per_epoch=500, epochs=20, validation_data=val_gen, validation_steps=val_steps)"
      ],
      "execution_count": 14,
      "outputs": [
        {
          "output_type": "stream",
          "text": [
            "Epoch 1/20\n",
            "500/500 [==============================] - 30s 60ms/step - loss: 0.3094 - val_loss: 0.2741\n",
            "Epoch 2/20\n",
            "500/500 [==============================] - 30s 60ms/step - loss: 0.2828 - val_loss: 0.2661\n",
            "Epoch 3/20\n",
            "500/500 [==============================] - 30s 59ms/step - loss: 0.2788 - val_loss: 0.2638\n",
            "Epoch 4/20\n",
            "500/500 [==============================] - 30s 60ms/step - loss: 0.2753 - val_loss: 0.2646\n",
            "Epoch 5/20\n",
            "500/500 [==============================] - 30s 60ms/step - loss: 0.2688 - val_loss: 0.2632\n",
            "Epoch 6/20\n",
            "500/500 [==============================] - 30s 60ms/step - loss: 0.2641 - val_loss: 0.2723\n",
            "Epoch 7/20\n",
            "500/500 [==============================] - 34s 68ms/step - loss: 0.2615 - val_loss: 0.2613\n",
            "Epoch 8/20\n",
            "500/500 [==============================] - 31s 62ms/step - loss: 0.2575 - val_loss: 0.2603\n",
            "Epoch 9/20\n",
            "500/500 [==============================] - 30s 60ms/step - loss: 0.2511 - val_loss: 0.2622\n",
            "Epoch 10/20\n",
            "500/500 [==============================] - 30s 60ms/step - loss: 0.2456 - val_loss: 0.2685\n",
            "Epoch 11/20\n",
            "500/500 [==============================] - 30s 61ms/step - loss: 0.2417 - val_loss: 0.2695\n",
            "Epoch 12/20\n",
            "500/500 [==============================] - 30s 60ms/step - loss: 0.2389 - val_loss: 0.2740\n",
            "Epoch 13/20\n",
            "500/500 [==============================] - 30s 60ms/step - loss: 0.2332 - val_loss: 0.2770\n",
            "Epoch 14/20\n",
            "500/500 [==============================] - 30s 60ms/step - loss: 0.2310 - val_loss: 0.2773\n",
            "Epoch 15/20\n",
            "500/500 [==============================] - 30s 60ms/step - loss: 0.2250 - val_loss: 0.2851\n",
            "Epoch 16/20\n",
            "500/500 [==============================] - 30s 60ms/step - loss: 0.2230 - val_loss: 0.2861\n",
            "Epoch 17/20\n",
            "500/500 [==============================] - 30s 60ms/step - loss: 0.2193 - val_loss: 0.2925\n",
            "Epoch 18/20\n",
            "500/500 [==============================] - 30s 60ms/step - loss: 0.2161 - val_loss: 0.2966\n",
            "Epoch 19/20\n",
            "500/500 [==============================] - 30s 60ms/step - loss: 0.2129 - val_loss: 0.2983\n",
            "Epoch 20/20\n",
            "500/500 [==============================] - 30s 60ms/step - loss: 0.2104 - val_loss: 0.2976\n"
          ],
          "name": "stdout"
        }
      ]
    },
    {
      "cell_type": "markdown",
      "metadata": {
        "id": "ydq7RlRZPwvj",
        "colab_type": "text"
      },
      "source": [
        "Let look at our results:"
      ]
    },
    {
      "cell_type": "code",
      "metadata": {
        "id": "kt50c4v6Pvyj",
        "colab_type": "code",
        "outputId": "12ddb113-2b7f-4704-98ff-fbdcc3e68b8b",
        "colab": {
          "base_uri": "https://localhost:8080/",
          "height": 281
        }
      },
      "source": [
        "loss = history.history['loss']\n",
        "val_loss = history.history['val_loss']\n",
        "\n",
        "epochs = range(len(loss))\n",
        "\n",
        "plt.figure()\n",
        "\n",
        "plt.plot(epochs, loss, 'bo', label='Training loss')\n",
        "plt.plot(epochs, val_loss, 'b', label='Validation loss')\n",
        "plt.title('Training and validation loss')\n",
        "plt.legend()\n",
        "\n",
        "plt.show()"
      ],
      "execution_count": 15,
      "outputs": [
        {
          "output_type": "display_data",
          "data": {
            "image/png": "[encoded data removed]",
            "text/plain": [
              "<Figure size 432x288 with 1 Axes>"
            ]
          },
          "metadata": {
            "tags": [],
            "needs_background": "light"
          }
        }
      ]
    },
    {
      "cell_type": "markdown",
      "metadata": {
        "id": "Fj8woooHP1cZ",
        "colab_type": "text"
      },
      "source": [
        "Much better! We are able to significantly beat the common sense baseline, such demonstrating the value of machine learning here, as well as the superiority of recurrent networks compared to sequence-flattening dense networks on this type of task.\n",
        "\n",
        "Our new validation MAE of ~0.265 (before we start significantly overfitting) translates to a mean absolute error of 2.35˚C after de-normalization. That's a solid gain on our initial error of 2.57˚C, but we probably still have a bit of margin for improvement."
      ]
    },
    {
      "cell_type": "markdown",
      "metadata": {
        "id": "eDtM38EDP6mD",
        "colab_type": "text"
      },
      "source": [
        "## Using recurrent dropout to fight overfitting"
      ]
    },
    {
      "cell_type": "markdown",
      "metadata": {
        "id": "3tnFcmx-P9Hq",
        "colab_type": "text"
      },
      "source": [
        "It is evident from our training and validation curves that our model is overfitting: the training and validation losses start diverging considerably after a few epochs. You are already familiar with a classic technique for fighting this phenomenon: dropout, consisting in randomly zeroing-out input units of a layer in order to break happenstance correlations in the training data that the layer is exposed to. How to correctly apply dropout in recurrent networks, however, is not a trivial question. **It has long been known that applying dropout before a recurrent layer hinders learning rather than helping with regularization**. In 2015, Yarin Gal, as part of his Ph.D. thesis on Bayesian deep learning, determined the proper way to use dropout with a recurrent network: the same dropout mask (the same pattern of dropped units) should be applied at every timestep, instead of a dropout mask that would vary randomly from timestep to timestep. What's more: in order to regularize the representations formed by the recurrent gates of layers such as GRU and LSTM, a temporally constant dropout mask should be applied to the inner recurrent activations of the layer (a \"recurrent\" dropout mask). Using the same dropout mask at every timestep allows the network to properly propagate its learning error through time; a temporally random dropout mask would instead disrupt this error signal and be harmful to the learning process.\n",
        "\n",
        "Yarin Gal did his research using Keras and helped build this mechanism directly into Keras recurrent layers. **Every recurrent layer in Keras has two dropout-related arguments: dropout, a float specifying the dropout rate for input units of the layer, and recurrent_dropout, specifying the dropout rate of the recurrent units**. Let's add dropout and recurrent dropout to our GRU layer and see how it impacts overfitting. Because networks being regularized with dropout always take longer to fully converge, we train our network for twice as many epochs."
      ]
    },
    {
      "cell_type": "code",
      "metadata": {
        "id": "lmMRdC3EdDDz",
        "colab_type": "code",
        "colab": {
          "base_uri": "https://localhost:8080/",
          "height": 646
        },
        "outputId": "d6d9c18c-f245-4db9-9e01-78271db3e006"
      },
      "source": [
        "model = Sequential()\n",
        "model.add(GRU(32, dropout=0.2, recurrent_dropout=0.2, input_shape=(None, float_data.shape[-1])))\n",
        "model.add(Dense(1))\n",
        "\n",
        "model.compile(optimizer=RMSprop(), loss='mae')\n",
        "history = model.fit_generator(train_gen, steps_per_epoch=500, epochs=40, validation_data=val_gen, validation_steps=val_steps)"
      ],
      "execution_count": 0,
      "outputs": [
        {
          "output_type": "stream",
          "text": [
            "WARNING:tensorflow:Layer gru_1 will not use cuDNN kernel since it doesn't meet the cuDNN kernel criteria. It will use generic GPU kernel as fallback when running on GPU\n",
            "Epoch 1/40\n",
            "500/500 [==============================] - 559s 1s/step - loss: 0.3289 - val_loss: 0.2848\n",
            "Epoch 2/40\n",
            "500/500 [==============================] - 559s 1s/step - loss: 0.3073 - val_loss: 0.2763\n",
            "Epoch 3/40\n",
            "500/500 [==============================] - 554s 1s/step - loss: 0.2979 - val_loss: 0.2688\n",
            "Epoch 4/40\n",
            "500/500 [==============================] - 563s 1s/step - loss: 0.2943 - val_loss: 0.2701\n",
            "Epoch 5/40\n",
            "500/500 [==============================] - 563s 1s/step - loss: 0.2898 - val_loss: 0.2679\n",
            "Epoch 6/40\n",
            "500/500 [==============================] - 557s 1s/step - loss: 0.2858 - val_loss: 0.2688\n",
            "Epoch 7/40\n",
            "500/500 [==============================] - 563s 1s/step - loss: 0.2849 - val_loss: 0.2679\n",
            "Epoch 8/40\n",
            "500/500 [==============================] - 559s 1s/step - loss: 0.2812 - val_loss: 0.2710\n",
            "Epoch 9/40\n",
            "500/500 [==============================] - 558s 1s/step - loss: 0.2765 - val_loss: 0.2720\n",
            "Epoch 10/40\n",
            "500/500 [==============================] - 563s 1s/step - loss: 0.2738 - val_loss: 0.2729\n",
            "Epoch 11/40\n",
            "500/500 [==============================] - 561s 1s/step - loss: 0.2712 - val_loss: 0.2731\n",
            "Epoch 12/40\n",
            "500/500 [==============================] - 562s 1s/step - loss: 0.2667 - val_loss: 0.2727\n",
            "Epoch 13/40\n",
            "500/500 [==============================] - 557s 1s/step - loss: 0.2645 - val_loss: 0.2763\n",
            "Epoch 14/40\n",
            "500/500 [==============================] - 561s 1s/step - loss: 0.2620 - val_loss: 0.2740\n",
            "Epoch 15/40\n",
            "500/500 [==============================] - 558s 1s/step - loss: 0.2615 - val_loss: 0.2751\n",
            "Epoch 16/40\n",
            "500/500 [==============================] - 563s 1s/step - loss: 0.2598 - val_loss: 0.2750\n",
            "Epoch 17/40\n",
            "500/500 [==============================] - 558s 1s/step - loss: 0.2572 - val_loss: 0.2774\n",
            "Epoch 18/40\n",
            "196/500 [==========>...................] - ETA: 5:06 - loss: 0.2573"
          ],
          "name": "stdout"
        }
      ]
    },
    {
      "cell_type": "code",
      "metadata": {
        "id": "HoZKKpexeA1h",
        "colab_type": "code",
        "colab": {}
      },
      "source": [
        "loss = history.history['loss']\n",
        "val_loss = history.history['val_loss']\n",
        "\n",
        "epochs = range(len(loss))\n",
        "\n",
        "plt.figure()\n",
        "\n",
        "plt.plot(epochs, loss, 'bo', label='Training loss')\n",
        "plt.plot(epochs, val_loss, 'b', label='Validation loss')\n",
        "plt.title('Training and validation loss')\n",
        "plt.legend()\n",
        "\n",
        "plt.show()"
      ],
      "execution_count": 0,
      "outputs": []
    },
    {
      "cell_type": "markdown",
      "metadata": {
        "id": "9rudfy9UeKhO",
        "colab_type": "text"
      },
      "source": [
        "Great success; we are no longer overfitting during the first 30 epochs. However, while we have more stable evaluation scores, our best scores are not much lower than they were previously."
      ]
    },
    {
      "cell_type": "markdown",
      "metadata": {
        "id": "tqIaD8I_eLHx",
        "colab_type": "text"
      },
      "source": [
        "## Stacking recurrent layers"
      ]
    },
    {
      "cell_type": "markdown",
      "metadata": {
        "id": "i8pY0ZMteZ8M",
        "colab_type": "text"
      },
      "source": [
        "**Since we are no longer overfitting yet we seem to have hit a performance bottleneck, we should start considering increasing the capacity of our network.** If you remember our description of the \"universal machine learning workflow\": **it is a generally a good idea to increase the capacity of your network until overfitting becomes your primary obstacle** (assuming that you are already taking basic steps to mitigate overfitting, such as using dropout). **As long as you are not overfitting too badly, then you are likely under-capacity.**\n",
        "\n",
        "**Increasing network capacity is typically done by increasing the number of units in the layers, or adding more layers. Recurrent layer stacking is a classic way to build more powerful recurrent networks**: for instance, what currently powers the Google translate algorithm is a stack of seven large LSTM layers -- that's huge.\n",
        "\n",
        "**To stack recurrent layers on top of each other in Keras, all intermediate layers should return their full sequence of outputs (a 3D tensor) rather than their output at the last timestep. This is done by specifying return_sequences=True:**\n"
      ]
    },
    {
      "cell_type": "code",
      "metadata": {
        "id": "HEqAN6FBfBad",
        "colab_type": "code",
        "colab": {}
      },
      "source": [
        "model = Sequential()\n",
        "model.add(GRU(32, dropout=0.1, recurrent_dropout=0.2, return_sequences=True, input_shape=(None, float_data.shape[-1])))\n",
        "model.add(GRU(64, dropout=0.1, recurrent_dropout=0.5, activation='relu'))\n",
        "model.add(Dense(1))\n",
        "\n",
        "model.compile(optimizer=RMSprop(), loss='mae')\n",
        "history = model.fit_generator(train_gen, steps_per_epoch=500, epochs=40, validation_data=val_gen, validation_steps=val_steps)"
      ],
      "execution_count": 0,
      "outputs": []
    },
    {
      "cell_type": "markdown",
      "metadata": {
        "id": "Pb9JRuFhf3xU",
        "colab_type": "text"
      },
      "source": [
        "Let's take a look at our results:"
      ]
    },
    {
      "cell_type": "code",
      "metadata": {
        "id": "54GGSfXrf4Lb",
        "colab_type": "code",
        "colab": {}
      },
      "source": [
        "loss = history.history['loss']\n",
        "val_loss = history.history['val_loss']\n",
        "\n",
        "epochs = range(len(loss))\n",
        "\n",
        "plt.figure()\n",
        "\n",
        "plt.plot(epochs, loss, 'bo', label='Training loss')\n",
        "plt.plot(epochs, val_loss, 'b', label='Validation loss')\n",
        "plt.title('Training and validation loss')\n",
        "plt.legend()\n",
        "\n",
        "plt.show()"
      ],
      "execution_count": 0,
      "outputs": []
    },
    {
      "cell_type": "markdown",
      "metadata": {
        "id": "Dw-Ull5Cf6VF",
        "colab_type": "text"
      },
      "source": [
        "We can see that the added layers does improve ours results by a bit, albeit not very significantly. We can draw two conclusions:\n",
        "\n",
        "* Since we are still not overfitting too badly, we could safely increase the size of our layers, in quest for a bit of validation loss improvement. This does have a non-negligible computational cost, though.\n",
        "* Since adding a layer did not help us by a significant factor, we may be seeing diminishing returns to increasing network capacity at this point."
      ]
    },
    {
      "cell_type": "markdown",
      "metadata": {
        "id": "2fYHSqRlgDZO",
        "colab_type": "text"
      },
      "source": [
        "## Using bidirectional RNNs"
      ]
    },
    {
      "cell_type": "markdown",
      "metadata": {
        "id": "mxWUfZ7hgFm2",
        "colab_type": "text"
      },
      "source": [
        ""
      ]
    }
  ]
}