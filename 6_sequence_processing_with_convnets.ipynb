{
  "nbformat": 4,
  "nbformat_minor": 0,
  "metadata": {
    "colab": {
      "name": "6-sequence-processing-with-convnets.ipynb",
      "provenance": [],
      "toc_visible": true,
      "authorship_tag": "ABX9TyM1DkQYC2IDtjbsd4rAe5bc",
      "include_colab_link": true
    },
    "kernelspec": {
      "name": "python3",
      "display_name": "Python 3"
    },
    "accelerator": "GPU"
  },
  "cells": [
    {
      "cell_type": "markdown",
      "metadata": {
        "id": "view-in-github",
        "colab_type": "text"
      },
      "source": [
        "<a href=\"https://colab.research.google.com/github/rahiakela/deep-learning-with-python-francois-chollet/blob/6-deep-learning-for-text-and-sequences/6_sequence_processing_with_convnets.ipynb\" target=\"_parent\"><img src=\"https://colab.research.google.com/assets/colab-badge.svg\" alt=\"Open In Colab\"/></a>"
      ]
    },
    {
      "cell_type": "markdown",
      "metadata": {
        "id": "opXvB72AGhaT",
        "colab_type": "text"
      },
      "source": [
        "# Sequence processing with convnets"
      ]
    },
    {
      "cell_type": "markdown",
      "metadata": {
        "id": "fDU0vAaLGiaC",
        "colab_type": "text"
      },
      "source": [
        "You learned about convolutional neural networks (convnets) and how they perform particularly well on computer vision problems, due to their ability to operate convolutionally, extracting features from local input patches and allowing for\n",
        "representation modularity and data efficiency. The same properties that make convnets excel at computer vision also make them highly relevant to sequence processing. Time can be treated as a spatial dimension, like the height or width of a 2D image.\n",
        "\n",
        "Such 1D convnets can be competitive with RNNs on certain sequence-processing\n",
        "problems, usually at a considerably cheaper computational cost. Recently, 1D convnets, typically used with dilated kernels, have been used with great success for audio generation and machine translation. In addition to these specific successes, it has long been known that small 1D convnets can offer a fast alternative to RNNs for simple tasks such as text classification and timeseries forecasting.\n",
        "\n",
        "**Understanding 1D convolution for sequence data**\n",
        "\n",
        "The convolution layers introduced previously were 2D convolutions, extracting 2D\n",
        "patches from image tensors and applying an identical transformation to every patch. In the same way, you can use 1D convolutions, extracting local 1D patches (subsequences) from sequences.\n",
        "\n",
        "<img src='https://github.com/rahiakela/img-repo/blob/master/deep-learning-with-python/1D-convolution.png?raw=1' width='800'/>\n",
        "\n",
        "Such 1D convolution layers can recognize local patterns in a sequence. Because the same input transformation is performed on every patch, a pattern learned at a certain position in a sentence can later be recognized at a different position, making 1D convnets translation invariant (for temporal translations). \n",
        "\n",
        "For instance, a 1D convnet processing sequences of characters using convolution windows of size 5 should be able to learn words or word fragments of length 5 or less, and it should be able to recognize these words in any context in an input sequence. A character-level 1D convnet is thus able to learn about word morphology.\n",
        "\n",
        "**1D pooling for sequence data**\n",
        "\n",
        "You’re already familiar with 2D pooling operations, such as 2D average pooling and max pooling, used in convnets to spatially downsample image tensors. The 2D pooling operation has a 1D equivalent: extracting 1D patches (subsequences) from an input and outputting the maximum value (max pooling) or average value (average pooling). Just as with 2D convnets, this is used for reducing the length of 1D inputs (subsampling).\n"
      ]
    },
    {
      "cell_type": "markdown",
      "metadata": {
        "id": "xM033QB2J1_c",
        "colab_type": "text"
      },
      "source": [
        "## Setup"
      ]
    },
    {
      "cell_type": "code",
      "metadata": {
        "id": "Y3ZGasVaJ3ac",
        "colab_type": "code",
        "colab": {}
      },
      "source": [
        "from __future__ import absolute_import, division, print_function, unicode_literals\n",
        "\n",
        "try:\n",
        "  # %tensorflow_version only exists in Colab.\n",
        "  %tensorflow_version 2.x\n",
        "except Exception:\n",
        "  pass\n",
        "import tensorflow as tf\n",
        "from tensorflow import keras\n",
        "\n",
        "from tensorflow.keras.models import Sequential\n",
        "from tensorflow.keras.layers import Flatten, Dense, Conv1D, MaxPooling1D, GlobalMaxPooling1D, LSTM, Embedding, GRU, Bidirectional\n",
        "from tensorflow.keras.optimizers import RMSprop\n",
        "\n",
        "from tensorflow.keras.datasets import imdb\n",
        "\n",
        "from tensorflow.keras.preprocessing.text import Tokenizer\n",
        "from tensorflow.keras.preprocessing.sequence import pad_sequences\n",
        "\n",
        "from tensorflow.keras import backend as K\n",
        "\n",
        "import numpy as np\n",
        "import pandas as pd\n",
        "\n",
        "import string\n",
        "import os\n",
        "\n",
        "import matplotlib.pyplot as plt\n",
        "%matplotlib inline"
      ],
      "execution_count": 1,
      "outputs": []
    },
    {
      "cell_type": "markdown",
      "metadata": {
        "id": "ISDo-oZ1J407",
        "colab_type": "text"
      },
      "source": [
        "## Implementing a 1D convnet"
      ]
    },
    {
      "cell_type": "markdown",
      "metadata": {
        "id": "rBSxe76iJ6HY",
        "colab_type": "text"
      },
      "source": [
        "n Keras, you would use a 1D convnet via the Conv1D layer, which has a very similar interface to Conv2D. It takes as input 3D tensors with shape (samples, time, features) and also returns similarly-shaped 3D tensors. The convolution window is a 1D window on the temporal axis, axis 1 in the input tensor.\n",
        "\n",
        "Let's build a simple 2-layer 1D convnet and apply it to the IMDB sentiment classification task that you are already familiar with.\n",
        "\n",
        "As a reminder, this is the code for obtaining and preprocessing the data:"
      ]
    },
    {
      "cell_type": "code",
      "metadata": {
        "id": "pjI-3i2_KpaN",
        "colab_type": "code",
        "colab": {
          "base_uri": "https://localhost:8080/",
          "height": 153
        },
        "outputId": "64812a99-36bc-4e79-a5d7-0bb89d59e094"
      },
      "source": [
        "max_features = 10000  # number of words to consider as features\n",
        "max_len = 500  # cut texts after this number of words (among top max_features most common words)\n",
        "\n",
        "print('Loading data...')\n",
        "(x_train, y_train), (x_test, y_test) = imdb.load_data(num_words=max_features)\n",
        "print(len(x_train), 'train sequences')\n",
        "print(len(x_test), 'test sequences')\n",
        "\n",
        "print('Pad sequences (samples x time)')\n",
        "x_train = pad_sequences(x_train, maxlen=max_len)\n",
        "x_test = pad_sequences(x_test, maxlen=max_len)\n",
        "print('x_train shape:', x_train.shape)\n",
        "print('x_test shape:', x_test.shape)"
      ],
      "execution_count": 2,
      "outputs": [
        {
          "output_type": "stream",
          "text": [
            "Loading data...\n",
            "Downloading data from https://storage.googleapis.com/tensorflow/tf-keras-datasets/imdb.npz\n",
            "17465344/17464789 [==============================] - 0s 0us/step\n",
            "25000 train sequences\n",
            "25000 test sequences\n",
            "Pad sequences (samples x time)\n",
            "x_train shape: (25000, 500)\n",
            "x_test shape: (25000, 500)\n"
          ],
          "name": "stdout"
        }
      ]
    },
    {
      "cell_type": "markdown",
      "metadata": {
        "id": "ECPjp3WhLthY",
        "colab_type": "text"
      },
      "source": [
        "1D convnets are structured in the same way as their 2D counter-parts: they consist of a stack of Conv1D and MaxPooling1D layers, eventually ending in either a global pooling layer or a Flatten layer, turning the 3D outputs into 2D outputs, allowing to add one or more Dense layers to the model, for classification or regression.\n",
        "\n",
        "One difference, though, is the fact that we can afford to use larger convolution windows with 1D convnets. Indeed, with a 2D convolution layer, a 3x3 convolution window contains 3*3 = 9 feature vectors, but with a 1D convolution layer, a convolution window of size 3 would only contain 3 feature vectors. We can thus easily afford 1D convolution windows of size 7 or 9.\n",
        "\n",
        "This is our example 1D convnet for the IMDB dataset:"
      ]
    },
    {
      "cell_type": "code",
      "metadata": {
        "id": "2fDWsc4NK77E",
        "colab_type": "code",
        "colab": {
          "base_uri": "https://localhost:8080/",
          "height": 1000
        },
        "outputId": "2cd628af-1079-486d-c248-140b1cf2f00f"
      },
      "source": [
        "model = Sequential()\n",
        "model.add(Embedding(max_features, 128, input_length=max_len))\n",
        "\n",
        "model.add(Conv1D(32, 7, activation='relu'))\n",
        "model.add(MaxPooling1D(5))\n",
        "\n",
        "model.add(Conv1D(32, 7, activation='relu'))\n",
        "model.add(GlobalMaxPooling1D())\n",
        "model.add(Dense(1))\n",
        "\n",
        "model.summary()\n",
        "\n",
        "model.compile(optimizer=RMSprop(learning_rate=1e-4), loss='binary_crossentropy', metrics=['accuracy'])\n",
        "history = model.fit(x_train, y_train, epochs=100, batch_size=128, validation_split=0.2)"
      ],
      "execution_count": 3,
      "outputs": [
        {
          "output_type": "stream",
          "text": [
            "Model: \"sequential\"\n",
            "_________________________________________________________________\n",
            "Layer (type)                 Output Shape              Param #   \n",
            "=================================================================\n",
            "embedding (Embedding)        (None, 500, 128)          1280000   \n",
            "_________________________________________________________________\n",
            "conv1d (Conv1D)              (None, 494, 32)           28704     \n",
            "_________________________________________________________________\n",
            "max_pooling1d (MaxPooling1D) (None, 98, 32)            0         \n",
            "_________________________________________________________________\n",
            "conv1d_1 (Conv1D)            (None, 92, 32)            7200      \n",
            "_________________________________________________________________\n",
            "global_max_pooling1d (Global (None, 32)                0         \n",
            "_________________________________________________________________\n",
            "dense (Dense)                (None, 1)                 33        \n",
            "=================================================================\n",
            "Total params: 1,315,937\n",
            "Trainable params: 1,315,937\n",
            "Non-trainable params: 0\n",
            "_________________________________________________________________\n",
            "Epoch 1/100\n",
            "157/157 [==============================] - 8s 51ms/step - loss: 0.7361 - accuracy: 0.5179 - val_loss: 0.6832 - val_accuracy: 0.5720\n",
            "Epoch 2/100\n",
            "157/157 [==============================] - 7s 47ms/step - loss: 0.6633 - accuracy: 0.6707 - val_loss: 0.6607 - val_accuracy: 0.6416\n",
            "Epoch 3/100\n",
            "157/157 [==============================] - 7s 47ms/step - loss: 0.6149 - accuracy: 0.7641 - val_loss: 0.6030 - val_accuracy: 0.7256\n",
            "Epoch 4/100\n",
            "157/157 [==============================] - 7s 47ms/step - loss: 0.5194 - accuracy: 0.8164 - val_loss: 0.4763 - val_accuracy: 0.8112\n",
            "Epoch 5/100\n",
            "157/157 [==============================] - 7s 46ms/step - loss: 0.3976 - accuracy: 0.8553 - val_loss: 0.4171 - val_accuracy: 0.8396\n",
            "Epoch 6/100\n",
            "157/157 [==============================] - 7s 47ms/step - loss: 0.3308 - accuracy: 0.8784 - val_loss: 0.4094 - val_accuracy: 0.8520\n",
            "Epoch 7/100\n",
            "157/157 [==============================] - 8s 48ms/step - loss: 0.2915 - accuracy: 0.8977 - val_loss: 0.4103 - val_accuracy: 0.8640\n",
            "Epoch 8/100\n",
            "157/157 [==============================] - 8s 48ms/step - loss: 0.2572 - accuracy: 0.9116 - val_loss: 0.4314 - val_accuracy: 0.8610\n",
            "Epoch 9/100\n",
            "157/157 [==============================] - 7s 47ms/step - loss: 0.2314 - accuracy: 0.9221 - val_loss: 0.4299 - val_accuracy: 0.8708\n",
            "Epoch 10/100\n",
            "157/157 [==============================] - 7s 47ms/step - loss: 0.2097 - accuracy: 0.9295 - val_loss: 0.4360 - val_accuracy: 0.8724\n",
            "Epoch 11/100\n",
            "157/157 [==============================] - 7s 47ms/step - loss: 0.1907 - accuracy: 0.9383 - val_loss: 0.4725 - val_accuracy: 0.8734\n",
            "Epoch 12/100\n",
            "157/157 [==============================] - 7s 47ms/step - loss: 0.1726 - accuracy: 0.9457 - val_loss: 0.5427 - val_accuracy: 0.8738\n",
            "Epoch 13/100\n",
            "157/157 [==============================] - 8s 48ms/step - loss: 0.1561 - accuracy: 0.9518 - val_loss: 0.5677 - val_accuracy: 0.8738\n",
            "Epoch 14/100\n",
            "157/157 [==============================] - 8s 50ms/step - loss: 0.1429 - accuracy: 0.9586 - val_loss: 0.5679 - val_accuracy: 0.8754\n",
            "Epoch 15/100\n",
            "157/157 [==============================] - 8s 48ms/step - loss: 0.1282 - accuracy: 0.9638 - val_loss: 0.5592 - val_accuracy: 0.8740\n",
            "Epoch 16/100\n",
            "157/157 [==============================] - 7s 47ms/step - loss: 0.1171 - accuracy: 0.9693 - val_loss: 0.6190 - val_accuracy: 0.8776\n",
            "Epoch 17/100\n",
            "157/157 [==============================] - 7s 47ms/step - loss: 0.1065 - accuracy: 0.9743 - val_loss: 0.6403 - val_accuracy: 0.8776\n",
            "Epoch 18/100\n",
            "157/157 [==============================] - 7s 47ms/step - loss: 0.0970 - accuracy: 0.9780 - val_loss: 0.6790 - val_accuracy: 0.8760\n",
            "Epoch 19/100\n",
            "157/157 [==============================] - 7s 46ms/step - loss: 0.0884 - accuracy: 0.9821 - val_loss: 0.6800 - val_accuracy: 0.8758\n",
            "Epoch 20/100\n",
            "157/157 [==============================] - 8s 49ms/step - loss: 0.0799 - accuracy: 0.9866 - val_loss: 0.7138 - val_accuracy: 0.8762\n",
            "Epoch 21/100\n",
            "157/157 [==============================] - 8s 50ms/step - loss: 0.0723 - accuracy: 0.9886 - val_loss: 0.7402 - val_accuracy: 0.8686\n",
            "Epoch 22/100\n",
            "157/157 [==============================] - 8s 52ms/step - loss: 0.0662 - accuracy: 0.9919 - val_loss: 0.7633 - val_accuracy: 0.8740\n",
            "Epoch 23/100\n",
            "157/157 [==============================] - 8s 49ms/step - loss: 0.0610 - accuracy: 0.9936 - val_loss: 0.7889 - val_accuracy: 0.8734\n",
            "Epoch 24/100\n",
            "157/157 [==============================] - 7s 47ms/step - loss: 0.0566 - accuracy: 0.9951 - val_loss: 0.8097 - val_accuracy: 0.8716\n",
            "Epoch 25/100\n",
            "157/157 [==============================] - 7s 47ms/step - loss: 0.0532 - accuracy: 0.9959 - val_loss: 0.8084 - val_accuracy: 0.8720\n",
            "Epoch 26/100\n",
            "157/157 [==============================] - 7s 48ms/step - loss: 0.0499 - accuracy: 0.9966 - val_loss: 0.8582 - val_accuracy: 0.8656\n",
            "Epoch 27/100\n",
            "157/157 [==============================] - 7s 47ms/step - loss: 0.0480 - accuracy: 0.9969 - val_loss: 0.8454 - val_accuracy: 0.8728\n",
            "Epoch 28/100\n",
            "157/157 [==============================] - 7s 46ms/step - loss: 0.0462 - accuracy: 0.9971 - val_loss: 0.8663 - val_accuracy: 0.8686\n",
            "Epoch 29/100\n",
            "157/157 [==============================] - 7s 46ms/step - loss: 0.0448 - accuracy: 0.9972 - val_loss: 0.8965 - val_accuracy: 0.8660\n",
            "Epoch 30/100\n",
            "157/157 [==============================] - 7s 46ms/step - loss: 0.0440 - accuracy: 0.9972 - val_loss: 0.8766 - val_accuracy: 0.8728\n",
            "Epoch 31/100\n",
            "157/157 [==============================] - 7s 46ms/step - loss: 0.0435 - accuracy: 0.9972 - val_loss: 0.8955 - val_accuracy: 0.8702\n",
            "Epoch 32/100\n",
            "157/157 [==============================] - 7s 47ms/step - loss: 0.0431 - accuracy: 0.9972 - val_loss: 0.9164 - val_accuracy: 0.8648\n",
            "Epoch 33/100\n",
            "157/157 [==============================] - 8s 48ms/step - loss: 0.0429 - accuracy: 0.9972 - val_loss: 0.9455 - val_accuracy: 0.8698\n",
            "Epoch 34/100\n",
            "157/157 [==============================] - 7s 47ms/step - loss: 0.0427 - accuracy: 0.9972 - val_loss: 0.9427 - val_accuracy: 0.8720\n",
            "Epoch 35/100\n",
            "157/157 [==============================] - 8s 48ms/step - loss: 0.0427 - accuracy: 0.9973 - val_loss: 0.9412 - val_accuracy: 0.8706\n",
            "Epoch 36/100\n",
            "157/157 [==============================] - 8s 48ms/step - loss: 0.0426 - accuracy: 0.9973 - val_loss: 0.9470 - val_accuracy: 0.8658\n",
            "Epoch 37/100\n",
            "157/157 [==============================] - 7s 48ms/step - loss: 0.0425 - accuracy: 0.9973 - val_loss: 0.9363 - val_accuracy: 0.8720\n",
            "Epoch 38/100\n",
            "157/157 [==============================] - 8s 48ms/step - loss: 0.0425 - accuracy: 0.9973 - val_loss: 0.9418 - val_accuracy: 0.8718\n",
            "Epoch 39/100\n",
            "157/157 [==============================] - 8s 52ms/step - loss: 0.0425 - accuracy: 0.9973 - val_loss: 0.9773 - val_accuracy: 0.8654\n",
            "Epoch 40/100\n",
            "157/157 [==============================] - 8s 51ms/step - loss: 0.0425 - accuracy: 0.9973 - val_loss: 0.9921 - val_accuracy: 0.8708\n",
            "Epoch 41/100\n",
            "157/157 [==============================] - 8s 51ms/step - loss: 0.0424 - accuracy: 0.9973 - val_loss: 0.9662 - val_accuracy: 0.8704\n",
            "Epoch 42/100\n",
            "157/157 [==============================] - 8s 52ms/step - loss: 0.0424 - accuracy: 0.9973 - val_loss: 0.9892 - val_accuracy: 0.8698\n",
            "Epoch 43/100\n",
            "157/157 [==============================] - 8s 52ms/step - loss: 0.0424 - accuracy: 0.9973 - val_loss: 0.9887 - val_accuracy: 0.8712\n",
            "Epoch 44/100\n",
            "157/157 [==============================] - 8s 52ms/step - loss: 0.0424 - accuracy: 0.9973 - val_loss: 0.9898 - val_accuracy: 0.8720\n",
            "Epoch 45/100\n",
            "157/157 [==============================] - 8s 53ms/step - loss: 0.0424 - accuracy: 0.9973 - val_loss: 1.0151 - val_accuracy: 0.8720\n",
            "Epoch 46/100\n",
            "157/157 [==============================] - 9s 54ms/step - loss: 0.0423 - accuracy: 0.9973 - val_loss: 1.0013 - val_accuracy: 0.8656\n",
            "Epoch 47/100\n",
            "157/157 [==============================] - 9s 54ms/step - loss: 0.0423 - accuracy: 0.9973 - val_loss: 1.0074 - val_accuracy: 0.8656\n",
            "Epoch 48/100\n",
            "157/157 [==============================] - 9s 54ms/step - loss: 0.0424 - accuracy: 0.9973 - val_loss: 0.9897 - val_accuracy: 0.8700\n",
            "Epoch 49/100\n",
            "157/157 [==============================] - 8s 54ms/step - loss: 0.0423 - accuracy: 0.9973 - val_loss: 0.9896 - val_accuracy: 0.8684\n",
            "Epoch 50/100\n",
            "157/157 [==============================] - 9s 54ms/step - loss: 0.0423 - accuracy: 0.9973 - val_loss: 1.0062 - val_accuracy: 0.8734\n",
            "Epoch 51/100\n",
            "157/157 [==============================] - 8s 53ms/step - loss: 0.0423 - accuracy: 0.9973 - val_loss: 0.9951 - val_accuracy: 0.8696\n",
            "Epoch 52/100\n",
            "157/157 [==============================] - 8s 54ms/step - loss: 0.0423 - accuracy: 0.9973 - val_loss: 1.0172 - val_accuracy: 0.8694\n",
            "Epoch 53/100\n",
            "157/157 [==============================] - 8s 54ms/step - loss: 0.0423 - accuracy: 0.9973 - val_loss: 1.0332 - val_accuracy: 0.8714\n",
            "Epoch 54/100\n",
            "157/157 [==============================] - 8s 53ms/step - loss: 0.0423 - accuracy: 0.9973 - val_loss: 1.0227 - val_accuracy: 0.8704\n",
            "Epoch 55/100\n",
            "157/157 [==============================] - 8s 52ms/step - loss: 0.0423 - accuracy: 0.9973 - val_loss: 1.0336 - val_accuracy: 0.8702\n",
            "Epoch 56/100\n",
            "157/157 [==============================] - 8s 50ms/step - loss: 0.0423 - accuracy: 0.9973 - val_loss: 1.0338 - val_accuracy: 0.8706\n",
            "Epoch 57/100\n",
            "157/157 [==============================] - 8s 53ms/step - loss: 0.0423 - accuracy: 0.9973 - val_loss: 1.0185 - val_accuracy: 0.8696\n",
            "Epoch 58/100\n",
            "157/157 [==============================] - 8s 53ms/step - loss: 0.0423 - accuracy: 0.9973 - val_loss: 1.0767 - val_accuracy: 0.8676\n",
            "Epoch 59/100\n",
            "157/157 [==============================] - 8s 53ms/step - loss: 0.0423 - accuracy: 0.9973 - val_loss: 1.0104 - val_accuracy: 0.8708\n",
            "Epoch 60/100\n",
            "157/157 [==============================] - 8s 52ms/step - loss: 0.0423 - accuracy: 0.9973 - val_loss: 1.0430 - val_accuracy: 0.8704\n",
            "Epoch 61/100\n",
            "157/157 [==============================] - 8s 53ms/step - loss: 0.0423 - accuracy: 0.9973 - val_loss: 1.0540 - val_accuracy: 0.8720\n",
            "Epoch 62/100\n",
            "157/157 [==============================] - 8s 51ms/step - loss: 0.0423 - accuracy: 0.9973 - val_loss: 1.0443 - val_accuracy: 0.8716\n",
            "Epoch 63/100\n",
            "157/157 [==============================] - 8s 51ms/step - loss: 0.0423 - accuracy: 0.9973 - val_loss: 1.0595 - val_accuracy: 0.8708\n",
            "Epoch 64/100\n",
            "157/157 [==============================] - 8s 49ms/step - loss: 0.0422 - accuracy: 0.9973 - val_loss: 1.0504 - val_accuracy: 0.8708\n",
            "Epoch 65/100\n",
            "157/157 [==============================] - 8s 48ms/step - loss: 0.0423 - accuracy: 0.9973 - val_loss: 1.0424 - val_accuracy: 0.8716\n",
            "Epoch 66/100\n",
            "157/157 [==============================] - 8s 48ms/step - loss: 0.0422 - accuracy: 0.9973 - val_loss: 1.0424 - val_accuracy: 0.8716\n",
            "Epoch 67/100\n",
            "157/157 [==============================] - 8s 48ms/step - loss: 0.0422 - accuracy: 0.9973 - val_loss: 1.0424 - val_accuracy: 0.8716\n",
            "Epoch 68/100\n",
            "157/157 [==============================] - 8s 49ms/step - loss: 0.0422 - accuracy: 0.9973 - val_loss: 1.0424 - val_accuracy: 0.8716\n",
            "Epoch 69/100\n",
            "157/157 [==============================] - 8s 51ms/step - loss: 0.0422 - accuracy: 0.9973 - val_loss: 1.0424 - val_accuracy: 0.8716\n",
            "Epoch 70/100\n",
            "157/157 [==============================] - 8s 51ms/step - loss: 0.0422 - accuracy: 0.9973 - val_loss: 1.0424 - val_accuracy: 0.8716\n",
            "Epoch 71/100\n",
            "157/157 [==============================] - 8s 51ms/step - loss: 0.0422 - accuracy: 0.9973 - val_loss: 1.0424 - val_accuracy: 0.8716\n",
            "Epoch 72/100\n",
            "157/157 [==============================] - 8s 50ms/step - loss: 0.0422 - accuracy: 0.9973 - val_loss: 1.0424 - val_accuracy: 0.8716\n",
            "Epoch 73/100\n",
            "157/157 [==============================] - 8s 50ms/step - loss: 0.0422 - accuracy: 0.9973 - val_loss: 1.0424 - val_accuracy: 0.8716\n",
            "Epoch 74/100\n",
            "157/157 [==============================] - 8s 49ms/step - loss: 0.0422 - accuracy: 0.9973 - val_loss: 1.0424 - val_accuracy: 0.8716\n",
            "Epoch 75/100\n",
            "157/157 [==============================] - 8s 51ms/step - loss: 0.0422 - accuracy: 0.9973 - val_loss: 1.0424 - val_accuracy: 0.8716\n",
            "Epoch 76/100\n",
            "157/157 [==============================] - 8s 52ms/step - loss: 0.0422 - accuracy: 0.9973 - val_loss: 1.0424 - val_accuracy: 0.8716\n",
            "Epoch 77/100\n",
            "157/157 [==============================] - 8s 51ms/step - loss: 0.0422 - accuracy: 0.9973 - val_loss: 1.0424 - val_accuracy: 0.8716\n",
            "Epoch 78/100\n",
            "157/157 [==============================] - 8s 51ms/step - loss: 0.0422 - accuracy: 0.9973 - val_loss: 1.0424 - val_accuracy: 0.8716\n",
            "Epoch 79/100\n",
            "157/157 [==============================] - 8s 51ms/step - loss: 0.0422 - accuracy: 0.9973 - val_loss: 1.0424 - val_accuracy: 0.8716\n",
            "Epoch 80/100\n",
            "157/157 [==============================] - 8s 51ms/step - loss: 0.0422 - accuracy: 0.9973 - val_loss: 1.0424 - val_accuracy: 0.8716\n",
            "Epoch 81/100\n",
            "157/157 [==============================] - 8s 51ms/step - loss: 0.0422 - accuracy: 0.9973 - val_loss: 1.0424 - val_accuracy: 0.8716\n",
            "Epoch 82/100\n",
            "157/157 [==============================] - 8s 51ms/step - loss: 0.0422 - accuracy: 0.9973 - val_loss: 1.0424 - val_accuracy: 0.8716\n",
            "Epoch 83/100\n",
            "157/157 [==============================] - 8s 49ms/step - loss: 0.0422 - accuracy: 0.9973 - val_loss: 1.0424 - val_accuracy: 0.8716\n",
            "Epoch 84/100\n",
            "157/157 [==============================] - 8s 49ms/step - loss: 0.0422 - accuracy: 0.9973 - val_loss: 1.0424 - val_accuracy: 0.8716\n",
            "Epoch 85/100\n",
            "157/157 [==============================] - 8s 49ms/step - loss: 0.0422 - accuracy: 0.9973 - val_loss: 1.0424 - val_accuracy: 0.8716\n",
            "Epoch 86/100\n",
            "157/157 [==============================] - 8s 49ms/step - loss: 0.0422 - accuracy: 0.9973 - val_loss: 1.0424 - val_accuracy: 0.8716\n",
            "Epoch 87/100\n",
            "157/157 [==============================] - 8s 51ms/step - loss: 0.0422 - accuracy: 0.9973 - val_loss: 1.0424 - val_accuracy: 0.8716\n",
            "Epoch 88/100\n",
            "157/157 [==============================] - 8s 51ms/step - loss: 0.0422 - accuracy: 0.9973 - val_loss: 1.0424 - val_accuracy: 0.8716\n",
            "Epoch 89/100\n",
            "157/157 [==============================] - 8s 50ms/step - loss: 0.0422 - accuracy: 0.9973 - val_loss: 1.0424 - val_accuracy: 0.8716\n",
            "Epoch 90/100\n",
            "157/157 [==============================] - 8s 50ms/step - loss: 0.0422 - accuracy: 0.9973 - val_loss: 1.0424 - val_accuracy: 0.8716\n",
            "Epoch 91/100\n",
            "157/157 [==============================] - 8s 49ms/step - loss: 0.0422 - accuracy: 0.9973 - val_loss: 1.0424 - val_accuracy: 0.8716\n",
            "Epoch 92/100\n",
            "157/157 [==============================] - 8s 50ms/step - loss: 0.0422 - accuracy: 0.9973 - val_loss: 1.0424 - val_accuracy: 0.8716\n",
            "Epoch 93/100\n",
            "157/157 [==============================] - 8s 50ms/step - loss: 0.0422 - accuracy: 0.9973 - val_loss: 1.0424 - val_accuracy: 0.8716\n",
            "Epoch 94/100\n",
            "157/157 [==============================] - 8s 49ms/step - loss: 0.0422 - accuracy: 0.9973 - val_loss: 1.0424 - val_accuracy: 0.8716\n",
            "Epoch 95/100\n",
            "157/157 [==============================] - 8s 50ms/step - loss: 0.0422 - accuracy: 0.9973 - val_loss: 1.0424 - val_accuracy: 0.8716\n",
            "Epoch 96/100\n",
            "157/157 [==============================] - 8s 50ms/step - loss: 0.0422 - accuracy: 0.9973 - val_loss: 1.0424 - val_accuracy: 0.8716\n",
            "Epoch 97/100\n",
            "157/157 [==============================] - 8s 49ms/step - loss: 0.0422 - accuracy: 0.9973 - val_loss: 1.0424 - val_accuracy: 0.8716\n",
            "Epoch 98/100\n",
            "157/157 [==============================] - 8s 50ms/step - loss: 0.0422 - accuracy: 0.9973 - val_loss: 1.0424 - val_accuracy: 0.8716\n",
            "Epoch 99/100\n",
            "157/157 [==============================] - 8s 51ms/step - loss: 0.0422 - accuracy: 0.9973 - val_loss: 1.0424 - val_accuracy: 0.8716\n",
            "Epoch 100/100\n",
            "157/157 [==============================] - 9s 55ms/step - loss: 0.0422 - accuracy: 0.9973 - val_loss: 1.0424 - val_accuracy: 0.8716\n"
          ],
          "name": "stdout"
        }
      ]
    },
    {
      "cell_type": "markdown",
      "metadata": {
        "id": "_XBP5ArCN8wt",
        "colab_type": "text"
      },
      "source": [
        "Here are our training and validation results: validation accuracy is somewhat lower than that of the LSTM we used two sections ago, but runtime is faster, both on CPU and GPU (albeit the exact speedup will vary greatly depending on your exact configuration). At that point, we could re-train this model for the right number of epochs (8), and run it on the test set. This is a convincing demonstration that a 1D convnet can offer a fast, cheap alternative to a recurrent network on a word-level sentiment classification task."
      ]
    },
    {
      "cell_type": "code",
      "metadata": {
        "id": "Fyzc86u7N15i",
        "colab_type": "code",
        "colab": {
          "base_uri": "https://localhost:8080/",
          "height": 545
        },
        "outputId": "05d5e638-8338-46a8-dcea-617363c9cc09"
      },
      "source": [
        "acc = history.history['accuracy']\n",
        "val_acc = history.history['val_accuracy']\n",
        "loss = history.history['loss']\n",
        "val_loss = history.history['val_loss']\n",
        "\n",
        "epochs = range(len(acc))\n",
        "\n",
        "plt.plot(epochs, acc, 'bo', label='Training accuracy')\n",
        "plt.plot(epochs, val_acc, 'r', label='Validation accuracy')\n",
        "plt.title('Training and validation accuracy')\n",
        "plt.legend()\n",
        "\n",
        "plt.figure()\n",
        "\n",
        "plt.plot(epochs, loss, 'bo', label='Training loss')\n",
        "plt.plot(epochs, val_loss, 'r', label='Validation loss')\n",
        "plt.title('Training and validation loss')\n",
        "plt.legend()\n",
        "\n",
        "plt.show()"
      ],
      "execution_count": 4,
      "outputs": [
        {
          "output_type": "display_data",
          "data": {
            "image/png": "[encoded data removed]",
            "text/plain": [
              "<Figure size 432x288 with 1 Axes>"
            ]
          },
          "metadata": {
            "tags": [],
            "needs_background": "light"
          }
        },
        {
          "output_type": "display_data",
          "data": {
            "image/png": "[encoded data removed]",
            "text/plain": [
              "<Figure size 432x288 with 1 Axes>"
            ]
          },
          "metadata": {
            "tags": [],
            "needs_background": "light"
          }
        }
      ]
    },
    {
      "cell_type": "markdown",
      "metadata": {
        "id": "Wz55koeFPEg1",
        "colab_type": "text"
      },
      "source": [
        "## Combining CNNs and RNNs to process long sequences"
      ]
    },
    {
      "cell_type": "markdown",
      "metadata": {
        "id": "U6zPJLRGPFh3",
        "colab_type": "text"
      },
      "source": [
        "Because 1D convnets process input patches independently, they are not sensitive to the order of the timesteps (beyond a local scale, the size of the convolution windows), unlike RNNs. Of course, in order to be able to recognize longer-term patterns, one could stack many convolution layers and pooling layers, resulting in upper layers that would \"see\" long chunks of the original inputs -- but that's still a fairly weak way to induce order-sensitivity. One way to evidence this weakness is to try 1D convnets on the temperature forecasting problem from the previous section, where order-sensitivity was key to produce good predictions. Let's see:"
      ]
    },
    {
      "cell_type": "code",
      "metadata": {
        "id": "IUn2d0XAfa5G",
        "colab_type": "code",
        "colab": {
          "base_uri": "https://localhost:8080/",
          "height": 238
        },
        "outputId": "a5e73d2a-bea5-43bc-e2b5-c8a91282c122"
      },
      "source": [
        "# Download and uncompress the data\n",
        "!wget https://s3.amazonaws.com/keras-datasets/jena_climate_2009_2016.csv.zip\n",
        "!unzip jena_climate_2009_2016.csv.zip"
      ],
      "execution_count": 5,
      "outputs": [
        {
          "output_type": "stream",
          "text": [
            "--2020-06-29 05:18:29--  https://s3.amazonaws.com/keras-datasets/jena_climate_2009_2016.csv.zip\n",
            "Resolving s3.amazonaws.com (s3.amazonaws.com)... 52.216.141.118\n",
            "Connecting to s3.amazonaws.com (s3.amazonaws.com)|52.216.141.118|:443... connected.\n",
            "HTTP request sent, awaiting response... 200 OK\n",
            "Length: 13568290 (13M) [application/zip]\n",
            "Saving to: ‘jena_climate_2009_2016.csv.zip’\n",
            "\n",
            "jena_climate_2009_2 100%[===================>]  12.94M  6.46MB/s    in 2.0s    \n",
            "\n",
            "2020-06-29 05:18:32 (6.46 MB/s) - ‘jena_climate_2009_2016.csv.zip’ saved [13568290/13568290]\n",
            "\n",
            "Archive:  jena_climate_2009_2016.csv.zip\n",
            "  inflating: jena_climate_2009_2016.csv  \n"
          ],
          "name": "stdout"
        }
      ]
    },
    {
      "cell_type": "code",
      "metadata": {
        "id": "VAAVYHjYfzx2",
        "colab_type": "code",
        "colab": {
          "base_uri": "https://localhost:8080/",
          "height": 71
        },
        "outputId": "2d8ed914-a250-4fb6-d6a3-ba85897f9a09"
      },
      "source": [
        "# Inspecting the data of the Jena weather dataset\n",
        "fname = 'jena_climate_2009_2016.csv'\n",
        "f = open(fname)\n",
        "data = f.read()\n",
        "f.close()\n",
        "\n",
        "lines = data.split('\\n')\n",
        "header = lines[0].split(',')\n",
        "lines = lines[1:]\n",
        "\n",
        "print(header)\n",
        "print(len(lines))"
      ],
      "execution_count": 6,
      "outputs": [
        {
          "output_type": "stream",
          "text": [
            "['\"Date Time\"', '\"p (mbar)\"', '\"T (degC)\"', '\"Tpot (K)\"', '\"Tdew (degC)\"', '\"rh (%)\"', '\"VPmax (mbar)\"', '\"VPact (mbar)\"', '\"VPdef (mbar)\"', '\"sh (g/kg)\"', '\"H2OC (mmol/mol)\"', '\"rho (g/m**3)\"', '\"wv (m/s)\"', '\"max. wv (m/s)\"', '\"wd (deg)\"']\n",
            "420551\n"
          ],
          "name": "stdout"
        }
      ]
    },
    {
      "cell_type": "code",
      "metadata": {
        "id": "YxoEL-wzf2lK",
        "colab_type": "code",
        "colab": {}
      },
      "source": [
        "# convert all 420,551 lines of data into a Numpy array.\n",
        "float_data = np.zeros((len(lines), len(header) - 1))\n",
        "for i, line in enumerate(lines):\n",
        "  values = [float(x) for x in line.split(',')[1:]]\n",
        "  float_data[i, :] = values"
      ],
      "execution_count": 7,
      "outputs": []
    },
    {
      "cell_type": "code",
      "metadata": {
        "id": "KHiTyee1gFA7",
        "colab_type": "code",
        "colab": {}
      },
      "source": [
        "#  compute the mean and standard deviation only on this fraction of the data\n",
        "mean = float_data[:200000].mean(axis=0)\n",
        "float_data -= mean\n",
        "\n",
        "std = float_data[:200000].std(axis=0)\n",
        "float_data /= std"
      ],
      "execution_count": 8,
      "outputs": []
    },
    {
      "cell_type": "code",
      "metadata": {
        "id": "Dz5zLKCkgKi0",
        "colab_type": "code",
        "colab": {}
      },
      "source": [
        "def generator(data, lookback, delay, min_index, max_index, shuffle=False, batch_size=128, step=6):\n",
        "  if max_index is None:\n",
        "    max_index = len(data) - delay - 1\n",
        "  i = min_index + lookback\n",
        "  while 1:\n",
        "    if shuffle:\n",
        "      rows = np.random.randint(min_index + lookback, max_index, size=batch_size)\n",
        "    else:\n",
        "      if i + batch_size >= max_index:\n",
        "        i = min_index + lookback\n",
        "      rows = np.arange(i, min(i + batch_size, max_index))\n",
        "      i += len(rows)\n",
        "    \n",
        "    samples = np.zeros((len(rows), lookback // step, data.shape[-1]))\n",
        "    targets = np.zeros((len(rows),))\n",
        "\n",
        "    for j, row in enumerate(rows):\n",
        "      indices = range(rows[j] - lookback, rows[j], step)\n",
        "      samples[j] = data[indices]\n",
        "      targets[j] = data[rows[j] + delay][1]\n",
        "    yield samples, targets"
      ],
      "execution_count": 9,
      "outputs": []
    },
    {
      "cell_type": "code",
      "metadata": {
        "id": "jnLM30XfgZkR",
        "colab_type": "code",
        "colab": {}
      },
      "source": [
        "lookback = 1440\n",
        "step = 6\n",
        "delay = 144\n",
        "batch_size = 128\n",
        "\n",
        "train_gen = generator(float_data, lookback=lookback, delay=delay, min_index=0, max_index=200000, shuffle=True, step=step, batch_size=batch_size)\n",
        "val_gen = generator(float_data, lookback=lookback, delay=delay, min_index=200001, max_index=300000, step=step, batch_size=batch_size)\n",
        "test_gen = generator(float_data, lookback=lookback, delay=delay, min_index=300001, max_index=None, step=step, batch_size=batch_size)\n",
        "\n",
        "# This is how many steps to draw from `val_gen` in order to see the whole validation set:\n",
        "val_steps = (300000 - 200001 - lookback) // batch_size\n",
        "\n",
        "# This is how many steps to draw from `test_gen` in order to see the whole test set:\n",
        "test_steps = (len(float_data) - 300001 - lookback) // batch_size"
      ],
      "execution_count": 10,
      "outputs": []
    },
    {
      "cell_type": "code",
      "metadata": {
        "id": "Q2zFV4nZOYGX",
        "colab_type": "code",
        "colab": {
          "base_uri": "https://localhost:8080/",
          "height": 1000
        },
        "outputId": "95948afc-8d59-40bb-ad53-6f9e966578c6"
      },
      "source": [
        "model = Sequential()\n",
        "\n",
        "model.add(Conv1D(32, 5, activation='relu', input_shape=(None, float_data.shape[-1])))\n",
        "model.add(MaxPooling1D(3))\n",
        "\n",
        "model.add(Conv1D(32, 5, activation='relu'))\n",
        "model.add(MaxPooling1D(3))\n",
        "\n",
        "model.add(Conv1D(32, 5, activation='relu'))\n",
        "model.add(GlobalMaxPooling1D())\n",
        "\n",
        "model.add(Dense(1))\n",
        "\n",
        "model.summary()\n",
        "\n",
        "model.compile(optimizer=RMSprop(), loss='mae')\n",
        "history = model.fit_generator(train_gen, steps_per_epoch=500, epochs=20, validation_data=val_gen, validation_steps=val_steps)"
      ],
      "execution_count": 11,
      "outputs": [
        {
          "output_type": "stream",
          "text": [
            "Model: \"sequential_1\"\n",
            "_________________________________________________________________\n",
            "Layer (type)                 Output Shape              Param #   \n",
            "=================================================================\n",
            "conv1d_2 (Conv1D)            (None, None, 32)          2272      \n",
            "_________________________________________________________________\n",
            "max_pooling1d_1 (MaxPooling1 (None, None, 32)          0         \n",
            "_________________________________________________________________\n",
            "conv1d_3 (Conv1D)            (None, None, 32)          5152      \n",
            "_________________________________________________________________\n",
            "max_pooling1d_2 (MaxPooling1 (None, None, 32)          0         \n",
            "_________________________________________________________________\n",
            "conv1d_4 (Conv1D)            (None, None, 32)          5152      \n",
            "_________________________________________________________________\n",
            "global_max_pooling1d_1 (Glob (None, 32)                0         \n",
            "_________________________________________________________________\n",
            "dense_1 (Dense)              (None, 1)                 33        \n",
            "=================================================================\n",
            "Total params: 12,609\n",
            "Trainable params: 12,609\n",
            "Non-trainable params: 0\n",
            "_________________________________________________________________\n",
            "WARNING:tensorflow:From <ipython-input-11-ae8d3ea5ba88>:17: Model.fit_generator (from tensorflow.python.keras.engine.training) is deprecated and will be removed in a future version.\n",
            "Instructions for updating:\n",
            "Please use Model.fit, which supports generators.\n",
            "Epoch 1/20\n",
            "500/500 [==============================] - 15s 30ms/step - loss: 0.4207 - val_loss: 0.4318\n",
            "Epoch 2/20\n",
            "500/500 [==============================] - 15s 30ms/step - loss: 0.3630 - val_loss: 0.4597\n",
            "Epoch 3/20\n",
            "500/500 [==============================] - 15s 30ms/step - loss: 0.3379 - val_loss: 0.4628\n",
            "Epoch 4/20\n",
            "500/500 [==============================] - 15s 30ms/step - loss: 0.3189 - val_loss: 0.4546\n",
            "Epoch 5/20\n",
            "500/500 [==============================] - 15s 29ms/step - loss: 0.3067 - val_loss: 0.4451\n",
            "Epoch 6/20\n",
            "500/500 [==============================] - 15s 30ms/step - loss: 0.2998 - val_loss: 0.4449\n",
            "Epoch 7/20\n",
            "500/500 [==============================] - 15s 30ms/step - loss: 0.2894 - val_loss: 0.4467\n",
            "Epoch 8/20\n",
            "500/500 [==============================] - 15s 31ms/step - loss: 0.2829 - val_loss: 0.4423\n",
            "Epoch 9/20\n",
            "500/500 [==============================] - 15s 30ms/step - loss: 0.2766 - val_loss: 0.4540\n",
            "Epoch 10/20\n",
            "500/500 [==============================] - 15s 30ms/step - loss: 0.2716 - val_loss: 0.5009\n",
            "Epoch 11/20\n",
            "500/500 [==============================] - 15s 31ms/step - loss: 0.2696 - val_loss: 0.4548\n",
            "Epoch 12/20\n",
            "500/500 [==============================] - 15s 31ms/step - loss: 0.2668 - val_loss: 0.4528\n",
            "Epoch 13/20\n",
            "500/500 [==============================] - 15s 31ms/step - loss: 0.2613 - val_loss: 0.4673\n",
            "Epoch 14/20\n",
            "500/500 [==============================] - 15s 31ms/step - loss: 0.2590 - val_loss: 0.4625\n",
            "Epoch 15/20\n",
            "500/500 [==============================] - 15s 31ms/step - loss: 0.2575 - val_loss: 0.4656\n",
            "Epoch 16/20\n",
            "500/500 [==============================] - 15s 30ms/step - loss: 0.2541 - val_loss: 0.4536\n",
            "Epoch 17/20\n",
            "500/500 [==============================] - 16s 31ms/step - loss: 0.2488 - val_loss: 0.4719\n",
            "Epoch 18/20\n",
            "500/500 [==============================] - 16s 31ms/step - loss: 0.2487 - val_loss: 0.4447\n",
            "Epoch 19/20\n",
            "500/500 [==============================] - 16s 31ms/step - loss: 0.2455 - val_loss: 0.4737\n",
            "Epoch 20/20\n",
            "500/500 [==============================] - 15s 31ms/step - loss: 0.2432 - val_loss: 0.4717\n"
          ],
          "name": "stdout"
        }
      ]
    },
    {
      "cell_type": "markdown",
      "metadata": {
        "id": "I4_UAh9eheXe",
        "colab_type": "text"
      },
      "source": [
        "Here are our training and validation Mean Absolute Errors:"
      ]
    },
    {
      "cell_type": "code",
      "metadata": {
        "id": "qGr0iXRChVwm",
        "colab_type": "code",
        "colab": {
          "base_uri": "https://localhost:8080/",
          "height": 281
        },
        "outputId": "c92b1514-1e08-4f32-f225-9ce7f1ca7b16"
      },
      "source": [
        "loss = history.history['loss']\n",
        "val_loss = history.history['val_loss']\n",
        "\n",
        "epochs = range(len(loss))\n",
        "\n",
        "plt.figure()\n",
        "\n",
        "plt.plot(epochs, loss, 'bo', label='Training loss')\n",
        "plt.plot(epochs, val_loss, 'b', label='Validation loss')\n",
        "plt.title('Training and validation loss')\n",
        "plt.legend()\n",
        "\n",
        "plt.show()"
      ],
      "execution_count": 12,
      "outputs": [
        {
          "output_type": "display_data",
          "data": {
            "image/png": "[encoded data removed]",
            "text/plain": [
              "<Figure size 432x288 with 1 Axes>"
            ]
          },
          "metadata": {
            "tags": [],
            "needs_background": "light"
          }
        }
      ]
    },
    {
      "cell_type": "markdown",
      "metadata": {
        "id": "RMjguNW6iVaa",
        "colab_type": "text"
      },
      "source": [
        "The validation MAE stays in the low 0.40s: we cannot even beat our common-sense baseline using the small convnet. Again, this is because our convnet looks for patterns anywhere in the input timeseries, and has no knowledge of the temporal position of a pattern it sees (e.g. towards the beginning, towards the end, etc.). Since more recent datapoints should be interpreted differently from older datapoints in the case of this specific forecasting problem, the convnet fails at producing meaningful results here. This limitation of convnets was not an issue on IMDB, because patterns of keywords that are associated with a positive or a negative sentiment will be informative independently of where they are found in the input sentences.\n",
        "\n",
        "One strategy to combine the speed and lightness of convnets with the order-sensitivity of RNNs is to use a 1D convnet as a preprocessing step before a RNN. This is especially beneficial when dealing with sequences that are so long that they couldn't realistically be processed with RNNs, e.g. sequences with thousands of steps. The convnet will turn the long input sequence into much shorter (downsampled) sequences of higher-level features. This sequence of extracted features then becomes the input to the RNN part of the network.\n",
        "\n",
        "<img src='https://github.com/rahiakela/img-repo/blob/master/deep-learning-with-python/convolution-rnn.png?raw=1' width='800'/>\n",
        "\n",
        "This technique is not seen very often in research papers and practical applications, possibly because it is not very well known. It is very effective and ought to be more common. Let's try this out on the temperature forecasting dataset. Because this strategy allows us to manipulate much longer sequences, we could either look at data from further back (by increasing the lookback parameter of the data generator), or look at high-resolution timeseries (by decreasing the step parameter of the generator). Here, we will chose (somewhat arbitrarily) to use a step twice smaller, resulting in twice longer timeseries, where the weather data is being sampled at a rate of one point per 30 minutes."
      ]
    },
    {
      "cell_type": "code",
      "metadata": {
        "id": "pEHpm3zCjPPc",
        "colab_type": "code",
        "colab": {}
      },
      "source": [
        "# This was previously set to 6 (one point per hour).\n",
        "# Now 3 (one point per 30 min).\n",
        "step = 3\n",
        "lookback = 720\n",
        "delay = 144\n",
        "\n",
        "train_gen = generator(float_data, lookback=lookback, delay=delay, min_index=0, max_index=200000, shuffle=True, step=step)\n",
        "val_gen = generator(float_data, lookback=lookback, delay=delay, min_index=200001, max_index=300000, step=step)\n",
        "test_gen = generator(float_data, lookback=lookback, delay=delay, min_index=300001, max_index=None, step=step)\n",
        "\n",
        "val_steps = (300000 - 200001 - lookback) // 128\n",
        "test_steps = (len(float_data) - 300001 - lookback) // 128"
      ],
      "execution_count": 13,
      "outputs": []
    },
    {
      "cell_type": "markdown",
      "metadata": {
        "id": "NeHEVrK2kAWN",
        "colab_type": "text"
      },
      "source": [
        "This is our model, starting with two Conv1D layers and following-up with a GRU layer:"
      ]
    },
    {
      "cell_type": "code",
      "metadata": {
        "id": "l20nBB_Hj9it",
        "colab_type": "code",
        "colab": {
          "base_uri": "https://localhost:8080/",
          "height": 1000
        },
        "outputId": "aac5e4b3-bc80-4e8b-af1a-7c7315a0d7cd"
      },
      "source": [
        "model = Sequential()\n",
        "\n",
        "model.add(Conv1D(32, 5, activation='relu', input_shape=(None, float_data.shape[-1])))\n",
        "model.add(MaxPooling1D(3))\n",
        "\n",
        "model.add(Conv1D(32, 5, activation='relu'))\n",
        "model.add(GRU(32, dropout=0.1, recurrent_dropout=0.5))\n",
        "\n",
        "model.add(Dense(1))\n",
        "\n",
        "model.summary()\n",
        "\n",
        "model.compile(optimizer=RMSprop(), loss='mae')\n",
        "history = model.fit_generator(train_gen, steps_per_epoch=500, epochs=20, validation_data=val_gen, validation_steps=val_steps)"
      ],
      "execution_count": 14,
      "outputs": [
        {
          "output_type": "stream",
          "text": [
            "WARNING:tensorflow:Layer gru will not use cuDNN kernel since it doesn't meet the cuDNN kernel criteria. It will use generic GPU kernel as fallback when running on GPU\n",
            "Model: \"sequential_2\"\n",
            "_________________________________________________________________\n",
            "Layer (type)                 Output Shape              Param #   \n",
            "=================================================================\n",
            "conv1d_5 (Conv1D)            (None, None, 32)          2272      \n",
            "_________________________________________________________________\n",
            "max_pooling1d_3 (MaxPooling1 (None, None, 32)          0         \n",
            "_________________________________________________________________\n",
            "conv1d_6 (Conv1D)            (None, None, 32)          5152      \n",
            "_________________________________________________________________\n",
            "gru (GRU)                    (None, 32)                6336      \n",
            "_________________________________________________________________\n",
            "dense_2 (Dense)              (None, 1)                 33        \n",
            "=================================================================\n",
            "Total params: 13,793\n",
            "Trainable params: 13,793\n",
            "Non-trainable params: 0\n",
            "_________________________________________________________________\n",
            "Epoch 1/20\n",
            "500/500 [==============================] - 218s 436ms/step - loss: 0.3262 - val_loss: 0.2875\n",
            "Epoch 2/20\n",
            "500/500 [==============================] - 214s 428ms/step - loss: 0.2918 - val_loss: 0.2754\n",
            "Epoch 3/20\n",
            "500/500 [==============================] - 216s 433ms/step - loss: 0.2817 - val_loss: 0.2821\n",
            "Epoch 4/20\n",
            "500/500 [==============================] - 214s 427ms/step - loss: 0.2721 - val_loss: 0.2768\n",
            "Epoch 5/20\n",
            "500/500 [==============================] - 217s 433ms/step - loss: 0.2664 - val_loss: 0.2730\n",
            "Epoch 6/20\n",
            "500/500 [==============================] - 217s 434ms/step - loss: 0.2589 - val_loss: 0.2758\n",
            "Epoch 7/20\n",
            "500/500 [==============================] - 218s 437ms/step - loss: 0.2550 - val_loss: 0.2879\n",
            "Epoch 8/20\n",
            "500/500 [==============================] - 214s 428ms/step - loss: 0.2502 - val_loss: 0.2849\n",
            "Epoch 9/20\n",
            "500/500 [==============================] - 214s 428ms/step - loss: 0.2433 - val_loss: 0.2847\n",
            "Epoch 10/20\n",
            "500/500 [==============================] - 220s 439ms/step - loss: 0.2394 - val_loss: 0.2915\n",
            "Epoch 11/20\n",
            "500/500 [==============================] - 216s 431ms/step - loss: 0.2341 - val_loss: 0.2883\n",
            "Epoch 12/20\n",
            "500/500 [==============================] - 220s 440ms/step - loss: 0.2294 - val_loss: 0.2975\n",
            "Epoch 13/20\n",
            "500/500 [==============================] - 218s 436ms/step - loss: 0.2248 - val_loss: 0.2999\n",
            "Epoch 14/20\n",
            "500/500 [==============================] - 221s 442ms/step - loss: 0.2231 - val_loss: 0.2937\n",
            "Epoch 15/20\n",
            "500/500 [==============================] - 217s 434ms/step - loss: 0.2184 - val_loss: 0.2958\n",
            "Epoch 16/20\n",
            "500/500 [==============================] - 217s 434ms/step - loss: 0.2139 - val_loss: 0.3063\n",
            "Epoch 17/20\n",
            "500/500 [==============================] - 219s 438ms/step - loss: 0.2119 - val_loss: 0.3006\n",
            "Epoch 18/20\n",
            "500/500 [==============================] - 220s 441ms/step - loss: 0.2093 - val_loss: 0.3083\n",
            "Epoch 19/20\n",
            "500/500 [==============================] - 222s 444ms/step - loss: 0.2066 - val_loss: 0.3081\n",
            "Epoch 20/20\n",
            "500/500 [==============================] - 217s 435ms/step - loss: 0.2047 - val_loss: 0.3018\n"
          ],
          "name": "stdout"
        }
      ]
    },
    {
      "cell_type": "code",
      "metadata": {
        "id": "iN30mtuDkZ_t",
        "colab_type": "code",
        "colab": {
          "base_uri": "https://localhost:8080/",
          "height": 281
        },
        "outputId": "b8cae07c-a863-4cc5-aa2c-af324032de37"
      },
      "source": [
        "loss = history.history['loss']\n",
        "val_loss = history.history['val_loss']\n",
        "\n",
        "epochs = range(len(loss))\n",
        "\n",
        "plt.figure()\n",
        "\n",
        "plt.plot(epochs, loss, 'bo', label='Training loss')\n",
        "plt.plot(epochs, val_loss, 'b', label='Validation loss')\n",
        "plt.title('Training and validation loss')\n",
        "plt.legend()\n",
        "\n",
        "plt.show()"
      ],
      "execution_count": 15,
      "outputs": [
        {
          "output_type": "display_data",
          "data": {
            "image/png": "[encoded data removed]",
            "text/plain": [
              "<Figure size 432x288 with 1 Axes>"
            ]
          },
          "metadata": {
            "tags": [],
            "needs_background": "light"
          }
        }
      ]
    },
    {
      "cell_type": "markdown",
      "metadata": {
        "id": "3ZmGs16dkqR9",
        "colab_type": "text"
      },
      "source": [
        "Judging from the validation loss, this setup is not quite as good as the regularized GRU alone, but it's significantly faster. It is looking at twice more data, which in this case doesn't appear to be hugely helpful, but may be important for other datasets."
      ]
    },
    {
      "cell_type": "markdown",
      "metadata": {
        "id": "DkDPq2A8kq3m",
        "colab_type": "text"
      },
      "source": [
        "## Wrapping up"
      ]
    },
    {
      "cell_type": "markdown",
      "metadata": {
        "id": "L7QJiAjqktE5",
        "colab_type": "text"
      },
      "source": [
        "Here's what you should take away from this section:\n",
        "\n",
        "* In the same way that 2D convnets perform well for processing visual patterns in 2D space, 1D convnets perform well for processing temporal patterns. They offer a faster alternative to RNNs on some problems, in particular NLP tasks.\n",
        "* Typically 1D convnets are structured much like their 2D equivalents from the world of computer vision: they consist of stacks of Conv1D layers and MaxPooling1D layers, eventually ending in a global pooling operation or flattening operation.\n",
        "* Because RNNs are extremely expensive for processing very long sequences, but 1D convnets are cheap, it can be a good idea to use a 1D convnet as a preprocessing step before a RNN, shortening the sequence and extracting useful representations for the RNN to process.\n",
        "\n",
        "One useful and important concept that we will not cover in these pages is that of 1D convolution with dilated kernels."
      ]
    }
  ]
}