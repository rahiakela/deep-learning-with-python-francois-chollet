{
  "nbformat": 4,
  "nbformat_minor": 0,
  "metadata": {
    "colab": {
      "name": "4_understanding_lstm_and_gru_layers.ipynb",
      "provenance": [],
      "toc_visible": true,
      "include_colab_link": true
    },
    "kernelspec": {
      "name": "python3",
      "display_name": "Python 3"
    },
    "accelerator": "GPU"
  },
  "cells": [
    {
      "cell_type": "markdown",
      "metadata": {
        "id": "view-in-github",
        "colab_type": "text"
      },
      "source": [
        "<a href=\"https://colab.research.google.com/github/rahiakela/deep-learning-with-python-francois-chollet/blob/6-deep-learning-for-text-and-sequences/4_understanding_lstm_and_gru_layers.ipynb\" target=\"_parent\"><img src=\"https://colab.research.google.com/assets/colab-badge.svg\" alt=\"Open In Colab\"/></a>"
      ]
    },
    {
      "cell_type": "markdown",
      "metadata": {
        "id": "xEmGMZ4jIJgm",
        "colab_type": "text"
      },
      "source": [
        "# Understanding the LSTM and GRU layers"
      ]
    },
    {
      "cell_type": "markdown",
      "metadata": {
        "id": "A_FHcZb4ILRf",
        "colab_type": "text"
      },
      "source": [
        "**A major characteristic of all neural networks you’ve seen so far, such as densely connected networks and convnets, is that they have no memory. Each input shown to them is processed independently, with no state kept in between inputs.**\n",
        "\n",
        "**With such networks, in order to process a sequence or a temporal series of data points, you have to show the entire sequence to the network at once: turn it into a single data point.**\n",
        "\n",
        "For instance, this is what you did in the IMDB example: an entire movie review was transformed into a single large vector(flatten) and processed in one go. Such networks are called **feedforward networks**.\n",
        "\n",
        "In contrast, as you’re reading the present sentence, you’re processing it word by word—or rather, eye saccade by eye saccade—while keeping memories of what came before; this gives you a fluid representation of the meaning conveyed by this sentence.\n",
        "\n",
        "**Biological intelligence processes information incrementally while maintaining an internal model of what it’s processing, built from past information and constantly updated as new information comes in**.\n",
        "\n",
        "A **recurrent neural network (RNN)** adopts the same principle, albeit in an extremely simplified version: **it processes sequences by iterating through the sequence elements and maintaining a state containing information relative to what it has seen so far. In effect, an RNN is a type of neural network that has an internal loop.**\n",
        "\n",
        "The state of the RNN is reset between processing two different,\n",
        "independent sequences (such as two different IMDB reviews), so you still consider one sequence a single data point: **a single input to the network. What changes is that this data point is no longer processed in a single step; rather, the network internally loops over sequence elements.**\n",
        "\n",
        "<img src='https://github.com/rahiakela/img-repo/blob/master/deep-learning-with-python/recurrent-neural-network.png?raw=1' width='800'/>"
      ]
    },
    {
      "cell_type": "markdown",
      "metadata": {
        "id": "I-cxGszvOwJe",
        "colab_type": "text"
      },
      "source": [
        "## Setup"
      ]
    },
    {
      "cell_type": "code",
      "metadata": {
        "id": "qIw5Nx0tOx6C",
        "colab_type": "code",
        "colab": {}
      },
      "source": [
        "from __future__ import absolute_import, division, print_function, unicode_literals\n",
        "\n",
        "try:\n",
        "  # %tensorflow_version only exists in Colab.\n",
        "  %tensorflow_version 2.x\n",
        "except Exception:\n",
        "  pass\n",
        "import tensorflow as tf\n",
        "from tensorflow import keras\n",
        "\n",
        "from tensorflow.keras.models import Sequential\n",
        "from tensorflow.keras.layers import Flatten, Dense, LSTM, Embedding\n",
        "\n",
        "from tensorflow.keras.datasets import imdb\n",
        "\n",
        "from tensorflow.keras.preprocessing.text import Tokenizer\n",
        "from tensorflow.keras.preprocessing.sequence import pad_sequences\n",
        "\n",
        "import numpy as np\n",
        "import pandas as pd\n",
        "\n",
        "import string\n",
        "import os\n",
        "\n",
        "import matplotlib.pyplot as plt\n",
        "%matplotlib inline"
      ],
      "execution_count": 0,
      "outputs": []
    },
    {
      "cell_type": "markdown",
      "metadata": {
        "id": "kv4KQLrDO-JQ",
        "colab_type": "text"
      },
      "source": [
        "## Understanding the LSTM and GRU layers"
      ]
    },
    {
      "cell_type": "markdown",
      "metadata": {
        "id": "2QAyWdz2O_Ov",
        "colab_type": "text"
      },
      "source": [
        "SimpleRNN isn’t the only recurrent layer available in Keras. **There are two others: LSTM and GRU.** In practice, you’ll always use one of these, because SimpleRNN is generally too simplistic to be of real use. **SimpleRNN has a major issue:** although it should theoretically be able to retain at time t information about inputs seen many timesteps before, in practice, such long-term dependencies are impossible to learn. **This is due to the vanishing gradient problem, an effect that is similar to what is observed with non-recurrent networks (feedforward networks) that are many layers deep**: as you keep adding layers to a network, the network eventually becomes untrainable. **The LSTM and GRU layers are designed to solve this problem.**\n",
        "\n",
        "Let’s consider the LSTM layer. The underlying Long Short-Term Memory (LSTM)\n",
        "algorithm was developed by Hochreiter and Schmidhuber in 1997; it was the culmination of their research on the vanishing gradient problem.\n",
        "\n",
        "This layer is a variant of the SimpleRNN layer you already know about; it adds a way to carry information across many timesteps. Imagine a conveyor belt running parallel to the sequence you’re processing. Information from the sequence can jump onto the conveyor belt at any point, be transported to a later timestep, and jump off, intact, when you need it. **This is essentially what LSTM does: it saves information for later, thus preventing older signals from gradually vanishing during processing.**\n",
        "\n",
        "To understand this in detail, let’s start from the SimpleRNN cell. Because you’ll have a lot of weight matrices, index the W and U matrices in the cell with the letter o (Wo and Uo) for output.\n",
        "\n",
        "<img src='https://github.com/rahiakela/img-repo/blob/master/deep-learning-with-python/simple-RNN.png?raw=1' width='800'/>\n",
        "\n",
        "Let’s add to this picture an additional data flow that carries information across timesteps. Call its values at different timesteps Ct, where C stands for carry. This information will have the following impact on the cell: it will be combined with the input connection and the recurrent connection (via a dense transformation: a dot product with a weight matrix followed by a bias add and the application of an activation function), and it will affect the state being sent to the next timestep (via an activation function an a multiplication operation). Conceptually, the carry dataflow is a way to modulate the next output and the next state.\n",
        "\n",
        "<img src='https://github.com/rahiakela/img-repo/blob/master/deep-learning-with-python/lstm-rnn.png?raw=1' width='800'/>\n",
        "\n",
        "Now the subtlety: **the way the next value of the carry dataflow is computed. It involves three distinct transformations. All three have the form of a SimpleRNN cell**:\n",
        "\n",
        "```python\n",
        "y = activation(dot(state_t, U) + dot(input_t, W) + b)\n",
        "```\n",
        "\n",
        "But all three transformations have their own weight matrices, which you’ll index with the letters i, f, and k. Here’s what you have so far (it may seem a bit arbitrary, but bear with me).\n",
        "\n",
        "```python\n",
        "output_t = activation(dot(state_t, Uo) + dot(input_t, Wo) + dot(C_t, Vo) + bo)\n",
        "\n",
        "i_t = activation(dot(state_t, Ui) + dot(input_t, Wi) + bi)\n",
        "f_t = activation(dot(state_t, Uf) + dot(input_t, Wf) + bf)\n",
        "k_t = activation(dot(state_t, Uk) + dot(input_t, Wk) + bk)\n",
        "```\n",
        "\n",
        "You obtain the new carry state (the next c_t) by combining i_t, f_t, and k_t.\n",
        "\n",
        "```python\n",
        "c_t+1 = i_t * k_t + c_t * f_t\n",
        "```\n",
        "\n",
        "And that’s it. Not so complicated—merely a tad complex.\n",
        "\n",
        "<img src='https://github.com/rahiakela/img-repo/blob/master/deep-learning-with-python/LSTM-Anatomy.png?raw=1' width='800'/>\n",
        "\n",
        "If you want to get philosophical, you can interpret what each of these operations is meant to do. For instance, you can say that multiplying c_t and f_t is a way to deliberately forget irrelevant information in the carry dataflow. Meanwhile, i_t and k_t provide information about the present, updating the carry track with new information.\n",
        "\n",
        "But at the end of the day, these interpretations don’t mean much, because what these operations actually do is determined by the contents of the weights parameterizing them; and the weights are learned in an end-to-end fashion, starting over with each training round, making it impossible to credit this or that operation with a specific purpose. \n",
        "\n",
        "The specification of an RNN cell (as just described) determines your hypothesis\n",
        "space—the space in which you’ll search for a good model configuration during\n",
        "training—but it doesn’t determine what the cell does; that is up to the cell weights. The same cell with different weights can be doing very different things. So the combination of operations making up an RNN cell is better interpreted as a set of constraints on your search, not as a design in an engineering sense.\n",
        "\n",
        "To a researcher, it seems that the choice of such constraints—the question of how to implement RNN cells—is better left to optimization algorithms (like genetic algorithms or reinforcement learning processes) than to human engineers. And in the future, that’s how we’ll build networks. \n",
        "\n",
        "**In summary: you don’t need to understand anything about the specific architecture of an LSTM cell; as a human, it shouldn’t be your job to\n",
        "understand it. Just keep in mind what the LSTM cell is meant to do: allow past information to be reinjected at a later time, thus fighting the vanishing-gradient problem.**\n"
      ]
    },
    {
      "cell_type": "markdown",
      "metadata": {
        "id": "2QZCIuWS2i1v",
        "colab_type": "text"
      },
      "source": [
        "## A concrete LSTM example in Keras"
      ]
    },
    {
      "cell_type": "markdown",
      "metadata": {
        "id": "ZIqxPNSv2j5P",
        "colab_type": "text"
      },
      "source": [
        "Now let’s switch to more practical concerns: you’ll set up a model using an LSTM layer and train it on the IMDB data. The network is similar to the\n",
        "one with SimpleRNN that was just presented. You only specify the output dimensionality of the LSTM layer; leave every other argument (there are many) at the Keras defaults. Keras has good defaults, and things will almost always “just work” without you having to spend time tuning parameters by hand."
      ]
    },
    {
      "cell_type": "markdown",
      "metadata": {
        "id": "wS-oMKtv6Zuq",
        "colab_type": "text"
      },
      "source": [
        "Now let's try to use such a model on the IMDB movie review classification problem. First, let's preprocess the data:"
      ]
    },
    {
      "cell_type": "code",
      "metadata": {
        "id": "0K-6GCYR6RNn",
        "colab_type": "code",
        "colab": {
          "base_uri": "https://localhost:8080/",
          "height": 124
        },
        "outputId": "e58f97bd-f450-4042-c9be-abb01a123f6a"
      },
      "source": [
        "max_features = 10000  # number of words to consider as features\n",
        "maxlen = 500  # cut texts after this number of words (among top max_features most common words)\n",
        "batch_size = 32\n",
        "\n",
        "print('Loading data...')\n",
        "(input_train, y_train), (input_test, y_test) = imdb.load_data(num_words=max_features)\n",
        "print(len(input_train), 'train sequences')\n",
        "print(len(input_test), 'test sequences')\n",
        "\n",
        "print('Pad sequences (samples x time)')\n",
        "input_train = pad_sequences(input_train, maxlen=maxlen)\n",
        "input_test = pad_sequences(input_test, maxlen=maxlen)\n",
        "print('input_train shape:', input_train.shape)\n",
        "print('input_test shape:', input_test.shape)"
      ],
      "execution_count": 4,
      "outputs": [
        {
          "output_type": "stream",
          "text": [
            "Loading data...\n",
            "25000 train sequences\n",
            "25000 test sequences\n",
            "Pad sequences (samples x time)\n",
            "input_train shape: (25000, 500)\n",
            "input_test shape: (25000, 500)\n"
          ],
          "name": "stdout"
        }
      ]
    },
    {
      "cell_type": "code",
      "metadata": {
        "id": "XabYv-S9Pwgs",
        "colab_type": "code",
        "outputId": "b866ad46-bdc8-4df4-baf1-17e624617cb0",
        "colab": {
          "base_uri": "https://localhost:8080/",
          "height": 266
        }
      },
      "source": [
        "model = Sequential()\n",
        "model.add(Embedding(max_features, 32))\n",
        "model.add(LSTM(32))\n",
        "model.add(Dense(1, activation='sigmoid'))\n",
        "model.summary()"
      ],
      "execution_count": 5,
      "outputs": [
        {
          "output_type": "stream",
          "text": [
            "Model: \"sequential\"\n",
            "_________________________________________________________________\n",
            "Layer (type)                 Output Shape              Param #   \n",
            "=================================================================\n",
            "embedding (Embedding)        (None, None, 32)          320000    \n",
            "_________________________________________________________________\n",
            "lstm (LSTM)                  (None, 32)                8320      \n",
            "_________________________________________________________________\n",
            "dense (Dense)                (None, 1)                 33        \n",
            "=================================================================\n",
            "Total params: 328,353\n",
            "Trainable params: 328,353\n",
            "Non-trainable params: 0\n",
            "_________________________________________________________________\n"
          ],
          "name": "stdout"
        }
      ]
    },
    {
      "cell_type": "code",
      "metadata": {
        "id": "pLUZ5nFKGXIE",
        "colab_type": "code",
        "outputId": "1a29fa43-c63f-48e8-c5fa-6fae5337b54d",
        "colab": {
          "base_uri": "https://localhost:8080/",
          "height": 390
        }
      },
      "source": [
        "# number of words to consider as features\n",
        "voc_size = (input_train.max()+1).astype('int64')\n",
        "print(voc_size)\n",
        "\n",
        "model.compile(loss='binary_crossentropy', optimizer='RMSprop', metrics=['accuracy'])\n",
        "history = model.fit(input_train, y_train, epochs=10, batch_size=128, validation_split=0.2)"
      ],
      "execution_count": 6,
      "outputs": [
        {
          "output_type": "stream",
          "text": [
            "10000\n",
            "Epoch 1/10\n",
            "157/157 [==============================] - 6s 39ms/step - loss: 0.5030 - accuracy: 0.7570 - val_loss: 0.3687 - val_accuracy: 0.8616\n",
            "Epoch 2/10\n",
            "157/157 [==============================] - 6s 37ms/step - loss: 0.2938 - accuracy: 0.8836 - val_loss: 0.3030 - val_accuracy: 0.8748\n",
            "Epoch 3/10\n",
            "157/157 [==============================] - 6s 36ms/step - loss: 0.2358 - accuracy: 0.9116 - val_loss: 0.3113 - val_accuracy: 0.8670\n",
            "Epoch 4/10\n",
            "157/157 [==============================] - 6s 35ms/step - loss: 0.2006 - accuracy: 0.9261 - val_loss: 0.2836 - val_accuracy: 0.8890\n",
            "Epoch 5/10\n",
            "157/157 [==============================] - 6s 36ms/step - loss: 0.1748 - accuracy: 0.9382 - val_loss: 0.2908 - val_accuracy: 0.8876\n",
            "Epoch 6/10\n",
            "157/157 [==============================] - 6s 36ms/step - loss: 0.1618 - accuracy: 0.9422 - val_loss: 0.3555 - val_accuracy: 0.8680\n",
            "Epoch 7/10\n",
            "157/157 [==============================] - 6s 36ms/step - loss: 0.1427 - accuracy: 0.9481 - val_loss: 0.3546 - val_accuracy: 0.8842\n",
            "Epoch 8/10\n",
            "157/157 [==============================] - 6s 36ms/step - loss: 0.1323 - accuracy: 0.9540 - val_loss: 0.5597 - val_accuracy: 0.8162\n",
            "Epoch 9/10\n",
            "157/157 [==============================] - 6s 36ms/step - loss: 0.1236 - accuracy: 0.9567 - val_loss: 0.3295 - val_accuracy: 0.8780\n",
            "Epoch 10/10\n",
            "157/157 [==============================] - 6s 36ms/step - loss: 0.1171 - accuracy: 0.9600 - val_loss: 0.5973 - val_accuracy: 0.8400\n"
          ],
          "name": "stdout"
        }
      ]
    },
    {
      "cell_type": "markdown",
      "metadata": {
        "id": "UCDA-v-sKsyD",
        "colab_type": "text"
      },
      "source": [
        "Let's display the training and validation loss and accuracy:"
      ]
    },
    {
      "cell_type": "code",
      "metadata": {
        "id": "aA7BC9XtKtbi",
        "colab_type": "code",
        "outputId": "a6c2dffc-b3e4-4795-9e12-dd7335ae901f",
        "colab": {
          "base_uri": "https://localhost:8080/",
          "height": 545
        }
      },
      "source": [
        "acc = history.history['accuracy']\n",
        "val_acc = history.history['val_accuracy']\n",
        "loss = history.history['loss']\n",
        "val_loss = history.history['val_loss']\n",
        "\n",
        "epochs = range(len(acc))\n",
        "\n",
        "plt.plot(epochs, acc, 'bo', label='Training accuracy')\n",
        "plt.plot(epochs, val_acc, 'b', label='Validation accuracy')\n",
        "plt.title('Training and validation accuracy')\n",
        "plt.legend()\n",
        "\n",
        "plt.figure()\n",
        "\n",
        "plt.plot(epochs, loss, 'bo', label='Training loss')\n",
        "plt.plot(epochs, val_loss, 'b', label='Validation loss')\n",
        "plt.title('Training and validation loss')\n",
        "plt.legend()\n",
        "\n",
        "plt.show()"
      ],
      "execution_count": 7,
      "outputs": [
        {
          "output_type": "display_data",
          "data": {
            "image/png": "[encoded data removed]",
            "text/plain": [
              "<Figure size 432x288 with 1 Axes>"
            ]
          },
          "metadata": {
            "tags": [],
            "needs_background": "light"
          }
        },
        {
          "output_type": "display_data",
          "data": {
            "image/png": "[encoded data removed]",
            "text/plain": [
              "<Figure size 432x288 with 1 Axes>"
            ]
          },
          "metadata": {
            "tags": [],
            "needs_background": "light"
          }
        }
      ]
    },
    {
      "cell_type": "markdown",
      "metadata": {
        "id": "nDgCqGi8J9pg",
        "colab_type": "text"
      },
      "source": [
        "This time, you achieve up to 89% validation accuracy. Not bad: certainly much better than the SimpleRNN network—that’s largely because LSTM suffers much less from the vanishing-gradient problem—and slightly better than the fully connected approach.\n",
        "\n",
        "But this result isn’t groundbreaking for such a computationally intensive\n",
        "approach. Why isn’t LSTM performing better? One reason is that you made no effort to tune hyperparameters such as the embeddings dimensionality or the LSTM output dimensionality. Another may be lack of regularization. But honestly, the primary reason is that analyzing the global, long-term structure of the reviews (what LSTM is good at) isn’t helpful for a sentiment-analysis problem. Such a basic problem is well solved by looking at what words occur in each review, and at what frequency. That’s what the first fully connected approach looked at. \n",
        "\n",
        "**But there are far more difficult natural language processing problems out there, where the strength of LSTM will become apparent: in particular, question-answering and machine translation.**"
      ]
    }
  ]
}